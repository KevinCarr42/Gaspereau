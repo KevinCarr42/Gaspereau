{
 "cells": [
  {
   "cell_type": "markdown",
   "id": "c4393762",
   "metadata": {},
   "source": [
    "# import"
   ]
  },
  {
   "cell_type": "code",
   "execution_count": 3,
   "id": "58b724c8",
   "metadata": {},
   "outputs": [
    {
     "data": {
      "text/html": [
       "<style>.container { width:100% !important; }</style>"
      ],
      "text/plain": [
       "<IPython.core.display.HTML object>"
      ]
     },
     "metadata": {},
     "output_type": "display_data"
    }
   ],
   "source": [
    "import numpy as np\n",
    "import pandas as pd\n",
    "import matplotlib.pyplot as plt\n",
    "import matplotlib as mpl\n",
    "import seaborn as sns\n",
    "\n",
    "sns.set_theme()\n",
    "\n",
    "# jupyter notebook full-width display\n",
    "from IPython.core.display import display, HTML\n",
    "display(HTML(\"<style>.container { width:100% !important; }</style>\"))\n",
    "\n",
    "# pandas formatting\n",
    "pd.set_option('display.float_format', '{:.3f}'.format)\n",
    "pd.set_option('display.max_columns', None)\n",
    "pd.set_option('display.max_rows', 200)"
   ]
  },
  {
   "cell_type": "code",
   "execution_count": 4,
   "id": "8dbaec72",
   "metadata": {},
   "outputs": [
    {
     "name": "stderr",
     "output_type": "stream",
     "text": [
      "C:\\Users\\CARRK\\AppData\\Local\\Temp\\1\\ipykernel_9644\\2472411369.py:1: DtypeWarning: Columns (9,14,20,21,22,23) have mixed types. Specify dtype option on import or set low_memory=False.\n",
      "  df_raw = pd.read_csv('csv_MASTER_Gaspereau_details_Larry.csv')\n"
     ]
    }
   ],
   "source": [
    "df_raw = pd.read_csv('csv_MASTER_Gaspereau_details_Larry.csv')"
   ]
  },
  {
   "cell_type": "code",
   "execution_count": 38,
   "id": "a64e1bf3",
   "metadata": {},
   "outputs": [
    {
     "data": {
      "text/plain": [
       "YEAR                  int64\n",
       "MM                    int64\n",
       "DD                    int64\n",
       "WEEK                float64\n",
       "SITE                 object\n",
       "PERIOD               object\n",
       "CONDITION            object\n",
       "FISH_NO               int64\n",
       "FL_WET              float64\n",
       "FL_FROZEN            object\n",
       "FL_STD              float64\n",
       "WEIGHT              float64\n",
       "SPECIES              object\n",
       "SEX                  object\n",
       "MATURITY             object\n",
       "GONAD_WEIGHT         object\n",
       "1st Person Aging     object\n",
       "AGE                  object\n",
       "FSP                  object\n",
       "Comments             object\n",
       "2nd Person Aging     object\n",
       "AGE.1                object\n",
       "FSP.1                object\n",
       "Comments.1           object\n",
       "Envelop Comments     object\n",
       "dtype: object"
      ]
     },
     "execution_count": 38,
     "metadata": {},
     "output_type": "execute_result"
    }
   ],
   "source": [
    "df_raw.dtypes"
   ]
  },
  {
   "cell_type": "code",
   "execution_count": 39,
   "id": "89b8a897",
   "metadata": {},
   "outputs": [
    {
     "data": {
      "text/html": [
       "<div>\n",
       "<style scoped>\n",
       "    .dataframe tbody tr th:only-of-type {\n",
       "        vertical-align: middle;\n",
       "    }\n",
       "\n",
       "    .dataframe tbody tr th {\n",
       "        vertical-align: top;\n",
       "    }\n",
       "\n",
       "    .dataframe thead th {\n",
       "        text-align: right;\n",
       "    }\n",
       "</style>\n",
       "<table border=\"1\" class=\"dataframe\">\n",
       "  <thead>\n",
       "    <tr style=\"text-align: right;\">\n",
       "      <th></th>\n",
       "      <th>count</th>\n",
       "      <th>unique</th>\n",
       "      <th>top</th>\n",
       "      <th>freq</th>\n",
       "      <th>mean</th>\n",
       "      <th>std</th>\n",
       "      <th>min</th>\n",
       "      <th>25%</th>\n",
       "      <th>50%</th>\n",
       "      <th>75%</th>\n",
       "      <th>max</th>\n",
       "    </tr>\n",
       "  </thead>\n",
       "  <tbody>\n",
       "    <tr>\n",
       "      <th>YEAR</th>\n",
       "      <td>35619.000</td>\n",
       "      <td>NaN</td>\n",
       "      <td>NaN</td>\n",
       "      <td>NaN</td>\n",
       "      <td>2000.901</td>\n",
       "      <td>11.021</td>\n",
       "      <td>1983.000</td>\n",
       "      <td>1990.000</td>\n",
       "      <td>2000.000</td>\n",
       "      <td>2011.000</td>\n",
       "      <td>2019.000</td>\n",
       "    </tr>\n",
       "    <tr>\n",
       "      <th>MM</th>\n",
       "      <td>35619.000</td>\n",
       "      <td>NaN</td>\n",
       "      <td>NaN</td>\n",
       "      <td>NaN</td>\n",
       "      <td>5.392</td>\n",
       "      <td>0.500</td>\n",
       "      <td>4.000</td>\n",
       "      <td>5.000</td>\n",
       "      <td>5.000</td>\n",
       "      <td>6.000</td>\n",
       "      <td>7.000</td>\n",
       "    </tr>\n",
       "    <tr>\n",
       "      <th>DD</th>\n",
       "      <td>35619.000</td>\n",
       "      <td>NaN</td>\n",
       "      <td>NaN</td>\n",
       "      <td>NaN</td>\n",
       "      <td>16.121</td>\n",
       "      <td>8.768</td>\n",
       "      <td>1.000</td>\n",
       "      <td>9.000</td>\n",
       "      <td>16.000</td>\n",
       "      <td>24.000</td>\n",
       "      <td>31.000</td>\n",
       "    </tr>\n",
       "    <tr>\n",
       "      <th>WEEK</th>\n",
       "      <td>22371.000</td>\n",
       "      <td>NaN</td>\n",
       "      <td>NaN</td>\n",
       "      <td>NaN</td>\n",
       "      <td>5.050</td>\n",
       "      <td>2.005</td>\n",
       "      <td>1.000</td>\n",
       "      <td>4.000</td>\n",
       "      <td>5.000</td>\n",
       "      <td>6.000</td>\n",
       "      <td>9.000</td>\n",
       "    </tr>\n",
       "    <tr>\n",
       "      <th>SITE</th>\n",
       "      <td>35501</td>\n",
       "      <td>78</td>\n",
       "      <td>12</td>\n",
       "      <td>6668</td>\n",
       "      <td>NaN</td>\n",
       "      <td>NaN</td>\n",
       "      <td>NaN</td>\n",
       "      <td>NaN</td>\n",
       "      <td>NaN</td>\n",
       "      <td>NaN</td>\n",
       "      <td>NaN</td>\n",
       "    </tr>\n",
       "    <tr>\n",
       "      <th>PERIOD</th>\n",
       "      <td>30417</td>\n",
       "      <td>4</td>\n",
       "      <td>AM</td>\n",
       "      <td>16222</td>\n",
       "      <td>NaN</td>\n",
       "      <td>NaN</td>\n",
       "      <td>NaN</td>\n",
       "      <td>NaN</td>\n",
       "      <td>NaN</td>\n",
       "      <td>NaN</td>\n",
       "      <td>NaN</td>\n",
       "    </tr>\n",
       "    <tr>\n",
       "      <th>CONDITION</th>\n",
       "      <td>35424</td>\n",
       "      <td>4</td>\n",
       "      <td>Frozen</td>\n",
       "      <td>24940</td>\n",
       "      <td>NaN</td>\n",
       "      <td>NaN</td>\n",
       "      <td>NaN</td>\n",
       "      <td>NaN</td>\n",
       "      <td>NaN</td>\n",
       "      <td>NaN</td>\n",
       "      <td>NaN</td>\n",
       "    </tr>\n",
       "    <tr>\n",
       "      <th>FISH_NO</th>\n",
       "      <td>35619.000</td>\n",
       "      <td>NaN</td>\n",
       "      <td>NaN</td>\n",
       "      <td>NaN</td>\n",
       "      <td>17.770</td>\n",
       "      <td>11.672</td>\n",
       "      <td>1.000</td>\n",
       "      <td>9.000</td>\n",
       "      <td>17.000</td>\n",
       "      <td>25.000</td>\n",
       "      <td>100.000</td>\n",
       "    </tr>\n",
       "    <tr>\n",
       "      <th>FL_WET</th>\n",
       "      <td>9660.000</td>\n",
       "      <td>NaN</td>\n",
       "      <td>NaN</td>\n",
       "      <td>NaN</td>\n",
       "      <td>253.376</td>\n",
       "      <td>20.107</td>\n",
       "      <td>1.000</td>\n",
       "      <td>240.000</td>\n",
       "      <td>253.000</td>\n",
       "      <td>267.000</td>\n",
       "      <td>358.000</td>\n",
       "    </tr>\n",
       "    <tr>\n",
       "      <th>FL_FROZEN</th>\n",
       "      <td>25496</td>\n",
       "      <td>235</td>\n",
       "      <td>250</td>\n",
       "      <td>990</td>\n",
       "      <td>NaN</td>\n",
       "      <td>NaN</td>\n",
       "      <td>NaN</td>\n",
       "      <td>NaN</td>\n",
       "      <td>NaN</td>\n",
       "      <td>NaN</td>\n",
       "      <td>NaN</td>\n",
       "    </tr>\n",
       "    <tr>\n",
       "      <th>FL_STD</th>\n",
       "      <td>35245.000</td>\n",
       "      <td>NaN</td>\n",
       "      <td>NaN</td>\n",
       "      <td>NaN</td>\n",
       "      <td>253.169</td>\n",
       "      <td>27.956</td>\n",
       "      <td>20.000</td>\n",
       "      <td>241.000</td>\n",
       "      <td>254.000</td>\n",
       "      <td>268.000</td>\n",
       "      <td>376.000</td>\n",
       "    </tr>\n",
       "    <tr>\n",
       "      <th>WEIGHT</th>\n",
       "      <td>35318.000</td>\n",
       "      <td>NaN</td>\n",
       "      <td>NaN</td>\n",
       "      <td>NaN</td>\n",
       "      <td>217.944</td>\n",
       "      <td>61.426</td>\n",
       "      <td>15.100</td>\n",
       "      <td>174.300</td>\n",
       "      <td>211.200</td>\n",
       "      <td>255.100</td>\n",
       "      <td>1934.000</td>\n",
       "    </tr>\n",
       "    <tr>\n",
       "      <th>SPECIES</th>\n",
       "      <td>35392</td>\n",
       "      <td>3</td>\n",
       "      <td>A</td>\n",
       "      <td>30885</td>\n",
       "      <td>NaN</td>\n",
       "      <td>NaN</td>\n",
       "      <td>NaN</td>\n",
       "      <td>NaN</td>\n",
       "      <td>NaN</td>\n",
       "      <td>NaN</td>\n",
       "      <td>NaN</td>\n",
       "    </tr>\n",
       "    <tr>\n",
       "      <th>SEX</th>\n",
       "      <td>35392</td>\n",
       "      <td>4</td>\n",
       "      <td>F</td>\n",
       "      <td>17621</td>\n",
       "      <td>NaN</td>\n",
       "      <td>NaN</td>\n",
       "      <td>NaN</td>\n",
       "      <td>NaN</td>\n",
       "      <td>NaN</td>\n",
       "      <td>NaN</td>\n",
       "      <td>NaN</td>\n",
       "    </tr>\n",
       "    <tr>\n",
       "      <th>MATURITY</th>\n",
       "      <td>34996</td>\n",
       "      <td>14</td>\n",
       "      <td>4</td>\n",
       "      <td>26149</td>\n",
       "      <td>NaN</td>\n",
       "      <td>NaN</td>\n",
       "      <td>NaN</td>\n",
       "      <td>NaN</td>\n",
       "      <td>NaN</td>\n",
       "      <td>NaN</td>\n",
       "      <td>NaN</td>\n",
       "    </tr>\n",
       "    <tr>\n",
       "      <th>GONAD_WEIGHT</th>\n",
       "      <td>17285</td>\n",
       "      <td>817</td>\n",
       "      <td>41</td>\n",
       "      <td>93</td>\n",
       "      <td>NaN</td>\n",
       "      <td>NaN</td>\n",
       "      <td>NaN</td>\n",
       "      <td>NaN</td>\n",
       "      <td>NaN</td>\n",
       "      <td>NaN</td>\n",
       "      <td>NaN</td>\n",
       "    </tr>\n",
       "    <tr>\n",
       "      <th>1st Person Aging</th>\n",
       "      <td>7118</td>\n",
       "      <td>1</td>\n",
       "      <td>JM</td>\n",
       "      <td>7118</td>\n",
       "      <td>NaN</td>\n",
       "      <td>NaN</td>\n",
       "      <td>NaN</td>\n",
       "      <td>NaN</td>\n",
       "      <td>NaN</td>\n",
       "      <td>NaN</td>\n",
       "      <td>NaN</td>\n",
       "    </tr>\n",
       "    <tr>\n",
       "      <th>AGE</th>\n",
       "      <td>31568</td>\n",
       "      <td>24</td>\n",
       "      <td>3</td>\n",
       "      <td>12903</td>\n",
       "      <td>NaN</td>\n",
       "      <td>NaN</td>\n",
       "      <td>NaN</td>\n",
       "      <td>NaN</td>\n",
       "      <td>NaN</td>\n",
       "      <td>NaN</td>\n",
       "      <td>NaN</td>\n",
       "    </tr>\n",
       "    <tr>\n",
       "      <th>FSP</th>\n",
       "      <td>31350</td>\n",
       "      <td>26</td>\n",
       "      <td>3</td>\n",
       "      <td>20329</td>\n",
       "      <td>NaN</td>\n",
       "      <td>NaN</td>\n",
       "      <td>NaN</td>\n",
       "      <td>NaN</td>\n",
       "      <td>NaN</td>\n",
       "      <td>NaN</td>\n",
       "      <td>NaN</td>\n",
       "    </tr>\n",
       "    <tr>\n",
       "      <th>Comments</th>\n",
       "      <td>1885</td>\n",
       "      <td>856</td>\n",
       "      <td>NICE</td>\n",
       "      <td>233</td>\n",
       "      <td>NaN</td>\n",
       "      <td>NaN</td>\n",
       "      <td>NaN</td>\n",
       "      <td>NaN</td>\n",
       "      <td>NaN</td>\n",
       "      <td>NaN</td>\n",
       "      <td>NaN</td>\n",
       "    </tr>\n",
       "    <tr>\n",
       "      <th>2nd Person Aging</th>\n",
       "      <td>390</td>\n",
       "      <td>1</td>\n",
       "      <td>LF</td>\n",
       "      <td>390</td>\n",
       "      <td>NaN</td>\n",
       "      <td>NaN</td>\n",
       "      <td>NaN</td>\n",
       "      <td>NaN</td>\n",
       "      <td>NaN</td>\n",
       "      <td>NaN</td>\n",
       "      <td>NaN</td>\n",
       "    </tr>\n",
       "    <tr>\n",
       "      <th>AGE.1</th>\n",
       "      <td>390</td>\n",
       "      <td>7</td>\n",
       "      <td>3</td>\n",
       "      <td>166</td>\n",
       "      <td>NaN</td>\n",
       "      <td>NaN</td>\n",
       "      <td>NaN</td>\n",
       "      <td>NaN</td>\n",
       "      <td>NaN</td>\n",
       "      <td>NaN</td>\n",
       "      <td>NaN</td>\n",
       "    </tr>\n",
       "    <tr>\n",
       "      <th>FSP.1</th>\n",
       "      <td>390</td>\n",
       "      <td>5</td>\n",
       "      <td>3</td>\n",
       "      <td>279</td>\n",
       "      <td>NaN</td>\n",
       "      <td>NaN</td>\n",
       "      <td>NaN</td>\n",
       "      <td>NaN</td>\n",
       "      <td>NaN</td>\n",
       "      <td>NaN</td>\n",
       "      <td>NaN</td>\n",
       "    </tr>\n",
       "    <tr>\n",
       "      <th>Comments.1</th>\n",
       "      <td>22</td>\n",
       "      <td>17</td>\n",
       "      <td>poor scales</td>\n",
       "      <td>5</td>\n",
       "      <td>NaN</td>\n",
       "      <td>NaN</td>\n",
       "      <td>NaN</td>\n",
       "      <td>NaN</td>\n",
       "      <td>NaN</td>\n",
       "      <td>NaN</td>\n",
       "      <td>NaN</td>\n",
       "    </tr>\n",
       "    <tr>\n",
       "      <th>Envelop Comments</th>\n",
       "      <td>625</td>\n",
       "      <td>73</td>\n",
       "      <td>parasites; round worms, less than 5.</td>\n",
       "      <td>187</td>\n",
       "      <td>NaN</td>\n",
       "      <td>NaN</td>\n",
       "      <td>NaN</td>\n",
       "      <td>NaN</td>\n",
       "      <td>NaN</td>\n",
       "      <td>NaN</td>\n",
       "      <td>NaN</td>\n",
       "    </tr>\n",
       "  </tbody>\n",
       "</table>\n",
       "</div>"
      ],
      "text/plain": [
       "                     count unique                                   top  \\\n",
       "YEAR             35619.000    NaN                                   NaN   \n",
       "MM               35619.000    NaN                                   NaN   \n",
       "DD               35619.000    NaN                                   NaN   \n",
       "WEEK             22371.000    NaN                                   NaN   \n",
       "SITE                 35501     78                                    12   \n",
       "PERIOD               30417      4                                    AM   \n",
       "CONDITION            35424      4                                Frozen   \n",
       "FISH_NO          35619.000    NaN                                   NaN   \n",
       "FL_WET            9660.000    NaN                                   NaN   \n",
       "FL_FROZEN            25496    235                                   250   \n",
       "FL_STD           35245.000    NaN                                   NaN   \n",
       "WEIGHT           35318.000    NaN                                   NaN   \n",
       "SPECIES              35392      3                                     A   \n",
       "SEX                  35392      4                                     F   \n",
       "MATURITY             34996     14                                     4   \n",
       "GONAD_WEIGHT         17285    817                                    41   \n",
       "1st Person Aging      7118      1                                    JM   \n",
       "AGE                  31568     24                                     3   \n",
       "FSP                  31350     26                                     3   \n",
       "Comments              1885    856                                 NICE    \n",
       "2nd Person Aging       390      1                                    LF   \n",
       "AGE.1                  390      7                                     3   \n",
       "FSP.1                  390      5                                     3   \n",
       "Comments.1              22     17                           poor scales   \n",
       "Envelop Comments       625     73  parasites; round worms, less than 5.   \n",
       "\n",
       "                   freq     mean    std      min      25%      50%      75%  \\\n",
       "YEAR                NaN 2000.901 11.021 1983.000 1990.000 2000.000 2011.000   \n",
       "MM                  NaN    5.392  0.500    4.000    5.000    5.000    6.000   \n",
       "DD                  NaN   16.121  8.768    1.000    9.000   16.000   24.000   \n",
       "WEEK                NaN    5.050  2.005    1.000    4.000    5.000    6.000   \n",
       "SITE               6668      NaN    NaN      NaN      NaN      NaN      NaN   \n",
       "PERIOD            16222      NaN    NaN      NaN      NaN      NaN      NaN   \n",
       "CONDITION         24940      NaN    NaN      NaN      NaN      NaN      NaN   \n",
       "FISH_NO             NaN   17.770 11.672    1.000    9.000   17.000   25.000   \n",
       "FL_WET              NaN  253.376 20.107    1.000  240.000  253.000  267.000   \n",
       "FL_FROZEN           990      NaN    NaN      NaN      NaN      NaN      NaN   \n",
       "FL_STD              NaN  253.169 27.956   20.000  241.000  254.000  268.000   \n",
       "WEIGHT              NaN  217.944 61.426   15.100  174.300  211.200  255.100   \n",
       "SPECIES           30885      NaN    NaN      NaN      NaN      NaN      NaN   \n",
       "SEX               17621      NaN    NaN      NaN      NaN      NaN      NaN   \n",
       "MATURITY          26149      NaN    NaN      NaN      NaN      NaN      NaN   \n",
       "GONAD_WEIGHT         93      NaN    NaN      NaN      NaN      NaN      NaN   \n",
       "1st Person Aging   7118      NaN    NaN      NaN      NaN      NaN      NaN   \n",
       "AGE               12903      NaN    NaN      NaN      NaN      NaN      NaN   \n",
       "FSP               20329      NaN    NaN      NaN      NaN      NaN      NaN   \n",
       "Comments            233      NaN    NaN      NaN      NaN      NaN      NaN   \n",
       "2nd Person Aging    390      NaN    NaN      NaN      NaN      NaN      NaN   \n",
       "AGE.1               166      NaN    NaN      NaN      NaN      NaN      NaN   \n",
       "FSP.1               279      NaN    NaN      NaN      NaN      NaN      NaN   \n",
       "Comments.1            5      NaN    NaN      NaN      NaN      NaN      NaN   \n",
       "Envelop Comments    187      NaN    NaN      NaN      NaN      NaN      NaN   \n",
       "\n",
       "                      max  \n",
       "YEAR             2019.000  \n",
       "MM                  7.000  \n",
       "DD                 31.000  \n",
       "WEEK                9.000  \n",
       "SITE                  NaN  \n",
       "PERIOD                NaN  \n",
       "CONDITION             NaN  \n",
       "FISH_NO           100.000  \n",
       "FL_WET            358.000  \n",
       "FL_FROZEN             NaN  \n",
       "FL_STD            376.000  \n",
       "WEIGHT           1934.000  \n",
       "SPECIES               NaN  \n",
       "SEX                   NaN  \n",
       "MATURITY              NaN  \n",
       "GONAD_WEIGHT          NaN  \n",
       "1st Person Aging      NaN  \n",
       "AGE                   NaN  \n",
       "FSP                   NaN  \n",
       "Comments              NaN  \n",
       "2nd Person Aging      NaN  \n",
       "AGE.1                 NaN  \n",
       "FSP.1                 NaN  \n",
       "Comments.1            NaN  \n",
       "Envelop Comments      NaN  "
      ]
     },
     "execution_count": 39,
     "metadata": {},
     "output_type": "execute_result"
    }
   ],
   "source": [
    "df_raw.describe(include='all').T"
   ]
  },
  {
   "cell_type": "code",
   "execution_count": 40,
   "id": "c2cf09ff",
   "metadata": {},
   "outputs": [
    {
     "data": {
      "text/plain": [
       "array([1983, 1984, 1985, 1986, 1987, 1988, 1989, 1990, 1992, 1993, 1994,\n",
       "       1995, 1996, 1997, 1998, 1999, 2000, 2001, 2002, 2003, 2004, 2005,\n",
       "       2006, 2007, 2008, 2009, 2010, 2011, 2012, 2013, 2014, 2015, 2016,\n",
       "       2017, 2018, 2019], dtype=int64)"
      ]
     },
     "execution_count": 40,
     "metadata": {},
     "output_type": "execute_result"
    }
   ],
   "source": [
    "df_raw.YEAR.unique()"
   ]
  },
  {
   "cell_type": "code",
   "execution_count": 42,
   "id": "65980485",
   "metadata": {},
   "outputs": [
    {
     "data": {
      "text/html": [
       "<div>\n",
       "<style scoped>\n",
       "    .dataframe tbody tr th:only-of-type {\n",
       "        vertical-align: middle;\n",
       "    }\n",
       "\n",
       "    .dataframe tbody tr th {\n",
       "        vertical-align: top;\n",
       "    }\n",
       "\n",
       "    .dataframe thead th {\n",
       "        text-align: right;\n",
       "    }\n",
       "</style>\n",
       "<table border=\"1\" class=\"dataframe\">\n",
       "  <thead>\n",
       "    <tr style=\"text-align: right;\">\n",
       "      <th></th>\n",
       "      <th>count</th>\n",
       "      <th>unique</th>\n",
       "      <th>top</th>\n",
       "      <th>freq</th>\n",
       "    </tr>\n",
       "  </thead>\n",
       "  <tbody>\n",
       "    <tr>\n",
       "      <th>YEAR</th>\n",
       "      <td>35619</td>\n",
       "      <td>1</td>\n",
       "      <td>False</td>\n",
       "      <td>35619</td>\n",
       "    </tr>\n",
       "    <tr>\n",
       "      <th>MM</th>\n",
       "      <td>35619</td>\n",
       "      <td>1</td>\n",
       "      <td>False</td>\n",
       "      <td>35619</td>\n",
       "    </tr>\n",
       "    <tr>\n",
       "      <th>DD</th>\n",
       "      <td>35619</td>\n",
       "      <td>1</td>\n",
       "      <td>False</td>\n",
       "      <td>35619</td>\n",
       "    </tr>\n",
       "    <tr>\n",
       "      <th>WEEK</th>\n",
       "      <td>35619</td>\n",
       "      <td>2</td>\n",
       "      <td>False</td>\n",
       "      <td>22371</td>\n",
       "    </tr>\n",
       "    <tr>\n",
       "      <th>SITE</th>\n",
       "      <td>35619</td>\n",
       "      <td>2</td>\n",
       "      <td>False</td>\n",
       "      <td>35501</td>\n",
       "    </tr>\n",
       "    <tr>\n",
       "      <th>PERIOD</th>\n",
       "      <td>35619</td>\n",
       "      <td>2</td>\n",
       "      <td>False</td>\n",
       "      <td>30417</td>\n",
       "    </tr>\n",
       "    <tr>\n",
       "      <th>CONDITION</th>\n",
       "      <td>35619</td>\n",
       "      <td>2</td>\n",
       "      <td>False</td>\n",
       "      <td>35424</td>\n",
       "    </tr>\n",
       "    <tr>\n",
       "      <th>FISH_NO</th>\n",
       "      <td>35619</td>\n",
       "      <td>1</td>\n",
       "      <td>False</td>\n",
       "      <td>35619</td>\n",
       "    </tr>\n",
       "    <tr>\n",
       "      <th>FL_WET</th>\n",
       "      <td>35619</td>\n",
       "      <td>2</td>\n",
       "      <td>True</td>\n",
       "      <td>25959</td>\n",
       "    </tr>\n",
       "    <tr>\n",
       "      <th>FL_FROZEN</th>\n",
       "      <td>35619</td>\n",
       "      <td>2</td>\n",
       "      <td>False</td>\n",
       "      <td>25496</td>\n",
       "    </tr>\n",
       "    <tr>\n",
       "      <th>FL_STD</th>\n",
       "      <td>35619</td>\n",
       "      <td>2</td>\n",
       "      <td>False</td>\n",
       "      <td>35245</td>\n",
       "    </tr>\n",
       "    <tr>\n",
       "      <th>WEIGHT</th>\n",
       "      <td>35619</td>\n",
       "      <td>2</td>\n",
       "      <td>False</td>\n",
       "      <td>35318</td>\n",
       "    </tr>\n",
       "    <tr>\n",
       "      <th>SPECIES</th>\n",
       "      <td>35619</td>\n",
       "      <td>2</td>\n",
       "      <td>False</td>\n",
       "      <td>35392</td>\n",
       "    </tr>\n",
       "    <tr>\n",
       "      <th>SEX</th>\n",
       "      <td>35619</td>\n",
       "      <td>2</td>\n",
       "      <td>False</td>\n",
       "      <td>35392</td>\n",
       "    </tr>\n",
       "    <tr>\n",
       "      <th>MATURITY</th>\n",
       "      <td>35619</td>\n",
       "      <td>2</td>\n",
       "      <td>False</td>\n",
       "      <td>34996</td>\n",
       "    </tr>\n",
       "    <tr>\n",
       "      <th>GONAD_WEIGHT</th>\n",
       "      <td>35619</td>\n",
       "      <td>2</td>\n",
       "      <td>True</td>\n",
       "      <td>18334</td>\n",
       "    </tr>\n",
       "    <tr>\n",
       "      <th>1st Person Aging</th>\n",
       "      <td>35619</td>\n",
       "      <td>2</td>\n",
       "      <td>True</td>\n",
       "      <td>28501</td>\n",
       "    </tr>\n",
       "    <tr>\n",
       "      <th>AGE</th>\n",
       "      <td>35619</td>\n",
       "      <td>2</td>\n",
       "      <td>False</td>\n",
       "      <td>31568</td>\n",
       "    </tr>\n",
       "    <tr>\n",
       "      <th>FSP</th>\n",
       "      <td>35619</td>\n",
       "      <td>2</td>\n",
       "      <td>False</td>\n",
       "      <td>31350</td>\n",
       "    </tr>\n",
       "    <tr>\n",
       "      <th>Comments</th>\n",
       "      <td>35619</td>\n",
       "      <td>2</td>\n",
       "      <td>True</td>\n",
       "      <td>33734</td>\n",
       "    </tr>\n",
       "    <tr>\n",
       "      <th>2nd Person Aging</th>\n",
       "      <td>35619</td>\n",
       "      <td>2</td>\n",
       "      <td>True</td>\n",
       "      <td>35229</td>\n",
       "    </tr>\n",
       "    <tr>\n",
       "      <th>AGE.1</th>\n",
       "      <td>35619</td>\n",
       "      <td>2</td>\n",
       "      <td>True</td>\n",
       "      <td>35229</td>\n",
       "    </tr>\n",
       "    <tr>\n",
       "      <th>FSP.1</th>\n",
       "      <td>35619</td>\n",
       "      <td>2</td>\n",
       "      <td>True</td>\n",
       "      <td>35229</td>\n",
       "    </tr>\n",
       "    <tr>\n",
       "      <th>Comments.1</th>\n",
       "      <td>35619</td>\n",
       "      <td>2</td>\n",
       "      <td>True</td>\n",
       "      <td>35597</td>\n",
       "    </tr>\n",
       "    <tr>\n",
       "      <th>Envelop Comments</th>\n",
       "      <td>35619</td>\n",
       "      <td>2</td>\n",
       "      <td>True</td>\n",
       "      <td>34994</td>\n",
       "    </tr>\n",
       "  </tbody>\n",
       "</table>\n",
       "</div>"
      ],
      "text/plain": [
       "                  count unique    top   freq\n",
       "YEAR              35619      1  False  35619\n",
       "MM                35619      1  False  35619\n",
       "DD                35619      1  False  35619\n",
       "WEEK              35619      2  False  22371\n",
       "SITE              35619      2  False  35501\n",
       "PERIOD            35619      2  False  30417\n",
       "CONDITION         35619      2  False  35424\n",
       "FISH_NO           35619      1  False  35619\n",
       "FL_WET            35619      2   True  25959\n",
       "FL_FROZEN         35619      2  False  25496\n",
       "FL_STD            35619      2  False  35245\n",
       "WEIGHT            35619      2  False  35318\n",
       "SPECIES           35619      2  False  35392\n",
       "SEX               35619      2  False  35392\n",
       "MATURITY          35619      2  False  34996\n",
       "GONAD_WEIGHT      35619      2   True  18334\n",
       "1st Person Aging  35619      2   True  28501\n",
       "AGE               35619      2  False  31568\n",
       "FSP               35619      2  False  31350\n",
       "Comments          35619      2   True  33734\n",
       "2nd Person Aging  35619      2   True  35229\n",
       "AGE.1             35619      2   True  35229\n",
       "FSP.1             35619      2   True  35229\n",
       "Comments.1        35619      2   True  35597\n",
       "Envelop Comments  35619      2   True  34994"
      ]
     },
     "execution_count": 42,
     "metadata": {},
     "output_type": "execute_result"
    }
   ],
   "source": [
    "df_raw.isnull().describe().T"
   ]
  },
  {
   "cell_type": "code",
   "execution_count": 78,
   "id": "69c0ac1a",
   "metadata": {},
   "outputs": [
    {
     "data": {
      "text/plain": [
       "array([285.    , 288.    , 280.    , 286.    , 297.    , 271.    ,\n",
       "       277.    , 276.    , 279.    , 253.    , 299.    , 293.    ,\n",
       "       251.    , 247.    , 287.    , 264.    , 270.    , 268.    ,\n",
       "       255.    , 274.    , 269.    , 309.    , 275.    , 258.    ,\n",
       "       257.    , 282.    , 259.    , 265.    , 290.    , 278.    ,\n",
       "       305.    , 248.    , 252.    , 272.    , 308.    , 283.    ,\n",
       "       273.    , 289.    , 294.    , 260.    , 263.    , 266.    ,\n",
       "       254.    , 244.    , 281.    , 256.    , 261.    , 245.    ,\n",
       "       250.    , 295.    , 262.    , 246.    , 249.    , 240.    ,\n",
       "       233.    , 291.    , 238.    , 235.    , 242.    , 243.    ,\n",
       "       232.    , 239.    , 241.    , 237.    , 227.    , 222.    ,\n",
       "       267.    , 236.    , 292.    , 302.    , 314.    , 315.    ,\n",
       "       298.    , 307.    , 303.    , 296.    , 312.    , 300.    ,\n",
       "       325.    , 318.    , 304.    , 310.    , 301.    , 319.    ,\n",
       "       324.    , 331.    , 230.    , 231.    , 234.    , 228.    ,\n",
       "       229.    , 220.    , 152.    , 164.    , 158.    , 162.    ,\n",
       "       168.    , 173.    , 154.    , 157.    , 225.    , 167.    ,\n",
       "            nan, 329.    , 326.    , 226.    , 223.    , 215.    ,\n",
       "       205.    , 218.    , 155.    , 150.    , 284.    , 221.    ,\n",
       "       216.    , 197.    , 207.    , 313.    , 317.    , 182.    ,\n",
       "       306.    , 311.    , 219.    , 217.    , 124.    , 224.    ,\n",
       "       211.    , 212.    , 206.    , 213.    , 210.    , 209.    ,\n",
       "       214.    , 204.    , 208.    , 202.    , 200.    , 376.    ,\n",
       "       203.    , 201.    , 195.    , 199.    , 160.    , 196.    ,\n",
       "       147.    , 132.    , 198.    , 118.    , 358.    , 264.2178,\n",
       "       270.3036, 242.9175, 266.2464, 263.2035, 226.6887, 246.9747,\n",
       "       247.989 , 245.9604, 232.7745, 221.6172, 237.846 , 225.6744,\n",
       "       227.703 , 233.7888, 249.0033, 273.3465, 272.3322, 216.5457,\n",
       "       269.2893, 243.9318, 256.1034, 222.6315, 260.1606, 252.0462,\n",
       "       230.7459, 278.418 , 268.275 , 258.132 , 220.6029, 244.9461,\n",
       "       277.4037, 235.8174, 255.0891, 250.0176, 219.5886, 267.2607,\n",
       "       253.0605, 254.0748, 234.8031, 240.8889, 271.3179, 238.8603,\n",
       "       259.1463, 261.1749, 274.3608, 241.9032, 251.0319, 231.7602,\n",
       "       228.7173, 224.6601, 218.5743, 211.4742, 276.3894, 214.5171,\n",
       "       215.5314, 210.4599, 262.1892, 212.4885, 208.4313,  26.1   ,\n",
       "        21.8   ,  26.    ,  28.3   ,  21.9   ,  21.6   ,  26.2   ,\n",
       "        26.7   ,  24.8   ,  25.3   ,  25.8   ,  23.3   ,  23.6   ,\n",
       "        24.1   ,  23.1   ,  23.5   ,  25.2   ,  22.4   ,  24.2   ,\n",
       "        24.5   ,  22.2   ,  25.4   ,  23.9   ,  22.5   ,  22.7   ,\n",
       "        22.8   ,  22.    ,  26.5   ,  21.7   ,  27.1   ,  25.9   ,\n",
       "        22.6   ,  26.3   ,  23.4   ,  24.    ,  24.4   ,  24.3   ,\n",
       "        24.6   ,  23.2   , 213.5028, 217.56  , 239.8746, 265.2321,\n",
       "       229.7316, 223.6458, 257.1177, 236.8317,  25.    ,  21.5   ,\n",
       "        21.1   ,  23.    ,  21.4   ,  20.4   ,  24.7   ,  22.9   ,\n",
       "        26.9   ,  22.1   ,  27.    ,  20.6   ,  24.9   ,  20.7   ,\n",
       "        20.9   ,  25.5   ,  21.3   ,  23.8   ,  23.7   ,  21.2   ,\n",
       "        20.3   ,  27.2   ,  25.6   ,  20.8   ,  20.2   ,  22.3   ,\n",
       "        25.1   ,  21.    ,  20.    , 209.4456, 196.2597, 203.3598,\n",
       "       206.4027, 204.3741, 199.3026, 205.3884, 197.274 , 201.3312,\n",
       "       207.417 ])"
      ]
     },
     "execution_count": 78,
     "metadata": {},
     "output_type": "execute_result"
    }
   ],
   "source": [
    "df_raw.FL_STD.unique()"
   ]
  },
  {
   "cell_type": "code",
   "execution_count": 81,
   "id": "f1393840",
   "metadata": {},
   "outputs": [
    {
     "data": {
      "text/plain": [
       "array([336. , 334. , 364. , ..., 105.8,  97.8,  91.2])"
      ]
     },
     "execution_count": 81,
     "metadata": {},
     "output_type": "execute_result"
    }
   ],
   "source": [
    "df_raw.WEIGHT.unique()"
   ]
  },
  {
   "cell_type": "markdown",
   "id": "3c0a7452",
   "metadata": {},
   "source": [
    "# better import"
   ]
  },
  {
   "cell_type": "code",
   "execution_count": 5,
   "id": "3ce86e8c",
   "metadata": {},
   "outputs": [
    {
     "name": "stderr",
     "output_type": "stream",
     "text": [
      "C:\\Users\\CARRK\\AppData\\Local\\Temp\\1\\ipykernel_9644\\849708163.py:29: DtypeWarning: Columns (9,14,21,22) have mixed types. Specify dtype option on import or set low_memory=False.\n",
      "  df_better = pd.read_csv('csv_MASTER_Gaspereau_details_Larry.csv', dtype=dtypes)\n"
     ]
    }
   ],
   "source": [
    "dtypes = {\n",
    "    'YEAR': 'Int32', \n",
    "    'MM': 'Int32', \n",
    "    'DD': 'Int32', \n",
    "    'WEEK': 'Int32', \n",
    "    'SITE': 'object', \n",
    "    'PERIOD': 'object', \n",
    "    'CONDITION': 'object', \n",
    "    'FISH_NO': 'Int32', \n",
    "    'FL_WET': 'Int32', \n",
    "#     'FL_FROZEN': 'Int32',  # error: Unable to parse string \" \"\n",
    "    'FL_STD': 'float64',  # error: cannot safely cast non-equivalent float64 to int32\n",
    "    'WEIGHT': 'float64',  # error: cannot safely cast non-equivalent float64 to int32\n",
    "    'SPECIES': 'object', \n",
    "    'SEX': 'object', \n",
    "#     'MATURITY': 'Int32',  # error: Unable to parse string \" \"\n",
    "#     'GONAD_WEIGHT': 'float64',  # error: Unable to parse string \" \"\n",
    "    '1st Person Aging': 'object',  # error: could not convert string to float: ''\n",
    "#     'AGE': 'Int32',  # error: Unable to parse string \"No Slide\"\n",
    "#     'FSP': 'Int32',  # error: Unable to parse string \" \"\n",
    "    'Comments': 'object', \n",
    "    '2nd Person Aging': 'object', \n",
    "#     'AGE.1': 'Int32',  # error: Unable to parse string \".\"\n",
    "#     'FSP.1': 'Int32',  # error: Unable to parse string \".\"\n",
    "    'Comments.1': 'object', \n",
    "    'Envelop Comments': 'object'\n",
    "} \n",
    "\n",
    "df_better = pd.read_csv('csv_MASTER_Gaspereau_details_Larry.csv', dtype=dtypes)"
   ]
  },
  {
   "cell_type": "markdown",
   "id": "f9822e5a",
   "metadata": {},
   "source": [
    "# helper functions"
   ]
  },
  {
   "cell_type": "code",
   "execution_count": 10,
   "id": "c3a528b9",
   "metadata": {},
   "outputs": [],
   "source": [
    "def types_of_data(series):\n",
    "    \n",
    "    numbers, strings, blanks, n_null = 0, 0, 0, 0\n",
    "    \n",
    "    for item in series:\n",
    "        try:\n",
    "            float(item)\n",
    "            if pd.isnull(item):\n",
    "                n_null += 1\n",
    "            else:\n",
    "                numbers += 1\n",
    "        except ValueError:\n",
    "            strings += 1\n",
    "            if str(item) == ' ' or str(item) == '':\n",
    "                blanks += 1\n",
    "                \n",
    "    # note: blanks are strings\n",
    "    return numbers, strings, blanks, n_null\n",
    "\n",
    "\n",
    "def print_data_info(series):\n",
    "    \n",
    "    numbers, strings, blanks, n_null = types_of_data(series)\n",
    "    \n",
    "    print('UNIQUE numbers, strings, blanks, null =', types_of_data(series.unique()))\n",
    "    print('number of numeric =', numbers)\n",
    "    print('number of strings =', strings)\n",
    "    print('number of blanks =', blanks)  # blanks are strings\n",
    "    print('number of null = ', n_null)\n",
    "    print('check: ', numbers + strings + n_null, '==', series.shape[0])\n"
   ]
  },
  {
   "cell_type": "markdown",
   "id": "b104093f",
   "metadata": {},
   "source": [
    "### FL_FROZEN\n",
    "* convert to numeric, coerce errors (blanks become null)"
   ]
  },
  {
   "cell_type": "code",
   "execution_count": 108,
   "id": "1e2af98e",
   "metadata": {},
   "outputs": [
    {
     "data": {
      "text/plain": [
       "array([nan, '275', '250', '240', '245', '272', '260', '262', '265', '300',\n",
       "       '280', '285', '270', '263', '252', '279', '255', '258', '246',\n",
       "       '277', '271', '251', '244', '268', '266', '264', '274', '267',\n",
       "       '236', '239', '273', '248', '253', '284', '290', '257', '293',\n",
       "       '305', '282', '256', '276', '254', '306', '283', '278', '286',\n",
       "       '289', '288', '296', '298', '234', '294', '269', '287', '303',\n",
       "       '247', '291', '316', '261', '242', '237', '309', '295', '301',\n",
       "       '241', '281', '249', '292', '238', '259', '230', '243', '235',\n",
       "       '310', '315', '233', '322', '232', '231', '228', '222', '225',\n",
       "       '223', '226', '229', '227', '224', '220', '221', '212', '145',\n",
       "       '157', '151', '155', '161', '166', '147', '150', '217', '160',\n",
       "       '320', '317', '218', '215', '219', '207', '213', '210', '208',\n",
       "       '190', '200', '308', '175', '148', '304', '216', '214', '211',\n",
       "       '209', '118', '204', '205', '199', '203', '206', '299', '202',\n",
       "       '197', '201', '198', '366', '196', '193', '192', '195', '194',\n",
       "       '153', '189', '140', '126', '191', '112', ' ', 227.0, 251.0, 241.0,\n",
       "       230.0, 216.0, 240.0, 225.0, 221.0, 215.0, 247.0, 248.0, 218.0,\n",
       "       232.0, 220.0, 243.0, 229.0, 242.0, 233.0, 234.0, 238.0, 249.0,\n",
       "       250.0, 244.0, 254.0, 262.0, 219.0, 256.0, 235.0, 245.0, 226.0,\n",
       "       222.0, 246.0, 239.0, 231.0, 252.0, 223.0, 214.0, 224.0, 210.0,\n",
       "       228.0, 260.0, 237.0, 266.0, 217.0, 253.0, 265.0, 255.0, 263.0,\n",
       "       236.0, 258.0, 267.0, 207.0, 203.0, 209.0, 204.0, 211.0, 261.0,\n",
       "       208.0, 257.0, 212.0, 259.0, 206.0, 205.0, 197.0, 213.0, 271.0,\n",
       "       264.0, 273.0, 270.0, 201.0, 199.0, 198.0, 202.0, 200.0, 275.0,\n",
       "       196.0, 194.0, 191.0, 280.0, 272.0, 269.0, 274.0, 268.0, 278.0,\n",
       "       277.0, 195.0, 3.0, 28.0, 1.0, 2.0, 189.0, 192.0, 190.0],\n",
       "      dtype=object)"
      ]
     },
     "execution_count": 108,
     "metadata": {},
     "output_type": "execute_result"
    }
   ],
   "source": [
    "# should be able to convert to numeric and coerce errors\n",
    "df_better.FL_FROZEN.unique()"
   ]
  },
  {
   "cell_type": "code",
   "execution_count": 225,
   "id": "af5f4ab0",
   "metadata": {},
   "outputs": [
    {
     "name": "stdout",
     "output_type": "stream",
     "text": [
      "UNIQUE numbers, strings, blanks, null = (234, 1, 1, 1)\n",
      "number of numeric = 25495\n",
      "number of strings = 1\n",
      "number of blanks = 1\n",
      "number of null =  10123\n",
      "check:  35619 == 35619\n"
     ]
    }
   ],
   "source": [
    "print_data_info(df_better.FL_FROZEN)"
   ]
  },
  {
   "cell_type": "markdown",
   "id": "8c755865",
   "metadata": {},
   "source": [
    "### MATURITY\n",
    "* CONFIRM: either convert 44 to null or make it 4\n",
    "* CONFIRM: either convert 3? to null or make it 3\n",
    "* all ' ' to null"
   ]
  },
  {
   "cell_type": "code",
   "execution_count": 118,
   "id": "fc4a8dcf",
   "metadata": {},
   "outputs": [
    {
     "data": {
      "text/plain": [
       "array(['2', '1', '3', '0', '4', nan, '6', '5', ' ', '3?', 4.0, 3.0, 44.0,\n",
       "       2.0, 5.0], dtype=object)"
      ]
     },
     "execution_count": 118,
     "metadata": {},
     "output_type": "execute_result"
    }
   ],
   "source": [
    "# may need to ask an expert how to convert these values\n",
    "## 44 looks wrong, should 3? be 3 or null\n",
    "## ' ' could be coerced into a null\n",
    "df_better.MATURITY.unique()"
   ]
  },
  {
   "cell_type": "code",
   "execution_count": 120,
   "id": "3cf5e0a7",
   "metadata": {},
   "outputs": [
    {
     "data": {
      "text/html": [
       "<div>\n",
       "<style scoped>\n",
       "    .dataframe tbody tr th:only-of-type {\n",
       "        vertical-align: middle;\n",
       "    }\n",
       "\n",
       "    .dataframe tbody tr th {\n",
       "        vertical-align: top;\n",
       "    }\n",
       "\n",
       "    .dataframe thead th {\n",
       "        text-align: right;\n",
       "    }\n",
       "</style>\n",
       "<table border=\"1\" class=\"dataframe\">\n",
       "  <thead>\n",
       "    <tr style=\"text-align: right;\">\n",
       "      <th></th>\n",
       "      <th>YEAR</th>\n",
       "      <th>MM</th>\n",
       "      <th>DD</th>\n",
       "      <th>WEEK</th>\n",
       "      <th>SITE</th>\n",
       "      <th>PERIOD</th>\n",
       "      <th>CONDITION</th>\n",
       "      <th>FISH_NO</th>\n",
       "      <th>FL_WET</th>\n",
       "      <th>FL_FROZEN</th>\n",
       "      <th>FL_STD</th>\n",
       "      <th>WEIGHT</th>\n",
       "      <th>SPECIES</th>\n",
       "      <th>SEX</th>\n",
       "      <th>MATURITY</th>\n",
       "      <th>GONAD_WEIGHT</th>\n",
       "      <th>1st Person Aging</th>\n",
       "      <th>AGE</th>\n",
       "      <th>FSP</th>\n",
       "      <th>Comments</th>\n",
       "      <th>2nd Person Aging</th>\n",
       "      <th>AGE.1</th>\n",
       "      <th>FSP.1</th>\n",
       "      <th>Comments.1</th>\n",
       "      <th>Envelop Comments</th>\n",
       "    </tr>\n",
       "  </thead>\n",
       "  <tbody>\n",
       "    <tr>\n",
       "      <th>34619</th>\n",
       "      <td>2019</td>\n",
       "      <td>5</td>\n",
       "      <td>15</td>\n",
       "      <td>3</td>\n",
       "      <td>26</td>\n",
       "      <td>AM</td>\n",
       "      <td>FROZEN</td>\n",
       "      <td>25</td>\n",
       "      <td>&lt;NA&gt;</td>\n",
       "      <td>241.000</td>\n",
       "      <td>249.003</td>\n",
       "      <td>200.900</td>\n",
       "      <td>A</td>\n",
       "      <td>F</td>\n",
       "      <td>44.000</td>\n",
       "      <td>27.1</td>\n",
       "      <td>JM</td>\n",
       "      <td>4</td>\n",
       "      <td>3</td>\n",
       "      <td>NaN</td>\n",
       "      <td>NaN</td>\n",
       "      <td>NaN</td>\n",
       "      <td>NaN</td>\n",
       "      <td>NaN</td>\n",
       "      <td>NaN</td>\n",
       "    </tr>\n",
       "  </tbody>\n",
       "</table>\n",
       "</div>"
      ],
      "text/plain": [
       "       YEAR  MM  DD  WEEK SITE PERIOD CONDITION  FISH_NO  FL_WET FL_FROZEN  \\\n",
       "34619  2019   5  15     3   26     AM    FROZEN       25    <NA>   241.000   \n",
       "\n",
       "       FL_STD  WEIGHT SPECIES SEX MATURITY GONAD_WEIGHT 1st Person Aging AGE  \\\n",
       "34619 249.003 200.900       A   F   44.000         27.1               JM   4   \n",
       "\n",
       "      FSP Comments 2nd Person Aging AGE.1 FSP.1 Comments.1 Envelop Comments  \n",
       "34619   3      NaN              NaN   NaN   NaN        NaN              NaN  "
      ]
     },
     "execution_count": 120,
     "metadata": {},
     "output_type": "execute_result"
    }
   ],
   "source": [
    "# only 1 row has maturity == 44, should very likely be a 4\n",
    "df_better[df_better.MATURITY == 44]"
   ]
  },
  {
   "cell_type": "code",
   "execution_count": 226,
   "id": "ed7b860d",
   "metadata": {},
   "outputs": [
    {
     "name": "stdout",
     "output_type": "stream",
     "text": [
      "UNIQUE numbers, strings, blanks, null = (12, 2, 1, 1)\n",
      "number of numeric = 34993\n",
      "number of strings = 3\n",
      "number of blanks = 1\n",
      "number of null =  623\n",
      "check:  35619 == 35619\n"
     ]
    }
   ],
   "source": [
    "print_data_info(df_better.MATURITY)"
   ]
  },
  {
   "cell_type": "markdown",
   "id": "a73a87fa",
   "metadata": {},
   "source": [
    "### GONAD_WEIGHT\n",
    "* convert ' ' to Null"
   ]
  },
  {
   "cell_type": "code",
   "execution_count": 125,
   "id": "1aa77c82",
   "metadata": {},
   "outputs": [
    {
     "data": {
      "text/plain": [
       "count   17282.000\n",
       "mean       37.250\n",
       "std        16.292\n",
       "min         0.000\n",
       "25%        27.400\n",
       "50%        36.100\n",
       "75%        46.200\n",
       "max       766.000\n",
       "Name: GONAD_WEIGHT, dtype: float64"
      ]
     },
     "execution_count": 125,
     "metadata": {},
     "output_type": "execute_result"
    }
   ],
   "source": [
    "pd.to_numeric(df_better.GONAD_WEIGHT, errors='coerce').describe()"
   ]
  },
  {
   "cell_type": "code",
   "execution_count": 132,
   "id": "f83f8cf5",
   "metadata": {},
   "outputs": [
    {
     "data": {
      "text/plain": [
       "(18334, 25)"
      ]
     },
     "execution_count": 132,
     "metadata": {},
     "output_type": "execute_result"
    }
   ],
   "source": [
    "# many null gonads, seems to convert to numeric correctly\n",
    "df_better[df_better.GONAD_WEIGHT.isnull()].shape"
   ]
  },
  {
   "cell_type": "code",
   "execution_count": 227,
   "id": "47761d6a",
   "metadata": {},
   "outputs": [
    {
     "name": "stdout",
     "output_type": "stream",
     "text": [
      "UNIQUE numbers, strings, blanks, null = (816, 1, 1, 1)\n",
      "number of numeric = 17282\n",
      "number of strings = 3\n",
      "number of blanks = 3\n",
      "number of null =  18334\n",
      "check:  35619 == 35619\n"
     ]
    }
   ],
   "source": [
    "print_data_info(df_better.GONAD_WEIGHT)"
   ]
  },
  {
   "cell_type": "markdown",
   "id": "0ec0a0d5",
   "metadata": {},
   "source": [
    "### AGE\n",
    "* separate into 2 features?\n",
    "* convert all float to null"
   ]
  },
  {
   "cell_type": "code",
   "execution_count": 228,
   "id": "46f5cc4a",
   "metadata": {},
   "outputs": [
    {
     "name": "stdout",
     "output_type": "stream",
     "text": [
      "UNIQUE numbers, strings, blanks, null = (11, 13, 0, 1)\n",
      "number of numeric = 31480\n",
      "number of strings = 88\n",
      "number of blanks = 0\n",
      "number of null =  4051\n",
      "check:  35619 == 35619\n"
     ]
    }
   ],
   "source": [
    "print_data_info(df_better.AGE)"
   ]
  },
  {
   "cell_type": "code",
   "execution_count": 229,
   "id": "3fda8100",
   "metadata": {},
   "outputs": [
    {
     "data": {
      "text/plain": [
       "array(['4', '5', '6', '9', '3', '7', '8', '10', '2', '1', nan, '0',\n",
       "       'No Slide', 'BS', 'NS', 'PS', 'No Sample', 'Poor Scale',\n",
       "       'Bad Scale', 'BC', 'POOR SCALE', 'NO SLIDE', 'No Scale or Slide',\n",
       "       'NO Envelope no scale', 'NO SAMPLE.'], dtype=object)"
      ]
     },
     "execution_count": 229,
     "metadata": {},
     "output_type": "execute_result"
    }
   ],
   "source": [
    "# maybe these should be separated into separate features?\n",
    "df_better.AGE.unique()"
   ]
  },
  {
   "cell_type": "markdown",
   "id": "22192c83",
   "metadata": {},
   "source": [
    "### FSP\n",
    "* separate into 2 features?\n",
    "* convert all float to null"
   ]
  },
  {
   "cell_type": "code",
   "execution_count": 230,
   "id": "38105ee3",
   "metadata": {},
   "outputs": [
    {
     "name": "stdout",
     "output_type": "stream",
     "text": [
      "UNIQUE numbers, strings, blanks, null = (10, 16, 1, 1)\n",
      "number of numeric = 31257\n",
      "number of strings = 93\n",
      "number of blanks = 1\n",
      "number of null =  4269\n",
      "check:  35619 == 35619\n"
     ]
    }
   ],
   "source": [
    "print_data_info(df_raw.FSP)"
   ]
  },
  {
   "cell_type": "code",
   "execution_count": 231,
   "id": "0f1967d6",
   "metadata": {},
   "outputs": [
    {
     "data": {
      "text/plain": [
       "array(['3', '4', '5', '2', '6', '1', nan, '0', '9', ' ', '7', '.', 'BS',\n",
       "       'Poor Scale', 'Bad Scale', '. ', '33', '?3', 'Y', 'NO SLIDE', 'PS',\n",
       "       '?', 'Sp Mk', 'NO Slide', 'SP..MK', 'NO Scale', 'NO SAMPLE.'],\n",
       "      dtype=object)"
      ]
     },
     "execution_count": 231,
     "metadata": {},
     "output_type": "execute_result"
    }
   ],
   "source": [
    "# maybe these should be separated into separate features?\n",
    "df_better.FSP.unique()"
   ]
  },
  {
   "cell_type": "markdown",
   "id": "c193ab9c",
   "metadata": {},
   "source": [
    "### AGE.1\n",
    "* probably '.' should just be null\n",
    "* convert to numeric, coerce errors (will automatically make '.' null)"
   ]
  },
  {
   "cell_type": "code",
   "execution_count": 232,
   "id": "9fcd8814",
   "metadata": {},
   "outputs": [
    {
     "name": "stdout",
     "output_type": "stream",
     "text": [
      "UNIQUE numbers, strings, blanks, null = (6, 1, 0, 1)\n",
      "number of numeric = 378\n",
      "number of strings = 12\n",
      "number of blanks = 0\n",
      "number of null =  35229\n",
      "check:  35619 == 35619\n"
     ]
    }
   ],
   "source": [
    "print_data_info(df_raw['AGE.1'])"
   ]
  },
  {
   "cell_type": "code",
   "execution_count": 233,
   "id": "bf69e9ba",
   "metadata": {},
   "outputs": [
    {
     "data": {
      "text/plain": [
       "array([nan, '4', '5', '3', '6', '.', '7', '2'], dtype=object)"
      ]
     },
     "execution_count": 233,
     "metadata": {},
     "output_type": "execute_result"
    }
   ],
   "source": [
    "# probably '.' should just be null\n",
    "# coercing errors when coverting to numeric will automatically do this\n",
    "df_better['AGE.1'].unique()"
   ]
  },
  {
   "cell_type": "markdown",
   "id": "7803e201",
   "metadata": {},
   "source": [
    "### FSP.1\n",
    "* probably '.' should just be null\n",
    "* convert to numeric, coerce errors (will automatically make '.' null)"
   ]
  },
  {
   "cell_type": "code",
   "execution_count": 234,
   "id": "706fefa3",
   "metadata": {},
   "outputs": [
    {
     "name": "stdout",
     "output_type": "stream",
     "text": [
      "UNIQUE numbers, strings, blanks, null = (4, 1, 0, 1)\n",
      "number of numeric = 378\n",
      "number of strings = 12\n",
      "number of blanks = 0\n",
      "number of null =  35229\n",
      "check:  35619 == 35619\n"
     ]
    }
   ],
   "source": [
    "print_data_info(df_raw['FSP.1'])"
   ]
  },
  {
   "cell_type": "code",
   "execution_count": 235,
   "id": "bd3a4f18",
   "metadata": {},
   "outputs": [
    {
     "data": {
      "text/plain": [
       "array([nan, '3', '4', '2', '.', '5'], dtype=object)"
      ]
     },
     "execution_count": 235,
     "metadata": {},
     "output_type": "execute_result"
    }
   ],
   "source": [
    "# probably '.' should just be null\n",
    "# coercing errors when coverting to numeric will automatically do this\n",
    "df_better['FSP.1'].unique()"
   ]
  },
  {
   "cell_type": "markdown",
   "id": "260b23c2",
   "metadata": {},
   "source": [
    "# import and clean data"
   ]
  },
  {
   "cell_type": "code",
   "execution_count": 24,
   "id": "bf53fd13",
   "metadata": {},
   "outputs": [],
   "source": [
    "dtypes = {\n",
    "    'YEAR': 'Int32', \n",
    "    'MM': 'Int32', \n",
    "    'DD': 'Int32', \n",
    "    'WEEK': 'Int32', \n",
    "    'SITE': 'object', \n",
    "    'PERIOD': 'object', \n",
    "    'CONDITION': 'object', \n",
    "    'FISH_NO': 'Int32', \n",
    "    'FL_WET': 'Int32', \n",
    "    'FL_FROZEN': 'object',  # error: Unable to parse string \" \", covert to numeric manually\n",
    "    'FL_STD': 'float64',\n",
    "    'WEIGHT': 'float64',\n",
    "    'SPECIES': 'object', \n",
    "    'SEX': 'object', \n",
    "    'MATURITY': 'object',  # error: Unable to parse string \" \", covert to numeric manually\n",
    "    'GONAD_WEIGHT': 'object',  # error: Unable to parse string \" \", covert to numeric manually\n",
    "    '1st Person Aging': 'object',  # error: could not convert string to float: ''\n",
    "    'AGE': 'object',  # error: Unable to parse string \"No Slide\", covert to numeric manually\n",
    "    'FSP': 'object',  # error: Unable to parse string \" \", covert to numeric manually\n",
    "    'Comments': 'object', \n",
    "    '2nd Person Aging': 'object', \n",
    "    'AGE.1': 'object',  # error: Unable to parse string \".\", covert to numeric manually\n",
    "    'FSP.1': 'object',  # error: Unable to parse string \".\", covert to numeric manually\n",
    "    'Comments.1': 'object', \n",
    "    'Envelop Comments': 'object'\n",
    "} \n",
    "\n",
    "df_clean = pd.read_csv('csv_MASTER_Gaspereau_details_Larry.csv', dtype=dtypes)"
   ]
  },
  {
   "cell_type": "code",
   "execution_count": 25,
   "id": "235f5272",
   "metadata": {},
   "outputs": [],
   "source": [
    "# create backup of notes (including all numeric data for simplicity)\n",
    "df_clean['AGE_notes'] = df_clean['AGE']\n",
    "df_clean['FSP_notes'] = df_clean['FSP']\n",
    "\n",
    "# convert to numeric and coerce errors\n",
    "df_clean['FL_FROZEN'] = pd.to_numeric(df_clean['FL_FROZEN'], errors='coerce').astype('Int32')\n",
    "df_clean['MATURITY'] = pd.to_numeric(df_clean['MATURITY'], errors='coerce').astype('Int32')\n",
    "df_clean['GONAD_WEIGHT'] = pd.to_numeric(df_clean['GONAD_WEIGHT'], errors='coerce')  # float\n",
    "df_clean['AGE'] = pd.to_numeric(df_clean['AGE'], errors='coerce').astype('Int32')\n",
    "df_clean['FSP'] = pd.to_numeric(df_clean['FSP'], errors='coerce').astype('Int32')\n",
    "df_clean['AGE.1'] = pd.to_numeric(df_clean['AGE.1'], errors='coerce').astype('Int32')\n",
    "df_clean['FSP.1'] = pd.to_numeric(df_clean['FSP.1'], errors='coerce').astype('Int32')"
   ]
  },
  {
   "cell_type": "code",
   "execution_count": 26,
   "id": "6b9a4d38",
   "metadata": {},
   "outputs": [
    {
     "data": {
      "text/plain": [
       "YEAR                  Int32\n",
       "MM                    Int32\n",
       "DD                    Int32\n",
       "WEEK                  Int32\n",
       "SITE                 object\n",
       "PERIOD               object\n",
       "CONDITION            object\n",
       "FISH_NO               Int32\n",
       "FL_WET                Int32\n",
       "FL_FROZEN             Int32\n",
       "FL_STD              float64\n",
       "WEIGHT              float64\n",
       "SPECIES              object\n",
       "SEX                  object\n",
       "MATURITY              Int32\n",
       "GONAD_WEIGHT        float64\n",
       "1st Person Aging     object\n",
       "AGE                   Int32\n",
       "FSP                   Int32\n",
       "Comments             object\n",
       "2nd Person Aging     object\n",
       "AGE.1                 Int32\n",
       "FSP.1                 Int32\n",
       "Comments.1           object\n",
       "Envelop Comments     object\n",
       "AGE_notes            object\n",
       "FSP_notes            object\n",
       "dtype: object"
      ]
     },
     "execution_count": 26,
     "metadata": {},
     "output_type": "execute_result"
    }
   ],
   "source": [
    "df_clean.dtypes"
   ]
  },
  {
   "cell_type": "code",
   "execution_count": 27,
   "id": "e193c4c3",
   "metadata": {},
   "outputs": [
    {
     "data": {
      "text/html": [
       "<div>\n",
       "<style scoped>\n",
       "    .dataframe tbody tr th:only-of-type {\n",
       "        vertical-align: middle;\n",
       "    }\n",
       "\n",
       "    .dataframe tbody tr th {\n",
       "        vertical-align: top;\n",
       "    }\n",
       "\n",
       "    .dataframe thead th {\n",
       "        text-align: right;\n",
       "    }\n",
       "</style>\n",
       "<table border=\"1\" class=\"dataframe\">\n",
       "  <thead>\n",
       "    <tr style=\"text-align: right;\">\n",
       "      <th></th>\n",
       "      <th>count</th>\n",
       "      <th>unique</th>\n",
       "      <th>top</th>\n",
       "      <th>freq</th>\n",
       "      <th>mean</th>\n",
       "      <th>std</th>\n",
       "      <th>min</th>\n",
       "      <th>25%</th>\n",
       "      <th>50%</th>\n",
       "      <th>75%</th>\n",
       "      <th>max</th>\n",
       "    </tr>\n",
       "  </thead>\n",
       "  <tbody>\n",
       "    <tr>\n",
       "      <th>YEAR</th>\n",
       "      <td>35619.000</td>\n",
       "      <td>NaN</td>\n",
       "      <td>NaN</td>\n",
       "      <td>NaN</td>\n",
       "      <td>2000.901</td>\n",
       "      <td>11.021</td>\n",
       "      <td>1983.000</td>\n",
       "      <td>1990.000</td>\n",
       "      <td>2000.000</td>\n",
       "      <td>2011.000</td>\n",
       "      <td>2019.000</td>\n",
       "    </tr>\n",
       "    <tr>\n",
       "      <th>MM</th>\n",
       "      <td>35619.000</td>\n",
       "      <td>NaN</td>\n",
       "      <td>NaN</td>\n",
       "      <td>NaN</td>\n",
       "      <td>5.392</td>\n",
       "      <td>0.500</td>\n",
       "      <td>4.000</td>\n",
       "      <td>5.000</td>\n",
       "      <td>5.000</td>\n",
       "      <td>6.000</td>\n",
       "      <td>7.000</td>\n",
       "    </tr>\n",
       "    <tr>\n",
       "      <th>DD</th>\n",
       "      <td>35619.000</td>\n",
       "      <td>NaN</td>\n",
       "      <td>NaN</td>\n",
       "      <td>NaN</td>\n",
       "      <td>16.121</td>\n",
       "      <td>8.768</td>\n",
       "      <td>1.000</td>\n",
       "      <td>9.000</td>\n",
       "      <td>16.000</td>\n",
       "      <td>24.000</td>\n",
       "      <td>31.000</td>\n",
       "    </tr>\n",
       "    <tr>\n",
       "      <th>WEEK</th>\n",
       "      <td>22371.000</td>\n",
       "      <td>NaN</td>\n",
       "      <td>NaN</td>\n",
       "      <td>NaN</td>\n",
       "      <td>5.050</td>\n",
       "      <td>2.005</td>\n",
       "      <td>1.000</td>\n",
       "      <td>4.000</td>\n",
       "      <td>5.000</td>\n",
       "      <td>6.000</td>\n",
       "      <td>9.000</td>\n",
       "    </tr>\n",
       "    <tr>\n",
       "      <th>SITE</th>\n",
       "      <td>35501</td>\n",
       "      <td>78</td>\n",
       "      <td>12</td>\n",
       "      <td>6668</td>\n",
       "      <td>NaN</td>\n",
       "      <td>NaN</td>\n",
       "      <td>NaN</td>\n",
       "      <td>NaN</td>\n",
       "      <td>NaN</td>\n",
       "      <td>NaN</td>\n",
       "      <td>NaN</td>\n",
       "    </tr>\n",
       "    <tr>\n",
       "      <th>PERIOD</th>\n",
       "      <td>30417</td>\n",
       "      <td>4</td>\n",
       "      <td>AM</td>\n",
       "      <td>16222</td>\n",
       "      <td>NaN</td>\n",
       "      <td>NaN</td>\n",
       "      <td>NaN</td>\n",
       "      <td>NaN</td>\n",
       "      <td>NaN</td>\n",
       "      <td>NaN</td>\n",
       "      <td>NaN</td>\n",
       "    </tr>\n",
       "    <tr>\n",
       "      <th>CONDITION</th>\n",
       "      <td>35424</td>\n",
       "      <td>4</td>\n",
       "      <td>Frozen</td>\n",
       "      <td>24940</td>\n",
       "      <td>NaN</td>\n",
       "      <td>NaN</td>\n",
       "      <td>NaN</td>\n",
       "      <td>NaN</td>\n",
       "      <td>NaN</td>\n",
       "      <td>NaN</td>\n",
       "      <td>NaN</td>\n",
       "    </tr>\n",
       "    <tr>\n",
       "      <th>FISH_NO</th>\n",
       "      <td>35619.000</td>\n",
       "      <td>NaN</td>\n",
       "      <td>NaN</td>\n",
       "      <td>NaN</td>\n",
       "      <td>17.770</td>\n",
       "      <td>11.672</td>\n",
       "      <td>1.000</td>\n",
       "      <td>9.000</td>\n",
       "      <td>17.000</td>\n",
       "      <td>25.000</td>\n",
       "      <td>100.000</td>\n",
       "    </tr>\n",
       "    <tr>\n",
       "      <th>FL_WET</th>\n",
       "      <td>9660.000</td>\n",
       "      <td>NaN</td>\n",
       "      <td>NaN</td>\n",
       "      <td>NaN</td>\n",
       "      <td>253.376</td>\n",
       "      <td>20.107</td>\n",
       "      <td>1.000</td>\n",
       "      <td>240.000</td>\n",
       "      <td>253.000</td>\n",
       "      <td>267.000</td>\n",
       "      <td>358.000</td>\n",
       "    </tr>\n",
       "    <tr>\n",
       "      <th>FL_FROZEN</th>\n",
       "      <td>25495.000</td>\n",
       "      <td>NaN</td>\n",
       "      <td>NaN</td>\n",
       "      <td>NaN</td>\n",
       "      <td>247.270</td>\n",
       "      <td>19.862</td>\n",
       "      <td>1.000</td>\n",
       "      <td>234.000</td>\n",
       "      <td>247.000</td>\n",
       "      <td>260.000</td>\n",
       "      <td>366.000</td>\n",
       "    </tr>\n",
       "    <tr>\n",
       "      <th>FL_STD</th>\n",
       "      <td>35245.000</td>\n",
       "      <td>NaN</td>\n",
       "      <td>NaN</td>\n",
       "      <td>NaN</td>\n",
       "      <td>253.169</td>\n",
       "      <td>27.956</td>\n",
       "      <td>20.000</td>\n",
       "      <td>241.000</td>\n",
       "      <td>254.000</td>\n",
       "      <td>268.000</td>\n",
       "      <td>376.000</td>\n",
       "    </tr>\n",
       "    <tr>\n",
       "      <th>WEIGHT</th>\n",
       "      <td>35318.000</td>\n",
       "      <td>NaN</td>\n",
       "      <td>NaN</td>\n",
       "      <td>NaN</td>\n",
       "      <td>217.944</td>\n",
       "      <td>61.426</td>\n",
       "      <td>15.100</td>\n",
       "      <td>174.300</td>\n",
       "      <td>211.200</td>\n",
       "      <td>255.100</td>\n",
       "      <td>1934.000</td>\n",
       "    </tr>\n",
       "    <tr>\n",
       "      <th>SPECIES</th>\n",
       "      <td>35392</td>\n",
       "      <td>3</td>\n",
       "      <td>A</td>\n",
       "      <td>30885</td>\n",
       "      <td>NaN</td>\n",
       "      <td>NaN</td>\n",
       "      <td>NaN</td>\n",
       "      <td>NaN</td>\n",
       "      <td>NaN</td>\n",
       "      <td>NaN</td>\n",
       "      <td>NaN</td>\n",
       "    </tr>\n",
       "    <tr>\n",
       "      <th>SEX</th>\n",
       "      <td>35392</td>\n",
       "      <td>4</td>\n",
       "      <td>F</td>\n",
       "      <td>17621</td>\n",
       "      <td>NaN</td>\n",
       "      <td>NaN</td>\n",
       "      <td>NaN</td>\n",
       "      <td>NaN</td>\n",
       "      <td>NaN</td>\n",
       "      <td>NaN</td>\n",
       "      <td>NaN</td>\n",
       "    </tr>\n",
       "    <tr>\n",
       "      <th>MATURITY</th>\n",
       "      <td>34993.000</td>\n",
       "      <td>NaN</td>\n",
       "      <td>NaN</td>\n",
       "      <td>NaN</td>\n",
       "      <td>3.763</td>\n",
       "      <td>0.738</td>\n",
       "      <td>0.000</td>\n",
       "      <td>4.000</td>\n",
       "      <td>4.000</td>\n",
       "      <td>4.000</td>\n",
       "      <td>44.000</td>\n",
       "    </tr>\n",
       "    <tr>\n",
       "      <th>GONAD_WEIGHT</th>\n",
       "      <td>17282.000</td>\n",
       "      <td>NaN</td>\n",
       "      <td>NaN</td>\n",
       "      <td>NaN</td>\n",
       "      <td>37.250</td>\n",
       "      <td>16.292</td>\n",
       "      <td>0.000</td>\n",
       "      <td>27.400</td>\n",
       "      <td>36.100</td>\n",
       "      <td>46.200</td>\n",
       "      <td>766.000</td>\n",
       "    </tr>\n",
       "    <tr>\n",
       "      <th>1st Person Aging</th>\n",
       "      <td>7118</td>\n",
       "      <td>1</td>\n",
       "      <td>JM</td>\n",
       "      <td>7118</td>\n",
       "      <td>NaN</td>\n",
       "      <td>NaN</td>\n",
       "      <td>NaN</td>\n",
       "      <td>NaN</td>\n",
       "      <td>NaN</td>\n",
       "      <td>NaN</td>\n",
       "      <td>NaN</td>\n",
       "    </tr>\n",
       "    <tr>\n",
       "      <th>AGE</th>\n",
       "      <td>31480.000</td>\n",
       "      <td>NaN</td>\n",
       "      <td>NaN</td>\n",
       "      <td>NaN</td>\n",
       "      <td>3.829</td>\n",
       "      <td>0.917</td>\n",
       "      <td>0.000</td>\n",
       "      <td>3.000</td>\n",
       "      <td>4.000</td>\n",
       "      <td>4.000</td>\n",
       "      <td>10.000</td>\n",
       "    </tr>\n",
       "    <tr>\n",
       "      <th>FSP</th>\n",
       "      <td>31257.000</td>\n",
       "      <td>NaN</td>\n",
       "      <td>NaN</td>\n",
       "      <td>NaN</td>\n",
       "      <td>3.366</td>\n",
       "      <td>1.039</td>\n",
       "      <td>0.000</td>\n",
       "      <td>3.000</td>\n",
       "      <td>3.000</td>\n",
       "      <td>4.000</td>\n",
       "      <td>33.000</td>\n",
       "    </tr>\n",
       "    <tr>\n",
       "      <th>Comments</th>\n",
       "      <td>1885</td>\n",
       "      <td>856</td>\n",
       "      <td>NICE</td>\n",
       "      <td>233</td>\n",
       "      <td>NaN</td>\n",
       "      <td>NaN</td>\n",
       "      <td>NaN</td>\n",
       "      <td>NaN</td>\n",
       "      <td>NaN</td>\n",
       "      <td>NaN</td>\n",
       "      <td>NaN</td>\n",
       "    </tr>\n",
       "    <tr>\n",
       "      <th>2nd Person Aging</th>\n",
       "      <td>390</td>\n",
       "      <td>1</td>\n",
       "      <td>LF</td>\n",
       "      <td>390</td>\n",
       "      <td>NaN</td>\n",
       "      <td>NaN</td>\n",
       "      <td>NaN</td>\n",
       "      <td>NaN</td>\n",
       "      <td>NaN</td>\n",
       "      <td>NaN</td>\n",
       "      <td>NaN</td>\n",
       "    </tr>\n",
       "    <tr>\n",
       "      <th>AGE.1</th>\n",
       "      <td>378.000</td>\n",
       "      <td>NaN</td>\n",
       "      <td>NaN</td>\n",
       "      <td>NaN</td>\n",
       "      <td>3.823</td>\n",
       "      <td>0.960</td>\n",
       "      <td>2.000</td>\n",
       "      <td>3.000</td>\n",
       "      <td>4.000</td>\n",
       "      <td>4.000</td>\n",
       "      <td>7.000</td>\n",
       "    </tr>\n",
       "    <tr>\n",
       "      <th>FSP.1</th>\n",
       "      <td>378.000</td>\n",
       "      <td>NaN</td>\n",
       "      <td>NaN</td>\n",
       "      <td>NaN</td>\n",
       "      <td>3.214</td>\n",
       "      <td>0.482</td>\n",
       "      <td>2.000</td>\n",
       "      <td>3.000</td>\n",
       "      <td>3.000</td>\n",
       "      <td>3.000</td>\n",
       "      <td>5.000</td>\n",
       "    </tr>\n",
       "    <tr>\n",
       "      <th>Comments.1</th>\n",
       "      <td>22</td>\n",
       "      <td>17</td>\n",
       "      <td>poor scales</td>\n",
       "      <td>5</td>\n",
       "      <td>NaN</td>\n",
       "      <td>NaN</td>\n",
       "      <td>NaN</td>\n",
       "      <td>NaN</td>\n",
       "      <td>NaN</td>\n",
       "      <td>NaN</td>\n",
       "      <td>NaN</td>\n",
       "    </tr>\n",
       "    <tr>\n",
       "      <th>Envelop Comments</th>\n",
       "      <td>625</td>\n",
       "      <td>73</td>\n",
       "      <td>parasites; round worms, less than 5.</td>\n",
       "      <td>187</td>\n",
       "      <td>NaN</td>\n",
       "      <td>NaN</td>\n",
       "      <td>NaN</td>\n",
       "      <td>NaN</td>\n",
       "      <td>NaN</td>\n",
       "      <td>NaN</td>\n",
       "      <td>NaN</td>\n",
       "    </tr>\n",
       "    <tr>\n",
       "      <th>AGE_notes</th>\n",
       "      <td>31568</td>\n",
       "      <td>24</td>\n",
       "      <td>3</td>\n",
       "      <td>12903</td>\n",
       "      <td>NaN</td>\n",
       "      <td>NaN</td>\n",
       "      <td>NaN</td>\n",
       "      <td>NaN</td>\n",
       "      <td>NaN</td>\n",
       "      <td>NaN</td>\n",
       "      <td>NaN</td>\n",
       "    </tr>\n",
       "    <tr>\n",
       "      <th>FSP_notes</th>\n",
       "      <td>31350</td>\n",
       "      <td>26</td>\n",
       "      <td>3</td>\n",
       "      <td>20329</td>\n",
       "      <td>NaN</td>\n",
       "      <td>NaN</td>\n",
       "      <td>NaN</td>\n",
       "      <td>NaN</td>\n",
       "      <td>NaN</td>\n",
       "      <td>NaN</td>\n",
       "      <td>NaN</td>\n",
       "    </tr>\n",
       "  </tbody>\n",
       "</table>\n",
       "</div>"
      ],
      "text/plain": [
       "                     count unique                                   top  \\\n",
       "YEAR             35619.000    NaN                                   NaN   \n",
       "MM               35619.000    NaN                                   NaN   \n",
       "DD               35619.000    NaN                                   NaN   \n",
       "WEEK             22371.000    NaN                                   NaN   \n",
       "SITE                 35501     78                                    12   \n",
       "PERIOD               30417      4                                    AM   \n",
       "CONDITION            35424      4                                Frozen   \n",
       "FISH_NO          35619.000    NaN                                   NaN   \n",
       "FL_WET            9660.000    NaN                                   NaN   \n",
       "FL_FROZEN        25495.000    NaN                                   NaN   \n",
       "FL_STD           35245.000    NaN                                   NaN   \n",
       "WEIGHT           35318.000    NaN                                   NaN   \n",
       "SPECIES              35392      3                                     A   \n",
       "SEX                  35392      4                                     F   \n",
       "MATURITY         34993.000    NaN                                   NaN   \n",
       "GONAD_WEIGHT     17282.000    NaN                                   NaN   \n",
       "1st Person Aging      7118      1                                    JM   \n",
       "AGE              31480.000    NaN                                   NaN   \n",
       "FSP              31257.000    NaN                                   NaN   \n",
       "Comments              1885    856                                 NICE    \n",
       "2nd Person Aging       390      1                                    LF   \n",
       "AGE.1              378.000    NaN                                   NaN   \n",
       "FSP.1              378.000    NaN                                   NaN   \n",
       "Comments.1              22     17                           poor scales   \n",
       "Envelop Comments       625     73  parasites; round worms, less than 5.   \n",
       "AGE_notes            31568     24                                     3   \n",
       "FSP_notes            31350     26                                     3   \n",
       "\n",
       "                   freq     mean    std      min      25%      50%      75%  \\\n",
       "YEAR                NaN 2000.901 11.021 1983.000 1990.000 2000.000 2011.000   \n",
       "MM                  NaN    5.392  0.500    4.000    5.000    5.000    6.000   \n",
       "DD                  NaN   16.121  8.768    1.000    9.000   16.000   24.000   \n",
       "WEEK                NaN    5.050  2.005    1.000    4.000    5.000    6.000   \n",
       "SITE               6668      NaN    NaN      NaN      NaN      NaN      NaN   \n",
       "PERIOD            16222      NaN    NaN      NaN      NaN      NaN      NaN   \n",
       "CONDITION         24940      NaN    NaN      NaN      NaN      NaN      NaN   \n",
       "FISH_NO             NaN   17.770 11.672    1.000    9.000   17.000   25.000   \n",
       "FL_WET              NaN  253.376 20.107    1.000  240.000  253.000  267.000   \n",
       "FL_FROZEN           NaN  247.270 19.862    1.000  234.000  247.000  260.000   \n",
       "FL_STD              NaN  253.169 27.956   20.000  241.000  254.000  268.000   \n",
       "WEIGHT              NaN  217.944 61.426   15.100  174.300  211.200  255.100   \n",
       "SPECIES           30885      NaN    NaN      NaN      NaN      NaN      NaN   \n",
       "SEX               17621      NaN    NaN      NaN      NaN      NaN      NaN   \n",
       "MATURITY            NaN    3.763  0.738    0.000    4.000    4.000    4.000   \n",
       "GONAD_WEIGHT        NaN   37.250 16.292    0.000   27.400   36.100   46.200   \n",
       "1st Person Aging   7118      NaN    NaN      NaN      NaN      NaN      NaN   \n",
       "AGE                 NaN    3.829  0.917    0.000    3.000    4.000    4.000   \n",
       "FSP                 NaN    3.366  1.039    0.000    3.000    3.000    4.000   \n",
       "Comments            233      NaN    NaN      NaN      NaN      NaN      NaN   \n",
       "2nd Person Aging    390      NaN    NaN      NaN      NaN      NaN      NaN   \n",
       "AGE.1               NaN    3.823  0.960    2.000    3.000    4.000    4.000   \n",
       "FSP.1               NaN    3.214  0.482    2.000    3.000    3.000    3.000   \n",
       "Comments.1            5      NaN    NaN      NaN      NaN      NaN      NaN   \n",
       "Envelop Comments    187      NaN    NaN      NaN      NaN      NaN      NaN   \n",
       "AGE_notes         12903      NaN    NaN      NaN      NaN      NaN      NaN   \n",
       "FSP_notes         20329      NaN    NaN      NaN      NaN      NaN      NaN   \n",
       "\n",
       "                      max  \n",
       "YEAR             2019.000  \n",
       "MM                  7.000  \n",
       "DD                 31.000  \n",
       "WEEK                9.000  \n",
       "SITE                  NaN  \n",
       "PERIOD                NaN  \n",
       "CONDITION             NaN  \n",
       "FISH_NO           100.000  \n",
       "FL_WET            358.000  \n",
       "FL_FROZEN         366.000  \n",
       "FL_STD            376.000  \n",
       "WEIGHT           1934.000  \n",
       "SPECIES               NaN  \n",
       "SEX                   NaN  \n",
       "MATURITY           44.000  \n",
       "GONAD_WEIGHT      766.000  \n",
       "1st Person Aging      NaN  \n",
       "AGE                10.000  \n",
       "FSP                33.000  \n",
       "Comments              NaN  \n",
       "2nd Person Aging      NaN  \n",
       "AGE.1               7.000  \n",
       "FSP.1               5.000  \n",
       "Comments.1            NaN  \n",
       "Envelop Comments      NaN  \n",
       "AGE_notes             NaN  \n",
       "FSP_notes             NaN  "
      ]
     },
     "execution_count": 27,
     "metadata": {},
     "output_type": "execute_result"
    }
   ],
   "source": [
    "df_clean.describe(include='all').T"
   ]
  },
  {
   "cell_type": "code",
   "execution_count": 28,
   "id": "273d38f3",
   "metadata": {},
   "outputs": [
    {
     "data": {
      "text/html": [
       "<div>\n",
       "<style scoped>\n",
       "    .dataframe tbody tr th:only-of-type {\n",
       "        vertical-align: middle;\n",
       "    }\n",
       "\n",
       "    .dataframe tbody tr th {\n",
       "        vertical-align: top;\n",
       "    }\n",
       "\n",
       "    .dataframe thead th {\n",
       "        text-align: right;\n",
       "    }\n",
       "</style>\n",
       "<table border=\"1\" class=\"dataframe\">\n",
       "  <thead>\n",
       "    <tr style=\"text-align: right;\">\n",
       "      <th></th>\n",
       "      <th>count</th>\n",
       "      <th>mean</th>\n",
       "      <th>std</th>\n",
       "      <th>min</th>\n",
       "      <th>25%</th>\n",
       "      <th>50%</th>\n",
       "      <th>75%</th>\n",
       "      <th>max</th>\n",
       "    </tr>\n",
       "  </thead>\n",
       "  <tbody>\n",
       "    <tr>\n",
       "      <th>YEAR</th>\n",
       "      <td>35619.000</td>\n",
       "      <td>2000.901</td>\n",
       "      <td>11.021</td>\n",
       "      <td>1983.000</td>\n",
       "      <td>1990.000</td>\n",
       "      <td>2000.000</td>\n",
       "      <td>2011.000</td>\n",
       "      <td>2019.000</td>\n",
       "    </tr>\n",
       "    <tr>\n",
       "      <th>MM</th>\n",
       "      <td>35619.000</td>\n",
       "      <td>5.392</td>\n",
       "      <td>0.500</td>\n",
       "      <td>4.000</td>\n",
       "      <td>5.000</td>\n",
       "      <td>5.000</td>\n",
       "      <td>6.000</td>\n",
       "      <td>7.000</td>\n",
       "    </tr>\n",
       "    <tr>\n",
       "      <th>DD</th>\n",
       "      <td>35619.000</td>\n",
       "      <td>16.121</td>\n",
       "      <td>8.768</td>\n",
       "      <td>1.000</td>\n",
       "      <td>9.000</td>\n",
       "      <td>16.000</td>\n",
       "      <td>24.000</td>\n",
       "      <td>31.000</td>\n",
       "    </tr>\n",
       "    <tr>\n",
       "      <th>WEEK</th>\n",
       "      <td>22371.000</td>\n",
       "      <td>5.050</td>\n",
       "      <td>2.005</td>\n",
       "      <td>1.000</td>\n",
       "      <td>4.000</td>\n",
       "      <td>5.000</td>\n",
       "      <td>6.000</td>\n",
       "      <td>9.000</td>\n",
       "    </tr>\n",
       "    <tr>\n",
       "      <th>FISH_NO</th>\n",
       "      <td>35619.000</td>\n",
       "      <td>17.770</td>\n",
       "      <td>11.672</td>\n",
       "      <td>1.000</td>\n",
       "      <td>9.000</td>\n",
       "      <td>17.000</td>\n",
       "      <td>25.000</td>\n",
       "      <td>100.000</td>\n",
       "    </tr>\n",
       "    <tr>\n",
       "      <th>FL_WET</th>\n",
       "      <td>9660.000</td>\n",
       "      <td>253.376</td>\n",
       "      <td>20.107</td>\n",
       "      <td>1.000</td>\n",
       "      <td>240.000</td>\n",
       "      <td>253.000</td>\n",
       "      <td>267.000</td>\n",
       "      <td>358.000</td>\n",
       "    </tr>\n",
       "    <tr>\n",
       "      <th>FL_FROZEN</th>\n",
       "      <td>25495.000</td>\n",
       "      <td>247.270</td>\n",
       "      <td>19.862</td>\n",
       "      <td>1.000</td>\n",
       "      <td>234.000</td>\n",
       "      <td>247.000</td>\n",
       "      <td>260.000</td>\n",
       "      <td>366.000</td>\n",
       "    </tr>\n",
       "    <tr>\n",
       "      <th>FL_STD</th>\n",
       "      <td>35245.000</td>\n",
       "      <td>253.169</td>\n",
       "      <td>27.956</td>\n",
       "      <td>20.000</td>\n",
       "      <td>241.000</td>\n",
       "      <td>254.000</td>\n",
       "      <td>268.000</td>\n",
       "      <td>376.000</td>\n",
       "    </tr>\n",
       "    <tr>\n",
       "      <th>WEIGHT</th>\n",
       "      <td>35318.000</td>\n",
       "      <td>217.944</td>\n",
       "      <td>61.426</td>\n",
       "      <td>15.100</td>\n",
       "      <td>174.300</td>\n",
       "      <td>211.200</td>\n",
       "      <td>255.100</td>\n",
       "      <td>1934.000</td>\n",
       "    </tr>\n",
       "    <tr>\n",
       "      <th>MATURITY</th>\n",
       "      <td>34993.000</td>\n",
       "      <td>3.763</td>\n",
       "      <td>0.738</td>\n",
       "      <td>0.000</td>\n",
       "      <td>4.000</td>\n",
       "      <td>4.000</td>\n",
       "      <td>4.000</td>\n",
       "      <td>44.000</td>\n",
       "    </tr>\n",
       "    <tr>\n",
       "      <th>GONAD_WEIGHT</th>\n",
       "      <td>17282.000</td>\n",
       "      <td>37.250</td>\n",
       "      <td>16.292</td>\n",
       "      <td>0.000</td>\n",
       "      <td>27.400</td>\n",
       "      <td>36.100</td>\n",
       "      <td>46.200</td>\n",
       "      <td>766.000</td>\n",
       "    </tr>\n",
       "    <tr>\n",
       "      <th>AGE</th>\n",
       "      <td>31480.000</td>\n",
       "      <td>3.829</td>\n",
       "      <td>0.917</td>\n",
       "      <td>0.000</td>\n",
       "      <td>3.000</td>\n",
       "      <td>4.000</td>\n",
       "      <td>4.000</td>\n",
       "      <td>10.000</td>\n",
       "    </tr>\n",
       "    <tr>\n",
       "      <th>FSP</th>\n",
       "      <td>31257.000</td>\n",
       "      <td>3.366</td>\n",
       "      <td>1.039</td>\n",
       "      <td>0.000</td>\n",
       "      <td>3.000</td>\n",
       "      <td>3.000</td>\n",
       "      <td>4.000</td>\n",
       "      <td>33.000</td>\n",
       "    </tr>\n",
       "    <tr>\n",
       "      <th>AGE.1</th>\n",
       "      <td>378.000</td>\n",
       "      <td>3.823</td>\n",
       "      <td>0.960</td>\n",
       "      <td>2.000</td>\n",
       "      <td>3.000</td>\n",
       "      <td>4.000</td>\n",
       "      <td>4.000</td>\n",
       "      <td>7.000</td>\n",
       "    </tr>\n",
       "    <tr>\n",
       "      <th>FSP.1</th>\n",
       "      <td>378.000</td>\n",
       "      <td>3.214</td>\n",
       "      <td>0.482</td>\n",
       "      <td>2.000</td>\n",
       "      <td>3.000</td>\n",
       "      <td>3.000</td>\n",
       "      <td>3.000</td>\n",
       "      <td>5.000</td>\n",
       "    </tr>\n",
       "  </tbody>\n",
       "</table>\n",
       "</div>"
      ],
      "text/plain": [
       "                 count     mean    std      min      25%      50%      75%  \\\n",
       "YEAR         35619.000 2000.901 11.021 1983.000 1990.000 2000.000 2011.000   \n",
       "MM           35619.000    5.392  0.500    4.000    5.000    5.000    6.000   \n",
       "DD           35619.000   16.121  8.768    1.000    9.000   16.000   24.000   \n",
       "WEEK         22371.000    5.050  2.005    1.000    4.000    5.000    6.000   \n",
       "FISH_NO      35619.000   17.770 11.672    1.000    9.000   17.000   25.000   \n",
       "FL_WET        9660.000  253.376 20.107    1.000  240.000  253.000  267.000   \n",
       "FL_FROZEN    25495.000  247.270 19.862    1.000  234.000  247.000  260.000   \n",
       "FL_STD       35245.000  253.169 27.956   20.000  241.000  254.000  268.000   \n",
       "WEIGHT       35318.000  217.944 61.426   15.100  174.300  211.200  255.100   \n",
       "MATURITY     34993.000    3.763  0.738    0.000    4.000    4.000    4.000   \n",
       "GONAD_WEIGHT 17282.000   37.250 16.292    0.000   27.400   36.100   46.200   \n",
       "AGE          31480.000    3.829  0.917    0.000    3.000    4.000    4.000   \n",
       "FSP          31257.000    3.366  1.039    0.000    3.000    3.000    4.000   \n",
       "AGE.1          378.000    3.823  0.960    2.000    3.000    4.000    4.000   \n",
       "FSP.1          378.000    3.214  0.482    2.000    3.000    3.000    3.000   \n",
       "\n",
       "                  max  \n",
       "YEAR         2019.000  \n",
       "MM              7.000  \n",
       "DD             31.000  \n",
       "WEEK            9.000  \n",
       "FISH_NO       100.000  \n",
       "FL_WET        358.000  \n",
       "FL_FROZEN     366.000  \n",
       "FL_STD        376.000  \n",
       "WEIGHT       1934.000  \n",
       "MATURITY       44.000  \n",
       "GONAD_WEIGHT  766.000  \n",
       "AGE            10.000  \n",
       "FSP            33.000  \n",
       "AGE.1           7.000  \n",
       "FSP.1           5.000  "
      ]
     },
     "execution_count": 28,
     "metadata": {},
     "output_type": "execute_result"
    }
   ],
   "source": [
    "df_clean.describe().T"
   ]
  },
  {
   "cell_type": "markdown",
   "id": "99712877",
   "metadata": {},
   "source": [
    "# plots"
   ]
  },
  {
   "cell_type": "code",
   "execution_count": 285,
   "id": "f6937e22",
   "metadata": {},
   "outputs": [
    {
     "data": {
      "text/plain": [
       "(1983, 2019)"
      ]
     },
     "execution_count": 285,
     "metadata": {},
     "output_type": "execute_result"
    }
   ],
   "source": [
    "df_clean['YEAR'].min(), df_clean['YEAR'].max()"
   ]
  },
  {
   "cell_type": "code",
   "execution_count": 291,
   "id": "f688c008",
   "metadata": {},
   "outputs": [
    {
     "data": {
      "image/png": "[encoded data removed]",
      "text/plain": [
       "<Figure size 1200x400 with 1 Axes>"
      ]
     },
     "metadata": {},
     "output_type": "display_data"
    }
   ],
   "source": [
    "plt.figure(figsize=(12, 4))\n",
    "n_years = df_clean['YEAR'].max() - df_clean['YEAR'].min() + 1\n",
    "df_clean['YEAR'].hist(bins=n_years)\n",
    "plt.show()"
   ]
  },
  {
   "cell_type": "code",
   "execution_count": 297,
   "id": "f8d56e7c",
   "metadata": {},
   "outputs": [
    {
     "data": {
      "text/plain": [
       "Index(['YEAR', 'MM', 'DD', 'WEEK', 'SITE', 'PERIOD', 'CONDITION', 'FISH_NO',\n",
       "       'FL_WET', 'FL_FROZEN', 'FL_STD', 'WEIGHT', 'SPECIES', 'SEX', 'MATURITY',\n",
       "       'GONAD_WEIGHT', '1st Person Aging', 'AGE', 'FSP', 'Comments',\n",
       "       '2nd Person Aging', 'AGE.1', 'FSP.1', 'Comments.1', 'Envelop Comments',\n",
       "       'AGE_notes', 'FSP_notes'],\n",
       "      dtype='object')"
      ]
     },
     "execution_count": 297,
     "metadata": {},
     "output_type": "execute_result"
    }
   ],
   "source": [
    "column_names = df_clean.columns\n",
    "column_names"
   ]
  },
  {
   "cell_type": "code",
   "execution_count": 300,
   "id": "7d571cc2",
   "metadata": {},
   "outputs": [
    {
     "name": "stdout",
     "output_type": "stream",
     "text": [
      "--------------------------------------------------\n",
      "Histogram: Year\n"
     ]
    },
    {
     "data": {
      "image/png": "[encoded data removed]",
      "text/plain": [
       "<Figure size 1200x400 with 1 Axes>"
      ]
     },
     "metadata": {},
     "output_type": "display_data"
    },
    {
     "name": "stdout",
     "output_type": "stream",
     "text": [
      "--------------------------------------------------\n",
      "Histogram: Mm\n"
     ]
    },
    {
     "data": {
      "image/png": "[encoded data removed]",
      "text/plain": [
       "<Figure size 1200x400 with 1 Axes>"
      ]
     },
     "metadata": {},
     "output_type": "display_data"
    },
    {
     "name": "stdout",
     "output_type": "stream",
     "text": [
      "--------------------------------------------------\n",
      "Histogram: Dd\n"
     ]
    },
    {
     "data": {
      "image/png": "[encoded data removed]",
      "text/plain": [
       "<Figure size 1200x400 with 1 Axes>"
      ]
     },
     "metadata": {},
     "output_type": "display_data"
    },
    {
     "name": "stdout",
     "output_type": "stream",
     "text": [
      "--------------------------------------------------\n",
      "Histogram: Week\n"
     ]
    },
    {
     "data": {
      "image/png": "[encoded data removed]",
      "text/plain": [
       "<Figure size 1200x400 with 1 Axes>"
      ]
     },
     "metadata": {},
     "output_type": "display_data"
    },
    {
     "name": "stdout",
     "output_type": "stream",
     "text": [
      "--------------------------------------------------\n",
      "Histogram: Period\n"
     ]
    },
    {
     "data": {
      "image/png": "[encoded data removed]",
      "text/plain": [
       "<Figure size 1200x400 with 1 Axes>"
      ]
     },
     "metadata": {},
     "output_type": "display_data"
    },
    {
     "name": "stdout",
     "output_type": "stream",
     "text": [
      "--------------------------------------------------\n",
      "Histogram: Condition\n"
     ]
    },
    {
     "data": {
      "image/png": "[encoded data removed]",
      "text/plain": [
       "<Figure size 1200x400 with 1 Axes>"
      ]
     },
     "metadata": {},
     "output_type": "display_data"
    },
    {
     "name": "stdout",
     "output_type": "stream",
     "text": [
      "--------------------------------------------------\n",
      "Histogram: Fish_No\n"
     ]
    },
    {
     "data": {
      "image/png": "[encoded data removed]",
      "text/plain": [
       "<Figure size 1200x400 with 1 Axes>"
      ]
     },
     "metadata": {},
     "output_type": "display_data"
    },
    {
     "name": "stdout",
     "output_type": "stream",
     "text": [
      "--------------------------------------------------\n",
      "Histogram: Fl_Wet\n"
     ]
    },
    {
     "data": {
      "image/png": "[encoded data removed]",
      "text/plain": [
       "<Figure size 1200x400 with 1 Axes>"
      ]
     },
     "metadata": {},
     "output_type": "display_data"
    },
    {
     "name": "stdout",
     "output_type": "stream",
     "text": [
      "--------------------------------------------------\n",
      "Histogram: Fl_Frozen\n"
     ]
    },
    {
     "data": {
      "image/png": "[encoded data removed]",
      "text/plain": [
       "<Figure size 1200x400 with 1 Axes>"
      ]
     },
     "metadata": {},
     "output_type": "display_data"
    },
    {
     "name": "stdout",
     "output_type": "stream",
     "text": [
      "--------------------------------------------------\n",
      "Histogram: Fl_Std\n"
     ]
    },
    {
     "data": {
      "image/png": "[encoded data removed]",
      "text/plain": [
       "<Figure size 1200x400 with 1 Axes>"
      ]
     },
     "metadata": {},
     "output_type": "display_data"
    },
    {
     "name": "stdout",
     "output_type": "stream",
     "text": [
      "--------------------------------------------------\n",
      "Histogram: Weight\n"
     ]
    },
    {
     "data": {
      "image/png": "[encoded data removed]",
      "text/plain": [
       "<Figure size 1200x400 with 1 Axes>"
      ]
     },
     "metadata": {},
     "output_type": "display_data"
    },
    {
     "name": "stdout",
     "output_type": "stream",
     "text": [
      "--------------------------------------------------\n",
      "Histogram: Species\n"
     ]
    },
    {
     "data": {
      "image/png": "[encoded data removed]",
      "text/plain": [
       "<Figure size 1200x400 with 1 Axes>"
      ]
     },
     "metadata": {},
     "output_type": "display_data"
    },
    {
     "name": "stdout",
     "output_type": "stream",
     "text": [
      "--------------------------------------------------\n",
      "Histogram: Sex\n"
     ]
    },
    {
     "data": {
      "image/png": "[encoded data removed]",
      "text/plain": [
       "<Figure size 1200x400 with 1 Axes>"
      ]
     },
     "metadata": {},
     "output_type": "display_data"
    },
    {
     "name": "stdout",
     "output_type": "stream",
     "text": [
      "--------------------------------------------------\n",
      "Histogram: Maturity\n"
     ]
    },
    {
     "data": {
      "image/png": "[encoded data removed]",
      "text/plain": [
       "<Figure size 1200x400 with 1 Axes>"
      ]
     },
     "metadata": {},
     "output_type": "display_data"
    },
    {
     "name": "stdout",
     "output_type": "stream",
     "text": [
      "--------------------------------------------------\n",
      "Histogram: Gonad_Weight\n"
     ]
    },
    {
     "data": {
      "image/png": "[encoded data removed]",
      "text/plain": [
       "<Figure size 1200x400 with 1 Axes>"
      ]
     },
     "metadata": {},
     "output_type": "display_data"
    },
    {
     "name": "stdout",
     "output_type": "stream",
     "text": [
      "--------------------------------------------------\n",
      "Histogram: 1St Person Aging\n"
     ]
    },
    {
     "data": {
      "image/png": "[encoded data removed]",
      "text/plain": [
       "<Figure size 1200x400 with 1 Axes>"
      ]
     },
     "metadata": {},
     "output_type": "display_data"
    },
    {
     "name": "stdout",
     "output_type": "stream",
     "text": [
      "--------------------------------------------------\n",
      "Histogram: Age\n"
     ]
    },
    {
     "data": {
      "image/png": "[encoded data removed]",
      "text/plain": [
       "<Figure size 1200x400 with 1 Axes>"
      ]
     },
     "metadata": {},
     "output_type": "display_data"
    },
    {
     "name": "stdout",
     "output_type": "stream",
     "text": [
      "--------------------------------------------------\n",
      "Histogram: Fsp\n"
     ]
    },
    {
     "data": {
      "image/png": "[encoded data removed]",
      "text/plain": [
       "<Figure size 1200x400 with 1 Axes>"
      ]
     },
     "metadata": {},
     "output_type": "display_data"
    },
    {
     "name": "stdout",
     "output_type": "stream",
     "text": [
      "--------------------------------------------------\n",
      "Histogram: 2Nd Person Aging\n"
     ]
    },
    {
     "data": {
      "image/png": "[encoded data removed]",
      "text/plain": [
       "<Figure size 1200x400 with 1 Axes>"
      ]
     },
     "metadata": {},
     "output_type": "display_data"
    },
    {
     "name": "stdout",
     "output_type": "stream",
     "text": [
      "--------------------------------------------------\n",
      "Histogram: Age.1\n"
     ]
    },
    {
     "data": {
      "image/png": "[encoded data removed]",
      "text/plain": [
       "<Figure size 1200x400 with 1 Axes>"
      ]
     },
     "metadata": {},
     "output_type": "display_data"
    },
    {
     "name": "stdout",
     "output_type": "stream",
     "text": [
      "--------------------------------------------------\n",
      "Histogram: Fsp.1\n"
     ]
    },
    {
     "data": {
      "image/png": "[encoded data removed]",
      "text/plain": [
       "<Figure size 1200x400 with 1 Axes>"
      ]
     },
     "metadata": {},
     "output_type": "display_data"
    }
   ],
   "source": [
    "columns_to_print = ['YEAR', 'MM', 'DD', 'WEEK', 'PERIOD', 'CONDITION', 'FISH_NO',\n",
    "       'FL_WET', 'FL_FROZEN', 'FL_STD', 'WEIGHT', 'SPECIES', 'SEX', 'MATURITY',\n",
    "       'GONAD_WEIGHT', '1st Person Aging', 'AGE', 'FSP', '2nd Person Aging', 'AGE.1', 'FSP.1']\n",
    "\n",
    "for column in columns_to_print:\n",
    "    print('--------------------------------------------------\\nHistogram:', column.title())\n",
    "    \n",
    "    plt.figure(figsize=(12, 4))\n",
    "    df_clean[column].hist()\n",
    "    plt.show()"
   ]
  },
  {
   "cell_type": "markdown",
   "id": "abc4cb57",
   "metadata": {},
   "source": [
    "### CLEANING TO DO:\n",
    "* AM PM ('PM ' 'AD')\n",
    "* Fresh Frozen ('FRESH' 'FROZEN')\n",
    "\n",
    "MAYBE:\n",
    "* These shouldn't affect anything if they are left as is\n",
    "* Species U (does this mean unknown?)\n",
    "    * or are A B and U the species? \n",
    "    * (U is very uncommon in these samples)\n",
    "* Sex U B (unknown? B?)"
   ]
  },
  {
   "cell_type": "code",
   "execution_count": 303,
   "id": "3ffcb90d",
   "metadata": {},
   "outputs": [
    {
     "data": {
      "text/plain": [
       "array([nan, 'AM', 'PM', 'PM ', 'AD'], dtype=object)"
      ]
     },
     "execution_count": 303,
     "metadata": {},
     "output_type": "execute_result"
    }
   ],
   "source": [
    "df_clean.PERIOD.unique()"
   ]
  },
  {
   "cell_type": "code",
   "execution_count": 305,
   "id": "1feee815",
   "metadata": {},
   "outputs": [
    {
     "data": {
      "text/plain": [
       "118"
      ]
     },
     "execution_count": 305,
     "metadata": {},
     "output_type": "execute_result"
    }
   ],
   "source": [
    "# 118 AD doesn't seem like a typo\n",
    "# confirm what 'AD' means\n",
    "sum(df_clean.PERIOD == 'AD')"
   ]
  },
  {
   "cell_type": "code",
   "execution_count": 306,
   "id": "8381e7a3",
   "metadata": {},
   "outputs": [
    {
     "data": {
      "text/plain": [
       "30"
      ]
     },
     "execution_count": 306,
     "metadata": {},
     "output_type": "execute_result"
    }
   ],
   "source": [
    "sum(df_clean.PERIOD == 'PM ')"
   ]
  },
  {
   "cell_type": "code",
   "execution_count": 313,
   "id": "f98703dd",
   "metadata": {},
   "outputs": [
    {
     "data": {
      "text/plain": [
       "5"
      ]
     },
     "execution_count": 313,
     "metadata": {},
     "output_type": "execute_result"
    }
   ],
   "source": [
    "groups = 0\n",
    "old_idx = 0\n",
    "for idx in df_clean[df_clean.PERIOD == 'AD'].index:\n",
    "    if idx != old_idx+1:\n",
    "        groups += 1\n",
    "    old_idx = idx\n",
    "        \n",
    "\n",
    "# could have been a typo made 5x and filled down in Excel\n",
    "groups"
   ]
  },
  {
   "cell_type": "code",
   "execution_count": 314,
   "id": "6a7cd8d6",
   "metadata": {},
   "outputs": [
    {
     "data": {
      "text/plain": [
       "1"
      ]
     },
     "execution_count": 314,
     "metadata": {},
     "output_type": "execute_result"
    }
   ],
   "source": [
    "# there is only one B\n",
    "sum(df_clean.SEX == 'B')"
   ]
  },
  {
   "cell_type": "code",
   "execution_count": 315,
   "id": "34acc693",
   "metadata": {},
   "outputs": [
    {
     "data": {
      "text/plain": [
       "54"
      ]
     },
     "execution_count": 315,
     "metadata": {},
     "output_type": "execute_result"
    }
   ],
   "source": [
    "sum(df_clean.SPECIES == 'U')"
   ]
  },
  {
   "cell_type": "markdown",
   "id": "703671c6",
   "metadata": {},
   "source": [
    "##### Cleaning categorical data"
   ]
  },
  {
   "cell_type": "code",
   "execution_count": 327,
   "id": "428b6c97",
   "metadata": {},
   "outputs": [],
   "source": [
    "df_clean.loc[df_clean.PERIOD == 'PM ', 'PERIOD'] = 'PM'\n",
    "df_clean.loc[df_clean.PERIOD == 'AD', 'PERIOD'] = 'AM'  # CONFIRM\n",
    "df_clean.loc[df_clean.CONDITION == 'FROZEN', 'CONDITION'] = 'Frozen'\n",
    "df_clean.loc[df_clean.CONDITION == 'FRESH', 'CONDITION'] = 'Fresh'"
   ]
  },
  {
   "cell_type": "code",
   "execution_count": 329,
   "id": "4f0076f7",
   "metadata": {},
   "outputs": [
    {
     "data": {
      "text/plain": [
       "(0, 0, 0, 0)"
      ]
     },
     "execution_count": 329,
     "metadata": {},
     "output_type": "execute_result"
    }
   ],
   "source": [
    "sum(df_clean.PERIOD == 'PM '), sum(df_clean.PERIOD == 'AD'), sum(df_clean.CONDITION == 'FROZEN'), sum(df_clean.CONDITION == 'FRESH')"
   ]
  },
  {
   "cell_type": "code",
   "execution_count": 334,
   "id": "619e91e5",
   "metadata": {},
   "outputs": [
    {
     "name": "stdout",
     "output_type": "stream",
     "text": [
      "--------------------------------------------------\n",
      "Histogram: Period\n"
     ]
    },
    {
     "data": {
      "image/png": "[encoded data removed]",
      "text/plain": [
       "<Figure size 600x400 with 1 Axes>"
      ]
     },
     "metadata": {},
     "output_type": "display_data"
    },
    {
     "name": "stdout",
     "output_type": "stream",
     "text": [
      "--------------------------------------------------\n",
      "Histogram: Condition\n"
     ]
    },
    {
     "data": {
      "image/png": "[encoded data removed]",
      "text/plain": [
       "<Figure size 600x400 with 1 Axes>"
      ]
     },
     "metadata": {},
     "output_type": "display_data"
    }
   ],
   "source": [
    "for column in ['PERIOD', 'CONDITION']:\n",
    "    print('--------------------------------------------------\\nHistogram:', column.title())\n",
    "    plt.figure(figsize=(6, 4))\n",
    "    df_clean[column].hist()\n",
    "    plt.show()"
   ]
  },
  {
   "cell_type": "markdown",
   "id": "c54bf6b7",
   "metadata": {},
   "source": [
    "### save clean data"
   ]
  },
  {
   "cell_type": "code",
   "execution_count": 337,
   "id": "5c6d553c",
   "metadata": {},
   "outputs": [],
   "source": [
    "if False:  # change this to save\n",
    "    df_clean.to_pickle('cleaned_dataset.pickle')"
   ]
  },
  {
   "cell_type": "code",
   "execution_count": null,
   "id": "f5c611a3",
   "metadata": {},
   "outputs": [],
   "source": []
  }
 ],
 "metadata": {
  "kernelspec": {
   "display_name": "Python 3 (ipykernel)",
   "language": "python",
   "name": "python3"
  },
  "language_info": {
   "codemirror_mode": {
    "name": "ipython",
    "version": 3
   },
   "file_extension": ".py",
   "mimetype": "text/x-python",
   "name": "python",
   "nbconvert_exporter": "python",
   "pygments_lexer": "ipython3",
   "version": "3.9.13"
  }
 },
 "nbformat": 4,
 "nbformat_minor": 5
}
