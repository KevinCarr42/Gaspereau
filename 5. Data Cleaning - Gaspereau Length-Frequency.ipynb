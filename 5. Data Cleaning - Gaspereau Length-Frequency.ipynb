{
 "cells": [
  {
   "cell_type": "code",
   "execution_count": 1,
   "id": "1d196342",
   "metadata": {},
   "outputs": [
    {
     "data": {
      "text/html": [],
      "text/plain": [
       "<IPython.core.display.HTML object>"
      ]
     },
     "metadata": {},
     "output_type": "display_data"
    }
   ],
   "source": [
    "import numpy as np\n",
    "import pandas as pd\n",
    "import matplotlib.pyplot as plt\n",
    "import matplotlib as mpl\n",
    "import seaborn as sns\n",
    "\n",
    "sns.set_theme()\n",
    "\n",
    "# jupyter notebook full-width display\n",
    "from IPython.core.display import display, HTML\n",
    "display(HTML(\"\"))\n",
    "\n",
    "# pandas formatting\n",
    "pd.set_option('display.float_format', '{:.3f}'.format)\n",
    "pd.set_option('display.max_columns', None)\n",
    "pd.set_option('display.max_rows', 200)"
   ]
  },
  {
   "cell_type": "code",
   "execution_count": 2,
   "id": "5eab508f",
   "metadata": {},
   "outputs": [],
   "source": [
    "df_LF = pd.read_csv(r'.\\provided data\\Margaree Gaspereau lgth-freq_Master.csv')"
   ]
  },
  {
   "cell_type": "code",
   "execution_count": 3,
   "id": "50d63e1f",
   "metadata": {},
   "outputs": [
    {
     "data": {
      "text/plain": [
       "yy          int64\n",
       "mm          int64\n",
       "dd          int64\n",
       "Time      float64\n",
       "river      object\n",
       "week        int64\n",
       "site       object\n",
       "loc        object\n",
       "period     object\n",
       "wt_lbs    float64\n",
       "wt_kg     float64\n",
       "lgth        int64\n",
       "freq        int64\n",
       "Flbin       int64\n",
       "dtype: object"
      ]
     },
     "execution_count": 3,
     "metadata": {},
     "output_type": "execute_result"
    }
   ],
   "source": [
    "df_LF.dtypes"
   ]
  },
  {
   "cell_type": "code",
   "execution_count": 4,
   "id": "a4424326",
   "metadata": {},
   "outputs": [
    {
     "data": {
      "text/html": [
       "<div>\n",
       "<style scoped>\n",
       "    .dataframe tbody tr th:only-of-type {\n",
       "        vertical-align: middle;\n",
       "    }\n",
       "\n",
       "    .dataframe tbody tr th {\n",
       "        vertical-align: top;\n",
       "    }\n",
       "\n",
       "    .dataframe thead th {\n",
       "        text-align: right;\n",
       "    }\n",
       "</style>\n",
       "<table border=\"1\" class=\"dataframe\">\n",
       "  <thead>\n",
       "    <tr style=\"text-align: right;\">\n",
       "      <th></th>\n",
       "      <th>count</th>\n",
       "      <th>unique</th>\n",
       "      <th>top</th>\n",
       "      <th>freq</th>\n",
       "      <th>mean</th>\n",
       "      <th>std</th>\n",
       "      <th>min</th>\n",
       "      <th>25%</th>\n",
       "      <th>50%</th>\n",
       "      <th>75%</th>\n",
       "      <th>max</th>\n",
       "    </tr>\n",
       "  </thead>\n",
       "  <tbody>\n",
       "    <tr>\n",
       "      <th>yy</th>\n",
       "      <td>11440.000</td>\n",
       "      <td>NaN</td>\n",
       "      <td>NaN</td>\n",
       "      <td>NaN</td>\n",
       "      <td>2003.929</td>\n",
       "      <td>9.465</td>\n",
       "      <td>1990.000</td>\n",
       "      <td>1995.000</td>\n",
       "      <td>2003.000</td>\n",
       "      <td>2013.000</td>\n",
       "      <td>2019.000</td>\n",
       "    </tr>\n",
       "    <tr>\n",
       "      <th>mm</th>\n",
       "      <td>11440.000</td>\n",
       "      <td>NaN</td>\n",
       "      <td>NaN</td>\n",
       "      <td>NaN</td>\n",
       "      <td>5.427</td>\n",
       "      <td>0.495</td>\n",
       "      <td>5.000</td>\n",
       "      <td>5.000</td>\n",
       "      <td>5.000</td>\n",
       "      <td>6.000</td>\n",
       "      <td>6.000</td>\n",
       "    </tr>\n",
       "    <tr>\n",
       "      <th>dd</th>\n",
       "      <td>11440.000</td>\n",
       "      <td>NaN</td>\n",
       "      <td>NaN</td>\n",
       "      <td>NaN</td>\n",
       "      <td>16.410</td>\n",
       "      <td>8.882</td>\n",
       "      <td>1.000</td>\n",
       "      <td>9.000</td>\n",
       "      <td>17.000</td>\n",
       "      <td>24.000</td>\n",
       "      <td>31.000</td>\n",
       "    </tr>\n",
       "    <tr>\n",
       "      <th>Time</th>\n",
       "      <td>1457.000</td>\n",
       "      <td>NaN</td>\n",
       "      <td>NaN</td>\n",
       "      <td>NaN</td>\n",
       "      <td>1030.411</td>\n",
       "      <td>531.799</td>\n",
       "      <td>3.000</td>\n",
       "      <td>900.000</td>\n",
       "      <td>1115.000</td>\n",
       "      <td>1425.000</td>\n",
       "      <td>1850.000</td>\n",
       "    </tr>\n",
       "    <tr>\n",
       "      <th>river</th>\n",
       "      <td>10222</td>\n",
       "      <td>3</td>\n",
       "      <td>SW MARGAREE</td>\n",
       "      <td>6240</td>\n",
       "      <td>NaN</td>\n",
       "      <td>NaN</td>\n",
       "      <td>NaN</td>\n",
       "      <td>NaN</td>\n",
       "      <td>NaN</td>\n",
       "      <td>NaN</td>\n",
       "      <td>NaN</td>\n",
       "    </tr>\n",
       "    <tr>\n",
       "      <th>week</th>\n",
       "      <td>11440.000</td>\n",
       "      <td>NaN</td>\n",
       "      <td>NaN</td>\n",
       "      <td>NaN</td>\n",
       "      <td>4.908</td>\n",
       "      <td>1.909</td>\n",
       "      <td>1.000</td>\n",
       "      <td>4.000</td>\n",
       "      <td>5.000</td>\n",
       "      <td>6.000</td>\n",
       "      <td>9.000</td>\n",
       "    </tr>\n",
       "    <tr>\n",
       "      <th>site</th>\n",
       "      <td>11371</td>\n",
       "      <td>91</td>\n",
       "      <td>26</td>\n",
       "      <td>2402</td>\n",
       "      <td>NaN</td>\n",
       "      <td>NaN</td>\n",
       "      <td>NaN</td>\n",
       "      <td>NaN</td>\n",
       "      <td>NaN</td>\n",
       "      <td>NaN</td>\n",
       "      <td>NaN</td>\n",
       "    </tr>\n",
       "    <tr>\n",
       "      <th>loc</th>\n",
       "      <td>11358</td>\n",
       "      <td>4</td>\n",
       "      <td>LOWER</td>\n",
       "      <td>6406</td>\n",
       "      <td>NaN</td>\n",
       "      <td>NaN</td>\n",
       "      <td>NaN</td>\n",
       "      <td>NaN</td>\n",
       "      <td>NaN</td>\n",
       "      <td>NaN</td>\n",
       "      <td>NaN</td>\n",
       "    </tr>\n",
       "    <tr>\n",
       "      <th>period</th>\n",
       "      <td>11440</td>\n",
       "      <td>3</td>\n",
       "      <td>AM</td>\n",
       "      <td>6143</td>\n",
       "      <td>NaN</td>\n",
       "      <td>NaN</td>\n",
       "      <td>NaN</td>\n",
       "      <td>NaN</td>\n",
       "      <td>NaN</td>\n",
       "      <td>NaN</td>\n",
       "      <td>NaN</td>\n",
       "    </tr>\n",
       "    <tr>\n",
       "      <th>wt_lbs</th>\n",
       "      <td>10222.000</td>\n",
       "      <td>NaN</td>\n",
       "      <td>NaN</td>\n",
       "      <td>NaN</td>\n",
       "      <td>102.868</td>\n",
       "      <td>34.969</td>\n",
       "      <td>1.000</td>\n",
       "      <td>81.700</td>\n",
       "      <td>100.000</td>\n",
       "      <td>127.000</td>\n",
       "      <td>204.000</td>\n",
       "    </tr>\n",
       "    <tr>\n",
       "      <th>wt_kg</th>\n",
       "      <td>10222.000</td>\n",
       "      <td>NaN</td>\n",
       "      <td>NaN</td>\n",
       "      <td>NaN</td>\n",
       "      <td>46.659</td>\n",
       "      <td>15.862</td>\n",
       "      <td>0.500</td>\n",
       "      <td>37.100</td>\n",
       "      <td>45.400</td>\n",
       "      <td>57.600</td>\n",
       "      <td>92.500</td>\n",
       "    </tr>\n",
       "    <tr>\n",
       "      <th>lgth</th>\n",
       "      <td>11440.000</td>\n",
       "      <td>NaN</td>\n",
       "      <td>NaN</td>\n",
       "      <td>NaN</td>\n",
       "      <td>251.674</td>\n",
       "      <td>21.823</td>\n",
       "      <td>145.000</td>\n",
       "      <td>235.000</td>\n",
       "      <td>250.000</td>\n",
       "      <td>265.000</td>\n",
       "      <td>322.000</td>\n",
       "    </tr>\n",
       "    <tr>\n",
       "      <th>freq</th>\n",
       "      <td>11440.000</td>\n",
       "      <td>NaN</td>\n",
       "      <td>NaN</td>\n",
       "      <td>NaN</td>\n",
       "      <td>17.947</td>\n",
       "      <td>18.000</td>\n",
       "      <td>0.000</td>\n",
       "      <td>3.000</td>\n",
       "      <td>11.000</td>\n",
       "      <td>29.000</td>\n",
       "      <td>117.000</td>\n",
       "    </tr>\n",
       "    <tr>\n",
       "      <th>Flbin</th>\n",
       "      <td>11440.000</td>\n",
       "      <td>NaN</td>\n",
       "      <td>NaN</td>\n",
       "      <td>NaN</td>\n",
       "      <td>251.487</td>\n",
       "      <td>21.670</td>\n",
       "      <td>145.000</td>\n",
       "      <td>235.000</td>\n",
       "      <td>250.000</td>\n",
       "      <td>265.000</td>\n",
       "      <td>320.000</td>\n",
       "    </tr>\n",
       "  </tbody>\n",
       "</table>\n",
       "</div>"
      ],
      "text/plain": [
       "           count unique          top  freq     mean     std      min      25%  \\\n",
       "yy     11440.000    NaN          NaN   NaN 2003.929   9.465 1990.000 1995.000   \n",
       "mm     11440.000    NaN          NaN   NaN    5.427   0.495    5.000    5.000   \n",
       "dd     11440.000    NaN          NaN   NaN   16.410   8.882    1.000    9.000   \n",
       "Time    1457.000    NaN          NaN   NaN 1030.411 531.799    3.000  900.000   \n",
       "river      10222      3  SW MARGAREE  6240      NaN     NaN      NaN      NaN   \n",
       "week   11440.000    NaN          NaN   NaN    4.908   1.909    1.000    4.000   \n",
       "site       11371     91           26  2402      NaN     NaN      NaN      NaN   \n",
       "loc        11358      4        LOWER  6406      NaN     NaN      NaN      NaN   \n",
       "period     11440      3           AM  6143      NaN     NaN      NaN      NaN   \n",
       "wt_lbs 10222.000    NaN          NaN   NaN  102.868  34.969    1.000   81.700   \n",
       "wt_kg  10222.000    NaN          NaN   NaN   46.659  15.862    0.500   37.100   \n",
       "lgth   11440.000    NaN          NaN   NaN  251.674  21.823  145.000  235.000   \n",
       "freq   11440.000    NaN          NaN   NaN   17.947  18.000    0.000    3.000   \n",
       "Flbin  11440.000    NaN          NaN   NaN  251.487  21.670  145.000  235.000   \n",
       "\n",
       "            50%      75%      max  \n",
       "yy     2003.000 2013.000 2019.000  \n",
       "mm        5.000    6.000    6.000  \n",
       "dd       17.000   24.000   31.000  \n",
       "Time   1115.000 1425.000 1850.000  \n",
       "river       NaN      NaN      NaN  \n",
       "week      5.000    6.000    9.000  \n",
       "site        NaN      NaN      NaN  \n",
       "loc         NaN      NaN      NaN  \n",
       "period      NaN      NaN      NaN  \n",
       "wt_lbs  100.000  127.000  204.000  \n",
       "wt_kg    45.400   57.600   92.500  \n",
       "lgth    250.000  265.000  322.000  \n",
       "freq     11.000   29.000  117.000  \n",
       "Flbin   250.000  265.000  320.000  "
      ]
     },
     "execution_count": 4,
     "metadata": {},
     "output_type": "execute_result"
    }
   ],
   "source": [
    "df_LF.describe(include='all').T"
   ]
  },
  {
   "cell_type": "markdown",
   "id": "082b61ac",
   "metadata": {},
   "source": [
    "# Datetime"
   ]
  },
  {
   "cell_type": "code",
   "execution_count": 5,
   "id": "887b835f",
   "metadata": {},
   "outputs": [
    {
     "data": {
      "text/plain": [
       "array([  nan,    3.,    4.,    5., 1305., 1530., 1025., 1550., 1255.,\n",
       "       1405., 1455., 1310., 1220., 1115., 1640., 1355., 1320., 1400.,\n",
       "       1225., 1035., 1010., 1545., 1425., 1100., 1450., 1540., 1430.,\n",
       "       1030., 1345., 1630., 1050.,  850.,  925., 1445.,  940.,  900.,\n",
       "        840., 1500.,  905., 1713.,  835.,  845., 1000., 1145., 1015.,\n",
       "       1625., 1745., 1315., 1655., 1020., 1210., 1755., 1215., 1110.,\n",
       "       1605., 1130., 1235., 1300., 1200., 1850., 1700.])"
      ]
     },
     "execution_count": 5,
     "metadata": {},
     "output_type": "execute_result"
    }
   ],
   "source": [
    "df_LF.Time.unique()"
   ]
  },
  {
   "cell_type": "code",
   "execution_count": 14,
   "id": "96b6341e",
   "metadata": {},
   "outputs": [],
   "source": [
    "# convert all times to same format, set missing times to 0000 (date only), then to datetime format\n",
    "df_LF['CleanTime'] = df_LF['Time']\n",
    "df_LF.loc[df_LF['CleanTime'] < 10, 'CleanTime'] = df_LF.loc[df_LF['CleanTime'] < 10, 'CleanTime'] * 100\n",
    "df_LF['CleanTime'] = pd.to_datetime(df_LF.CleanTime, format='%H%M')\n",
    "\n",
    "# all null times should be 0000 (which pandas reads as no time data)\n",
    "# NOTE: incorporate AM/PM column?\n",
    "df_LF.loc[df_LF['CleanTime'].isnull(), 'CleanTime'] = pd.to_datetime(0)  \n",
    "\n",
    "df_LF['DATETIME'] = pd.to_datetime(dict(\n",
    "    year=df_LF['yy'], \n",
    "    month=df_LF['mm'], \n",
    "    day=df_LF['dd'], \n",
    "    hour=df_LF['CleanTime'].dt.hour, \n",
    "    minute=df_LF['CleanTime'].dt.minute\n",
    "), errors='coerce')\n",
    "\n",
    "df_LF = df_LF.drop('CleanTime', axis=1)"
   ]
  },
  {
   "cell_type": "code",
   "execution_count": 15,
   "id": "3162e4e0",
   "metadata": {},
   "outputs": [
    {
     "data": {
      "text/plain": [
       "0.0"
      ]
     },
     "execution_count": 15,
     "metadata": {},
     "output_type": "execute_result"
    }
   ],
   "source": [
    "# percentage of null dates\n",
    "sum(df_LF.DATETIME.isnull())/df_LF.shape[0]"
   ]
  },
  {
   "cell_type": "code",
   "execution_count": 16,
   "id": "bec8a2ae",
   "metadata": {},
   "outputs": [],
   "source": [
    "# check to make sure hours are good\n",
    "check_datetimes = pd.concat([\n",
    "    df_LF['Time'], \n",
    "    df_LF['DATETIME'].dt.hour,\n",
    "    df_LF['DATETIME'].dt.minute\n",
    "], axis=1)[~df_LF['Time'].isnull()]\n",
    "\n",
    "check_datetimes.columns = ['Time', 'Hour', 'Minute']"
   ]
  },
  {
   "cell_type": "code",
   "execution_count": 22,
   "id": "76eb560b",
   "metadata": {},
   "outputs": [
    {
     "data": {
      "text/html": [
       "<div>\n",
       "<style scoped>\n",
       "    .dataframe tbody tr th:only-of-type {\n",
       "        vertical-align: middle;\n",
       "    }\n",
       "\n",
       "    .dataframe tbody tr th {\n",
       "        vertical-align: top;\n",
       "    }\n",
       "\n",
       "    .dataframe thead th {\n",
       "        text-align: right;\n",
       "    }\n",
       "</style>\n",
       "<table border=\"1\" class=\"dataframe\">\n",
       "  <thead>\n",
       "    <tr style=\"text-align: right;\">\n",
       "      <th></th>\n",
       "      <th>Time</th>\n",
       "      <th>Hour</th>\n",
       "      <th>Minute</th>\n",
       "    </tr>\n",
       "  </thead>\n",
       "  <tbody>\n",
       "    <tr>\n",
       "      <th>6362</th>\n",
       "      <td>1455.000</td>\n",
       "      <td>14</td>\n",
       "      <td>55</td>\n",
       "    </tr>\n",
       "    <tr>\n",
       "      <th>7004</th>\n",
       "      <td>835.000</td>\n",
       "      <td>8</td>\n",
       "      <td>35</td>\n",
       "    </tr>\n",
       "    <tr>\n",
       "      <th>1009</th>\n",
       "      <td>3.000</td>\n",
       "      <td>3</td>\n",
       "      <td>0</td>\n",
       "    </tr>\n",
       "    <tr>\n",
       "      <th>6961</th>\n",
       "      <td>850.000</td>\n",
       "      <td>8</td>\n",
       "      <td>50</td>\n",
       "    </tr>\n",
       "    <tr>\n",
       "      <th>7392</th>\n",
       "      <td>1130.000</td>\n",
       "      <td>11</td>\n",
       "      <td>30</td>\n",
       "    </tr>\n",
       "    <tr>\n",
       "      <th>6296</th>\n",
       "      <td>1305.000</td>\n",
       "      <td>13</td>\n",
       "      <td>5</td>\n",
       "    </tr>\n",
       "    <tr>\n",
       "      <th>6855</th>\n",
       "      <td>840.000</td>\n",
       "      <td>8</td>\n",
       "      <td>40</td>\n",
       "    </tr>\n",
       "    <tr>\n",
       "      <th>6405</th>\n",
       "      <td>1220.000</td>\n",
       "      <td>12</td>\n",
       "      <td>20</td>\n",
       "    </tr>\n",
       "    <tr>\n",
       "      <th>1111</th>\n",
       "      <td>5.000</td>\n",
       "      <td>5</td>\n",
       "      <td>0</td>\n",
       "    </tr>\n",
       "    <tr>\n",
       "      <th>6483</th>\n",
       "      <td>1400.000</td>\n",
       "      <td>14</td>\n",
       "      <td>0</td>\n",
       "    </tr>\n",
       "  </tbody>\n",
       "</table>\n",
       "</div>"
      ],
      "text/plain": [
       "         Time  Hour  Minute\n",
       "6362 1455.000    14      55\n",
       "7004  835.000     8      35\n",
       "1009    3.000     3       0\n",
       "6961  850.000     8      50\n",
       "7392 1130.000    11      30\n",
       "6296 1305.000    13       5\n",
       "6855  840.000     8      40\n",
       "6405 1220.000    12      20\n",
       "1111    5.000     5       0\n",
       "6483 1400.000    14       0"
      ]
     },
     "execution_count": 22,
     "metadata": {},
     "output_type": "execute_result"
    }
   ],
   "source": [
    "check_datetimes.sample(10)"
   ]
  },
  {
   "cell_type": "code",
   "execution_count": 23,
   "id": "80083f4b",
   "metadata": {},
   "outputs": [
    {
     "data": {
      "text/html": [
       "<div>\n",
       "<style scoped>\n",
       "    .dataframe tbody tr th:only-of-type {\n",
       "        vertical-align: middle;\n",
       "    }\n",
       "\n",
       "    .dataframe tbody tr th {\n",
       "        vertical-align: top;\n",
       "    }\n",
       "\n",
       "    .dataframe thead th {\n",
       "        text-align: right;\n",
       "    }\n",
       "</style>\n",
       "<table border=\"1\" class=\"dataframe\">\n",
       "  <thead>\n",
       "    <tr style=\"text-align: right;\">\n",
       "      <th></th>\n",
       "      <th>Time</th>\n",
       "      <th>Hour</th>\n",
       "      <th>Minute</th>\n",
       "    </tr>\n",
       "  </thead>\n",
       "  <tbody>\n",
       "    <tr>\n",
       "      <th>count</th>\n",
       "      <td>257.000</td>\n",
       "      <td>257.000</td>\n",
       "      <td>257.000</td>\n",
       "    </tr>\n",
       "    <tr>\n",
       "      <th>mean</th>\n",
       "      <td>4.156</td>\n",
       "      <td>4.156</td>\n",
       "      <td>0.000</td>\n",
       "    </tr>\n",
       "    <tr>\n",
       "      <th>std</th>\n",
       "      <td>0.829</td>\n",
       "      <td>0.829</td>\n",
       "      <td>0.000</td>\n",
       "    </tr>\n",
       "    <tr>\n",
       "      <th>min</th>\n",
       "      <td>3.000</td>\n",
       "      <td>3.000</td>\n",
       "      <td>0.000</td>\n",
       "    </tr>\n",
       "    <tr>\n",
       "      <th>25%</th>\n",
       "      <td>3.000</td>\n",
       "      <td>3.000</td>\n",
       "      <td>0.000</td>\n",
       "    </tr>\n",
       "    <tr>\n",
       "      <th>50%</th>\n",
       "      <td>4.000</td>\n",
       "      <td>4.000</td>\n",
       "      <td>0.000</td>\n",
       "    </tr>\n",
       "    <tr>\n",
       "      <th>75%</th>\n",
       "      <td>5.000</td>\n",
       "      <td>5.000</td>\n",
       "      <td>0.000</td>\n",
       "    </tr>\n",
       "    <tr>\n",
       "      <th>max</th>\n",
       "      <td>5.000</td>\n",
       "      <td>5.000</td>\n",
       "      <td>0.000</td>\n",
       "    </tr>\n",
       "  </tbody>\n",
       "</table>\n",
       "</div>"
      ],
      "text/plain": [
       "         Time    Hour  Minute\n",
       "count 257.000 257.000 257.000\n",
       "mean    4.156   4.156   0.000\n",
       "std     0.829   0.829   0.000\n",
       "min     3.000   3.000   0.000\n",
       "25%     3.000   3.000   0.000\n",
       "50%     4.000   4.000   0.000\n",
       "75%     5.000   5.000   0.000\n",
       "max     5.000   5.000   0.000"
      ]
     },
     "execution_count": 23,
     "metadata": {},
     "output_type": "execute_result"
    }
   ],
   "source": [
    "# the only non-matching are the fixed 3, 4, and 5 hours (not formatted consistently)\n",
    "check_datetimes[check_datetimes.Time != check_datetimes.Hour * 100 + check_datetimes.Minute].describe()"
   ]
  },
  {
   "cell_type": "code",
   "execution_count": 24,
   "id": "07671f61",
   "metadata": {},
   "outputs": [
    {
     "data": {
      "text/html": [
       "<div>\n",
       "<style scoped>\n",
       "    .dataframe tbody tr th:only-of-type {\n",
       "        vertical-align: middle;\n",
       "    }\n",
       "\n",
       "    .dataframe tbody tr th {\n",
       "        vertical-align: top;\n",
       "    }\n",
       "\n",
       "    .dataframe thead th {\n",
       "        text-align: right;\n",
       "    }\n",
       "</style>\n",
       "<table border=\"1\" class=\"dataframe\">\n",
       "  <thead>\n",
       "    <tr style=\"text-align: right;\">\n",
       "      <th></th>\n",
       "      <th>yy</th>\n",
       "      <th>mm</th>\n",
       "      <th>dd</th>\n",
       "      <th>Time</th>\n",
       "      <th>river</th>\n",
       "      <th>week</th>\n",
       "      <th>site</th>\n",
       "      <th>loc</th>\n",
       "      <th>period</th>\n",
       "      <th>wt_lbs</th>\n",
       "      <th>wt_kg</th>\n",
       "      <th>lgth</th>\n",
       "      <th>freq</th>\n",
       "      <th>Flbin</th>\n",
       "      <th>DATETIME</th>\n",
       "    </tr>\n",
       "  </thead>\n",
       "  <tbody>\n",
       "  </tbody>\n",
       "</table>\n",
       "</div>"
      ],
      "text/plain": [
       "Empty DataFrame\n",
       "Columns: [yy, mm, dd, Time, river, week, site, loc, period, wt_lbs, wt_kg, lgth, freq, Flbin, DATETIME]\n",
       "Index: []"
      ]
     },
     "execution_count": 24,
     "metadata": {},
     "output_type": "execute_result"
    }
   ],
   "source": [
    "# not null Time, but null DATETIME (coerced errors) = 0\n",
    "df_LF[(~df_LF.Time.isnull()) & (df_LF.DATETIME.isnull())]"
   ]
  },
  {
   "cell_type": "code",
   "execution_count": 25,
   "id": "f34b77d6",
   "metadata": {},
   "outputs": [
    {
     "data": {
      "text/plain": [
       "(0, 15)"
      ]
     },
     "execution_count": 25,
     "metadata": {},
     "output_type": "execute_result"
    }
   ],
   "source": [
    "# not null yy/mm/dd, but null DATETIME (coerced errors) = 0\n",
    "df_LF[(~df_LF.yy.isnull()) & (df_LF.DATETIME.isnull())].shape"
   ]
  },
  {
   "cell_type": "code",
   "execution_count": 26,
   "id": "7c666f9e",
   "metadata": {},
   "outputs": [
    {
     "data": {
      "text/plain": [
       "(0, 0, 0)"
      ]
     },
     "execution_count": 26,
     "metadata": {},
     "output_type": "execute_result"
    }
   ],
   "source": [
    "# all dates are spoken for, times are not always available\n",
    "df_LF[df_LF.yy.isnull()].shape[0], df_LF[df_LF.mm.isnull()].shape[0], df_LF[df_LF.dd.isnull()].shape[0]"
   ]
  },
  {
   "cell_type": "code",
   "execution_count": 28,
   "id": "b08ef4f8",
   "metadata": {},
   "outputs": [
    {
     "data": {
      "text/html": [
       "<div>\n",
       "<style scoped>\n",
       "    .dataframe tbody tr th:only-of-type {\n",
       "        vertical-align: middle;\n",
       "    }\n",
       "\n",
       "    .dataframe tbody tr th {\n",
       "        vertical-align: top;\n",
       "    }\n",
       "\n",
       "    .dataframe thead th {\n",
       "        text-align: right;\n",
       "    }\n",
       "</style>\n",
       "<table border=\"1\" class=\"dataframe\">\n",
       "  <thead>\n",
       "    <tr style=\"text-align: right;\">\n",
       "      <th></th>\n",
       "      <th>yy</th>\n",
       "      <th>mm</th>\n",
       "      <th>dd</th>\n",
       "      <th>Time</th>\n",
       "      <th>week</th>\n",
       "      <th>wt_lbs</th>\n",
       "      <th>wt_kg</th>\n",
       "      <th>lgth</th>\n",
       "      <th>freq</th>\n",
       "      <th>Flbin</th>\n",
       "      <th>DATETIME</th>\n",
       "    </tr>\n",
       "  </thead>\n",
       "  <tbody>\n",
       "    <tr>\n",
       "      <th>count</th>\n",
       "      <td>11440.000</td>\n",
       "      <td>11440.000</td>\n",
       "      <td>11440.000</td>\n",
       "      <td>1457.000</td>\n",
       "      <td>11440.000</td>\n",
       "      <td>10222.000</td>\n",
       "      <td>10222.000</td>\n",
       "      <td>11440.000</td>\n",
       "      <td>11440.000</td>\n",
       "      <td>11440.000</td>\n",
       "      <td>11440</td>\n",
       "    </tr>\n",
       "    <tr>\n",
       "      <th>mean</th>\n",
       "      <td>2003.929</td>\n",
       "      <td>5.427</td>\n",
       "      <td>16.410</td>\n",
       "      <td>1030.411</td>\n",
       "      <td>4.908</td>\n",
       "      <td>102.868</td>\n",
       "      <td>46.659</td>\n",
       "      <td>251.674</td>\n",
       "      <td>17.947</td>\n",
       "      <td>251.487</td>\n",
       "      <td>2004-05-03 11:22:33.991258752</td>\n",
       "    </tr>\n",
       "    <tr>\n",
       "      <th>min</th>\n",
       "      <td>1990.000</td>\n",
       "      <td>5.000</td>\n",
       "      <td>1.000</td>\n",
       "      <td>3.000</td>\n",
       "      <td>1.000</td>\n",
       "      <td>1.000</td>\n",
       "      <td>0.500</td>\n",
       "      <td>145.000</td>\n",
       "      <td>0.000</td>\n",
       "      <td>145.000</td>\n",
       "      <td>1990-05-07 00:00:00</td>\n",
       "    </tr>\n",
       "    <tr>\n",
       "      <th>25%</th>\n",
       "      <td>1995.000</td>\n",
       "      <td>5.000</td>\n",
       "      <td>9.000</td>\n",
       "      <td>900.000</td>\n",
       "      <td>4.000</td>\n",
       "      <td>81.700</td>\n",
       "      <td>37.100</td>\n",
       "      <td>235.000</td>\n",
       "      <td>3.000</td>\n",
       "      <td>235.000</td>\n",
       "      <td>1995-05-29 00:00:00</td>\n",
       "    </tr>\n",
       "    <tr>\n",
       "      <th>50%</th>\n",
       "      <td>2003.000</td>\n",
       "      <td>5.000</td>\n",
       "      <td>17.000</td>\n",
       "      <td>1115.000</td>\n",
       "      <td>5.000</td>\n",
       "      <td>100.000</td>\n",
       "      <td>45.400</td>\n",
       "      <td>250.000</td>\n",
       "      <td>11.000</td>\n",
       "      <td>250.000</td>\n",
       "      <td>2003-05-21 00:00:00</td>\n",
       "    </tr>\n",
       "    <tr>\n",
       "      <th>75%</th>\n",
       "      <td>2013.000</td>\n",
       "      <td>6.000</td>\n",
       "      <td>24.000</td>\n",
       "      <td>1425.000</td>\n",
       "      <td>6.000</td>\n",
       "      <td>127.000</td>\n",
       "      <td>57.600</td>\n",
       "      <td>265.000</td>\n",
       "      <td>29.000</td>\n",
       "      <td>265.000</td>\n",
       "      <td>2013-05-21 00:00:00</td>\n",
       "    </tr>\n",
       "    <tr>\n",
       "      <th>max</th>\n",
       "      <td>2019.000</td>\n",
       "      <td>6.000</td>\n",
       "      <td>31.000</td>\n",
       "      <td>1850.000</td>\n",
       "      <td>9.000</td>\n",
       "      <td>204.000</td>\n",
       "      <td>92.500</td>\n",
       "      <td>322.000</td>\n",
       "      <td>117.000</td>\n",
       "      <td>320.000</td>\n",
       "      <td>2019-06-28 00:00:00</td>\n",
       "    </tr>\n",
       "    <tr>\n",
       "      <th>std</th>\n",
       "      <td>9.465</td>\n",
       "      <td>0.495</td>\n",
       "      <td>8.882</td>\n",
       "      <td>531.799</td>\n",
       "      <td>1.909</td>\n",
       "      <td>34.969</td>\n",
       "      <td>15.862</td>\n",
       "      <td>21.823</td>\n",
       "      <td>18.000</td>\n",
       "      <td>21.670</td>\n",
       "      <td>NaN</td>\n",
       "    </tr>\n",
       "  </tbody>\n",
       "</table>\n",
       "</div>"
      ],
      "text/plain": [
       "             yy        mm        dd     Time      week    wt_lbs     wt_kg  \\\n",
       "count 11440.000 11440.000 11440.000 1457.000 11440.000 10222.000 10222.000   \n",
       "mean   2003.929     5.427    16.410 1030.411     4.908   102.868    46.659   \n",
       "min    1990.000     5.000     1.000    3.000     1.000     1.000     0.500   \n",
       "25%    1995.000     5.000     9.000  900.000     4.000    81.700    37.100   \n",
       "50%    2003.000     5.000    17.000 1115.000     5.000   100.000    45.400   \n",
       "75%    2013.000     6.000    24.000 1425.000     6.000   127.000    57.600   \n",
       "max    2019.000     6.000    31.000 1850.000     9.000   204.000    92.500   \n",
       "std       9.465     0.495     8.882  531.799     1.909    34.969    15.862   \n",
       "\n",
       "           lgth      freq     Flbin                       DATETIME  \n",
       "count 11440.000 11440.000 11440.000                          11440  \n",
       "mean    251.674    17.947   251.487  2004-05-03 11:22:33.991258752  \n",
       "min     145.000     0.000   145.000            1990-05-07 00:00:00  \n",
       "25%     235.000     3.000   235.000            1995-05-29 00:00:00  \n",
       "50%     250.000    11.000   250.000            2003-05-21 00:00:00  \n",
       "75%     265.000    29.000   265.000            2013-05-21 00:00:00  \n",
       "max     322.000   117.000   320.000            2019-06-28 00:00:00  \n",
       "std      21.823    18.000    21.670                            NaN  "
      ]
     },
     "execution_count": 28,
     "metadata": {},
     "output_type": "execute_result"
    }
   ],
   "source": [
    "df_LF.describe(datetime_is_numeric=True)"
   ]
  },
  {
   "cell_type": "code",
   "execution_count": 55,
   "id": "a79b145c",
   "metadata": {},
   "outputs": [
    {
     "data": {
      "text/plain": [
       "462     1990-05-24 00:00:00\n",
       "6405    2009-05-26 12:20:00\n",
       "780     1990-06-03 00:00:00\n",
       "4111    2000-06-01 00:00:00\n",
       "4965    2002-05-29 00:00:00\n",
       "11363   2019-06-25 00:00:00\n",
       "1788    1993-05-29 00:00:00\n",
       "4236    2000-06-10 00:00:00\n",
       "5426    2003-06-21 00:00:00\n",
       "8503    2014-05-28 00:00:00\n",
       "Name: DATETIME, dtype: datetime64[ns]"
      ]
     },
     "execution_count": 55,
     "metadata": {},
     "output_type": "execute_result"
    }
   ],
   "source": [
    "# Datetime looks good\n",
    "df_LF.DATETIME.sample(10)"
   ]
  },
  {
   "cell_type": "markdown",
   "id": "7f15e4b3",
   "metadata": {},
   "source": [
    "# River"
   ]
  },
  {
   "cell_type": "code",
   "execution_count": 57,
   "id": "e91ae91b",
   "metadata": {},
   "outputs": [
    {
     "data": {
      "text/plain": [
       "array([nan, 'MARGAREE', 'SW Margaree', 'SW MARGAREE'], dtype=object)"
      ]
     },
     "execution_count": 57,
     "metadata": {},
     "output_type": "execute_result"
    }
   ],
   "source": [
    "# how to clean this data?\n",
    "df_LF.river.unique()"
   ]
  },
  {
   "cell_type": "code",
   "execution_count": 61,
   "id": "b617925b",
   "metadata": {},
   "outputs": [
    {
     "data": {
      "text/plain": [
       "(1218, 10222)"
      ]
     },
     "execution_count": 61,
     "metadata": {},
     "output_type": "execute_result"
    }
   ],
   "source": [
    "# null, not null\n",
    "# ie, there are mostly Margaree river data\n",
    "sum(df_LF.river.isnull()), sum(~df_LF.river.isnull())"
   ]
  },
  {
   "cell_type": "code",
   "execution_count": 62,
   "id": "2cf8ac7a",
   "metadata": {},
   "outputs": [
    {
     "data": {
      "text/plain": [
       "(3381, 601, 6240)"
      ]
     },
     "execution_count": 62,
     "metadata": {},
     "output_type": "execute_result"
    }
   ],
   "source": [
    "# is SW MARGAREE different than MARGAREE?\n",
    "sum(df_LF.river == 'MARGAREE'), sum(df_LF.river == 'SW Margaree'), sum(df_LF.river == 'SW MARGAREE')"
   ]
  },
  {
   "cell_type": "markdown",
   "id": "679939fe",
   "metadata": {},
   "source": [
    "# Site"
   ]
  },
  {
   "cell_type": "code",
   "execution_count": 76,
   "id": "7ea55ef0",
   "metadata": {},
   "outputs": [],
   "source": [
    "sites_list = [str(i) for i in list(df_LF.site.unique())]"
   ]
  },
  {
   "cell_type": "code",
   "execution_count": 79,
   "id": "5eec885d",
   "metadata": {},
   "outputs": [
    {
     "data": {
      "text/plain": [
       "69"
      ]
     },
     "execution_count": 79,
     "metadata": {},
     "output_type": "execute_result"
    }
   ],
   "source": [
    "# most sites are not null\n",
    "sum(df_LF.site.isnull())"
   ]
  },
  {
   "cell_type": "code",
   "execution_count": 77,
   "id": "2c41a1b3",
   "metadata": {
    "collapsed": true
   },
   "outputs": [
    {
     "data": {
      "text/plain": [
       "['1',\n",
       " '1,2',\n",
       " '1,8',\n",
       " '10',\n",
       " '12',\n",
       " '12,17',\n",
       " '12,26',\n",
       " '15',\n",
       " '15,17',\n",
       " '17',\n",
       " '17,12, 5',\n",
       " '17,26',\n",
       " '17,33',\n",
       " '17,5',\n",
       " '1A',\n",
       " '1B',\n",
       " '2',\n",
       " '2,5',\n",
       " '21',\n",
       " '23',\n",
       " '25',\n",
       " '25,26',\n",
       " '26',\n",
       " '26,1',\n",
       " '27',\n",
       " '28',\n",
       " '29',\n",
       " '29,30',\n",
       " '33',\n",
       " '34',\n",
       " '35',\n",
       " '35,37',\n",
       " '35,37,38',\n",
       " '35,41',\n",
       " '35,52',\n",
       " '37',\n",
       " '37,60',\n",
       " '38',\n",
       " '38,41',\n",
       " '38,52',\n",
       " '38,52,60',\n",
       " '4',\n",
       " '41',\n",
       " '41,49',\n",
       " '41,52,60',\n",
       " '41,60, 33',\n",
       " '41,60, 34',\n",
       " '41,60, 35',\n",
       " '41,60, 36',\n",
       " '41,60, 37',\n",
       " '41,60, 38',\n",
       " '41,60, 39',\n",
       " '41,60, 40',\n",
       " '41,60, 41',\n",
       " '41,60, 42',\n",
       " '41,60, 43',\n",
       " '47',\n",
       " '48',\n",
       " '48,38, 37',\n",
       " '49',\n",
       " '49,33',\n",
       " '49,34',\n",
       " '49,35',\n",
       " '49,36',\n",
       " '49,37',\n",
       " '49,38',\n",
       " '49,39',\n",
       " '49,40',\n",
       " '49,41',\n",
       " '5',\n",
       " '5,12',\n",
       " '5,17',\n",
       " '5,26',\n",
       " '5,8',\n",
       " '51',\n",
       " '52',\n",
       " '52,60',\n",
       " '56',\n",
       " '6',\n",
       " '60',\n",
       " '60,35',\n",
       " '60,52',\n",
       " '62',\n",
       " '64',\n",
       " '67',\n",
       " '7',\n",
       " '8',\n",
       " '9',\n",
       " 'Eric McFarlane',\n",
       " 'Jimmy MacFarlane',\n",
       " 'John Albert Coady',\n",
       " 'nan']"
      ]
     },
     "execution_count": 77,
     "metadata": {},
     "output_type": "execute_result"
    }
   ],
   "source": [
    "# many entries have multiple sites\n",
    "sorted(sites_list)"
   ]
  },
  {
   "cell_type": "code",
   "execution_count": 207,
   "id": "d48c57b5",
   "metadata": {},
   "outputs": [],
   "source": [
    "# create columns for multiple sites\n",
    "# likely want to have a variable number of sites to be input in django\n",
    "df_LF[['SITE1', 'SITE2', 'SITE3']] = df_LF.site.str.split(',', expand=True).fillna(pd.NA)"
   ]
  },
  {
   "cell_type": "code",
   "execution_count": 217,
   "id": "5905725e",
   "metadata": {},
   "outputs": [
    {
     "data": {
      "text/html": [
       "<div>\n",
       "<style scoped>\n",
       "    .dataframe tbody tr th:only-of-type {\n",
       "        vertical-align: middle;\n",
       "    }\n",
       "\n",
       "    .dataframe tbody tr th {\n",
       "        vertical-align: top;\n",
       "    }\n",
       "\n",
       "    .dataframe thead th {\n",
       "        text-align: right;\n",
       "    }\n",
       "</style>\n",
       "<table border=\"1\" class=\"dataframe\">\n",
       "  <thead>\n",
       "    <tr style=\"text-align: right;\">\n",
       "      <th></th>\n",
       "      <th>SITE1</th>\n",
       "      <th>SITE2</th>\n",
       "      <th>SITE3</th>\n",
       "    </tr>\n",
       "  </thead>\n",
       "  <tbody>\n",
       "    <tr>\n",
       "      <th>count</th>\n",
       "      <td>11371</td>\n",
       "      <td>491</td>\n",
       "      <td>90</td>\n",
       "    </tr>\n",
       "    <tr>\n",
       "      <th>unique</th>\n",
       "      <td>40</td>\n",
       "      <td>20</td>\n",
       "      <td>14</td>\n",
       "    </tr>\n",
       "    <tr>\n",
       "      <th>top</th>\n",
       "      <td>26</td>\n",
       "      <td>52</td>\n",
       "      <td>60</td>\n",
       "    </tr>\n",
       "    <tr>\n",
       "      <th>freq</th>\n",
       "      <td>2412</td>\n",
       "      <td>82</td>\n",
       "      <td>50</td>\n",
       "    </tr>\n",
       "  </tbody>\n",
       "</table>\n",
       "</div>"
      ],
      "text/plain": [
       "        SITE1 SITE2 SITE3\n",
       "count   11371   491    90\n",
       "unique     40    20    14\n",
       "top        26    52    60\n",
       "freq     2412    82    50"
      ]
     },
     "execution_count": 217,
     "metadata": {},
     "output_type": "execute_result"
    }
   ],
   "source": [
    "# how many have site data\n",
    "df_LF[['SITE1', 'SITE2', 'SITE3']].describe()"
   ]
  },
  {
   "cell_type": "markdown",
   "id": "b120a468",
   "metadata": {},
   "source": [
    "# Location"
   ]
  },
  {
   "cell_type": "code",
   "execution_count": 222,
   "id": "e05a312c",
   "metadata": {},
   "outputs": [
    {
     "data": {
      "text/plain": [
       "array(['LOWER', 'UPPER', 'LOWER ', nan, 'LOWE'], dtype=object)"
      ]
     },
     "execution_count": 222,
     "metadata": {},
     "output_type": "execute_result"
    }
   ],
   "source": [
    "df_LF['loc'].unique()"
   ]
  },
  {
   "cell_type": "code",
   "execution_count": 223,
   "id": "afc2fb14",
   "metadata": {},
   "outputs": [],
   "source": [
    "# clean the typos\n",
    "df_LF.loc[df_LF['loc'] == 'LOWER ', 'loc'] = 'LOWER'\n",
    "df_LF.loc[df_LF['loc'] == 'LOWE', 'loc'] = 'LOWER'"
   ]
  },
  {
   "cell_type": "code",
   "execution_count": 224,
   "id": "604b3070",
   "metadata": {},
   "outputs": [
    {
     "data": {
      "text/plain": [
       "array(['LOWER', 'UPPER', nan], dtype=object)"
      ]
     },
     "execution_count": 224,
     "metadata": {},
     "output_type": "execute_result"
    }
   ],
   "source": [
    "df_LF['loc'].unique()"
   ]
  },
  {
   "cell_type": "markdown",
   "id": "843159ab",
   "metadata": {},
   "source": [
    "# Period"
   ]
  },
  {
   "cell_type": "code",
   "execution_count": 229,
   "id": "1f51f012",
   "metadata": {},
   "outputs": [
    {
     "data": {
      "text/plain": [
       "array(['PM', 'AM', 'AD'], dtype=object)"
      ]
     },
     "execution_count": 229,
     "metadata": {},
     "output_type": "execute_result"
    }
   ],
   "source": [
    "# AM, PM, and AD\n",
    "df_LF.period.unique()"
   ]
  },
  {
   "cell_type": "code",
   "execution_count": null,
   "id": "2c3406d9",
   "metadata": {},
   "outputs": [],
   "source": []
  }
 ],
 "metadata": {
  "kernelspec": {
   "display_name": "Python 3 (ipykernel)",
   "language": "python",
   "name": "python3"
  },
  "language_info": {
   "codemirror_mode": {
    "name": "ipython",
    "version": 3
   },
   "file_extension": ".py",
   "mimetype": "text/x-python",
   "name": "python",
   "nbconvert_exporter": "python",
   "pygments_lexer": "ipython3",
   "version": "3.9.13"
  }
 },
 "nbformat": 4,
 "nbformat_minor": 5
}
