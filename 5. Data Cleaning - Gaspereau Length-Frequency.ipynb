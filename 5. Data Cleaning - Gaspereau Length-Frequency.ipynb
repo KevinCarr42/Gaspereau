{
 "cells": [
  {
   "cell_type": "code",
   "execution_count": 1,
   "id": "46c5d966",
   "metadata": {},
   "outputs": [
    {
     "data": {
      "text/html": [
       "<style>.container { width:100% !important; }</style>"
      ],
      "text/plain": [
       "<IPython.core.display.HTML object>"
      ]
     },
     "metadata": {},
     "output_type": "display_data"
    }
   ],
   "source": [
    "import numpy as np\n",
    "import pandas as pd\n",
    "import matplotlib.pyplot as plt\n",
    "import matplotlib as mpl\n",
    "import seaborn as sns\n",
    "\n",
    "sns.set_theme()\n",
    "\n",
    "# jupyter notebook full-width display\n",
    "from IPython.core.display import display, HTML\n",
    "display(HTML(\"<style>.container { width:100% !important; }</style>\"))\n",
    "\n",
    "# pandas formatting\n",
    "pd.set_option('display.float_format', '{:.3f}'.format)\n",
    "pd.set_option('display.max_columns', None)\n",
    "pd.set_option('display.max_rows', 200)"
   ]
  },
  {
   "cell_type": "code",
   "execution_count": 2,
   "id": "29e62653",
   "metadata": {},
   "outputs": [],
   "source": [
    "df = pd.read_csv(r'.\\provided data\\Margaree Gaspereau lgth-freq_Master.csv')"
   ]
  },
  {
   "cell_type": "code",
   "execution_count": 3,
   "id": "ef164ed7",
   "metadata": {},
   "outputs": [
    {
     "data": {
      "text/plain": [
       "yy          int64\n",
       "mm          int64\n",
       "dd          int64\n",
       "Time      float64\n",
       "river      object\n",
       "week        int64\n",
       "site       object\n",
       "loc        object\n",
       "period     object\n",
       "wt_lbs    float64\n",
       "wt_kg     float64\n",
       "lgth        int64\n",
       "freq        int64\n",
       "Flbin       int64\n",
       "dtype: object"
      ]
     },
     "execution_count": 3,
     "metadata": {},
     "output_type": "execute_result"
    }
   ],
   "source": [
    "df.dtypes"
   ]
  },
  {
   "cell_type": "code",
   "execution_count": 4,
   "id": "4be078a0",
   "metadata": {},
   "outputs": [
    {
     "data": {
      "text/html": [
       "<div>\n",
       "<style scoped>\n",
       "    .dataframe tbody tr th:only-of-type {\n",
       "        vertical-align: middle;\n",
       "    }\n",
       "\n",
       "    .dataframe tbody tr th {\n",
       "        vertical-align: top;\n",
       "    }\n",
       "\n",
       "    .dataframe thead th {\n",
       "        text-align: right;\n",
       "    }\n",
       "</style>\n",
       "<table border=\"1\" class=\"dataframe\">\n",
       "  <thead>\n",
       "    <tr style=\"text-align: right;\">\n",
       "      <th></th>\n",
       "      <th>count</th>\n",
       "      <th>unique</th>\n",
       "      <th>top</th>\n",
       "      <th>freq</th>\n",
       "      <th>mean</th>\n",
       "      <th>std</th>\n",
       "      <th>min</th>\n",
       "      <th>25%</th>\n",
       "      <th>50%</th>\n",
       "      <th>75%</th>\n",
       "      <th>max</th>\n",
       "    </tr>\n",
       "  </thead>\n",
       "  <tbody>\n",
       "    <tr>\n",
       "      <th>yy</th>\n",
       "      <td>11440.000</td>\n",
       "      <td>NaN</td>\n",
       "      <td>NaN</td>\n",
       "      <td>NaN</td>\n",
       "      <td>2003.929</td>\n",
       "      <td>9.465</td>\n",
       "      <td>1990.000</td>\n",
       "      <td>1995.000</td>\n",
       "      <td>2003.000</td>\n",
       "      <td>2013.000</td>\n",
       "      <td>2019.000</td>\n",
       "    </tr>\n",
       "    <tr>\n",
       "      <th>mm</th>\n",
       "      <td>11440.000</td>\n",
       "      <td>NaN</td>\n",
       "      <td>NaN</td>\n",
       "      <td>NaN</td>\n",
       "      <td>5.427</td>\n",
       "      <td>0.495</td>\n",
       "      <td>5.000</td>\n",
       "      <td>5.000</td>\n",
       "      <td>5.000</td>\n",
       "      <td>6.000</td>\n",
       "      <td>6.000</td>\n",
       "    </tr>\n",
       "    <tr>\n",
       "      <th>dd</th>\n",
       "      <td>11440.000</td>\n",
       "      <td>NaN</td>\n",
       "      <td>NaN</td>\n",
       "      <td>NaN</td>\n",
       "      <td>16.410</td>\n",
       "      <td>8.882</td>\n",
       "      <td>1.000</td>\n",
       "      <td>9.000</td>\n",
       "      <td>17.000</td>\n",
       "      <td>24.000</td>\n",
       "      <td>31.000</td>\n",
       "    </tr>\n",
       "    <tr>\n",
       "      <th>Time</th>\n",
       "      <td>1457.000</td>\n",
       "      <td>NaN</td>\n",
       "      <td>NaN</td>\n",
       "      <td>NaN</td>\n",
       "      <td>1030.411</td>\n",
       "      <td>531.799</td>\n",
       "      <td>3.000</td>\n",
       "      <td>900.000</td>\n",
       "      <td>1115.000</td>\n",
       "      <td>1425.000</td>\n",
       "      <td>1850.000</td>\n",
       "    </tr>\n",
       "    <tr>\n",
       "      <th>river</th>\n",
       "      <td>10222</td>\n",
       "      <td>3</td>\n",
       "      <td>SW MARGAREE</td>\n",
       "      <td>6240</td>\n",
       "      <td>NaN</td>\n",
       "      <td>NaN</td>\n",
       "      <td>NaN</td>\n",
       "      <td>NaN</td>\n",
       "      <td>NaN</td>\n",
       "      <td>NaN</td>\n",
       "      <td>NaN</td>\n",
       "    </tr>\n",
       "    <tr>\n",
       "      <th>week</th>\n",
       "      <td>11440.000</td>\n",
       "      <td>NaN</td>\n",
       "      <td>NaN</td>\n",
       "      <td>NaN</td>\n",
       "      <td>4.908</td>\n",
       "      <td>1.909</td>\n",
       "      <td>1.000</td>\n",
       "      <td>4.000</td>\n",
       "      <td>5.000</td>\n",
       "      <td>6.000</td>\n",
       "      <td>9.000</td>\n",
       "    </tr>\n",
       "    <tr>\n",
       "      <th>site</th>\n",
       "      <td>11371</td>\n",
       "      <td>91</td>\n",
       "      <td>26</td>\n",
       "      <td>2402</td>\n",
       "      <td>NaN</td>\n",
       "      <td>NaN</td>\n",
       "      <td>NaN</td>\n",
       "      <td>NaN</td>\n",
       "      <td>NaN</td>\n",
       "      <td>NaN</td>\n",
       "      <td>NaN</td>\n",
       "    </tr>\n",
       "    <tr>\n",
       "      <th>loc</th>\n",
       "      <td>11358</td>\n",
       "      <td>4</td>\n",
       "      <td>LOWER</td>\n",
       "      <td>6406</td>\n",
       "      <td>NaN</td>\n",
       "      <td>NaN</td>\n",
       "      <td>NaN</td>\n",
       "      <td>NaN</td>\n",
       "      <td>NaN</td>\n",
       "      <td>NaN</td>\n",
       "      <td>NaN</td>\n",
       "    </tr>\n",
       "    <tr>\n",
       "      <th>period</th>\n",
       "      <td>11440</td>\n",
       "      <td>3</td>\n",
       "      <td>AM</td>\n",
       "      <td>6143</td>\n",
       "      <td>NaN</td>\n",
       "      <td>NaN</td>\n",
       "      <td>NaN</td>\n",
       "      <td>NaN</td>\n",
       "      <td>NaN</td>\n",
       "      <td>NaN</td>\n",
       "      <td>NaN</td>\n",
       "    </tr>\n",
       "    <tr>\n",
       "      <th>wt_lbs</th>\n",
       "      <td>10222.000</td>\n",
       "      <td>NaN</td>\n",
       "      <td>NaN</td>\n",
       "      <td>NaN</td>\n",
       "      <td>102.868</td>\n",
       "      <td>34.969</td>\n",
       "      <td>1.000</td>\n",
       "      <td>81.700</td>\n",
       "      <td>100.000</td>\n",
       "      <td>127.000</td>\n",
       "      <td>204.000</td>\n",
       "    </tr>\n",
       "    <tr>\n",
       "      <th>wt_kg</th>\n",
       "      <td>10222.000</td>\n",
       "      <td>NaN</td>\n",
       "      <td>NaN</td>\n",
       "      <td>NaN</td>\n",
       "      <td>46.659</td>\n",
       "      <td>15.862</td>\n",
       "      <td>0.500</td>\n",
       "      <td>37.100</td>\n",
       "      <td>45.400</td>\n",
       "      <td>57.600</td>\n",
       "      <td>92.500</td>\n",
       "    </tr>\n",
       "    <tr>\n",
       "      <th>lgth</th>\n",
       "      <td>11440.000</td>\n",
       "      <td>NaN</td>\n",
       "      <td>NaN</td>\n",
       "      <td>NaN</td>\n",
       "      <td>251.674</td>\n",
       "      <td>21.823</td>\n",
       "      <td>145.000</td>\n",
       "      <td>235.000</td>\n",
       "      <td>250.000</td>\n",
       "      <td>265.000</td>\n",
       "      <td>322.000</td>\n",
       "    </tr>\n",
       "    <tr>\n",
       "      <th>freq</th>\n",
       "      <td>11440.000</td>\n",
       "      <td>NaN</td>\n",
       "      <td>NaN</td>\n",
       "      <td>NaN</td>\n",
       "      <td>17.947</td>\n",
       "      <td>18.000</td>\n",
       "      <td>0.000</td>\n",
       "      <td>3.000</td>\n",
       "      <td>11.000</td>\n",
       "      <td>29.000</td>\n",
       "      <td>117.000</td>\n",
       "    </tr>\n",
       "    <tr>\n",
       "      <th>Flbin</th>\n",
       "      <td>11440.000</td>\n",
       "      <td>NaN</td>\n",
       "      <td>NaN</td>\n",
       "      <td>NaN</td>\n",
       "      <td>251.487</td>\n",
       "      <td>21.670</td>\n",
       "      <td>145.000</td>\n",
       "      <td>235.000</td>\n",
       "      <td>250.000</td>\n",
       "      <td>265.000</td>\n",
       "      <td>320.000</td>\n",
       "    </tr>\n",
       "  </tbody>\n",
       "</table>\n",
       "</div>"
      ],
      "text/plain": [
       "           count unique          top  freq     mean     std      min      25%  \\\n",
       "yy     11440.000    NaN          NaN   NaN 2003.929   9.465 1990.000 1995.000   \n",
       "mm     11440.000    NaN          NaN   NaN    5.427   0.495    5.000    5.000   \n",
       "dd     11440.000    NaN          NaN   NaN   16.410   8.882    1.000    9.000   \n",
       "Time    1457.000    NaN          NaN   NaN 1030.411 531.799    3.000  900.000   \n",
       "river      10222      3  SW MARGAREE  6240      NaN     NaN      NaN      NaN   \n",
       "week   11440.000    NaN          NaN   NaN    4.908   1.909    1.000    4.000   \n",
       "site       11371     91           26  2402      NaN     NaN      NaN      NaN   \n",
       "loc        11358      4        LOWER  6406      NaN     NaN      NaN      NaN   \n",
       "period     11440      3           AM  6143      NaN     NaN      NaN      NaN   \n",
       "wt_lbs 10222.000    NaN          NaN   NaN  102.868  34.969    1.000   81.700   \n",
       "wt_kg  10222.000    NaN          NaN   NaN   46.659  15.862    0.500   37.100   \n",
       "lgth   11440.000    NaN          NaN   NaN  251.674  21.823  145.000  235.000   \n",
       "freq   11440.000    NaN          NaN   NaN   17.947  18.000    0.000    3.000   \n",
       "Flbin  11440.000    NaN          NaN   NaN  251.487  21.670  145.000  235.000   \n",
       "\n",
       "            50%      75%      max  \n",
       "yy     2003.000 2013.000 2019.000  \n",
       "mm        5.000    6.000    6.000  \n",
       "dd       17.000   24.000   31.000  \n",
       "Time   1115.000 1425.000 1850.000  \n",
       "river       NaN      NaN      NaN  \n",
       "week      5.000    6.000    9.000  \n",
       "site        NaN      NaN      NaN  \n",
       "loc         NaN      NaN      NaN  \n",
       "period      NaN      NaN      NaN  \n",
       "wt_lbs  100.000  127.000  204.000  \n",
       "wt_kg    45.400   57.600   92.500  \n",
       "lgth    250.000  265.000  322.000  \n",
       "freq     11.000   29.000  117.000  \n",
       "Flbin   250.000  265.000  320.000  "
      ]
     },
     "execution_count": 4,
     "metadata": {},
     "output_type": "execute_result"
    }
   ],
   "source": [
    "df.describe(include='all').T"
   ]
  },
  {
   "cell_type": "markdown",
   "id": "9611c546",
   "metadata": {},
   "source": [
    "# Datetime"
   ]
  },
  {
   "cell_type": "code",
   "execution_count": 5,
   "id": "72b09df8",
   "metadata": {},
   "outputs": [
    {
     "data": {
      "text/plain": [
       "array([  nan,    3.,    4.,    5., 1305., 1530., 1025., 1550., 1255.,\n",
       "       1405., 1455., 1310., 1220., 1115., 1640., 1355., 1320., 1400.,\n",
       "       1225., 1035., 1010., 1545., 1425., 1100., 1450., 1540., 1430.,\n",
       "       1030., 1345., 1630., 1050.,  850.,  925., 1445.,  940.,  900.,\n",
       "        840., 1500.,  905., 1713.,  835.,  845., 1000., 1145., 1015.,\n",
       "       1625., 1745., 1315., 1655., 1020., 1210., 1755., 1215., 1110.,\n",
       "       1605., 1130., 1235., 1300., 1200., 1850., 1700.])"
      ]
     },
     "execution_count": 5,
     "metadata": {},
     "output_type": "execute_result"
    }
   ],
   "source": [
    "df.Time.unique()"
   ]
  },
  {
   "cell_type": "code",
   "execution_count": 6,
   "id": "8285921c",
   "metadata": {},
   "outputs": [],
   "source": [
    "# convert all times to same format, set missing times to 0000 (date only), then to datetime format\n",
    "df['CleanTime'] = df['Time']\n",
    "df.loc[df['CleanTime'] < 10, 'CleanTime'] = df.loc[df['CleanTime'] < 10, 'CleanTime'] * 100\n",
    "df['CleanTime'] = pd.to_datetime(df.CleanTime, format='%H%M')\n",
    "\n",
    "# all null times should be 0000 (which pandas reads as no time data)\n",
    "# NOTE: incorporate AM/PM column?\n",
    "df.loc[df['CleanTime'].isnull(), 'CleanTime'] = pd.to_datetime(0)  \n",
    "\n",
    "df['DATETIME'] = pd.to_datetime(dict(\n",
    "    year=df['yy'], \n",
    "    month=df['mm'], \n",
    "    day=df['dd'], \n",
    "    hour=df['CleanTime'].dt.hour, \n",
    "    minute=df['CleanTime'].dt.minute\n",
    "), errors='coerce')\n",
    "\n",
    "df = df.drop('CleanTime', axis=1)"
   ]
  },
  {
   "cell_type": "code",
   "execution_count": 7,
   "id": "c8eaf82c",
   "metadata": {},
   "outputs": [
    {
     "data": {
      "text/plain": [
       "0.0"
      ]
     },
     "execution_count": 7,
     "metadata": {},
     "output_type": "execute_result"
    }
   ],
   "source": [
    "# percentage of null dates\n",
    "sum(df.DATETIME.isnull())/df.shape[0]"
   ]
  },
  {
   "cell_type": "code",
   "execution_count": 8,
   "id": "c267df71",
   "metadata": {},
   "outputs": [],
   "source": [
    "# check to make sure hours are good\n",
    "check_datetimes = pd.concat([\n",
    "    df['Time'], \n",
    "    df['DATETIME'].dt.hour,\n",
    "    df['DATETIME'].dt.minute\n",
    "], axis=1)[~df['Time'].isnull()]\n",
    "\n",
    "check_datetimes.columns = ['Time', 'Hour', 'Minute']"
   ]
  },
  {
   "cell_type": "code",
   "execution_count": 9,
   "id": "eb2e984d",
   "metadata": {},
   "outputs": [
    {
     "data": {
      "text/html": [
       "<div>\n",
       "<style scoped>\n",
       "    .dataframe tbody tr th:only-of-type {\n",
       "        vertical-align: middle;\n",
       "    }\n",
       "\n",
       "    .dataframe tbody tr th {\n",
       "        vertical-align: top;\n",
       "    }\n",
       "\n",
       "    .dataframe thead th {\n",
       "        text-align: right;\n",
       "    }\n",
       "</style>\n",
       "<table border=\"1\" class=\"dataframe\">\n",
       "  <thead>\n",
       "    <tr style=\"text-align: right;\">\n",
       "      <th></th>\n",
       "      <th>Time</th>\n",
       "      <th>Hour</th>\n",
       "      <th>Minute</th>\n",
       "    </tr>\n",
       "  </thead>\n",
       "  <tbody>\n",
       "    <tr>\n",
       "      <th>6563</th>\n",
       "      <td>1010.000</td>\n",
       "      <td>10</td>\n",
       "      <td>10</td>\n",
       "    </tr>\n",
       "    <tr>\n",
       "      <th>1195</th>\n",
       "      <td>5.000</td>\n",
       "      <td>5</td>\n",
       "      <td>0</td>\n",
       "    </tr>\n",
       "    <tr>\n",
       "      <th>1076</th>\n",
       "      <td>4.000</td>\n",
       "      <td>4</td>\n",
       "      <td>0</td>\n",
       "    </tr>\n",
       "    <tr>\n",
       "      <th>7363</th>\n",
       "      <td>1110.000</td>\n",
       "      <td>11</td>\n",
       "      <td>10</td>\n",
       "    </tr>\n",
       "    <tr>\n",
       "      <th>6534</th>\n",
       "      <td>1545.000</td>\n",
       "      <td>15</td>\n",
       "      <td>45</td>\n",
       "    </tr>\n",
       "    <tr>\n",
       "      <th>7013</th>\n",
       "      <td>840.000</td>\n",
       "      <td>8</td>\n",
       "      <td>40</td>\n",
       "    </tr>\n",
       "    <tr>\n",
       "      <th>7102</th>\n",
       "      <td>1145.000</td>\n",
       "      <td>11</td>\n",
       "      <td>45</td>\n",
       "    </tr>\n",
       "    <tr>\n",
       "      <th>7237</th>\n",
       "      <td>1020.000</td>\n",
       "      <td>10</td>\n",
       "      <td>20</td>\n",
       "    </tr>\n",
       "    <tr>\n",
       "      <th>7452</th>\n",
       "      <td>1850.000</td>\n",
       "      <td>18</td>\n",
       "      <td>50</td>\n",
       "    </tr>\n",
       "    <tr>\n",
       "      <th>6507</th>\n",
       "      <td>1035.000</td>\n",
       "      <td>10</td>\n",
       "      <td>35</td>\n",
       "    </tr>\n",
       "  </tbody>\n",
       "</table>\n",
       "</div>"
      ],
      "text/plain": [
       "         Time  Hour  Minute\n",
       "6563 1010.000    10      10\n",
       "1195    5.000     5       0\n",
       "1076    4.000     4       0\n",
       "7363 1110.000    11      10\n",
       "6534 1545.000    15      45\n",
       "7013  840.000     8      40\n",
       "7102 1145.000    11      45\n",
       "7237 1020.000    10      20\n",
       "7452 1850.000    18      50\n",
       "6507 1035.000    10      35"
      ]
     },
     "execution_count": 9,
     "metadata": {},
     "output_type": "execute_result"
    }
   ],
   "source": [
    "check_datetimes.sample(10)"
   ]
  },
  {
   "cell_type": "code",
   "execution_count": 10,
   "id": "ef01e03e",
   "metadata": {},
   "outputs": [
    {
     "data": {
      "text/html": [
       "<div>\n",
       "<style scoped>\n",
       "    .dataframe tbody tr th:only-of-type {\n",
       "        vertical-align: middle;\n",
       "    }\n",
       "\n",
       "    .dataframe tbody tr th {\n",
       "        vertical-align: top;\n",
       "    }\n",
       "\n",
       "    .dataframe thead th {\n",
       "        text-align: right;\n",
       "    }\n",
       "</style>\n",
       "<table border=\"1\" class=\"dataframe\">\n",
       "  <thead>\n",
       "    <tr style=\"text-align: right;\">\n",
       "      <th></th>\n",
       "      <th>Time</th>\n",
       "      <th>Hour</th>\n",
       "      <th>Minute</th>\n",
       "    </tr>\n",
       "  </thead>\n",
       "  <tbody>\n",
       "    <tr>\n",
       "      <th>count</th>\n",
       "      <td>257.000</td>\n",
       "      <td>257.000</td>\n",
       "      <td>257.000</td>\n",
       "    </tr>\n",
       "    <tr>\n",
       "      <th>mean</th>\n",
       "      <td>4.156</td>\n",
       "      <td>4.156</td>\n",
       "      <td>0.000</td>\n",
       "    </tr>\n",
       "    <tr>\n",
       "      <th>std</th>\n",
       "      <td>0.829</td>\n",
       "      <td>0.829</td>\n",
       "      <td>0.000</td>\n",
       "    </tr>\n",
       "    <tr>\n",
       "      <th>min</th>\n",
       "      <td>3.000</td>\n",
       "      <td>3.000</td>\n",
       "      <td>0.000</td>\n",
       "    </tr>\n",
       "    <tr>\n",
       "      <th>25%</th>\n",
       "      <td>3.000</td>\n",
       "      <td>3.000</td>\n",
       "      <td>0.000</td>\n",
       "    </tr>\n",
       "    <tr>\n",
       "      <th>50%</th>\n",
       "      <td>4.000</td>\n",
       "      <td>4.000</td>\n",
       "      <td>0.000</td>\n",
       "    </tr>\n",
       "    <tr>\n",
       "      <th>75%</th>\n",
       "      <td>5.000</td>\n",
       "      <td>5.000</td>\n",
       "      <td>0.000</td>\n",
       "    </tr>\n",
       "    <tr>\n",
       "      <th>max</th>\n",
       "      <td>5.000</td>\n",
       "      <td>5.000</td>\n",
       "      <td>0.000</td>\n",
       "    </tr>\n",
       "  </tbody>\n",
       "</table>\n",
       "</div>"
      ],
      "text/plain": [
       "         Time    Hour  Minute\n",
       "count 257.000 257.000 257.000\n",
       "mean    4.156   4.156   0.000\n",
       "std     0.829   0.829   0.000\n",
       "min     3.000   3.000   0.000\n",
       "25%     3.000   3.000   0.000\n",
       "50%     4.000   4.000   0.000\n",
       "75%     5.000   5.000   0.000\n",
       "max     5.000   5.000   0.000"
      ]
     },
     "execution_count": 10,
     "metadata": {},
     "output_type": "execute_result"
    }
   ],
   "source": [
    "# the only non-matching are the fixed 3, 4, and 5 hours (not formatted consistently)\n",
    "check_datetimes[check_datetimes.Time != check_datetimes.Hour * 100 + check_datetimes.Minute].describe()"
   ]
  },
  {
   "cell_type": "code",
   "execution_count": 11,
   "id": "63f34ffc",
   "metadata": {},
   "outputs": [
    {
     "data": {
      "text/html": [
       "<div>\n",
       "<style scoped>\n",
       "    .dataframe tbody tr th:only-of-type {\n",
       "        vertical-align: middle;\n",
       "    }\n",
       "\n",
       "    .dataframe tbody tr th {\n",
       "        vertical-align: top;\n",
       "    }\n",
       "\n",
       "    .dataframe thead th {\n",
       "        text-align: right;\n",
       "    }\n",
       "</style>\n",
       "<table border=\"1\" class=\"dataframe\">\n",
       "  <thead>\n",
       "    <tr style=\"text-align: right;\">\n",
       "      <th></th>\n",
       "      <th>yy</th>\n",
       "      <th>mm</th>\n",
       "      <th>dd</th>\n",
       "      <th>Time</th>\n",
       "      <th>river</th>\n",
       "      <th>week</th>\n",
       "      <th>site</th>\n",
       "      <th>loc</th>\n",
       "      <th>period</th>\n",
       "      <th>wt_lbs</th>\n",
       "      <th>wt_kg</th>\n",
       "      <th>lgth</th>\n",
       "      <th>freq</th>\n",
       "      <th>Flbin</th>\n",
       "      <th>DATETIME</th>\n",
       "    </tr>\n",
       "  </thead>\n",
       "  <tbody>\n",
       "  </tbody>\n",
       "</table>\n",
       "</div>"
      ],
      "text/plain": [
       "Empty DataFrame\n",
       "Columns: [yy, mm, dd, Time, river, week, site, loc, period, wt_lbs, wt_kg, lgth, freq, Flbin, DATETIME]\n",
       "Index: []"
      ]
     },
     "execution_count": 11,
     "metadata": {},
     "output_type": "execute_result"
    }
   ],
   "source": [
    "# not null Time, but null DATETIME (coerced errors) = 0\n",
    "df[(~df.Time.isnull()) & (df.DATETIME.isnull())]"
   ]
  },
  {
   "cell_type": "code",
   "execution_count": 12,
   "id": "0229f3e8",
   "metadata": {},
   "outputs": [
    {
     "data": {
      "text/plain": [
       "0"
      ]
     },
     "execution_count": 12,
     "metadata": {},
     "output_type": "execute_result"
    }
   ],
   "source": [
    "# not null yy/mm/dd, but null DATETIME (coerced errors) = 0\n",
    "df[(~df.yy.isnull()) & (df.DATETIME.isnull())].shape[0]"
   ]
  },
  {
   "cell_type": "code",
   "execution_count": 13,
   "id": "ef208967",
   "metadata": {},
   "outputs": [
    {
     "data": {
      "text/plain": [
       "(0, 0, 0)"
      ]
     },
     "execution_count": 13,
     "metadata": {},
     "output_type": "execute_result"
    }
   ],
   "source": [
    "# all dates are spoken for, times are not always available\n",
    "df[df.yy.isnull()].shape[0], df[df.mm.isnull()].shape[0], df[df.dd.isnull()].shape[0]"
   ]
  },
  {
   "cell_type": "code",
   "execution_count": 14,
   "id": "1dad6484",
   "metadata": {},
   "outputs": [
    {
     "data": {
      "text/html": [
       "<div>\n",
       "<style scoped>\n",
       "    .dataframe tbody tr th:only-of-type {\n",
       "        vertical-align: middle;\n",
       "    }\n",
       "\n",
       "    .dataframe tbody tr th {\n",
       "        vertical-align: top;\n",
       "    }\n",
       "\n",
       "    .dataframe thead th {\n",
       "        text-align: right;\n",
       "    }\n",
       "</style>\n",
       "<table border=\"1\" class=\"dataframe\">\n",
       "  <thead>\n",
       "    <tr style=\"text-align: right;\">\n",
       "      <th></th>\n",
       "      <th>yy</th>\n",
       "      <th>mm</th>\n",
       "      <th>dd</th>\n",
       "      <th>Time</th>\n",
       "      <th>week</th>\n",
       "      <th>wt_lbs</th>\n",
       "      <th>wt_kg</th>\n",
       "      <th>lgth</th>\n",
       "      <th>freq</th>\n",
       "      <th>Flbin</th>\n",
       "      <th>DATETIME</th>\n",
       "    </tr>\n",
       "  </thead>\n",
       "  <tbody>\n",
       "    <tr>\n",
       "      <th>count</th>\n",
       "      <td>11440.000</td>\n",
       "      <td>11440.000</td>\n",
       "      <td>11440.000</td>\n",
       "      <td>1457.000</td>\n",
       "      <td>11440.000</td>\n",
       "      <td>10222.000</td>\n",
       "      <td>10222.000</td>\n",
       "      <td>11440.000</td>\n",
       "      <td>11440.000</td>\n",
       "      <td>11440.000</td>\n",
       "      <td>11440</td>\n",
       "    </tr>\n",
       "    <tr>\n",
       "      <th>mean</th>\n",
       "      <td>2003.929</td>\n",
       "      <td>5.427</td>\n",
       "      <td>16.410</td>\n",
       "      <td>1030.411</td>\n",
       "      <td>4.908</td>\n",
       "      <td>102.868</td>\n",
       "      <td>46.659</td>\n",
       "      <td>251.674</td>\n",
       "      <td>17.947</td>\n",
       "      <td>251.487</td>\n",
       "      <td>2004-05-03 11:22:33.991258752</td>\n",
       "    </tr>\n",
       "    <tr>\n",
       "      <th>min</th>\n",
       "      <td>1990.000</td>\n",
       "      <td>5.000</td>\n",
       "      <td>1.000</td>\n",
       "      <td>3.000</td>\n",
       "      <td>1.000</td>\n",
       "      <td>1.000</td>\n",
       "      <td>0.500</td>\n",
       "      <td>145.000</td>\n",
       "      <td>0.000</td>\n",
       "      <td>145.000</td>\n",
       "      <td>1990-05-07 00:00:00</td>\n",
       "    </tr>\n",
       "    <tr>\n",
       "      <th>25%</th>\n",
       "      <td>1995.000</td>\n",
       "      <td>5.000</td>\n",
       "      <td>9.000</td>\n",
       "      <td>900.000</td>\n",
       "      <td>4.000</td>\n",
       "      <td>81.700</td>\n",
       "      <td>37.100</td>\n",
       "      <td>235.000</td>\n",
       "      <td>3.000</td>\n",
       "      <td>235.000</td>\n",
       "      <td>1995-05-29 00:00:00</td>\n",
       "    </tr>\n",
       "    <tr>\n",
       "      <th>50%</th>\n",
       "      <td>2003.000</td>\n",
       "      <td>5.000</td>\n",
       "      <td>17.000</td>\n",
       "      <td>1115.000</td>\n",
       "      <td>5.000</td>\n",
       "      <td>100.000</td>\n",
       "      <td>45.400</td>\n",
       "      <td>250.000</td>\n",
       "      <td>11.000</td>\n",
       "      <td>250.000</td>\n",
       "      <td>2003-05-21 00:00:00</td>\n",
       "    </tr>\n",
       "    <tr>\n",
       "      <th>75%</th>\n",
       "      <td>2013.000</td>\n",
       "      <td>6.000</td>\n",
       "      <td>24.000</td>\n",
       "      <td>1425.000</td>\n",
       "      <td>6.000</td>\n",
       "      <td>127.000</td>\n",
       "      <td>57.600</td>\n",
       "      <td>265.000</td>\n",
       "      <td>29.000</td>\n",
       "      <td>265.000</td>\n",
       "      <td>2013-05-21 00:00:00</td>\n",
       "    </tr>\n",
       "    <tr>\n",
       "      <th>max</th>\n",
       "      <td>2019.000</td>\n",
       "      <td>6.000</td>\n",
       "      <td>31.000</td>\n",
       "      <td>1850.000</td>\n",
       "      <td>9.000</td>\n",
       "      <td>204.000</td>\n",
       "      <td>92.500</td>\n",
       "      <td>322.000</td>\n",
       "      <td>117.000</td>\n",
       "      <td>320.000</td>\n",
       "      <td>2019-06-28 00:00:00</td>\n",
       "    </tr>\n",
       "    <tr>\n",
       "      <th>std</th>\n",
       "      <td>9.465</td>\n",
       "      <td>0.495</td>\n",
       "      <td>8.882</td>\n",
       "      <td>531.799</td>\n",
       "      <td>1.909</td>\n",
       "      <td>34.969</td>\n",
       "      <td>15.862</td>\n",
       "      <td>21.823</td>\n",
       "      <td>18.000</td>\n",
       "      <td>21.670</td>\n",
       "      <td>NaN</td>\n",
       "    </tr>\n",
       "  </tbody>\n",
       "</table>\n",
       "</div>"
      ],
      "text/plain": [
       "             yy        mm        dd     Time      week    wt_lbs     wt_kg  \\\n",
       "count 11440.000 11440.000 11440.000 1457.000 11440.000 10222.000 10222.000   \n",
       "mean   2003.929     5.427    16.410 1030.411     4.908   102.868    46.659   \n",
       "min    1990.000     5.000     1.000    3.000     1.000     1.000     0.500   \n",
       "25%    1995.000     5.000     9.000  900.000     4.000    81.700    37.100   \n",
       "50%    2003.000     5.000    17.000 1115.000     5.000   100.000    45.400   \n",
       "75%    2013.000     6.000    24.000 1425.000     6.000   127.000    57.600   \n",
       "max    2019.000     6.000    31.000 1850.000     9.000   204.000    92.500   \n",
       "std       9.465     0.495     8.882  531.799     1.909    34.969    15.862   \n",
       "\n",
       "           lgth      freq     Flbin                       DATETIME  \n",
       "count 11440.000 11440.000 11440.000                          11440  \n",
       "mean    251.674    17.947   251.487  2004-05-03 11:22:33.991258752  \n",
       "min     145.000     0.000   145.000            1990-05-07 00:00:00  \n",
       "25%     235.000     3.000   235.000            1995-05-29 00:00:00  \n",
       "50%     250.000    11.000   250.000            2003-05-21 00:00:00  \n",
       "75%     265.000    29.000   265.000            2013-05-21 00:00:00  \n",
       "max     322.000   117.000   320.000            2019-06-28 00:00:00  \n",
       "std      21.823    18.000    21.670                            NaN  "
      ]
     },
     "execution_count": 14,
     "metadata": {},
     "output_type": "execute_result"
    }
   ],
   "source": [
    "df.describe(datetime_is_numeric=True)"
   ]
  },
  {
   "cell_type": "code",
   "execution_count": 15,
   "id": "d934f6ac",
   "metadata": {},
   "outputs": [
    {
     "data": {
      "text/plain": [
       "5383    2003-06-13 00:00:00\n",
       "4274    2001-05-16 00:00:00\n",
       "1628    1993-05-12 00:00:00\n",
       "10311   1994-05-18 00:00:00\n",
       "8199    2013-06-20 00:00:00\n",
       "8802    2014-06-27 00:00:00\n",
       "5029    2002-06-05 00:00:00\n",
       "268     1990-05-16 00:00:00\n",
       "6819    2010-05-25 09:40:00\n",
       "5946    2007-06-01 00:00:00\n",
       "Name: DATETIME, dtype: datetime64[ns]"
      ]
     },
     "execution_count": 15,
     "metadata": {},
     "output_type": "execute_result"
    }
   ],
   "source": [
    "# Datetime looks good\n",
    "df.DATETIME.sample(10)"
   ]
  },
  {
   "cell_type": "markdown",
   "id": "a500ce0a",
   "metadata": {},
   "source": [
    "# River"
   ]
  },
  {
   "cell_type": "code",
   "execution_count": 16,
   "id": "74e7b2eb",
   "metadata": {},
   "outputs": [
    {
     "data": {
      "text/plain": [
       "array([nan, 'MARGAREE', 'SW Margaree', 'SW MARGAREE'], dtype=object)"
      ]
     },
     "execution_count": 16,
     "metadata": {},
     "output_type": "execute_result"
    }
   ],
   "source": [
    "# how to clean this data?\n",
    "df.river.unique()"
   ]
  },
  {
   "cell_type": "code",
   "execution_count": 17,
   "id": "6157ffaf",
   "metadata": {},
   "outputs": [
    {
     "data": {
      "text/plain": [
       "(1218, 10222)"
      ]
     },
     "execution_count": 17,
     "metadata": {},
     "output_type": "execute_result"
    }
   ],
   "source": [
    "# null, not null\n",
    "# ie, there are mostly Margaree river data\n",
    "sum(df.river.isnull()), sum(~df.river.isnull())"
   ]
  },
  {
   "cell_type": "code",
   "execution_count": 18,
   "id": "f1fdf4f3",
   "metadata": {},
   "outputs": [
    {
     "data": {
      "text/plain": [
       "(3381, 601, 6240)"
      ]
     },
     "execution_count": 18,
     "metadata": {},
     "output_type": "execute_result"
    }
   ],
   "source": [
    "# is SW MARGAREE different than MARGAREE?\n",
    "sum(df.river == 'MARGAREE'), sum(df.river == 'SW Margaree'), sum(df.river == 'SW MARGAREE')"
   ]
  },
  {
   "cell_type": "code",
   "execution_count": 19,
   "id": "cac395d0",
   "metadata": {},
   "outputs": [],
   "source": [
    "# CONFIRM - it looks like SW is a useful distinction (past the forks)\n",
    "df.loc[df.river == 'SW Margaree', 'river'] = 'SW MARGAREE'"
   ]
  },
  {
   "cell_type": "markdown",
   "id": "9a67be84",
   "metadata": {},
   "source": [
    "# Site"
   ]
  },
  {
   "cell_type": "code",
   "execution_count": 20,
   "id": "2fbec9e5",
   "metadata": {},
   "outputs": [
    {
     "data": {
      "text/plain": [
       "69"
      ]
     },
     "execution_count": 20,
     "metadata": {},
     "output_type": "execute_result"
    }
   ],
   "source": [
    "# most sites are not null\n",
    "sum(df.site.isnull())"
   ]
  },
  {
   "cell_type": "code",
   "execution_count": 21,
   "id": "949c9f1f",
   "metadata": {},
   "outputs": [],
   "source": [
    "sites_list = [str(i) for i in list(df.site.unique())]"
   ]
  },
  {
   "cell_type": "code",
   "execution_count": 22,
   "id": "1075bf93",
   "metadata": {},
   "outputs": [
    {
     "data": {
      "text/plain": [
       "['1',\n",
       " '1,2',\n",
       " '1,8',\n",
       " '10',\n",
       " '12',\n",
       " '12,17',\n",
       " '12,26',\n",
       " '15',\n",
       " '15,17',\n",
       " '17',\n",
       " '17,12, 5',\n",
       " '17,26',\n",
       " '17,33',\n",
       " '17,5',\n",
       " '1A',\n",
       " '1B',\n",
       " '2',\n",
       " '2,5',\n",
       " '21',\n",
       " '23',\n",
       " '25',\n",
       " '25,26',\n",
       " '26',\n",
       " '26,1',\n",
       " '27',\n",
       " '28',\n",
       " '29',\n",
       " '29,30',\n",
       " '33',\n",
       " '34',\n",
       " '35',\n",
       " '35,37',\n",
       " '35,37,38',\n",
       " '35,41',\n",
       " '35,52',\n",
       " '37',\n",
       " '37,60',\n",
       " '38',\n",
       " '38,41',\n",
       " '38,52',\n",
       " '38,52,60',\n",
       " '4',\n",
       " '41',\n",
       " '41,49',\n",
       " '41,52,60',\n",
       " '41,60, 33',\n",
       " '41,60, 34',\n",
       " '41,60, 35',\n",
       " '41,60, 36',\n",
       " '41,60, 37',\n",
       " '41,60, 38',\n",
       " '41,60, 39',\n",
       " '41,60, 40',\n",
       " '41,60, 41',\n",
       " '41,60, 42',\n",
       " '41,60, 43',\n",
       " '47',\n",
       " '48',\n",
       " '48,38, 37',\n",
       " '49',\n",
       " '49,33',\n",
       " '49,34',\n",
       " '49,35',\n",
       " '49,36',\n",
       " '49,37',\n",
       " '49,38',\n",
       " '49,39',\n",
       " '49,40',\n",
       " '49,41',\n",
       " '5',\n",
       " '5,12',\n",
       " '5,17',\n",
       " '5,26',\n",
       " '5,8',\n",
       " '51',\n",
       " '52',\n",
       " '52,60',\n",
       " '56',\n",
       " '6',\n",
       " '60',\n",
       " '60,35',\n",
       " '60,52',\n",
       " '62',\n",
       " '64',\n",
       " '67',\n",
       " '7',\n",
       " '8',\n",
       " '9',\n",
       " 'Eric McFarlane',\n",
       " 'Jimmy MacFarlane',\n",
       " 'John Albert Coady',\n",
       " 'nan']"
      ]
     },
     "execution_count": 22,
     "metadata": {},
     "output_type": "execute_result"
    }
   ],
   "source": [
    "# many entries have multiple sites\n",
    "sorted(sites_list)"
   ]
  },
  {
   "cell_type": "code",
   "execution_count": 23,
   "id": "10b687e6",
   "metadata": {},
   "outputs": [],
   "source": [
    "# create columns for multiple sites\n",
    "# likely want to have an arbitrary number of sites to be input in dm_apps\n",
    "df[['SITE1', 'SITE2', 'SITE3']] = df.site.str.replace(' ','').str.split(',', expand=True).fillna(pd.NA)"
   ]
  },
  {
   "cell_type": "code",
   "execution_count": 24,
   "id": "2dbfd640",
   "metadata": {},
   "outputs": [
    {
     "data": {
      "text/html": [
       "<div>\n",
       "<style scoped>\n",
       "    .dataframe tbody tr th:only-of-type {\n",
       "        vertical-align: middle;\n",
       "    }\n",
       "\n",
       "    .dataframe tbody tr th {\n",
       "        vertical-align: top;\n",
       "    }\n",
       "\n",
       "    .dataframe thead th {\n",
       "        text-align: right;\n",
       "    }\n",
       "</style>\n",
       "<table border=\"1\" class=\"dataframe\">\n",
       "  <thead>\n",
       "    <tr style=\"text-align: right;\">\n",
       "      <th></th>\n",
       "      <th>SITE1</th>\n",
       "      <th>SITE2</th>\n",
       "      <th>SITE3</th>\n",
       "    </tr>\n",
       "  </thead>\n",
       "  <tbody>\n",
       "    <tr>\n",
       "      <th>count</th>\n",
       "      <td>11371</td>\n",
       "      <td>491</td>\n",
       "      <td>90</td>\n",
       "    </tr>\n",
       "    <tr>\n",
       "      <th>unique</th>\n",
       "      <td>40</td>\n",
       "      <td>20</td>\n",
       "      <td>13</td>\n",
       "    </tr>\n",
       "    <tr>\n",
       "      <th>top</th>\n",
       "      <td>26</td>\n",
       "      <td>52</td>\n",
       "      <td>60</td>\n",
       "    </tr>\n",
       "    <tr>\n",
       "      <th>freq</th>\n",
       "      <td>2412</td>\n",
       "      <td>82</td>\n",
       "      <td>50</td>\n",
       "    </tr>\n",
       "  </tbody>\n",
       "</table>\n",
       "</div>"
      ],
      "text/plain": [
       "        SITE1 SITE2 SITE3\n",
       "count   11371   491    90\n",
       "unique     40    20    13\n",
       "top        26    52    60\n",
       "freq     2412    82    50"
      ]
     },
     "execution_count": 24,
     "metadata": {},
     "output_type": "execute_result"
    }
   ],
   "source": [
    "# how many have site data\n",
    "df[['SITE1', 'SITE2', 'SITE3']].describe()"
   ]
  },
  {
   "cell_type": "code",
   "execution_count": 25,
   "id": "f359d550",
   "metadata": {},
   "outputs": [
    {
     "data": {
      "text/plain": [
       "yy                   int64\n",
       "mm                   int64\n",
       "dd                   int64\n",
       "Time               float64\n",
       "river               object\n",
       "week                 int64\n",
       "site                object\n",
       "loc                 object\n",
       "period              object\n",
       "wt_lbs             float64\n",
       "wt_kg              float64\n",
       "lgth                 int64\n",
       "freq                 int64\n",
       "Flbin                int64\n",
       "DATETIME    datetime64[ns]\n",
       "SITE1               object\n",
       "SITE2               object\n",
       "SITE3               object\n",
       "dtype: object"
      ]
     },
     "execution_count": 25,
     "metadata": {},
     "output_type": "execute_result"
    }
   ],
   "source": [
    "df.dtypes"
   ]
  },
  {
   "cell_type": "markdown",
   "id": "3368356f",
   "metadata": {},
   "source": [
    "# Location"
   ]
  },
  {
   "cell_type": "code",
   "execution_count": 26,
   "id": "1e69ae5b",
   "metadata": {},
   "outputs": [
    {
     "data": {
      "text/plain": [
       "array(['LOWER', 'UPPER', 'LOWER ', nan, 'LOWE'], dtype=object)"
      ]
     },
     "execution_count": 26,
     "metadata": {},
     "output_type": "execute_result"
    }
   ],
   "source": [
    "df['loc'].unique()"
   ]
  },
  {
   "cell_type": "code",
   "execution_count": 27,
   "id": "61f031f3",
   "metadata": {},
   "outputs": [],
   "source": [
    "# clean the typos\n",
    "df.loc[df['loc'] == 'LOWER ', 'loc'] = 'LOWER'\n",
    "df.loc[df['loc'] == 'LOWE', 'loc'] = 'LOWER'"
   ]
  },
  {
   "cell_type": "code",
   "execution_count": 28,
   "id": "8ccba988",
   "metadata": {},
   "outputs": [
    {
     "data": {
      "text/plain": [
       "array(['LOWER', 'UPPER', nan], dtype=object)"
      ]
     },
     "execution_count": 28,
     "metadata": {},
     "output_type": "execute_result"
    }
   ],
   "source": [
    "df['loc'].unique()"
   ]
  },
  {
   "cell_type": "markdown",
   "id": "309b02b5",
   "metadata": {},
   "source": [
    "# Period"
   ]
  },
  {
   "cell_type": "code",
   "execution_count": 29,
   "id": "ad0d9e1d",
   "metadata": {},
   "outputs": [
    {
     "data": {
      "text/plain": [
       "array(['PM', 'AM', 'AD'], dtype=object)"
      ]
     },
     "execution_count": 29,
     "metadata": {},
     "output_type": "execute_result"
    }
   ],
   "source": [
    "# AM, PM, and AD\n",
    "df.period.unique()"
   ]
  },
  {
   "cell_type": "code",
   "execution_count": 30,
   "id": "8f735485",
   "metadata": {},
   "outputs": [
    {
     "data": {
      "text/plain": [
       "(6143, 5250, 47)"
      ]
     },
     "execution_count": 30,
     "metadata": {},
     "output_type": "execute_result"
    }
   ],
   "source": [
    "# counts: AM, PM, and AD\n",
    "# AD data are also included in the MASTER csv, likely not a typo (although rare)\n",
    "sum(df.period == 'AM'), sum(df.period == 'PM'), sum(df.period == 'AD')"
   ]
  },
  {
   "cell_type": "markdown",
   "id": "e85779c2",
   "metadata": {},
   "source": [
    "# wt_lbs and wt_kg"
   ]
  },
  {
   "cell_type": "code",
   "execution_count": 31,
   "id": "18591c6b",
   "metadata": {},
   "outputs": [
    {
     "data": {
      "text/plain": [
       "count   10222.000\n",
       "mean        2.205\n",
       "std         0.004\n",
       "min         2.000\n",
       "25%         2.203\n",
       "50%         2.205\n",
       "75%         2.206\n",
       "max         2.222\n",
       "dtype: float64"
      ]
     },
     "execution_count": 31,
     "metadata": {},
     "output_type": "execute_result"
    }
   ],
   "source": [
    "# doesn't look like any math errors\n",
    "(df['wt_lbs'] / df['wt_kg']).describe()"
   ]
  },
  {
   "cell_type": "code",
   "execution_count": 32,
   "id": "ea657886",
   "metadata": {},
   "outputs": [
    {
     "data": {
      "text/plain": [
       "(10222, 10222, 11440)"
      ]
     },
     "execution_count": 32,
     "metadata": {},
     "output_type": "execute_result"
    }
   ],
   "source": [
    "# wt_lbs, wt_kg, total rows\n",
    "sum(~df['wt_lbs'].isnull()), sum(~df['wt_kg'].isnull()), df.shape[0]"
   ]
  },
  {
   "cell_type": "code",
   "execution_count": 33,
   "id": "e39a7b99",
   "metadata": {},
   "outputs": [
    {
     "data": {
      "text/plain": [
       "count   10222.000\n",
       "mean      102.868\n",
       "std        34.969\n",
       "min         1.000\n",
       "25%        81.700\n",
       "50%       100.000\n",
       "75%       127.000\n",
       "max       204.000\n",
       "Name: wt_lbs, dtype: float64"
      ]
     },
     "execution_count": 33,
     "metadata": {},
     "output_type": "execute_result"
    }
   ],
   "source": [
    "df['wt_lbs'].describe()"
   ]
  },
  {
   "cell_type": "markdown",
   "id": "fa469a88",
   "metadata": {},
   "source": [
    "# LGTH"
   ]
  },
  {
   "cell_type": "code",
   "execution_count": 34,
   "id": "39cf7138",
   "metadata": {},
   "outputs": [
    {
     "data": {
      "text/plain": [
       "count   11440.000\n",
       "mean      251.674\n",
       "std        21.823\n",
       "min       145.000\n",
       "25%       235.000\n",
       "50%       250.000\n",
       "75%       265.000\n",
       "max       322.000\n",
       "Name: lgth, dtype: float64"
      ]
     },
     "execution_count": 34,
     "metadata": {},
     "output_type": "execute_result"
    }
   ],
   "source": [
    "# these look consistent\n",
    "df.lgth.describe()"
   ]
  },
  {
   "cell_type": "code",
   "execution_count": 35,
   "id": "9f4091ef",
   "metadata": {},
   "outputs": [
    {
     "data": {
      "text/plain": [
       "0"
      ]
     },
     "execution_count": 35,
     "metadata": {},
     "output_type": "execute_result"
    }
   ],
   "source": [
    "# all data are non-null\n",
    "sum(df.lgth.isnull())"
   ]
  },
  {
   "cell_type": "markdown",
   "id": "e1605c47",
   "metadata": {},
   "source": [
    "# FREQ"
   ]
  },
  {
   "cell_type": "code",
   "execution_count": 36,
   "id": "8b626ade",
   "metadata": {},
   "outputs": [
    {
     "data": {
      "text/plain": [
       "count   11440.000\n",
       "mean       17.947\n",
       "std        18.000\n",
       "min         0.000\n",
       "25%         3.000\n",
       "50%        11.000\n",
       "75%        29.000\n",
       "max       117.000\n",
       "Name: freq, dtype: float64"
      ]
     },
     "execution_count": 36,
     "metadata": {},
     "output_type": "execute_result"
    }
   ],
   "source": [
    "# these look consistent\n",
    "df.freq.describe()"
   ]
  },
  {
   "cell_type": "code",
   "execution_count": 37,
   "id": "da353692",
   "metadata": {},
   "outputs": [
    {
     "data": {
      "text/plain": [
       "0"
      ]
     },
     "execution_count": 37,
     "metadata": {},
     "output_type": "execute_result"
    }
   ],
   "source": [
    "# all data are non-null\n",
    "sum(df.freq.isnull())"
   ]
  },
  {
   "cell_type": "code",
   "execution_count": 38,
   "id": "b579f13d",
   "metadata": {},
   "outputs": [
    {
     "data": {
      "text/plain": [
       "array([  1,   2,   7,   3,  13,   4,   5,   6,  14,   8,  11,  10,  12,\n",
       "         9,  15,  27,  16,  19,  20,  18,  24,  21,  17,  23,  25,  28,\n",
       "        30,  34,  29,  31,  22,  33,  26,  32,  37,  41,  50,  52,  39,\n",
       "        35,  44,  46,  43,  90,  70,  86, 110,  54,  40,  49,  45,  71,\n",
       "        42,  57,  48,  36,  64,  51,   0,  38,  47,  61,  67,  65,  59,\n",
       "        55,  60,  62,  53,  66,  69,  63,  56,  80,  68,  74,  83,  72,\n",
       "        77,  82,  73,  81,  76,  58,  87,  78,  88,  84,  93,  98,  95,\n",
       "        75,  92,  99, 117,  79,  85,  89,  91,  94], dtype=int64)"
      ]
     },
     "execution_count": 38,
     "metadata": {},
     "output_type": "execute_result"
    }
   ],
   "source": [
    "# proper integer data\n",
    "df.freq.unique()"
   ]
  },
  {
   "cell_type": "markdown",
   "id": "a168025b",
   "metadata": {},
   "source": [
    "# Flbin"
   ]
  },
  {
   "cell_type": "code",
   "execution_count": 39,
   "id": "9e945f50",
   "metadata": {},
   "outputs": [
    {
     "data": {
      "text/plain": [
       "count   11440.000\n",
       "mean        0.187\n",
       "std         0.669\n",
       "min         0.000\n",
       "25%         0.000\n",
       "50%         0.000\n",
       "75%         0.000\n",
       "max         3.000\n",
       "dtype: float64"
      ]
     },
     "execution_count": 39,
     "metadata": {},
     "output_type": "execute_result"
    }
   ],
   "source": [
    "# looks like it's just rounded bins\n",
    "(df.lgth - df.Flbin).describe()"
   ]
  },
  {
   "cell_type": "markdown",
   "id": "d4ed7671",
   "metadata": {},
   "source": [
    "# Check the final dataset"
   ]
  },
  {
   "cell_type": "code",
   "execution_count": 40,
   "id": "ef788033",
   "metadata": {},
   "outputs": [
    {
     "data": {
      "text/html": [
       "<div>\n",
       "<style scoped>\n",
       "    .dataframe tbody tr th:only-of-type {\n",
       "        vertical-align: middle;\n",
       "    }\n",
       "\n",
       "    .dataframe tbody tr th {\n",
       "        vertical-align: top;\n",
       "    }\n",
       "\n",
       "    .dataframe thead th {\n",
       "        text-align: right;\n",
       "    }\n",
       "</style>\n",
       "<table border=\"1\" class=\"dataframe\">\n",
       "  <thead>\n",
       "    <tr style=\"text-align: right;\">\n",
       "      <th></th>\n",
       "      <th>yy</th>\n",
       "      <th>mm</th>\n",
       "      <th>dd</th>\n",
       "      <th>Time</th>\n",
       "      <th>river</th>\n",
       "      <th>week</th>\n",
       "      <th>site</th>\n",
       "      <th>loc</th>\n",
       "      <th>period</th>\n",
       "      <th>wt_lbs</th>\n",
       "      <th>wt_kg</th>\n",
       "      <th>lgth</th>\n",
       "      <th>freq</th>\n",
       "      <th>Flbin</th>\n",
       "      <th>DATETIME</th>\n",
       "      <th>SITE1</th>\n",
       "      <th>SITE2</th>\n",
       "      <th>SITE3</th>\n",
       "    </tr>\n",
       "  </thead>\n",
       "  <tbody>\n",
       "    <tr>\n",
       "      <th>0</th>\n",
       "      <td>1990</td>\n",
       "      <td>5</td>\n",
       "      <td>7</td>\n",
       "      <td>NaN</td>\n",
       "      <td>NaN</td>\n",
       "      <td>2</td>\n",
       "      <td>12</td>\n",
       "      <td>LOWER</td>\n",
       "      <td>PM</td>\n",
       "      <td>NaN</td>\n",
       "      <td>NaN</td>\n",
       "      <td>250</td>\n",
       "      <td>1</td>\n",
       "      <td>250</td>\n",
       "      <td>1990-05-07</td>\n",
       "      <td>12</td>\n",
       "      <td>&lt;NA&gt;</td>\n",
       "      <td>&lt;NA&gt;</td>\n",
       "    </tr>\n",
       "    <tr>\n",
       "      <th>1</th>\n",
       "      <td>1990</td>\n",
       "      <td>5</td>\n",
       "      <td>7</td>\n",
       "      <td>NaN</td>\n",
       "      <td>NaN</td>\n",
       "      <td>2</td>\n",
       "      <td>12</td>\n",
       "      <td>LOWER</td>\n",
       "      <td>PM</td>\n",
       "      <td>NaN</td>\n",
       "      <td>NaN</td>\n",
       "      <td>253</td>\n",
       "      <td>1</td>\n",
       "      <td>250</td>\n",
       "      <td>1990-05-07</td>\n",
       "      <td>12</td>\n",
       "      <td>&lt;NA&gt;</td>\n",
       "      <td>&lt;NA&gt;</td>\n",
       "    </tr>\n",
       "    <tr>\n",
       "      <th>2</th>\n",
       "      <td>1990</td>\n",
       "      <td>5</td>\n",
       "      <td>7</td>\n",
       "      <td>NaN</td>\n",
       "      <td>NaN</td>\n",
       "      <td>2</td>\n",
       "      <td>12</td>\n",
       "      <td>LOWER</td>\n",
       "      <td>PM</td>\n",
       "      <td>NaN</td>\n",
       "      <td>NaN</td>\n",
       "      <td>255</td>\n",
       "      <td>2</td>\n",
       "      <td>255</td>\n",
       "      <td>1990-05-07</td>\n",
       "      <td>12</td>\n",
       "      <td>&lt;NA&gt;</td>\n",
       "      <td>&lt;NA&gt;</td>\n",
       "    </tr>\n",
       "    <tr>\n",
       "      <th>3</th>\n",
       "      <td>1990</td>\n",
       "      <td>5</td>\n",
       "      <td>7</td>\n",
       "      <td>NaN</td>\n",
       "      <td>NaN</td>\n",
       "      <td>2</td>\n",
       "      <td>12</td>\n",
       "      <td>LOWER</td>\n",
       "      <td>PM</td>\n",
       "      <td>NaN</td>\n",
       "      <td>NaN</td>\n",
       "      <td>258</td>\n",
       "      <td>2</td>\n",
       "      <td>255</td>\n",
       "      <td>1990-05-07</td>\n",
       "      <td>12</td>\n",
       "      <td>&lt;NA&gt;</td>\n",
       "      <td>&lt;NA&gt;</td>\n",
       "    </tr>\n",
       "    <tr>\n",
       "      <th>4</th>\n",
       "      <td>1990</td>\n",
       "      <td>5</td>\n",
       "      <td>7</td>\n",
       "      <td>NaN</td>\n",
       "      <td>NaN</td>\n",
       "      <td>2</td>\n",
       "      <td>12</td>\n",
       "      <td>LOWER</td>\n",
       "      <td>PM</td>\n",
       "      <td>NaN</td>\n",
       "      <td>NaN</td>\n",
       "      <td>260</td>\n",
       "      <td>7</td>\n",
       "      <td>260</td>\n",
       "      <td>1990-05-07</td>\n",
       "      <td>12</td>\n",
       "      <td>&lt;NA&gt;</td>\n",
       "      <td>&lt;NA&gt;</td>\n",
       "    </tr>\n",
       "  </tbody>\n",
       "</table>\n",
       "</div>"
      ],
      "text/plain": [
       "     yy  mm  dd  Time river  week site    loc period  wt_lbs  wt_kg  lgth  \\\n",
       "0  1990   5   7   NaN   NaN     2   12  LOWER     PM     NaN    NaN   250   \n",
       "1  1990   5   7   NaN   NaN     2   12  LOWER     PM     NaN    NaN   253   \n",
       "2  1990   5   7   NaN   NaN     2   12  LOWER     PM     NaN    NaN   255   \n",
       "3  1990   5   7   NaN   NaN     2   12  LOWER     PM     NaN    NaN   258   \n",
       "4  1990   5   7   NaN   NaN     2   12  LOWER     PM     NaN    NaN   260   \n",
       "\n",
       "   freq  Flbin   DATETIME SITE1 SITE2 SITE3  \n",
       "0     1    250 1990-05-07    12  <NA>  <NA>  \n",
       "1     1    250 1990-05-07    12  <NA>  <NA>  \n",
       "2     2    255 1990-05-07    12  <NA>  <NA>  \n",
       "3     2    255 1990-05-07    12  <NA>  <NA>  \n",
       "4     7    260 1990-05-07    12  <NA>  <NA>  "
      ]
     },
     "execution_count": 40,
     "metadata": {},
     "output_type": "execute_result"
    }
   ],
   "source": [
    "df.head()"
   ]
  },
  {
   "cell_type": "code",
   "execution_count": 41,
   "id": "d03a3886",
   "metadata": {},
   "outputs": [
    {
     "data": {
      "text/html": [
       "<div>\n",
       "<style scoped>\n",
       "    .dataframe tbody tr th:only-of-type {\n",
       "        vertical-align: middle;\n",
       "    }\n",
       "\n",
       "    .dataframe tbody tr th {\n",
       "        vertical-align: top;\n",
       "    }\n",
       "\n",
       "    .dataframe thead th {\n",
       "        text-align: right;\n",
       "    }\n",
       "</style>\n",
       "<table border=\"1\" class=\"dataframe\">\n",
       "  <thead>\n",
       "    <tr style=\"text-align: right;\">\n",
       "      <th></th>\n",
       "      <th>yy</th>\n",
       "      <th>mm</th>\n",
       "      <th>dd</th>\n",
       "      <th>Time</th>\n",
       "      <th>river</th>\n",
       "      <th>week</th>\n",
       "      <th>site</th>\n",
       "      <th>loc</th>\n",
       "      <th>period</th>\n",
       "      <th>wt_lbs</th>\n",
       "      <th>wt_kg</th>\n",
       "      <th>lgth</th>\n",
       "      <th>freq</th>\n",
       "      <th>Flbin</th>\n",
       "      <th>DATETIME</th>\n",
       "      <th>SITE1</th>\n",
       "      <th>SITE2</th>\n",
       "      <th>SITE3</th>\n",
       "    </tr>\n",
       "  </thead>\n",
       "  <tbody>\n",
       "    <tr>\n",
       "      <th>count</th>\n",
       "      <td>11440.000</td>\n",
       "      <td>11440.000</td>\n",
       "      <td>11440.000</td>\n",
       "      <td>1457.000</td>\n",
       "      <td>10222</td>\n",
       "      <td>11440.000</td>\n",
       "      <td>11371</td>\n",
       "      <td>11358</td>\n",
       "      <td>11440</td>\n",
       "      <td>10222.000</td>\n",
       "      <td>10222.000</td>\n",
       "      <td>11440.000</td>\n",
       "      <td>11440.000</td>\n",
       "      <td>11440.000</td>\n",
       "      <td>11440</td>\n",
       "      <td>11371</td>\n",
       "      <td>491</td>\n",
       "      <td>90</td>\n",
       "    </tr>\n",
       "    <tr>\n",
       "      <th>unique</th>\n",
       "      <td>NaN</td>\n",
       "      <td>NaN</td>\n",
       "      <td>NaN</td>\n",
       "      <td>NaN</td>\n",
       "      <td>2</td>\n",
       "      <td>NaN</td>\n",
       "      <td>91</td>\n",
       "      <td>2</td>\n",
       "      <td>3</td>\n",
       "      <td>NaN</td>\n",
       "      <td>NaN</td>\n",
       "      <td>NaN</td>\n",
       "      <td>NaN</td>\n",
       "      <td>NaN</td>\n",
       "      <td>NaN</td>\n",
       "      <td>40</td>\n",
       "      <td>20</td>\n",
       "      <td>13</td>\n",
       "    </tr>\n",
       "    <tr>\n",
       "      <th>top</th>\n",
       "      <td>NaN</td>\n",
       "      <td>NaN</td>\n",
       "      <td>NaN</td>\n",
       "      <td>NaN</td>\n",
       "      <td>SW MARGAREE</td>\n",
       "      <td>NaN</td>\n",
       "      <td>26</td>\n",
       "      <td>LOWER</td>\n",
       "      <td>AM</td>\n",
       "      <td>NaN</td>\n",
       "      <td>NaN</td>\n",
       "      <td>NaN</td>\n",
       "      <td>NaN</td>\n",
       "      <td>NaN</td>\n",
       "      <td>NaN</td>\n",
       "      <td>26</td>\n",
       "      <td>52</td>\n",
       "      <td>60</td>\n",
       "    </tr>\n",
       "    <tr>\n",
       "      <th>freq</th>\n",
       "      <td>NaN</td>\n",
       "      <td>NaN</td>\n",
       "      <td>NaN</td>\n",
       "      <td>NaN</td>\n",
       "      <td>6841</td>\n",
       "      <td>NaN</td>\n",
       "      <td>2402</td>\n",
       "      <td>6488</td>\n",
       "      <td>6143</td>\n",
       "      <td>NaN</td>\n",
       "      <td>NaN</td>\n",
       "      <td>NaN</td>\n",
       "      <td>NaN</td>\n",
       "      <td>NaN</td>\n",
       "      <td>NaN</td>\n",
       "      <td>2412</td>\n",
       "      <td>82</td>\n",
       "      <td>50</td>\n",
       "    </tr>\n",
       "    <tr>\n",
       "      <th>mean</th>\n",
       "      <td>2003.929</td>\n",
       "      <td>5.427</td>\n",
       "      <td>16.410</td>\n",
       "      <td>1030.411</td>\n",
       "      <td>NaN</td>\n",
       "      <td>4.908</td>\n",
       "      <td>NaN</td>\n",
       "      <td>NaN</td>\n",
       "      <td>NaN</td>\n",
       "      <td>102.868</td>\n",
       "      <td>46.659</td>\n",
       "      <td>251.674</td>\n",
       "      <td>17.947</td>\n",
       "      <td>251.487</td>\n",
       "      <td>2004-05-03 11:22:33.991258752</td>\n",
       "      <td>NaN</td>\n",
       "      <td>NaN</td>\n",
       "      <td>NaN</td>\n",
       "    </tr>\n",
       "    <tr>\n",
       "      <th>min</th>\n",
       "      <td>1990.000</td>\n",
       "      <td>5.000</td>\n",
       "      <td>1.000</td>\n",
       "      <td>3.000</td>\n",
       "      <td>NaN</td>\n",
       "      <td>1.000</td>\n",
       "      <td>NaN</td>\n",
       "      <td>NaN</td>\n",
       "      <td>NaN</td>\n",
       "      <td>1.000</td>\n",
       "      <td>0.500</td>\n",
       "      <td>145.000</td>\n",
       "      <td>0.000</td>\n",
       "      <td>145.000</td>\n",
       "      <td>1990-05-07 00:00:00</td>\n",
       "      <td>NaN</td>\n",
       "      <td>NaN</td>\n",
       "      <td>NaN</td>\n",
       "    </tr>\n",
       "    <tr>\n",
       "      <th>25%</th>\n",
       "      <td>1995.000</td>\n",
       "      <td>5.000</td>\n",
       "      <td>9.000</td>\n",
       "      <td>900.000</td>\n",
       "      <td>NaN</td>\n",
       "      <td>4.000</td>\n",
       "      <td>NaN</td>\n",
       "      <td>NaN</td>\n",
       "      <td>NaN</td>\n",
       "      <td>81.700</td>\n",
       "      <td>37.100</td>\n",
       "      <td>235.000</td>\n",
       "      <td>3.000</td>\n",
       "      <td>235.000</td>\n",
       "      <td>1995-05-29 00:00:00</td>\n",
       "      <td>NaN</td>\n",
       "      <td>NaN</td>\n",
       "      <td>NaN</td>\n",
       "    </tr>\n",
       "    <tr>\n",
       "      <th>50%</th>\n",
       "      <td>2003.000</td>\n",
       "      <td>5.000</td>\n",
       "      <td>17.000</td>\n",
       "      <td>1115.000</td>\n",
       "      <td>NaN</td>\n",
       "      <td>5.000</td>\n",
       "      <td>NaN</td>\n",
       "      <td>NaN</td>\n",
       "      <td>NaN</td>\n",
       "      <td>100.000</td>\n",
       "      <td>45.400</td>\n",
       "      <td>250.000</td>\n",
       "      <td>11.000</td>\n",
       "      <td>250.000</td>\n",
       "      <td>2003-05-21 00:00:00</td>\n",
       "      <td>NaN</td>\n",
       "      <td>NaN</td>\n",
       "      <td>NaN</td>\n",
       "    </tr>\n",
       "    <tr>\n",
       "      <th>75%</th>\n",
       "      <td>2013.000</td>\n",
       "      <td>6.000</td>\n",
       "      <td>24.000</td>\n",
       "      <td>1425.000</td>\n",
       "      <td>NaN</td>\n",
       "      <td>6.000</td>\n",
       "      <td>NaN</td>\n",
       "      <td>NaN</td>\n",
       "      <td>NaN</td>\n",
       "      <td>127.000</td>\n",
       "      <td>57.600</td>\n",
       "      <td>265.000</td>\n",
       "      <td>29.000</td>\n",
       "      <td>265.000</td>\n",
       "      <td>2013-05-21 00:00:00</td>\n",
       "      <td>NaN</td>\n",
       "      <td>NaN</td>\n",
       "      <td>NaN</td>\n",
       "    </tr>\n",
       "    <tr>\n",
       "      <th>max</th>\n",
       "      <td>2019.000</td>\n",
       "      <td>6.000</td>\n",
       "      <td>31.000</td>\n",
       "      <td>1850.000</td>\n",
       "      <td>NaN</td>\n",
       "      <td>9.000</td>\n",
       "      <td>NaN</td>\n",
       "      <td>NaN</td>\n",
       "      <td>NaN</td>\n",
       "      <td>204.000</td>\n",
       "      <td>92.500</td>\n",
       "      <td>322.000</td>\n",
       "      <td>117.000</td>\n",
       "      <td>320.000</td>\n",
       "      <td>2019-06-28 00:00:00</td>\n",
       "      <td>NaN</td>\n",
       "      <td>NaN</td>\n",
       "      <td>NaN</td>\n",
       "    </tr>\n",
       "    <tr>\n",
       "      <th>std</th>\n",
       "      <td>9.465</td>\n",
       "      <td>0.495</td>\n",
       "      <td>8.882</td>\n",
       "      <td>531.799</td>\n",
       "      <td>NaN</td>\n",
       "      <td>1.909</td>\n",
       "      <td>NaN</td>\n",
       "      <td>NaN</td>\n",
       "      <td>NaN</td>\n",
       "      <td>34.969</td>\n",
       "      <td>15.862</td>\n",
       "      <td>21.823</td>\n",
       "      <td>18.000</td>\n",
       "      <td>21.670</td>\n",
       "      <td>NaN</td>\n",
       "      <td>NaN</td>\n",
       "      <td>NaN</td>\n",
       "      <td>NaN</td>\n",
       "    </tr>\n",
       "  </tbody>\n",
       "</table>\n",
       "</div>"
      ],
      "text/plain": [
       "              yy        mm        dd     Time        river      week   site  \\\n",
       "count  11440.000 11440.000 11440.000 1457.000        10222 11440.000  11371   \n",
       "unique       NaN       NaN       NaN      NaN            2       NaN     91   \n",
       "top          NaN       NaN       NaN      NaN  SW MARGAREE       NaN     26   \n",
       "freq         NaN       NaN       NaN      NaN         6841       NaN   2402   \n",
       "mean    2003.929     5.427    16.410 1030.411          NaN     4.908    NaN   \n",
       "min     1990.000     5.000     1.000    3.000          NaN     1.000    NaN   \n",
       "25%     1995.000     5.000     9.000  900.000          NaN     4.000    NaN   \n",
       "50%     2003.000     5.000    17.000 1115.000          NaN     5.000    NaN   \n",
       "75%     2013.000     6.000    24.000 1425.000          NaN     6.000    NaN   \n",
       "max     2019.000     6.000    31.000 1850.000          NaN     9.000    NaN   \n",
       "std        9.465     0.495     8.882  531.799          NaN     1.909    NaN   \n",
       "\n",
       "          loc period    wt_lbs     wt_kg      lgth      freq     Flbin  \\\n",
       "count   11358  11440 10222.000 10222.000 11440.000 11440.000 11440.000   \n",
       "unique      2      3       NaN       NaN       NaN       NaN       NaN   \n",
       "top     LOWER     AM       NaN       NaN       NaN       NaN       NaN   \n",
       "freq     6488   6143       NaN       NaN       NaN       NaN       NaN   \n",
       "mean      NaN    NaN   102.868    46.659   251.674    17.947   251.487   \n",
       "min       NaN    NaN     1.000     0.500   145.000     0.000   145.000   \n",
       "25%       NaN    NaN    81.700    37.100   235.000     3.000   235.000   \n",
       "50%       NaN    NaN   100.000    45.400   250.000    11.000   250.000   \n",
       "75%       NaN    NaN   127.000    57.600   265.000    29.000   265.000   \n",
       "max       NaN    NaN   204.000    92.500   322.000   117.000   320.000   \n",
       "std       NaN    NaN    34.969    15.862    21.823    18.000    21.670   \n",
       "\n",
       "                             DATETIME  SITE1 SITE2 SITE3  \n",
       "count                           11440  11371   491    90  \n",
       "unique                            NaN     40    20    13  \n",
       "top                               NaN     26    52    60  \n",
       "freq                              NaN   2412    82    50  \n",
       "mean    2004-05-03 11:22:33.991258752    NaN   NaN   NaN  \n",
       "min               1990-05-07 00:00:00    NaN   NaN   NaN  \n",
       "25%               1995-05-29 00:00:00    NaN   NaN   NaN  \n",
       "50%               2003-05-21 00:00:00    NaN   NaN   NaN  \n",
       "75%               2013-05-21 00:00:00    NaN   NaN   NaN  \n",
       "max               2019-06-28 00:00:00    NaN   NaN   NaN  \n",
       "std                               NaN    NaN   NaN   NaN  "
      ]
     },
     "execution_count": 41,
     "metadata": {},
     "output_type": "execute_result"
    }
   ],
   "source": [
    "df.describe(include='all', datetime_is_numeric=True)"
   ]
  },
  {
   "cell_type": "code",
   "execution_count": 42,
   "id": "92ce8d6c",
   "metadata": {},
   "outputs": [
    {
     "data": {
      "text/plain": [
       "yy                   int64\n",
       "mm                   int64\n",
       "dd                   int64\n",
       "Time               float64\n",
       "river               object\n",
       "week                 int64\n",
       "site                object\n",
       "loc                 object\n",
       "period              object\n",
       "wt_lbs             float64\n",
       "wt_kg              float64\n",
       "lgth                 int64\n",
       "freq                 int64\n",
       "Flbin                int64\n",
       "DATETIME    datetime64[ns]\n",
       "SITE1               object\n",
       "SITE2               object\n",
       "SITE3               object\n",
       "dtype: object"
      ]
     },
     "execution_count": 42,
     "metadata": {},
     "output_type": "execute_result"
    }
   ],
   "source": [
    "df.dtypes"
   ]
  },
  {
   "cell_type": "markdown",
   "id": "9b1ca4d0",
   "metadata": {},
   "source": [
    "# Save the Final Dataset"
   ]
  },
  {
   "cell_type": "code",
   "execution_count": 43,
   "id": "14ab2fd2",
   "metadata": {},
   "outputs": [],
   "source": [
    "if False:  # change this to save\n",
    "    df.to_pickle('cleaned_LENGTHFREQ_dataset.pickle')"
   ]
  }
 ],
 "metadata": {
  "kernelspec": {
   "display_name": "Python 3 (ipykernel)",
   "language": "python",
   "name": "python3"
  },
  "language_info": {
   "codemirror_mode": {
    "name": "ipython",
    "version": 3
   },
   "file_extension": ".py",
   "mimetype": "text/x-python",
   "name": "python",
   "nbconvert_exporter": "python",
   "pygments_lexer": "ipython3",
   "version": "3.9.13"
  }
 },
 "nbformat": 4,
 "nbformat_minor": 5
}
