{
 "cells": [
  {
   "cell_type": "markdown",
   "id": "af4e75c5",
   "metadata": {},
   "source": [
    "# Notes:\n",
    "* IDs in dm_apps do not conflict with these IDs\n",
    "    * confirm prior to import to full production Db\n",
    "    * ALT: redo ID with another format\n",
    "        * Kevin opinion: it would be nice to have the IDs look completely different between species for readability, but there may be reasons why 12-13 character ids are impractical\n",
    "    * NB: since dates and sites are encoded into these ID, they may not be compatible with int filetypes\n",
    "        * dm_apps looks to use char fields with max_length of 100, so should be fine... confirm\n",
    "* CONFIRM: \n",
    "    * format of null samples when unmatched with fish details or length frequencies\n",
    "    * required distict sample entry to link to for\n",
    "        * fish details\n",
    "        * length frequencies\n",
    "    * no need for null fish details or length frequencies when unmatched with sample data\n",
    "* WISHLIST\n",
    "    * in dm_apps, it would be cool to be able to merge samples, or link with details/lengths (to deal with ambiguous data / partial matches)\n",
    "    * in dm_apps, can we search for lengths/details, or do we need to find the correct sample?\n"
   ]
  },
  {
   "cell_type": "code",
   "execution_count": 1,
   "id": "07b6fbd5",
   "metadata": {},
   "outputs": [
    {
     "data": {
      "text/html": [
       "<style>.container { width:100% !important; }</style>"
      ],
      "text/plain": [
       "<IPython.core.display.HTML object>"
      ]
     },
     "metadata": {},
     "output_type": "display_data"
    }
   ],
   "source": [
    "import numpy as np\n",
    "import pandas as pd\n",
    "import matplotlib.pyplot as plt\n",
    "import matplotlib as mpl\n",
    "import seaborn as sns\n",
    "\n",
    "sns.set_theme()\n",
    "\n",
    "# jupyter notebook full-width display\n",
    "from IPython.core.display import display, HTML\n",
    "display(HTML(\"<style>.container { width:100% !important; }</style>\"))\n",
    "\n",
    "# pandas formatting\n",
    "pd.set_option('display.float_format', '{:.3f}'.format)\n",
    "pd.set_option('display.max_columns', None)\n",
    "pd.set_option('display.max_rows', 200)"
   ]
  },
  {
   "cell_type": "code",
   "execution_count": 2,
   "id": "8ae19aa2",
   "metadata": {},
   "outputs": [],
   "source": [
    "# df_FD = pd.read_pickle('cleaned_MASTER_dataset.pickle')  # fish details\n",
    "# df_LF = pd.read_pickle('cleaned_LENGTHFREQ_dataset.pickle')  # length frequencies\n",
    "# df_SD = pd.read_pickle('cleaned_LOGBOOK_dataset.pickle')  # logbook / sample data"
   ]
  },
  {
   "cell_type": "markdown",
   "id": "632ebfc8",
   "metadata": {},
   "source": [
    "# ======================\n",
    "# DATA CLEANING\n",
    "# ======================"
   ]
  },
  {
   "cell_type": "markdown",
   "id": "841d4162",
   "metadata": {},
   "source": [
    "# FISH DETAILS"
   ]
  },
  {
   "cell_type": "code",
   "execution_count": 66,
   "id": "addedf13",
   "metadata": {},
   "outputs": [],
   "source": [
    "dtypes = {\n",
    "    'YEAR': 'Int32', \n",
    "    'MM': 'Int32', \n",
    "    'DD': 'Int32', \n",
    "    'WEEK': 'Int32', \n",
    "    'SITE': 'object', \n",
    "    'PERIOD': 'object', \n",
    "    'CONDITION': 'object', \n",
    "    'FISH_NO': 'Int32', \n",
    "    'FL_WET': 'Int32', \n",
    "    'FL_FROZEN': 'object',  # error: Unable to parse string \" \", covert to numeric manually\n",
    "    'FL_STD': 'float64',\n",
    "    'WEIGHT': 'float64',\n",
    "    'SPECIES': 'object', \n",
    "    'SEX': 'object', \n",
    "    'MATURITY': 'object',  # error: Unable to parse string \" \", covert to numeric manually\n",
    "    'GONAD_WEIGHT': 'object',  # error: Unable to parse string \" \", covert to numeric manually\n",
    "    '1st Person Aging': 'object',  # error: could not convert string to float: ''\n",
    "    'AGE': 'object',  # error: Unable to parse string \"No Slide\", covert to numeric manually\n",
    "    'FSP': 'object',  # error: Unable to parse string \" \", covert to numeric manually\n",
    "    'Comments': 'object', \n",
    "    '2nd Person Aging': 'object', \n",
    "    'AGE.1': 'object',  # error: Unable to parse string \".\", covert to numeric manually\n",
    "    'FSP.1': 'object',  # error: Unable to parse string \".\", covert to numeric manually\n",
    "    'Comments.1': 'object', \n",
    "    'Envelop Comments': 'object'\n",
    "} \n",
    "\n",
    "# initial data import\n",
    "df_FD = pd.read_csv('csv_MASTER_Gaspereau_details_Larry.csv', dtype=dtypes)\n",
    "\n",
    "# create backup of notes (including all numeric data for simplicity)\n",
    "df_FD['AGE_notes'] = df_FD['AGE']\n",
    "df_FD['FSP_notes'] = df_FD['FSP']\n",
    "\n",
    "# convert to numeric and coerce errors (all non-numeric data converted to null)\n",
    "df_FD['FL_FROZEN'] = pd.to_numeric(df_FD['FL_FROZEN'], errors='coerce').astype('Int32')\n",
    "df_FD['MATURITY'] = pd.to_numeric(df_FD['MATURITY'], errors='coerce').astype('Int32')\n",
    "df_FD['GONAD_WEIGHT'] = pd.to_numeric(df_FD['GONAD_WEIGHT'], errors='coerce')  # float\n",
    "df_FD['AGE'] = pd.to_numeric(df_FD['AGE'], errors='coerce').astype('Int32')\n",
    "df_FD['FSP'] = pd.to_numeric(df_FD['FSP'], errors='coerce').astype('Int32')\n",
    "df_FD['AGE.1'] = pd.to_numeric(df_FD['AGE.1'], errors='coerce').astype('Int32')\n",
    "df_FD['FSP.1'] = pd.to_numeric(df_FD['FSP.1'], errors='coerce').astype('Int32')\n",
    "\n",
    "# add a DATETIME column\n",
    "df_FD['DATETIME'] = pd.to_datetime(df_FD['YEAR'].astype(str) + '-' + df_FD['MM'].astype(str) + '-' + df_FD['DD'].astype(str))"
   ]
  },
  {
   "cell_type": "markdown",
   "id": "702fddfc",
   "metadata": {},
   "source": [
    "### Cleaning categorical data"
   ]
  },
  {
   "cell_type": "code",
   "execution_count": null,
   "id": "7ee18423",
   "metadata": {},
   "outputs": [],
   "source": [
    "df_FD.loc[df_FD.PERIOD == 'PM ', 'PERIOD'] = 'PM'\n",
    "df_FD.loc[df_FD.CONDITION == 'FROZEN', 'CONDITION'] = 'Frozen'\n",
    "df_FD.loc[df_FD.CONDITION == 'FRESH', 'CONDITION'] = 'Fresh'"
   ]
  },
  {
   "cell_type": "markdown",
   "id": "f98c6764",
   "metadata": {},
   "source": [
    "### PERIOD: convert 'AD' to 'AM' - CONFIRM\n",
    "* (118 entries)\n",
    "* Other CSV also include AD periods for entered data"
   ]
  },
  {
   "cell_type": "code",
   "execution_count": null,
   "id": "fce6eb6d",
   "metadata": {},
   "outputs": [],
   "source": [
    "confirm_AD_to_AM = False\n",
    "\n",
    "if confirm_AD_to_AM:\n",
    "    df_FD.loc[df_FD.PERIOD == 'AD', 'PERIOD'] = 'AM'"
   ]
  },
  {
   "cell_type": "markdown",
   "id": "cff02655",
   "metadata": {},
   "source": [
    "### FL_STD: null or scale - CONFIRM\n",
    "* (264 entries)"
   ]
  },
  {
   "cell_type": "code",
   "execution_count": null,
   "id": "3c63e0d7",
   "metadata": {},
   "outputs": [],
   "source": [
    "confirm_FL_STD_null = True\n",
    "confirm_FL_STD_scale = False\n",
    "\n",
    "# record indices of problems before transforming\n",
    "index_FL_STD_problems = list(df_FD.loc[df_FD.FL_STD < 100, 'FL_STD'].index)\n",
    "\n",
    "if confirm_FL_STD_null:\n",
    "    df_FD.loc[df_FD.FL_STD < 100, 'FL_STD'] = np.nan\n",
    "if confirm_FL_STD_scale:\n",
    "    df_FD.loc[df_FD.FL_STD < 100, 'FL_STD'] = df_FD.loc[df_FD.FL_STD < 100, 'FL_STD'] * 10"
   ]
  },
  {
   "cell_type": "markdown",
   "id": "eb8fa3bf",
   "metadata": {},
   "source": [
    "### FL_WET and FL_FROZEN: null or scale - CONFIRM\n",
    "* (5 entries)"
   ]
  },
  {
   "cell_type": "code",
   "execution_count": null,
   "id": "f545ac6f",
   "metadata": {},
   "outputs": [],
   "source": [
    "confirm_FL_WF_null = True\n",
    "confirm_FL_WF_scale = False\n",
    "\n",
    "# NOTE: indices from Excel are 1 indexed, not 0 indexed, and row 1 is the header\n",
    "# therefore, the indices are off by 2\n",
    "idx_dict = {\n",
    "    35058-2: 100,\n",
    "    35143-2: 10,\n",
    "    35157-2: 100,\n",
    "    35158-2: 100,\n",
    "    35186-2: 100\n",
    "}\n",
    "\n",
    "# split these into variables to improve readability\n",
    "indices = idx_dict.keys()\n",
    "scale_factors = [idx_dict[k] for k in idx_dict.keys()]\n",
    "\n",
    "if confirm_FL_WF_null:\n",
    "    df_FD.loc[indices, 'FL_WET'] = np.nan\n",
    "    df_FD.loc[indices, 'FL_FROZEN'] = np.nan\n",
    "if confirm_FL_WF_scale:\n",
    "    df_FD.loc[indices, 'FL_WET'] = df_FD.loc[indices, 'FL_WET'] * scale_factors\n",
    "    df_FD.loc[indices, 'FL_FROZEN'] = df_FD.loc[indices, 'FL_FROZEN'] * scale_factors"
   ]
  },
  {
   "cell_type": "markdown",
   "id": "72616c50",
   "metadata": {},
   "source": [
    "### SEX: leave or null 'U' - CONFIRM\n",
    "NOTE: there are 749 'U' in 1987 (way more than all other years combined (797))"
   ]
  },
  {
   "cell_type": "code",
   "execution_count": 67,
   "id": "09066747",
   "metadata": {},
   "outputs": [],
   "source": [
    "confirm_SEX_U_null = False\n",
    "\n",
    "if confirm_SEX_U_null:\n",
    "     df_FD.loc[df_FD.SEX == 'U', 'SEX'] = np.nan"
   ]
  },
  {
   "cell_type": "markdown",
   "id": "9181d840",
   "metadata": {},
   "source": [
    "### SEX: leave or null 'B' - CONFIRM\n",
    "* (only 1 entry)\n",
    "* confirm B is not 'both' (if so, could change label to 'H' for hermaphrodite)"
   ]
  },
  {
   "cell_type": "code",
   "execution_count": null,
   "id": "0aa1d8a9",
   "metadata": {},
   "outputs": [],
   "source": [
    "confirm_SEX_B_null = False\n",
    "\n",
    "if confirm_SEX_B_null:\n",
    "    df_FD.loc[df_FD.SEX == 'B', 'SEX'] = np.nan\n",
    "        \n",
    "confirm_SEX_B_actually_H = False\n",
    "\n",
    "if confirm_SEX_B_actually_H:\n",
    "    df_FD.loc[df_FD.SEX == 'B', 'SEX'] = 'H'"
   ]
  },
  {
   "cell_type": "markdown",
   "id": "09ec686a",
   "metadata": {},
   "source": [
    "### MATURITY: leave or null '44' - CONFIRM\n",
    "* (only 1 entry)\n",
    "* could also be typo for 4"
   ]
  },
  {
   "cell_type": "code",
   "execution_count": null,
   "id": "a6bad20c",
   "metadata": {},
   "outputs": [],
   "source": [
    "confirm_MATURITY_44_null = True\n",
    "\n",
    "if confirm_MATURITY_44_null:\n",
    "     df_FD.loc[df_FD.MATURITY == 44, 'MATURITY'] = np.nan\n",
    "        \n",
    "confirm_MATURITY_44_actually_4 = False\n",
    "\n",
    "if confirm_MATURITY_44_null:\n",
    "     df_FD.loc[df_FD.MATURITY == 44, 'MATURITY'] = 4"
   ]
  },
  {
   "attachments": {},
   "cell_type": "markdown",
   "id": "d73d4347",
   "metadata": {},
   "source": [
    "### WEIGHT: Nullify outliers - CONFIRM\n",
    "* (6 entries)\n",
    "* they all look real except 1934g fish which could be checked manually"
   ]
  },
  {
   "cell_type": "code",
   "execution_count": null,
   "id": "7aa200dc",
   "metadata": {},
   "outputs": [],
   "source": [
    "max_weight = 500\n",
    "\n",
    "df_FD.loc[df_FD.WEIGHT > max_weight]"
   ]
  },
  {
   "cell_type": "code",
   "execution_count": null,
   "id": "3cf0e70b",
   "metadata": {},
   "outputs": [],
   "source": [
    "confirm_WEIGHT_null = False \n",
    "\n",
    "if confirm_WEIGHT_null:\n",
    "     df_FD.loc[df_FD.WEIGHT > max_weight, 'WEIGHT'] = np.nan\n",
    "        \n",
    "# DEAL WITH 1934g FISH MANUALLY\n",
    "df_FD.loc[df_FD.WEIGHT > 1900, 'WEIGHT'] = np.nan"
   ]
  },
  {
   "cell_type": "markdown",
   "id": "25e6bbce",
   "metadata": {},
   "source": [
    "### GONAD_WEIGHT: Nullify outliers - CONFIRM\n",
    "* (7 entries)"
   ]
  },
  {
   "cell_type": "code",
   "execution_count": null,
   "id": "03084690",
   "metadata": {},
   "outputs": [],
   "source": [
    "max_gonad_weight = 200\n",
    "\n",
    "df_FD.loc[df_FD.GONAD_WEIGHT > max_gonad_weight]"
   ]
  },
  {
   "cell_type": "code",
   "execution_count": null,
   "id": "7bacc68b",
   "metadata": {},
   "outputs": [],
   "source": [
    "confirm_GONAD_null = True  # all of these have gonads that weight more than the total weight\n",
    "\n",
    "if confirm_GONAD_null:\n",
    "     df_FD.loc[df_FD.GONAD_WEIGHT > max_gonad_weight, 'GONAD_WEIGHT'] = np.nan"
   ]
  },
  {
   "attachments": {},
   "cell_type": "markdown",
   "id": "20e17bac",
   "metadata": {},
   "source": [
    "### Validate weight to length ratio - CONFIRM"
   ]
  },
  {
   "attachments": {},
   "cell_type": "markdown",
   "id": "c0591b0a",
   "metadata": {},
   "source": [
    "##### need to flag these and manually deal with them individually \n",
    "\n",
    "\n",
    "[4:25 PM] Fishman, David\n",
    "would be based on length in cm and weight in g\n",
    "\n",
    "<img style=\"float: left;\" src=data:image/png;base64,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>"
   ]
  },
  {
   "cell_type": "code",
   "execution_count": 68,
   "id": "96ced782",
   "metadata": {},
   "outputs": [],
   "source": [
    "def lw_prediction_delta(sex, length_mm, weight_g):\n",
    "    \"\"\"\n",
    "    returns actual weight / predicted weight, based on length and sex\n",
    "    \"\"\"\n",
    "    \n",
    "    sex, length_mm, weight_g = str(sex), float(length_mm), float(weight_g)\n",
    "    \n",
    "    if sex.lower()[0] == 'm':\n",
    "        A, B = 0.00654, 3.15\n",
    "    elif sex.lower()[0] == 'f':\n",
    "        A, B = 0.00909, 3.03\n",
    "    else:\n",
    "        A, B = 0.00866, 3.06\n",
    "        \n",
    "    # in grams, length converted mm to cm\n",
    "    predicted_weight_g = A * ((length_mm / 10) ** B)\n",
    "    \n",
    "    return weight_g / predicted_weight_g\n"
   ]
  },
  {
   "cell_type": "code",
   "execution_count": null,
   "id": "a155d3e1",
   "metadata": {},
   "outputs": [],
   "source": [
    "df_FD['lw_ratio_check'] = 0.0\n",
    "\n",
    "for i, row in df_FD.iterrows():\n",
    "    try:\n",
    "        df_FD.loc[i, 'lw_ratio_check'] = lw_prediction_delta(row['SEX'], row['FL_STD'], row['WEIGHT'])\n",
    "    except KeyError:\n",
    "        df_FD.loc[i, 'lw_ratio_check'] = np.nan\n",
    "        \n",
    "df_FD['lw_ratio_check'].describe(percentiles=[0.005, 0.995])"
   ]
  },
  {
   "cell_type": "code",
   "execution_count": null,
   "id": "8ba84797",
   "metadata": {},
   "outputs": [],
   "source": [
    "# number of samples with extraordinary dimensions\n",
    "avg_ratio = df_FD['lw_ratio_check'].describe()['mean']\n",
    "stdev = df_FD['lw_ratio_check'].describe()['std']\n",
    "\n",
    "lw_ratio_min, lw_ratio_max = avg_ratio - 3*stdev, avg_ratio + 3*stdev\n",
    "df_FD[(df_FD['lw_ratio_check'] < lw_ratio_min) | (df_FD['lw_ratio_check'] > lw_ratio_max)].shape"
   ]
  },
  {
   "cell_type": "code",
   "execution_count": null,
   "id": "9e7bd444",
   "metadata": {},
   "outputs": [],
   "source": [
    "# these are our outliers\n",
    "columns = ['CONDITION', 'FL_WET', 'FL_FROZEN', 'FL_STD', 'WEIGHT', 'SPECIES', 'SEX', 'MATURITY', 'GONAD_WEIGHT', 'AGE', 'lw_ratio_check']\n",
    "df_FD[(df_FD['lw_ratio_check'] < lw_ratio_min) | (df_FD['lw_ratio_check'] > lw_ratio_max)].sort_values('lw_ratio_check')[columns]"
   ]
  },
  {
   "cell_type": "markdown",
   "id": "ba1e64e4",
   "metadata": {},
   "source": [
    "### CONFIRM: whether any rows should be nulled/dropped/fixed"
   ]
  },
  {
   "cell_type": "code",
   "execution_count": null,
   "id": "8f671e06",
   "metadata": {},
   "outputs": [],
   "source": []
  },
  {
   "cell_type": "code",
   "execution_count": null,
   "id": "e64e1a41",
   "metadata": {},
   "outputs": [],
   "source": []
  },
  {
   "cell_type": "code",
   "execution_count": null,
   "id": "04f17375",
   "metadata": {},
   "outputs": [],
   "source": []
  },
  {
   "cell_type": "code",
   "execution_count": null,
   "id": "fa626159",
   "metadata": {},
   "outputs": [],
   "source": [
    "# drop the lw_ratio_check before saving\n",
    "df_FD = df_FD.drop('lw_ratio_check', axis=1)"
   ]
  },
  {
   "cell_type": "markdown",
   "id": "fe7f4ab9",
   "metadata": {},
   "source": [
    "# LENGTH FREQUENCIES"
   ]
  },
  {
   "cell_type": "code",
   "execution_count": null,
   "id": "d36143be",
   "metadata": {},
   "outputs": [],
   "source": [
    "df_LF = pd.read_csv(r'.\\provided data\\Margaree Gaspereau lgth-freq_Master.csv')"
   ]
  },
  {
   "cell_type": "markdown",
   "id": "21ef8a34",
   "metadata": {},
   "source": [
    "### Clean Date/Time and create DATETIME column"
   ]
  },
  {
   "cell_type": "code",
   "execution_count": null,
   "id": "7d9fa20c",
   "metadata": {},
   "outputs": [],
   "source": [
    "# convert all times to same format, set missing times to 0000 (date only), then to datetime format\n",
    "df_LF['CleanTime'] = df_LF['Time']\n",
    "df_LF.loc[df_LF['CleanTime'] < 10, 'CleanTime'] = df_LF.loc[df_LF['CleanTime'] < 10, 'CleanTime'] * 100\n",
    "df_LF['CleanTime'] = pd.to_datetime(df_LF.CleanTime, format='%H%M')\n",
    "\n",
    "# all null times should be 0000 (which pandas reads as no time data)\n",
    "# NOTE: incorporate AM/PM column?\n",
    "df_LF.loc[df_LF['CleanTime'].isnull(), 'CleanTime'] = pd.to_datetime(0)  \n",
    "\n",
    "df_LF['DATETIME'] = pd.to_datetime(dict(\n",
    "    year=df_LF['yy'], \n",
    "    month=df_LF['mm'], \n",
    "    day=df_LF['dd'], \n",
    "    hour=df_LF['CleanTime'].dt.hour, \n",
    "    minute=df_LF['CleanTime'].dt.minute\n",
    "), errors='coerce')\n",
    "\n",
    "df_LF = df_LF.drop('CleanTime', axis=1)"
   ]
  },
  {
   "cell_type": "markdown",
   "id": "10501bf3",
   "metadata": {},
   "source": [
    "### Clean River Column"
   ]
  },
  {
   "cell_type": "code",
   "execution_count": null,
   "id": "ca2e93c9",
   "metadata": {},
   "outputs": [],
   "source": [
    "df_LF.loc[df_LF.river == 'SW Margaree', 'river'] = 'SW MARGAREE'\n",
    "df_LF.river.unique()"
   ]
  },
  {
   "cell_type": "markdown",
   "id": "027609d3",
   "metadata": {},
   "source": [
    "### Expand and Clean Site Column\n",
    "* Later analysis shows matching with samples on the first noted site is more effective than combining multiple sites. \n",
    "* Consider adding extra sites to notes column or adding the ability to select multiple sites when inputting a sample."
   ]
  },
  {
   "cell_type": "code",
   "execution_count": null,
   "id": "dbd5aec6",
   "metadata": {},
   "outputs": [],
   "source": [
    "df_LF[['SITE1', 'SITE2', 'SITE3']] = df_LF.site.str.replace(' ','').str.split(',', expand=True).fillna(pd.NA)"
   ]
  },
  {
   "cell_type": "markdown",
   "id": "d0dc6bd1",
   "metadata": {},
   "source": [
    "### Clean Location"
   ]
  },
  {
   "cell_type": "code",
   "execution_count": null,
   "id": "6fb71191",
   "metadata": {},
   "outputs": [],
   "source": [
    "# clean the typos\n",
    "df_LF.loc[df_LF['loc'] == 'LOWER ', 'loc'] = 'LOWER'\n",
    "df_LF.loc[df_LF['loc'] == 'LOWE', 'loc'] = 'LOWER'\n",
    "df_LF['loc'].unique()"
   ]
  },
  {
   "cell_type": "markdown",
   "id": "fc8f283e",
   "metadata": {},
   "source": [
    "### Period: AD left as is - CONFIRM"
   ]
  },
  {
   "cell_type": "code",
   "execution_count": null,
   "id": "41e16630",
   "metadata": {},
   "outputs": [],
   "source": [
    "df_LF.period.unique()"
   ]
  },
  {
   "cell_type": "code",
   "execution_count": null,
   "id": "a4a10a11",
   "metadata": {},
   "outputs": [],
   "source": [
    "# counts: AM, PM, and AD\n",
    "# AD data are also included in the FISH DETAILS, assumed not a typo (although rare)\n",
    "sum(df_LF.period == 'AM'), sum(df_LF.period == 'PM'), sum(df_LF.period == 'AD')"
   ]
  },
  {
   "cell_type": "markdown",
   "id": "16aebdbb",
   "metadata": {},
   "source": [
    "# SAMPLES (logbook)"
   ]
  },
  {
   "cell_type": "code",
   "execution_count": null,
   "id": "758ae5a5",
   "metadata": {},
   "outputs": [],
   "source": [
    "dtypes = {\n",
    "    'code': 'object',\n",
    "    'no_nets': 'object',\n",
    "    'YEAR': 'Int32',\n",
    "    'MM': 'Int32',\n",
    "    'DD': 'Int32',\n",
    "    'Week': 'Int32',\n",
    "#     'hours_fished': 'Int32'  # some entries say 'maximum '\n",
    "}\n",
    "df = pd.read_csv(r'.\\provided data\\Margaree Gaspereau logbooks_Master.csv', dtype=dtypes)"
   ]
  },
  {
   "cell_type": "code",
   "execution_count": null,
   "id": "0b041f9b",
   "metadata": {},
   "outputs": [],
   "source": [
    "# clean NAME column\n",
    "\n",
    "\n",
    "\n",
    "\n",
    "\n",
    "\n",
    "\n",
    "\n",
    "\n",
    "sorted(list(df.NAME.unique()))"
   ]
  },
  {
   "cell_type": "code",
   "execution_count": null,
   "id": "01272aa2",
   "metadata": {},
   "outputs": [],
   "source": [
    "# create columns for multiple sites\n",
    "df[['SITE1', 'SITE2']] = df.SITE_NO.str.split(',', expand=True).fillna(pd.NA)"
   ]
  },
  {
   "cell_type": "code",
   "execution_count": null,
   "id": "c3504251",
   "metadata": {},
   "outputs": [],
   "source": [
    "df['DATETIME'] = pd.to_datetime(\n",
    "    df['YEAR'].astype(str) + '-' + df['MM'].astype(str) + '-' + df['DD'].astype(str), \n",
    "    errors='coerce'  # coerce missing days and months into errors\n",
    ")\n",
    "# any entries with missing month or day can't get an exact datetime\n",
    "sum(df.DATETIME.isnull())"
   ]
  },
  {
   "cell_type": "code",
   "execution_count": null,
   "id": "3c800018",
   "metadata": {},
   "outputs": [],
   "source": []
  },
  {
   "cell_type": "code",
   "execution_count": null,
   "id": "1dfdea53",
   "metadata": {},
   "outputs": [],
   "source": []
  },
  {
   "cell_type": "code",
   "execution_count": null,
   "id": "121ed0fc",
   "metadata": {},
   "outputs": [],
   "source": []
  },
  {
   "cell_type": "code",
   "execution_count": null,
   "id": "c5b26ea2",
   "metadata": {},
   "outputs": [],
   "source": []
  },
  {
   "cell_type": "code",
   "execution_count": null,
   "id": "4d20b1bb",
   "metadata": {},
   "outputs": [],
   "source": []
  },
  {
   "cell_type": "code",
   "execution_count": null,
   "id": "2cc394d7",
   "metadata": {},
   "outputs": [],
   "source": []
  },
  {
   "cell_type": "code",
   "execution_count": null,
   "id": "3d61a4df",
   "metadata": {},
   "outputs": [],
   "source": []
  },
  {
   "cell_type": "code",
   "execution_count": null,
   "id": "4021327d",
   "metadata": {},
   "outputs": [],
   "source": []
  },
  {
   "cell_type": "code",
   "execution_count": null,
   "id": "5ccebff3",
   "metadata": {},
   "outputs": [],
   "source": []
  },
  {
   "cell_type": "code",
   "execution_count": null,
   "id": "5f1cc858",
   "metadata": {},
   "outputs": [],
   "source": []
  },
  {
   "cell_type": "code",
   "execution_count": null,
   "id": "41a4b9f1",
   "metadata": {},
   "outputs": [],
   "source": []
  },
  {
   "cell_type": "markdown",
   "id": "2c18b652",
   "metadata": {},
   "source": [
    "# ======================\n",
    "# FORMATING FOR IMPORT\n",
    "# ======================\n",
    "\n",
    "* ALLCAPS: denotes columns that aren't perfect matches\n",
    "* lowercase: denotes columns that should match perfectly with herring tables in dm_apps"
   ]
  },
  {
   "cell_type": "markdown",
   "id": "0a733d49",
   "metadata": {},
   "source": [
    "# LENGTH FREQUENCIES\n",
    "### Generate Unique IDs to Import / match with Samples"
   ]
  },
  {
   "cell_type": "code",
   "execution_count": 3,
   "id": "4f7de8de",
   "metadata": {},
   "outputs": [],
   "source": [
    "# replace non-numeric data with made up site numbers\n",
    "# NOTE: These are converted back in import script\n",
    "id_replacements = {\n",
    "    '1A': 90,\n",
    "    '1B': 91,\n",
    "    'EricMcFarlane': 92,\n",
    "    'JimmyMacFarlane': 93,\n",
    "    'JohnAlbertCoady': 94\n",
    "}\n",
    "df_LF = df_LF.replace({'SITE1': id_replacements})"
   ]
  },
  {
   "cell_type": "code",
   "execution_count": 4,
   "id": "3bd79999",
   "metadata": {},
   "outputs": [],
   "source": [
    "# 'unique' id column (note ambiguities, and solve later)\n",
    "df_LF['id'] = (\n",
    "    df_LF.DATETIME.dt.year*1_000_000 \n",
    "    + df_LF.DATETIME.dt.month*10_000 \n",
    "    + df_LF.DATETIME.dt.day*100 \n",
    "    + df_LF.SITE1.fillna(0).astype(int)\n",
    ").astype('Int64')\n",
    "\n",
    "# new sample indicator\n",
    "df_LF['new_sample'] = df_LF.lgth.diff() < 0\n",
    "\n",
    "# new id indicator\n",
    "df_LF['new_id'] = df_LF.id.diff() != 0"
   ]
  },
  {
   "cell_type": "code",
   "execution_count": 5,
   "id": "48a19a91",
   "metadata": {},
   "outputs": [],
   "source": [
    "# update ids for ambiguous entries\n",
    "duplicated_ids_LF = list(df_LF[~df_LF.new_id & df_LF.new_sample].id)"
   ]
  },
  {
   "cell_type": "code",
   "execution_count": 6,
   "id": "6a4155d5",
   "metadata": {
    "scrolled": false
   },
   "outputs": [],
   "source": [
    "if df_LF.id.max() < 2_100_000_000: # only run this once\n",
    "\n",
    "    # add 1B to duplicate ids\n",
    "    df_LF.loc[df_LF.id.isin(duplicated_ids_LF), 'id'] = df_LF.loc[df_LF.id.isin(duplicated_ids_LF), 'id'] + 1_000_000_000\n",
    "\n",
    "    # add an extra billion to every other id, so that all are now distinct\n",
    "    previous_lgth = 0\n",
    "    multiplier = False\n",
    "\n",
    "    for i, row in df_LF[df_LF.id > 2_900_000_000].iterrows():\n",
    "\n",
    "        current_lgth = row['lgth']\n",
    "        if previous_lgth > current_lgth:\n",
    "            multiplier = not multiplier\n",
    "\n",
    "        df_LF.loc[i, 'id'] = row.id + 1_000_000_000*multiplier\n",
    "\n",
    "        previous_lgth = current_lgth"
   ]
  },
  {
   "cell_type": "markdown",
   "id": "ec2f3dac",
   "metadata": {},
   "source": [
    "### Length Bins"
   ]
  },
  {
   "cell_type": "code",
   "execution_count": 9,
   "id": "3765e297",
   "metadata": {},
   "outputs": [],
   "source": [
    "# use the same bins as used in the herring database (cm, grouped by 0.5s)\n",
    "df_LF['length_bin_id'] = (df_LF.lgth - df_LF.lgth % 5) / 10"
   ]
  },
  {
   "cell_type": "markdown",
   "id": "24b4e1aa",
   "metadata": {},
   "source": [
    "### LENGTH FREQUENCY \n",
    "### FINAL TABLE FOR IMPORT INTO DM_APPS"
   ]
  },
  {
   "cell_type": "code",
   "execution_count": 11,
   "id": "95ae5596",
   "metadata": {},
   "outputs": [],
   "source": [
    "gaspereau_lengthfrequency = df_LF.groupby(['id', 'length_bin_id']).sum('freq').reset_index()[['freq', 'length_bin_id', 'id']].rename({\n",
    "    'freq': 'count', \n",
    "    'length_bin_id': 'length_bin_id', \n",
    "    'id': 'sample_id'\n",
    "}, axis=1)"
   ]
  },
  {
   "cell_type": "markdown",
   "id": "3da60e65",
   "metadata": {},
   "source": [
    "# FISH DETAILS"
   ]
  },
  {
   "cell_type": "code",
   "execution_count": 25,
   "id": "e1c301f6",
   "metadata": {},
   "outputs": [],
   "source": [
    "# replace non-numeric data with made up site numbers\n",
    "id_replacements_v2 = {\n",
    "    '1A': 90,\n",
    "    '1B': 91,\n",
    "    'Eric MacFarlane': 92,\n",
    "    'E.MACFARLANE': 92,\n",
    "    'J McFarlane': 93,\n",
    "    'JA Coady': 94,\n",
    "    '11K3 (435,211)': 95, \n",
    "    '47 or 62': 47\n",
    "}\n",
    "\n",
    "# same site replacements from LF\n",
    "df_FD['SITE1'] = df_FD.replace({'SITE': id_replacements_v2}).SITE\n",
    "df_FD[['SITE1', 'SITE2', 'SITE3']] = df_FD.SITE1.str.replace(' ','').str.split(',', expand=True).fillna(pd.NA)\n",
    "\n",
    "df_FD['sample_id'] = (\n",
    "    df_FD.YEAR.astype(int)*1_000_000 \n",
    "    + df_FD.MM.fillna(0).astype(int)*10_000\n",
    "    + df_FD.DD.fillna(0).astype(int)*100\n",
    "    + df_FD.SITE1.fillna(0).astype(int)\n",
    ").astype('Int64')"
   ]
  },
  {
   "cell_type": "markdown",
   "id": "c63a5465",
   "metadata": {},
   "source": [
    "### FISH DETAILS\n",
    "### FINAL TABLE FOR IMPORT INTO DM_APPS"
   ]
  },
  {
   "cell_type": "code",
   "execution_count": 32,
   "id": "2fef1961",
   "metadata": {},
   "outputs": [],
   "source": [
    "\"\"\"uses all detail-related data available - doesn't match well with herring_fishdetail table\"\"\"\n",
    "\n",
    "# ALL CAPS used for unmatched fields\n",
    "rename_FD = {\n",
    "    'SITE1': 'SITE', 'FISH_NO': 'fish_number', 'FL_STD': 'fish_length', \n",
    "    'WEIGHT': 'fish_weight', 'MATURITY': 'maturity_id',\n",
    "    'GONAD_WEIGHT': 'gonad_weight', '1st Person Aging': 'AGING_PERSON_1', 'AGE': 'AGE_1', 'FSP': 'FSP_1', \n",
    "    'Comments': 'AGE_COMMENTS_1', '2nd Person Aging': 'AGING_PERSON_2', 'AGE.1': 'AGE_2', 'FSP.1': 'FSP_2', \n",
    "    'Comments.1': 'AGE_COMMENTS_2', 'Envelop Comments': 'ENVELOP_COMMENTS', 'AGE_notes': 'AGE_NOTES', 'FSP_notes': 'FSP_NOTES'\n",
    "}\n",
    "\n",
    "gaspereau_fishdetails = df_FD[[\n",
    "    'sample_id','DATETIME', 'SITE1',\n",
    "    'CONDITION', 'FISH_NO', 'FL_WET', 'FL_FROZEN', 'FL_STD', 'WEIGHT', 'SPECIES', 'SEX', 'MATURITY', \n",
    "    'GONAD_WEIGHT', '1st Person Aging', 'AGE', 'FSP', 'Comments', '2nd Person Aging', 'AGE.1', 'FSP.1', 'Comments.1', \n",
    "    'Envelop Comments', 'AGE_notes', 'FSP_notes'\n",
    "]].rename(columns=rename_FD)"
   ]
  },
  {
   "cell_type": "markdown",
   "id": "6c37f81c",
   "metadata": {},
   "source": [
    "# SAMPLES"
   ]
  },
  {
   "cell_type": "code",
   "execution_count": 15,
   "id": "dbe15d7b",
   "metadata": {},
   "outputs": [],
   "source": [
    "# same site replacements from LF\n",
    "df_SD = df_SD.replace({'SITE1': id_replacements})\n",
    "\n",
    "# 'unique' id column\n",
    "df_SD['id'] = (\n",
    "    df_SD.YEAR.astype(int)*1_000_000 \n",
    "    + df_SD.MM.fillna(0).astype(int)*10_000\n",
    "    + df_SD.DD.fillna(0).astype(int)*100\n",
    "    + df_SD.SITE1.fillna(0).astype(int)\n",
    ").astype('Int64')\n",
    "\n",
    "# duplicated ids\n",
    "duplicated_ids_SD = set(df_SD[df_SD.duplicated('id', keep=False)].id)"
   ]
  },
  {
   "cell_type": "code",
   "execution_count": 16,
   "id": "ccc385a1",
   "metadata": {},
   "outputs": [],
   "source": [
    "# some of these ids end up with an extra digit\n",
    "if df_SD.id.max() < 2_100_000_000:\n",
    "    \n",
    "    # initialise number of handled repeats as zero for each id\n",
    "    n_repeats = dict(zip(duplicated_ids_SD, [0 for x in duplicated_ids_SD]))\n",
    "    \n",
    "    for i, row in df_SD[df_SD.id.isin(duplicated_ids_SD)].iterrows():\n",
    "        df_SD.loc[i, 'id'] = row['id'] + 1_000_000_000 * int(n_repeats[row['id']] + 1)\n",
    "        n_repeats[row['id']] += 1"
   ]
  },
  {
   "cell_type": "markdown",
   "id": "cde7c9b6",
   "metadata": {},
   "source": [
    "### CONFIRM:  add null sample data where there is unmatched length frequencies and fish details\n",
    "* if these null data are added, all fish detail and length frequencies should get into dm_apps\n",
    "* if null data are not added, unmatched fish detail and length frequencies will be added to rejected files (csv generated on import)"
   ]
  },
  {
   "cell_type": "code",
   "execution_count": 20,
   "id": "9f8d3dce",
   "metadata": {},
   "outputs": [
    {
     "data": {
      "text/plain": [
       "(731, 917, 0.797164667393675)"
      ]
     },
     "execution_count": 20,
     "metadata": {},
     "output_type": "execute_result"
    }
   ],
   "source": [
    "# how many length frequency measurements are matched with samples?\n",
    "# apprx 80%\n",
    "(\n",
    "    df_LF[df_LF.id.isin(set(df_SD.id))].id.nunique(), \n",
    "    df_LF.id.nunique(), \n",
    "    df_LF[df_LF.id.isin(set(df_SD.id))].id.nunique() / df_LF.id.nunique()\n",
    ")"
   ]
  },
  {
   "cell_type": "code",
   "execution_count": 26,
   "id": "607420a2",
   "metadata": {},
   "outputs": [
    {
     "data": {
      "text/plain": [
       "(1052, 1106, 0.9511754068716094)"
      ]
     },
     "execution_count": 26,
     "metadata": {},
     "output_type": "execute_result"
    }
   ],
   "source": [
    "# how many fish detail sample ids are matched with samples id column?\n",
    "# apprx 95%\n",
    "(\n",
    "    df_FD[df_FD.sample_id.isin(set(df_SD.id))].sample_id.nunique(), \n",
    "    df_FD.sample_id.nunique(), \n",
    "    df_FD[df_FD.sample_id.isin(set(df_SD.id))].sample_id.nunique() / df_FD.sample_id.nunique()\n",
    ")"
   ]
  },
  {
   "cell_type": "code",
   "execution_count": 21,
   "id": "7ef6cf53",
   "metadata": {},
   "outputs": [],
   "source": [
    "# CONFIRM\n",
    "add_null_data_where_unmatched = False\n",
    "\n",
    "if add_null_data_where_unmatched:\n",
    "    # add null samples where no match exists\n",
    "    df_SD = pd.concat([df_SD, pd.DataFrame(df_LF[~df_LF.id.isin(set(df_SD.id))].id.unique(), columns=['id'])]).reset_index(drop=True)\n",
    "\n",
    "    # NOTE: if a datetime column is useful in this null data, pd.to_datetime(id // 100) should work\n",
    "    # alt could use a more complicated JOIN to add SITE1 as well\n",
    "    # leave this way for now\n",
    "\n",
    "    df_SD = pd.concat([df_SD, pd.DataFrame(df_FD[~df_FD.sample_id.isin(set(df_SD.id))].sample_id.unique(), columns=['id'])]).reset_index(drop=True)\n",
    "    # again, a few more details could be added, but leave for now because the sample data is incomplete either way"
   ]
  },
  {
   "cell_type": "markdown",
   "id": "306aa1e6",
   "metadata": {},
   "source": [
    "### SAMPLE DATA\n",
    "### FINAL TABLE FOR IMPORT INTO DM_APPS"
   ]
  },
  {
   "cell_type": "code",
   "execution_count": 30,
   "id": "481d0934",
   "metadata": {},
   "outputs": [],
   "source": [
    "\"\"\"uses all sample-related data available - doesn't match well with herring_sample table\"\"\"\n",
    "\n",
    "# ALL CAPS FOR UNMATCHED / NEW\n",
    "rename_SD = {\n",
    "    'DATETIME': 'sample_date', 'DIST': 'district_id', 'RIVER': 'fishing_area_id', \n",
    "    'NAME': 'SAMPLER', 'code': 'CODE', 'GEAR': 'gear_id', 'SITE1': 'SITE',\n",
    "    'no_nets': 'NO_NETS', 'catch_lbs': 'catch_weight_lbs', 'hours_fished': 'HOURS_FISHED', \n",
    "    'zone': 'ZONE', 'last_name': 'LAST_NAME', 'comments': 'COMMENTS',\n",
    "    'bycatch_sbass': 'BYCATCH_SBASS', 'bycatch_shad': 'BYCATCH_SHAD', 'bycatch_other': 'BYCATCH_OTHER', \n",
    "    'wt_lbs': 'sample_weight_lbs'\n",
    "}\n",
    "\n",
    "gaspereau_sample = pd.merge(\n",
    "    df_SD[[\n",
    "        'id', 'DATETIME', 'DIST', 'RIVER', 'NAME', 'code', 'GEAR', 'SITE1', 'no_nets', 'catch_lbs', 'hours_fished', \n",
    "        'zone', 'last_name', 'comments', 'bycatch_sbass', 'bycatch_shad', 'bycatch_other'\n",
    "    ]], \n",
    "    df_LF[['id', 'wt_lbs']],\n",
    "    on='id', \n",
    "    how='left'  # all samples \n",
    ").drop_duplicates().reset_index(drop=True).rename(columns=rename_SD)"
   ]
  },
  {
   "cell_type": "markdown",
   "id": "c0584a8d",
   "metadata": {},
   "source": [
    "# SAVE TABLES"
   ]
  },
  {
   "cell_type": "code",
   "execution_count": 34,
   "id": "41670b29",
   "metadata": {},
   "outputs": [],
   "source": [
    "# save pickle files\n",
    "if True:  # change this to overwrite/resave\n",
    "    gaspereau_lengthfrequency.to_pickle('gaspereau_lengthfrequency.pickle')\n",
    "    gaspereau_fishdetails.to_pickle('gaspereau_fishdetails.pickle')\n",
    "    gaspereau_sample.to_pickle('gaspereau_sample.pickle')\n",
    "\n",
    "# save csv for import into django\n",
    "if True:  # change this to overwrite/resave\n",
    "    gaspereau_lengthfrequency.to_csv('gaspereau_lengthfrequency.csv')\n",
    "    gaspereau_fishdetails.to_csv('gaspereau_fishdetails.csv')\n",
    "    gaspereau_sample.to_csv('gaspereau_sample.csv')"
   ]
  },
  {
   "cell_type": "code",
   "execution_count": null,
   "id": "fac1ad09",
   "metadata": {},
   "outputs": [],
   "source": []
  },
  {
   "cell_type": "code",
   "execution_count": null,
   "id": "199e2bb0",
   "metadata": {},
   "outputs": [],
   "source": []
  },
  {
   "cell_type": "code",
   "execution_count": null,
   "id": "81b2ab69",
   "metadata": {},
   "outputs": [],
   "source": []
  },
  {
   "cell_type": "code",
   "execution_count": null,
   "id": "a70efc0b",
   "metadata": {},
   "outputs": [],
   "source": []
  },
  {
   "cell_type": "code",
   "execution_count": null,
   "id": "6a1cf2be",
   "metadata": {},
   "outputs": [],
   "source": []
  }
 ],
 "metadata": {
  "kernelspec": {
   "display_name": "Python 3 (ipykernel)",
   "language": "python",
   "name": "python3"
  },
  "language_info": {
   "codemirror_mode": {
    "name": "ipython",
    "version": 3
   },
   "file_extension": ".py",
   "mimetype": "text/x-python",
   "name": "python",
   "nbconvert_exporter": "python",
   "pygments_lexer": "ipython3",
   "version": "3.9.13"
  }
 },
 "nbformat": 4,
 "nbformat_minor": 5
}
