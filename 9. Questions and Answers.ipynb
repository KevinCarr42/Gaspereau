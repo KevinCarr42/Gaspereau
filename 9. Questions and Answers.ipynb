{
 "cells": [
  {
   "cell_type": "code",
   "execution_count": 1,
   "id": "822e124f",
   "metadata": {},
   "outputs": [
    {
     "data": {
      "text/html": [
       "<style>.container { width:100% !important; }</style>"
      ],
      "text/plain": [
       "<IPython.core.display.HTML object>"
      ]
     },
     "metadata": {},
     "output_type": "display_data"
    }
   ],
   "source": [
    "import numpy as np\n",
    "import pandas as pd\n",
    "import matplotlib.pyplot as plt\n",
    "import matplotlib as mpl\n",
    "import seaborn as sns\n",
    "\n",
    "sns.set_theme()\n",
    "\n",
    "# jupyter notebook full-width display\n",
    "from IPython.core.display import display, HTML\n",
    "display(HTML(\"<style>.container { width:100% !important; }</style>\"))\n",
    "\n",
    "# pandas formatting\n",
    "pd.set_option('display.float_format', '{:.3f}'.format)\n",
    "pd.set_option('display.max_columns', None)\n",
    "pd.set_option('display.max_rows', 200)"
   ]
  },
  {
   "cell_type": "code",
   "execution_count": 2,
   "id": "9ebcc1a1",
   "metadata": {},
   "outputs": [],
   "source": [
    "# import cleaned data\n",
    "df_FD = pd.read_pickle('cleaned_MASTER_dataset.pickle')  # fish details\n",
    "df_LF = pd.read_pickle('cleaned_LENGTHFREQ_dataset.pickle')  # length frequencies\n",
    "df_SD = pd.read_pickle('cleaned_LOGBOOK_dataset.pickle')  # logbook / sample data\n",
    "\n",
    "# import formatted and cleaned data\n",
    "gaspereau_lengthfrequency = pd.read_pickle('gaspereau_lengthfrequency.pickle')\n",
    "gaspereau_fishdetails = pd.read_pickle('gaspereau_fishdetails.pickle')\n",
    "gaspereau_sample = pd.read_pickle('gaspereau_sample.pickle')"
   ]
  },
  {
   "cell_type": "markdown",
   "id": "9ef73976",
   "metadata": {},
   "source": [
    "# most recent year"
   ]
  },
  {
   "cell_type": "code",
   "execution_count": 3,
   "id": "a7d30794",
   "metadata": {},
   "outputs": [
    {
     "data": {
      "text/plain": [
       "2019"
      ]
     },
     "execution_count": 3,
     "metadata": {},
     "output_type": "execute_result"
    }
   ],
   "source": [
    "# most recent year of data - length frequency\n",
    "gaspereau_lengthfrequency[gaspereau_lengthfrequency.sample_id < 2023000000].sample_id.max() // 1000000"
   ]
  },
  {
   "cell_type": "code",
   "execution_count": 4,
   "id": "278bd178",
   "metadata": {},
   "outputs": [
    {
     "data": {
      "text/plain": [
       "2019"
      ]
     },
     "execution_count": 4,
     "metadata": {},
     "output_type": "execute_result"
    }
   ],
   "source": [
    "# most recent year of data - fish details\n",
    "gaspereau_fishdetails.DATETIME.dt.year.max()"
   ]
  },
  {
   "cell_type": "code",
   "execution_count": 5,
   "id": "07a2b101",
   "metadata": {},
   "outputs": [
    {
     "data": {
      "text/plain": [
       "2019.0"
      ]
     },
     "execution_count": 5,
     "metadata": {},
     "output_type": "execute_result"
    }
   ],
   "source": [
    "# most recent year of data - sample\n",
    "gaspereau_sample.sample_date.dt.year.max()"
   ]
  },
  {
   "cell_type": "markdown",
   "id": "4e427bbd",
   "metadata": {},
   "source": [
    "# length frequencies look good"
   ]
  },
  {
   "cell_type": "code",
   "execution_count": 6,
   "id": "66078548",
   "metadata": {
    "scrolled": false
   },
   "outputs": [
    {
     "name": "stdout",
     "output_type": "stream",
     "text": [
      "----------------------------------------------\n",
      "Histogram: 2003052125\n"
     ]
    },
    {
     "data": {
      "image/png": "[encoded data removed]",
      "text/plain": [
       "<Figure size 1200x400 with 1 Axes>"
      ]
     },
     "metadata": {},
     "output_type": "display_data"
    }
   ],
   "source": [
    "# random samples - length frequencies\n",
    "\n",
    "for i in range(1):\n",
    "    sample_id = np.random.choice(gaspereau_lengthfrequency.sample_id.unique())\n",
    "    print('----------------------------------------------\\nHistogram:', sample_id)\n",
    "    gaspereau_lengthfrequency.loc[gaspereau_lengthfrequency.sample_id==sample_id, ['count', 'length_bin_id']].plot(\n",
    "        kind='bar', x='length_bin_id', y='count', width=1, figsize=(12,4), legend=False\n",
    "    )\n",
    "    plt.show()"
   ]
  },
  {
   "cell_type": "markdown",
   "id": "08677f29",
   "metadata": {},
   "source": [
    "# fields comparison - gaspereau fields"
   ]
  },
  {
   "cell_type": "code",
   "execution_count": 7,
   "id": "18cb0dbe",
   "metadata": {},
   "outputs": [
    {
     "data": {
      "text/plain": [
       "['AGE_1',\n",
       " 'AGE_2',\n",
       " 'AGE_COMMENTS_1',\n",
       " 'AGE_COMMENTS_2',\n",
       " 'AGE_NOTES',\n",
       " 'AGING_PERSON_1',\n",
       " 'AGING_PERSON_2',\n",
       " 'CONDITION',\n",
       " 'DATETIME',\n",
       " 'ENVELOP COMMENTS',\n",
       " 'FL_FROZEN',\n",
       " 'FL_WET',\n",
       " 'FSP_1',\n",
       " 'FSP_2',\n",
       " 'FSP_NOTES',\n",
       " 'SEX',\n",
       " 'SITE',\n",
       " 'SPECIES',\n",
       " 'fish_length',\n",
       " 'fish_number',\n",
       " 'fish_weight',\n",
       " 'gonad_weight',\n",
       " 'maturity_id',\n",
       " 'sample_id']"
      ]
     },
     "execution_count": 7,
     "metadata": {},
     "output_type": "execute_result"
    }
   ],
   "source": [
    "# fish details \n",
    "sorted(list(gaspereau_fishdetails.columns))"
   ]
  },
  {
   "cell_type": "code",
   "execution_count": 8,
   "id": "3c032ac9",
   "metadata": {},
   "outputs": [
    {
     "data": {
      "text/plain": [
       "['BYCATCH_OTHER',\n",
       " 'BYCATCH_SBASS',\n",
       " 'BYCATCH_SHAD',\n",
       " 'CODE',\n",
       " 'COMMENTS',\n",
       " 'HOURS_FISHED',\n",
       " 'LAST_NAME',\n",
       " 'NO_NETS',\n",
       " 'SAMPLER',\n",
       " 'SITE',\n",
       " 'ZONE',\n",
       " 'catch_weight_lbs',\n",
       " 'district_id',\n",
       " 'fishing_area_id',\n",
       " 'gear_id',\n",
       " 'id',\n",
       " 'sample_date',\n",
       " 'sample_weight_lbs']"
      ]
     },
     "execution_count": 8,
     "metadata": {},
     "output_type": "execute_result"
    }
   ],
   "source": [
    "# sample\n",
    "sorted(list(gaspereau_sample.columns))"
   ]
  },
  {
   "cell_type": "code",
   "execution_count": 9,
   "id": "5b795d19",
   "metadata": {},
   "outputs": [
    {
     "name": "stderr",
     "output_type": "stream",
     "text": [
      "C:\\Users\\CARRK\\AppData\\Local\\Temp\\1\\ipykernel_9836\\3543259403.py:1: FutureWarning: Treating datetime data as categorical rather than numeric in `.describe` is deprecated and will be removed in a future version of pandas. Specify `datetime_is_numeric=True` to silence this warning and adopt the future behavior now.\n",
      "  gaspereau_sample.drop('id',axis=1).describe(include='all').T\n"
     ]
    },
    {
     "data": {
      "text/html": [
       "<div>\n",
       "<style scoped>\n",
       "    .dataframe tbody tr th:only-of-type {\n",
       "        vertical-align: middle;\n",
       "    }\n",
       "\n",
       "    .dataframe tbody tr th {\n",
       "        vertical-align: top;\n",
       "    }\n",
       "\n",
       "    .dataframe thead th {\n",
       "        text-align: right;\n",
       "    }\n",
       "</style>\n",
       "<table border=\"1\" class=\"dataframe\">\n",
       "  <thead>\n",
       "    <tr style=\"text-align: right;\">\n",
       "      <th></th>\n",
       "      <th>count</th>\n",
       "      <th>unique</th>\n",
       "      <th>top</th>\n",
       "      <th>freq</th>\n",
       "      <th>first</th>\n",
       "      <th>last</th>\n",
       "      <th>mean</th>\n",
       "      <th>std</th>\n",
       "      <th>min</th>\n",
       "      <th>25%</th>\n",
       "      <th>50%</th>\n",
       "      <th>75%</th>\n",
       "      <th>max</th>\n",
       "    </tr>\n",
       "  </thead>\n",
       "  <tbody>\n",
       "    <tr>\n",
       "      <th>sample_date</th>\n",
       "      <td>15182</td>\n",
       "      <td>1568</td>\n",
       "      <td>1984-05-25 00:00:00</td>\n",
       "      <td>37</td>\n",
       "      <td>1983-04-18</td>\n",
       "      <td>2019-06-29</td>\n",
       "      <td>NaN</td>\n",
       "      <td>NaN</td>\n",
       "      <td>NaN</td>\n",
       "      <td>NaN</td>\n",
       "      <td>NaN</td>\n",
       "      <td>NaN</td>\n",
       "      <td>NaN</td>\n",
       "    </tr>\n",
       "    <tr>\n",
       "      <th>district_id</th>\n",
       "      <td>15213.000</td>\n",
       "      <td>NaN</td>\n",
       "      <td>NaN</td>\n",
       "      <td>NaN</td>\n",
       "      <td>NaT</td>\n",
       "      <td>NaT</td>\n",
       "      <td>2.000</td>\n",
       "      <td>0.000</td>\n",
       "      <td>2.000</td>\n",
       "      <td>2.000</td>\n",
       "      <td>2.000</td>\n",
       "      <td>2.000</td>\n",
       "      <td>2.000</td>\n",
       "    </tr>\n",
       "    <tr>\n",
       "      <th>fishing_area_id</th>\n",
       "      <td>15213</td>\n",
       "      <td>1</td>\n",
       "      <td>SWMARG</td>\n",
       "      <td>15213</td>\n",
       "      <td>NaT</td>\n",
       "      <td>NaT</td>\n",
       "      <td>NaN</td>\n",
       "      <td>NaN</td>\n",
       "      <td>NaN</td>\n",
       "      <td>NaN</td>\n",
       "      <td>NaN</td>\n",
       "      <td>NaN</td>\n",
       "      <td>NaN</td>\n",
       "    </tr>\n",
       "    <tr>\n",
       "      <th>SAMPLER</th>\n",
       "      <td>15213</td>\n",
       "      <td>76</td>\n",
       "      <td>Martin E Cameron</td>\n",
       "      <td>1209</td>\n",
       "      <td>NaT</td>\n",
       "      <td>NaT</td>\n",
       "      <td>NaN</td>\n",
       "      <td>NaN</td>\n",
       "      <td>NaN</td>\n",
       "      <td>NaN</td>\n",
       "      <td>NaN</td>\n",
       "      <td>NaN</td>\n",
       "      <td>NaN</td>\n",
       "    </tr>\n",
       "    <tr>\n",
       "      <th>CODE</th>\n",
       "      <td>0</td>\n",
       "      <td>0</td>\n",
       "      <td>NaN</td>\n",
       "      <td>NaN</td>\n",
       "      <td>NaT</td>\n",
       "      <td>NaT</td>\n",
       "      <td>NaN</td>\n",
       "      <td>NaN</td>\n",
       "      <td>NaN</td>\n",
       "      <td>NaN</td>\n",
       "      <td>NaN</td>\n",
       "      <td>NaN</td>\n",
       "      <td>NaN</td>\n",
       "    </tr>\n",
       "    <tr>\n",
       "      <th>gear_id</th>\n",
       "      <td>15213.000</td>\n",
       "      <td>NaN</td>\n",
       "      <td>NaN</td>\n",
       "      <td>NaN</td>\n",
       "      <td>NaT</td>\n",
       "      <td>NaT</td>\n",
       "      <td>81.000</td>\n",
       "      <td>0.000</td>\n",
       "      <td>81.000</td>\n",
       "      <td>81.000</td>\n",
       "      <td>81.000</td>\n",
       "      <td>81.000</td>\n",
       "      <td>81.000</td>\n",
       "    </tr>\n",
       "    <tr>\n",
       "      <th>SITE</th>\n",
       "      <td>15213</td>\n",
       "      <td>61</td>\n",
       "      <td>12</td>\n",
       "      <td>1209</td>\n",
       "      <td>NaT</td>\n",
       "      <td>NaT</td>\n",
       "      <td>NaN</td>\n",
       "      <td>NaN</td>\n",
       "      <td>NaN</td>\n",
       "      <td>NaN</td>\n",
       "      <td>NaN</td>\n",
       "      <td>NaN</td>\n",
       "      <td>NaN</td>\n",
       "    </tr>\n",
       "    <tr>\n",
       "      <th>NO_NETS</th>\n",
       "      <td>9623</td>\n",
       "      <td>2</td>\n",
       "      <td>1</td>\n",
       "      <td>9574</td>\n",
       "      <td>NaT</td>\n",
       "      <td>NaT</td>\n",
       "      <td>NaN</td>\n",
       "      <td>NaN</td>\n",
       "      <td>NaN</td>\n",
       "      <td>NaN</td>\n",
       "      <td>NaN</td>\n",
       "      <td>NaN</td>\n",
       "      <td>NaN</td>\n",
       "    </tr>\n",
       "    <tr>\n",
       "      <th>catch_weight_lbs</th>\n",
       "      <td>15200.000</td>\n",
       "      <td>NaN</td>\n",
       "      <td>NaN</td>\n",
       "      <td>NaN</td>\n",
       "      <td>NaT</td>\n",
       "      <td>NaT</td>\n",
       "      <td>1696.968</td>\n",
       "      <td>4365.462</td>\n",
       "      <td>0.000</td>\n",
       "      <td>100.000</td>\n",
       "      <td>400.000</td>\n",
       "      <td>1400.000</td>\n",
       "      <td>95200.000</td>\n",
       "    </tr>\n",
       "    <tr>\n",
       "      <th>HOURS_FISHED</th>\n",
       "      <td>13534</td>\n",
       "      <td>38</td>\n",
       "      <td>14</td>\n",
       "      <td>2059</td>\n",
       "      <td>NaT</td>\n",
       "      <td>NaT</td>\n",
       "      <td>NaN</td>\n",
       "      <td>NaN</td>\n",
       "      <td>NaN</td>\n",
       "      <td>NaN</td>\n",
       "      <td>NaN</td>\n",
       "      <td>NaN</td>\n",
       "      <td>NaN</td>\n",
       "    </tr>\n",
       "    <tr>\n",
       "      <th>ZONE</th>\n",
       "      <td>15208</td>\n",
       "      <td>2</td>\n",
       "      <td>upper</td>\n",
       "      <td>8096</td>\n",
       "      <td>NaT</td>\n",
       "      <td>NaT</td>\n",
       "      <td>NaN</td>\n",
       "      <td>NaN</td>\n",
       "      <td>NaN</td>\n",
       "      <td>NaN</td>\n",
       "      <td>NaN</td>\n",
       "      <td>NaN</td>\n",
       "      <td>NaN</td>\n",
       "    </tr>\n",
       "    <tr>\n",
       "      <th>LAST_NAME</th>\n",
       "      <td>13582</td>\n",
       "      <td>30</td>\n",
       "      <td>Gillis</td>\n",
       "      <td>4564</td>\n",
       "      <td>NaT</td>\n",
       "      <td>NaT</td>\n",
       "      <td>NaN</td>\n",
       "      <td>NaN</td>\n",
       "      <td>NaN</td>\n",
       "      <td>NaN</td>\n",
       "      <td>NaN</td>\n",
       "      <td>NaN</td>\n",
       "      <td>NaN</td>\n",
       "    </tr>\n",
       "    <tr>\n",
       "      <th>COMMENTS</th>\n",
       "      <td>31</td>\n",
       "      <td>25</td>\n",
       "      <td>salt</td>\n",
       "      <td>3</td>\n",
       "      <td>NaT</td>\n",
       "      <td>NaT</td>\n",
       "      <td>NaN</td>\n",
       "      <td>NaN</td>\n",
       "      <td>NaN</td>\n",
       "      <td>NaN</td>\n",
       "      <td>NaN</td>\n",
       "      <td>NaN</td>\n",
       "      <td>NaN</td>\n",
       "    </tr>\n",
       "    <tr>\n",
       "      <th>BYCATCH_SBASS</th>\n",
       "      <td>18.000</td>\n",
       "      <td>NaN</td>\n",
       "      <td>NaN</td>\n",
       "      <td>NaN</td>\n",
       "      <td>NaT</td>\n",
       "      <td>NaT</td>\n",
       "      <td>1.444</td>\n",
       "      <td>0.784</td>\n",
       "      <td>1.000</td>\n",
       "      <td>1.000</td>\n",
       "      <td>1.000</td>\n",
       "      <td>1.750</td>\n",
       "      <td>3.000</td>\n",
       "    </tr>\n",
       "    <tr>\n",
       "      <th>BYCATCH_SHAD</th>\n",
       "      <td>4.000</td>\n",
       "      <td>NaN</td>\n",
       "      <td>NaN</td>\n",
       "      <td>NaN</td>\n",
       "      <td>NaT</td>\n",
       "      <td>NaT</td>\n",
       "      <td>1.000</td>\n",
       "      <td>0.000</td>\n",
       "      <td>1.000</td>\n",
       "      <td>1.000</td>\n",
       "      <td>1.000</td>\n",
       "      <td>1.000</td>\n",
       "      <td>1.000</td>\n",
       "    </tr>\n",
       "    <tr>\n",
       "      <th>BYCATCH_OTHER</th>\n",
       "      <td>18</td>\n",
       "      <td>13</td>\n",
       "      <td>1</td>\n",
       "      <td>5</td>\n",
       "      <td>NaT</td>\n",
       "      <td>NaT</td>\n",
       "      <td>NaN</td>\n",
       "      <td>NaN</td>\n",
       "      <td>NaN</td>\n",
       "      <td>NaN</td>\n",
       "      <td>NaN</td>\n",
       "      <td>NaN</td>\n",
       "      <td>NaN</td>\n",
       "    </tr>\n",
       "    <tr>\n",
       "      <th>sample_weight_lbs</th>\n",
       "      <td>849.000</td>\n",
       "      <td>NaN</td>\n",
       "      <td>NaN</td>\n",
       "      <td>NaN</td>\n",
       "      <td>NaT</td>\n",
       "      <td>NaT</td>\n",
       "      <td>101.233</td>\n",
       "      <td>35.460</td>\n",
       "      <td>1.000</td>\n",
       "      <td>81.000</td>\n",
       "      <td>99.000</td>\n",
       "      <td>127.000</td>\n",
       "      <td>204.000</td>\n",
       "    </tr>\n",
       "  </tbody>\n",
       "</table>\n",
       "</div>"
      ],
      "text/plain": [
       "                      count unique                  top   freq      first  \\\n",
       "sample_date           15182   1568  1984-05-25 00:00:00     37 1983-04-18   \n",
       "district_id       15213.000    NaN                  NaN    NaN        NaT   \n",
       "fishing_area_id       15213      1               SWMARG  15213        NaT   \n",
       "SAMPLER               15213     76     Martin E Cameron   1209        NaT   \n",
       "CODE                      0      0                  NaN    NaN        NaT   \n",
       "gear_id           15213.000    NaN                  NaN    NaN        NaT   \n",
       "SITE                  15213     61                   12   1209        NaT   \n",
       "NO_NETS                9623      2                    1   9574        NaT   \n",
       "catch_weight_lbs  15200.000    NaN                  NaN    NaN        NaT   \n",
       "HOURS_FISHED          13534     38                   14   2059        NaT   \n",
       "ZONE                  15208      2                upper   8096        NaT   \n",
       "LAST_NAME             13582     30               Gillis   4564        NaT   \n",
       "COMMENTS                 31     25                 salt      3        NaT   \n",
       "BYCATCH_SBASS        18.000    NaN                  NaN    NaN        NaT   \n",
       "BYCATCH_SHAD          4.000    NaN                  NaN    NaN        NaT   \n",
       "BYCATCH_OTHER            18     13                    1      5        NaT   \n",
       "sample_weight_lbs   849.000    NaN                  NaN    NaN        NaT   \n",
       "\n",
       "                        last     mean      std    min     25%     50%  \\\n",
       "sample_date       2019-06-29      NaN      NaN    NaN     NaN     NaN   \n",
       "district_id              NaT    2.000    0.000  2.000   2.000   2.000   \n",
       "fishing_area_id          NaT      NaN      NaN    NaN     NaN     NaN   \n",
       "SAMPLER                  NaT      NaN      NaN    NaN     NaN     NaN   \n",
       "CODE                     NaT      NaN      NaN    NaN     NaN     NaN   \n",
       "gear_id                  NaT   81.000    0.000 81.000  81.000  81.000   \n",
       "SITE                     NaT      NaN      NaN    NaN     NaN     NaN   \n",
       "NO_NETS                  NaT      NaN      NaN    NaN     NaN     NaN   \n",
       "catch_weight_lbs         NaT 1696.968 4365.462  0.000 100.000 400.000   \n",
       "HOURS_FISHED             NaT      NaN      NaN    NaN     NaN     NaN   \n",
       "ZONE                     NaT      NaN      NaN    NaN     NaN     NaN   \n",
       "LAST_NAME                NaT      NaN      NaN    NaN     NaN     NaN   \n",
       "COMMENTS                 NaT      NaN      NaN    NaN     NaN     NaN   \n",
       "BYCATCH_SBASS            NaT    1.444    0.784  1.000   1.000   1.000   \n",
       "BYCATCH_SHAD             NaT    1.000    0.000  1.000   1.000   1.000   \n",
       "BYCATCH_OTHER            NaT      NaN      NaN    NaN     NaN     NaN   \n",
       "sample_weight_lbs        NaT  101.233   35.460  1.000  81.000  99.000   \n",
       "\n",
       "                       75%       max  \n",
       "sample_date            NaN       NaN  \n",
       "district_id          2.000     2.000  \n",
       "fishing_area_id        NaN       NaN  \n",
       "SAMPLER                NaN       NaN  \n",
       "CODE                   NaN       NaN  \n",
       "gear_id             81.000    81.000  \n",
       "SITE                   NaN       NaN  \n",
       "NO_NETS                NaN       NaN  \n",
       "catch_weight_lbs  1400.000 95200.000  \n",
       "HOURS_FISHED           NaN       NaN  \n",
       "ZONE                   NaN       NaN  \n",
       "LAST_NAME              NaN       NaN  \n",
       "COMMENTS               NaN       NaN  \n",
       "BYCATCH_SBASS        1.750     3.000  \n",
       "BYCATCH_SHAD         1.000     1.000  \n",
       "BYCATCH_OTHER          NaN       NaN  \n",
       "sample_weight_lbs  127.000   204.000  "
      ]
     },
     "execution_count": 9,
     "metadata": {},
     "output_type": "execute_result"
    }
   ],
   "source": [
    "gaspereau_sample.drop('id',axis=1).describe(include='all').T"
   ]
  },
  {
   "cell_type": "code",
   "execution_count": 14,
   "id": "a9b68215",
   "metadata": {},
   "outputs": [
    {
     "data": {
      "text/plain": [
       "array(['A', 'B', 'U', nan], dtype=object)"
      ]
     },
     "execution_count": 14,
     "metadata": {},
     "output_type": "execute_result"
    }
   ],
   "source": [
    "gaspereau_fishdetails.SPECIES.unique()"
   ]
  },
  {
   "cell_type": "code",
   "execution_count": 78,
   "id": "16801cea",
   "metadata": {
    "scrolled": false
   },
   "outputs": [],
   "source": [
    "gaspereau_samplers = list()\n",
    "current_name = ['', '']\n",
    "\n",
    "for i in sorted(str(x) for x in gaspereau_sample.SAMPLER.unique()):\n",
    "    name = i.rsplit(maxsplit=1)  # put initials into first name\n",
    "       \n",
    "    # only remove exact case-insensitive matches (leave inconsistent middle initials, typos etc)\n",
    "    if [x.lower() for x in current_name] != [x.lower() for x in name]:\n",
    "        gaspereau_samplers.append(name)\n",
    "            \n",
    "    current_name = name\n",
    "    \n",
    "gaspereau_samplers = pd.DataFrame(gaspereau_samplers, columns=['first_name', 'last_name'])\n",
    "gaspereau_samplers['notes'] = pd.NA\n",
    "\n",
    "# save to file\n",
    "if save_this := False:  # change this to save it\n",
    "    gaspereau_samplers.to_pickle('gaspereau_samplers.pickle')\n",
    "    gaspereau_samplers.to_csv('gaspereau_samplers.csv')"
   ]
  },
  {
   "cell_type": "code",
   "execution_count": null,
   "id": "e1f0fc4e",
   "metadata": {},
   "outputs": [],
   "source": []
  }
 ],
 "metadata": {
  "kernelspec": {
   "display_name": "Python 3 (ipykernel)",
   "language": "python",
   "name": "python3"
  },
  "language_info": {
   "codemirror_mode": {
    "name": "ipython",
    "version": 3
   },
   "file_extension": ".py",
   "mimetype": "text/x-python",
   "name": "python",
   "nbconvert_exporter": "python",
   "pygments_lexer": "ipython3",
   "version": "3.9.13"
  }
 },
 "nbformat": 4,
 "nbformat_minor": 5
}
