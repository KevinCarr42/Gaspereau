{
 "cells": [
  {
   "cell_type": "code",
   "execution_count": 1,
   "id": "fbe61b63",
   "metadata": {},
   "outputs": [
    {
     "data": {
      "text/html": [],
      "text/plain": [
       "<IPython.core.display.HTML object>"
      ]
     },
     "metadata": {},
     "output_type": "display_data"
    }
   ],
   "source": [
    "import numpy as np\n",
    "import pandas as pd\n",
    "import matplotlib.pyplot as plt\n",
    "import matplotlib as mpl\n",
    "import seaborn as sns\n",
    "\n",
    "sns.set_theme()\n",
    "\n",
    "# jupyter notebook full-width display\n",
    "from IPython.core.display import display, HTML\n",
    "display(HTML(\"\"))\n",
    "\n",
    "# pandas formatting\n",
    "pd.set_option('display.float_format', '{:.3f}'.format)\n",
    "pd.set_option('display.max_columns', None)\n",
    "pd.set_option('display.max_rows', 200)"
   ]
  },
  {
   "cell_type": "code",
   "execution_count": 2,
   "id": "13d28af1",
   "metadata": {},
   "outputs": [],
   "source": [
    "# import cleaned data\n",
    "df_FD = pd.read_pickle('cleaned_MASTER_dataset.pickle')  # fish details\n",
    "df_LF = pd.read_pickle('cleaned_LENGTHFREQ_dataset.pickle')  # length frequencies\n",
    "df_SD = pd.read_pickle('cleaned_LOGBOOK_dataset.pickle')  # logbook / sample data\n",
    "\n",
    "# import formatted and cleaned data\n",
    "gaspereau_lengthfrequency = pd.read_pickle('gaspereau_lengthfrequency.pickle')\n",
    "gaspereau_fishdetails = pd.read_pickle('gaspereau_fishdetails.pickle')\n",
    "gaspereau_sample = pd.read_pickle('gaspereau_sample.pickle')"
   ]
  },
  {
   "cell_type": "markdown",
   "id": "b5c2841d",
   "metadata": {},
   "source": [
    "# most recent year"
   ]
  },
  {
   "cell_type": "code",
   "execution_count": 16,
   "id": "7af3a181",
   "metadata": {},
   "outputs": [
    {
     "data": {
      "text/plain": [
       "2019"
      ]
     },
     "execution_count": 16,
     "metadata": {},
     "output_type": "execute_result"
    }
   ],
   "source": [
    "# most recent year of data - length frequency\n",
    "gaspereau_lengthfrequency[gaspereau_lengthfrequency.sample_id < 2023000000].sample_id.max() // 1000000"
   ]
  },
  {
   "cell_type": "code",
   "execution_count": 21,
   "id": "89d139bf",
   "metadata": {},
   "outputs": [
    {
     "data": {
      "text/plain": [
       "2019"
      ]
     },
     "execution_count": 21,
     "metadata": {},
     "output_type": "execute_result"
    }
   ],
   "source": [
    "# most recent year of data - fish details\n",
    "gaspereau_fishdetails.DATETIME.dt.year.max()"
   ]
  },
  {
   "cell_type": "code",
   "execution_count": 24,
   "id": "40ba13e1",
   "metadata": {},
   "outputs": [
    {
     "data": {
      "text/plain": [
       "2019.0"
      ]
     },
     "execution_count": 24,
     "metadata": {},
     "output_type": "execute_result"
    }
   ],
   "source": [
    "# most recent year of data - sample\n",
    "gaspereau_sample.sample_date.dt.year.max()"
   ]
  },
  {
   "cell_type": "markdown",
   "id": "38c5b83f",
   "metadata": {},
   "source": [
    "# length frequencies look good"
   ]
  },
  {
   "cell_type": "code",
   "execution_count": 35,
   "id": "ffb42369",
   "metadata": {
    "scrolled": false
   },
   "outputs": [
    {
     "name": "stdout",
     "output_type": "stream",
     "text": [
      "----------------------------------------------\n",
      "Histogram: 2007051705\n"
     ]
    },
    {
     "data": {
      "image/png": "[encoded data removed]",
      "text/plain": [
       "<Figure size 1200x400 with 1 Axes>"
      ]
     },
     "metadata": {},
     "output_type": "display_data"
    }
   ],
   "source": [
    "# random samples - length frequencies\n",
    "\n",
    "for i in range(1):\n",
    "    sample_id = np.random.choice(gaspereau_lengthfrequency.sample_id.unique())\n",
    "    print('----------------------------------------------\\nHistogram:', sample_id)\n",
    "    gaspereau_lengthfrequency.loc[gaspereau_lengthfrequency.sample_id==sample_id, ['count', 'length_bin_id']].plot(\n",
    "        kind='bar', x='length_bin_id', y='count', width=1, figsize=(12,4), legend=False\n",
    "    )\n",
    "    plt.show()"
   ]
  },
  {
   "cell_type": "markdown",
   "id": "1a8ad715",
   "metadata": {},
   "source": [
    "# fields comparison - gaspereau fields"
   ]
  },
  {
   "cell_type": "code",
   "execution_count": 36,
   "id": "014b513c",
   "metadata": {},
   "outputs": [
    {
     "data": {
      "text/plain": [
       "['AGE_1',\n",
       " 'AGE_2',\n",
       " 'AGE_COMMENTS_1',\n",
       " 'AGE_COMMENTS_2',\n",
       " 'AGE_NOTES',\n",
       " 'AGING_PERSON_1',\n",
       " 'AGING_PERSON_2',\n",
       " 'CONDITION',\n",
       " 'DATETIME',\n",
       " 'ENVELOP COMMENTS',\n",
       " 'FL_FROZEN',\n",
       " 'FL_WET',\n",
       " 'FSP_1',\n",
       " 'FSP_2',\n",
       " 'FSP_NOTES',\n",
       " 'SEX',\n",
       " 'SITE',\n",
       " 'SPECIES',\n",
       " 'fish_length',\n",
       " 'fish_number',\n",
       " 'fish_weight',\n",
       " 'gonad_weight',\n",
       " 'maturity_id',\n",
       " 'sample_id']"
      ]
     },
     "execution_count": 36,
     "metadata": {},
     "output_type": "execute_result"
    }
   ],
   "source": [
    "# fish details \n",
    "sorted(list(gaspereau_fishdetails.columns))"
   ]
  },
  {
   "cell_type": "code",
   "execution_count": 37,
   "id": "c2c6391b",
   "metadata": {},
   "outputs": [
    {
     "data": {
      "text/plain": [
       "['BYCATCH_OTHER',\n",
       " 'BYCATCH_SBASS',\n",
       " 'BYCATCH_SHAD',\n",
       " 'CODE',\n",
       " 'COMMENTS',\n",
       " 'HOURS_FISHED',\n",
       " 'LAST_NAME',\n",
       " 'NO_NETS',\n",
       " 'SAMPLER',\n",
       " 'SITE',\n",
       " 'ZONE',\n",
       " 'catch_weight_lbs',\n",
       " 'district_id',\n",
       " 'fishing_area_id',\n",
       " 'gear_id',\n",
       " 'id',\n",
       " 'sample_date',\n",
       " 'sample_weight_lbs']"
      ]
     },
     "execution_count": 37,
     "metadata": {},
     "output_type": "execute_result"
    }
   ],
   "source": [
    "# sample\n",
    "sorted(list(gaspereau_sample.columns))"
   ]
  },
  {
   "cell_type": "code",
   "execution_count": null,
   "id": "ec4b62f9",
   "metadata": {},
   "outputs": [],
   "source": []
  }
 ],
 "metadata": {
  "kernelspec": {
   "display_name": "Python 3 (ipykernel)",
   "language": "python",
   "name": "python3"
  },
  "language_info": {
   "codemirror_mode": {
    "name": "ipython",
    "version": 3
   },
   "file_extension": ".py",
   "mimetype": "text/x-python",
   "name": "python",
   "nbconvert_exporter": "python",
   "pygments_lexer": "ipython3",
   "version": "3.9.13"
  }
 },
 "nbformat": 4,
 "nbformat_minor": 5
}
