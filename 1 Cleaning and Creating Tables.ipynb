{
 "cells": [
  {
   "cell_type": "code",
   "execution_count": 1,
   "id": "07b6fbd5",
   "metadata": {},
   "outputs": [
    {
     "data": {
      "text/html": [
       "<style>.container { width:100% !important; }</style>"
      ],
      "text/plain": [
       "<IPython.core.display.HTML object>"
      ]
     },
     "metadata": {},
     "output_type": "display_data"
    },
    {
     "data": {
      "text/html": [
       "<style>.dataframe td { white-space: nowrap; }</style>"
      ],
      "text/plain": [
       "<IPython.core.display.HTML object>"
      ]
     },
     "metadata": {},
     "output_type": "display_data"
    }
   ],
   "source": [
    "import numpy as np\n",
    "import pandas as pd\n",
    "import matplotlib.pyplot as plt\n",
    "import matplotlib as mpl\n",
    "import seaborn as sns\n",
    "\n",
    "sns.set_theme()\n",
    "\n",
    "# jupyter notebook full-width display\n",
    "from IPython.core.display import display, HTML\n",
    "display(HTML(\"<style>.container { width:100% !important; }</style>\"))\n",
    "\n",
    "# no text wrapping\n",
    "display(HTML(\"<style>.dataframe td { white-space: nowrap; }</style>\"))\n",
    "\n",
    "# pandas formatting\n",
    "pd.set_option('display.float_format', '{:.3f}'.format)\n",
    "pd.set_option('display.max_columns', None)\n",
    "pd.set_option('display.max_rows', 400)\n",
    "pd.set_option('display.max_colwidth', 400)"
   ]
  },
  {
   "cell_type": "markdown",
   "id": "b075f465",
   "metadata": {},
   "source": [
    "# DATA CLEANING\n",
    "# ======================"
   ]
  },
  {
   "cell_type": "markdown",
   "id": "94de7c1b",
   "metadata": {},
   "source": [
    "# FISH DETAILS Table\n",
    "# ======================"
   ]
  },
  {
   "cell_type": "code",
   "execution_count": 2,
   "id": "6938c4cb",
   "metadata": {},
   "outputs": [],
   "source": [
    "dtypes = {\n",
    "    'YEAR': 'Int32', \n",
    "    'MM': 'Int32', \n",
    "    'DD': 'Int32', \n",
    "    'WEEK': 'Int32', \n",
    "    'SITE': 'object', \n",
    "    'PERIOD': 'object', \n",
    "    'CONDITION': 'object', \n",
    "    'FISH_NO': 'Int32', \n",
    "    'FL_WET.x': 'object',  # some 'NA', convert to numeric, coerce error to make 'NA' actually null\n",
    "    'FL_FROZEN.x': 'object',  # some 'NA', convert to numeric, coerce error to make 'NA' actually null\n",
    "    'FL_STD.x': 'float64',\n",
    "    'WEIGHT': 'float64',\n",
    "    'SPECIES': 'object', \n",
    "    'SEX': 'object', \n",
    "    'MATURITY.x': 'object',  # two entries that at 3?, (also 1 that is 44), convert to numeric, coerce errors\n",
    "    'GONAD_WEIGHT': 'object',  # some '.' / 'NA', convert to numeric, coerce error to make 'NA' actually null\n",
    "    'Ager.1': 'object',\n",
    "    'AGE.1': 'object',  # convert to numeric and separate text comments\n",
    "    'FSP.1': 'object',  # convert to numeric and separate text comments\n",
    "    'Comments.1': 'object', \n",
    "    'Ager.2': 'object',  \n",
    "    'AGE.2': 'object',  # convert to numeric and separate text comments\n",
    "    'FSP.2': 'object',  # convert to numeric and separate text comments\n",
    "    'Comments.2': 'object', \n",
    "    'Ager.3': 'object', \n",
    "    'AGE.3': 'object',  # convert to numeric and separate text comments\n",
    "    'FSP.3': 'object',  # convert to numeric and separate text comments\n",
    "    'Comments.3': 'object', \n",
    "    'Envelop Comments': 'object'\n",
    "} \n",
    "\n",
    "df_FD = pd.read_excel('provided data\\\\Gaspereau Ages_Combined.xlsx', dtype=dtypes)\n",
    "\n",
    "# create a DATETIME column\n",
    "df_FD['DATETIME'] = pd.to_datetime(df_FD['YEAR'].astype(str) + '-' + df_FD['MM'].astype(str) + '-' + df_FD['DD'].astype(str))\n",
    "\n",
    "# create backup of notes (including all numeric data for simplicity)\n",
    "df_FD['AGE_notes_1'] = df_FD['AGE.1']\n",
    "df_FD['FSP_notes_1'] = df_FD['FSP.1']\n",
    "df_FD['AGE_notes_2'] = df_FD['AGE.2']\n",
    "df_FD['FSP_notes_2'] = df_FD['FSP.2']\n",
    "df_FD['AGE_notes_3'] = df_FD['AGE.3']\n",
    "df_FD['FSP_notes_3'] = df_FD['FSP.3']\n",
    "\n",
    "# convert to numeric and coerce errors\n",
    "df_FD['FL_WET.x'] = np.round(pd.to_numeric(df_FD['FL_WET.x'], errors='coerce')).astype('Int32')\n",
    "df_FD['FL_FROZEN.x'] = pd.to_numeric(df_FD['FL_FROZEN.x'], errors='coerce').astype('Int32')\n",
    "df_FD['MATURITY.x'] = pd.to_numeric(df_FD['MATURITY.x'], errors='coerce').astype('Int32')\n",
    "df_FD['GONAD_WEIGHT'] = pd.to_numeric(df_FD['GONAD_WEIGHT'], errors='coerce')  # float\n",
    "df_FD['AGE.1'] = pd.to_numeric(df_FD['AGE.1'], errors='coerce').astype('Int32')\n",
    "df_FD['FSP.1'] = pd.to_numeric(df_FD['FSP.1'], errors='coerce').astype('Int32')\n",
    "df_FD['AGE.2'] = pd.to_numeric(df_FD['AGE.2'], errors='coerce').astype('Int32')\n",
    "df_FD['FSP.2'] = pd.to_numeric(df_FD['FSP.2'], errors='coerce').astype('Int32')\n",
    "df_FD['AGE.3'] = pd.to_numeric(df_FD['AGE.3'], errors='coerce').astype('Int32')\n",
    "df_FD['FSP.3'] = pd.to_numeric(df_FD['FSP.3'], errors='coerce').astype('Int32')\n",
    "\n",
    "# rename keys with '.' for ease of use within pandas\n",
    "rename_FD = {\n",
    "    'FL_WET.x': 'FL_WET', \n",
    "    'FL_FROZEN.x': 'FL_FROZEN',\n",
    "    'FL_STD.x': 'FL_STD', \n",
    "    'MATURITY.x': 'MATURITY',\n",
    "    'Ager.1': 'Ager_1',\n",
    "    'AGE.1': 'AGE_1',\n",
    "    'FSP.1': 'FSP_1',\n",
    "    'Comments.1': 'Comments_1',\n",
    "    'Ager.2': 'Ager_2',\n",
    "    'AGE.2': 'AGE_2',\n",
    "    'FSP.2': 'FSP_2',\n",
    "    'Comments.2': 'Comments_2',\n",
    "    'Ager.3': 'Ager_3',\n",
    "    'AGE.3': 'AGE_3',\n",
    "    'FSP.3': 'FSP_3',\n",
    "    'Comments.3': 'Comments_3'\n",
    "}\n",
    "df_FD = df_FD.drop('Unnamed: 0', axis=1).rename(columns=rename_FD)"
   ]
  },
  {
   "cell_type": "markdown",
   "id": "3f0726ef",
   "metadata": {},
   "source": [
    "### SITE: Backup, Split, Remap 1st Entry\n",
    "* convert to int for processing (will be undone during import)"
   ]
  },
  {
   "cell_type": "code",
   "execution_count": 3,
   "id": "6c2586e3",
   "metadata": {},
   "outputs": [
    {
     "data": {
      "text/plain": [
       "(1804, 118, 1922)"
      ]
     },
     "execution_count": 3,
     "metadata": {},
     "output_type": "execute_result"
    }
   ],
   "source": [
    "# how many named vs na sites\n",
    "(\n",
    "    sum(~df_FD.SITE.astype(str).str.isnumeric()) - sum(df_FD.SITE.isin(['1A', '1B'])) - df_FD[df_FD.SITE.isnull()].shape[0], \n",
    "    df_FD[df_FD.SITE.isnull()].shape[0], \n",
    "    sum(~df_FD.SITE.astype(str).str.isnumeric()) - sum(df_FD.SITE.isin(['1A', '1B']))\n",
    ")\n",
    "# named, null, total ambiguous"
   ]
  },
  {
   "cell_type": "code",
   "execution_count": 4,
   "id": "4065b9f7",
   "metadata": {},
   "outputs": [
    {
     "data": {
      "text/plain": [
       "1922"
      ]
     },
     "execution_count": 4,
     "metadata": {},
     "output_type": "execute_result"
    }
   ],
   "source": [
    "# add a flag for sites if there is ambiguous data (ie, names, multiple sites, alternate nomenclature)\n",
    "df_FD.loc[(\n",
    "    df_FD.SITE.isnull() | ~(df_FD.SITE.astype(str).str.isnumeric() | df_FD.SITE.isin(['1A', '1B']))\n",
    "), 'FLAG_SITE'] = True\n",
    "\n",
    "# how many Site flags are there?\n",
    "df_FD[df_FD.FLAG_SITE == True].shape[0]"
   ]
  },
  {
   "cell_type": "code",
   "execution_count": 5,
   "id": "54338536",
   "metadata": {},
   "outputs": [],
   "source": [
    "# clean the site column before investigating in detail\n",
    "\n",
    "# backup exact site entries as site notes\n",
    "df_FD['SITE_notes'] = df_FD['SITE'].astype('str')\n",
    "\n",
    "# Expand and Clean Site Column\n",
    "df_FD[['SITE1', 'SITE2', 'SITE3']] = df_FD.SITE.astype('str').str.replace(' ','').str.split(',', expand=True).fillna(pd.NA)"
   ]
  },
  {
   "cell_type": "code",
   "execution_count": 6,
   "id": "583c0551",
   "metadata": {},
   "outputs": [],
   "source": [
    "# remap sites to numeric, overwrite SITE (after backing up notes), convert to integer\n",
    "\n",
    "# these indices/numbers are important/exact, but will be undone on import to dm_apps\n",
    "# these are consistent with older analysis, other tables, and import script into dm_apps\n",
    "remap_sites = {\n",
    "    '1A': 90,\n",
    "    '1B': 91,\n",
    "    '47or62': 47,\n",
    "    'EricMcFarlane': 92,\n",
    "    'E.MACFARLANE': 92,\n",
    "    'EricMacFarlane': 92,\n",
    "    'EricMac': 92,\n",
    "    'JimmyMacFarlane': 93,\n",
    "    'JMcFarlane': 93,\n",
    "    'JohnAlbertCoady': 94,\n",
    "    'JACoady': 94,\n",
    "    '11K3(435': 95\n",
    "}\n",
    "\n",
    "df_FD['SITE1'] = df_FD.replace({'SITE1': remap_sites}).SITE1\n",
    "df_FD['SITE1'] = pd.to_numeric(df_FD['SITE1'], errors='coerce').astype('Int32')"
   ]
  },
  {
   "cell_type": "markdown",
   "id": "4cca4b8b",
   "metadata": {},
   "source": [
    "## Naming Issues"
   ]
  },
  {
   "cell_type": "code",
   "execution_count": 7,
   "id": "f8a9a1d5",
   "metadata": {},
   "outputs": [],
   "source": [
    "# extra space\n",
    "df_FD.loc[df_FD.PERIOD == 'PM ', 'PERIOD'] = 'PM'\n",
    "\n",
    "# formatting\n",
    "df_FD.loc[df_FD.CONDITION == 'FROZEN', 'CONDITION'] = 'Frozen'\n",
    "df_FD.loc[df_FD.CONDITION == 'FRESH', 'CONDITION'] = 'Fresh'"
   ]
  },
  {
   "cell_type": "markdown",
   "id": "6f1078ac",
   "metadata": {},
   "source": [
    "### PERIOD: 'AD' vs 'AM' - FLAGGED\n",
    "* (118 entries)\n",
    "* Other CSV also include AD periods for entered data"
   ]
  },
  {
   "cell_type": "code",
   "execution_count": 8,
   "id": "5af56339",
   "metadata": {},
   "outputs": [
    {
     "data": {
      "text/plain": [
       "118"
      ]
     },
     "execution_count": 8,
     "metadata": {},
     "output_type": "execute_result"
    }
   ],
   "source": [
    "# Set a flag for AD period data\n",
    "df_FD.loc[df_FD.PERIOD == 'AD', 'FLAG_AM_PM_PERIOD'] = True\n",
    "\n",
    "# how many flagged data?\n",
    "df_FD[df_FD.FLAG_AM_PM_PERIOD == True].shape[0]"
   ]
  },
  {
   "cell_type": "markdown",
   "id": "52af7b67",
   "metadata": {},
   "source": [
    "### SEX: leave or null 'B' / 'A?' - FLAGGED\n",
    "* maybe B is 'both' (if so, could change label to 'H' for hermaphrodite)"
   ]
  },
  {
   "cell_type": "code",
   "execution_count": 9,
   "id": "8c338cdf",
   "metadata": {},
   "outputs": [
    {
     "data": {
      "text/plain": [
       "(1, 1)"
      ]
     },
     "execution_count": 9,
     "metadata": {},
     "output_type": "execute_result"
    }
   ],
   "source": [
    "sum(df_FD.SEX == 'B'), sum(df_FD.SEX == 'A?')"
   ]
  },
  {
   "cell_type": "code",
   "execution_count": 10,
   "id": "e94629cf",
   "metadata": {},
   "outputs": [
    {
     "data": {
      "text/plain": [
       "2"
      ]
     },
     "execution_count": 10,
     "metadata": {},
     "output_type": "execute_result"
    }
   ],
   "source": [
    "# flag sex typos\n",
    "df_FD.loc[(df_FD.SEX == 'B') | (df_FD.SEX == 'A?'), 'FLAG_SEX'] = True\n",
    "\n",
    "# how many flags\n",
    "df_FD[df_FD.FLAG_SEX == True].shape[0]"
   ]
  },
  {
   "cell_type": "markdown",
   "id": "70b37470",
   "metadata": {},
   "source": [
    "## Outliers"
   ]
  },
  {
   "cell_type": "markdown",
   "id": "5ccb4457",
   "metadata": {},
   "source": [
    "### MATURITY: 0 - FLAGGED\n",
    "* NOTE: could also set this to 9 (unknown), or 99 (Abnormal)\n",
    "\n",
    "### MATURITY: 44 - FLAGGED\n",
    "* could also be typo for 4\n",
    "* NOTE: could also set this to 9 (unknown), or 99 (Abnormal)"
   ]
  },
  {
   "cell_type": "code",
   "execution_count": 11,
   "id": "535026f4",
   "metadata": {},
   "outputs": [
    {
     "data": {
      "text/plain": [
       "(2, 1)"
      ]
     },
     "execution_count": 11,
     "metadata": {},
     "output_type": "execute_result"
    }
   ],
   "source": [
    "sum(df_FD[df_FD.MATURITY.notna()].MATURITY == 0), sum(df_FD[df_FD.MATURITY.notna()].MATURITY == 44)"
   ]
  },
  {
   "cell_type": "code",
   "execution_count": 12,
   "id": "f9ff7fd0",
   "metadata": {},
   "outputs": [
    {
     "data": {
      "text/plain": [
       "3"
      ]
     },
     "execution_count": 12,
     "metadata": {},
     "output_type": "execute_result"
    }
   ],
   "source": [
    "# Flag Maturity Outliers / Typos\n",
    "\n",
    "df_FD.loc[(df_FD.MATURITY == 0) | (df_FD.MATURITY == 44), 'FLAG_MATURITY'] = True\n",
    "\n",
    "# how many flags?\n",
    "df_FD[df_FD.FLAG_MATURITY == True].shape[0]"
   ]
  },
  {
   "cell_type": "markdown",
   "id": "fb909348",
   "metadata": {},
   "source": [
    "### FSP_1: 33 - FLAGGED\n",
    "* could also be typo for 3"
   ]
  },
  {
   "cell_type": "code",
   "execution_count": 13,
   "id": "bf6b842c",
   "metadata": {},
   "outputs": [
    {
     "data": {
      "text/plain": [
       "1"
      ]
     },
     "execution_count": 13,
     "metadata": {},
     "output_type": "execute_result"
    }
   ],
   "source": [
    "sum(df_FD[df_FD.FSP_1.notna()].FSP_1 == 33)"
   ]
  },
  {
   "cell_type": "code",
   "execution_count": 14,
   "id": "8708ef80",
   "metadata": {},
   "outputs": [
    {
     "data": {
      "text/plain": [
       "1"
      ]
     },
     "execution_count": 14,
     "metadata": {},
     "output_type": "execute_result"
    }
   ],
   "source": [
    "# Flag FSP outliers\n",
    "\n",
    "df_FD.loc[(df_FD.FSP_1 == 33), 'FLAG_FSP_1'] = True\n",
    "\n",
    "# how many flags?\n",
    "df_FD[df_FD.FLAG_FSP_1 == True].shape[0]"
   ]
  },
  {
   "cell_type": "markdown",
   "id": "3d31c93a",
   "metadata": {},
   "source": [
    "### Q: What is happening with the ~2019 data?\n",
    "\n",
    "##### data input issues?\n",
    "* there were order of magnitude difference betwwen FL_STD:\n",
    "  * look to be 10x smaller\n",
    "* similarly, month 6, there were five strange entries for FL_WET and FL_FROZEN\n"
   ]
  },
  {
   "cell_type": "code",
   "execution_count": 15,
   "id": "5b07e060",
   "metadata": {},
   "outputs": [
    {
     "data": {
      "image/png": "[encoded data removed]",
      "text/plain": [
       "<Figure size 1000x200 with 1 Axes>"
      ]
     },
     "metadata": {},
     "output_type": "display_data"
    },
    {
     "data": {
      "image/png": "[encoded data removed]",
      "text/plain": [
       "<Figure size 1000x200 with 1 Axes>"
      ]
     },
     "metadata": {},
     "output_type": "display_data"
    },
    {
     "data": {
      "image/png": "[encoded data removed]",
      "text/plain": [
       "<Figure size 1000x200 with 1 Axes>"
      ]
     },
     "metadata": {},
     "output_type": "display_data"
    }
   ],
   "source": [
    "def hist_compare_years(year, feature, bins=50, xmin=0, xmax=400):\n",
    "    \n",
    "    plt.figure(figsize=(10,2))\n",
    "    plt.xlim(xmin, xmax)\n",
    "    \n",
    "    bins_plot = [(x/(bins+1))*(xmax-xmin)+xmin for x in range(bins+2)] \n",
    "    \n",
    "    df_FD.loc[df_FD.DATETIME.dt.year > year, feature].hist(alpha=0.5, color=sns.color_palette()[3], density=True, label=f'after {year}', bins=bins_plot)\n",
    "    df_FD.loc[df_FD.DATETIME.dt.year <= year, feature].hist(alpha=0.5, density=True, label=f'up to {year}', bins=bins_plot)\n",
    "    \n",
    "    plt.legend(loc='upper right')\n",
    "    \n",
    "    plt.title(feature.upper() + ': Before and After ' + str(year))\n",
    "    plt.show()\n",
    "    \n",
    "\n",
    "# compare years and features\n",
    "features_to_compare = ['FL_WET', 'FL_FROZEN', 'FL_STD']\n",
    "years_to_compare = [2018]\n",
    "\n",
    "for feature in features_to_compare:\n",
    "    for year in years_to_compare:\n",
    "        hist_compare_years(year, feature)"
   ]
  },
  {
   "cell_type": "markdown",
   "id": "eb0de01c",
   "metadata": {},
   "source": [
    "### FL_STD: outliers - FLAGGED"
   ]
  },
  {
   "cell_type": "code",
   "execution_count": 16,
   "id": "8ba930b9",
   "metadata": {},
   "outputs": [
    {
     "data": {
      "text/plain": [
       "264"
      ]
     },
     "execution_count": 16,
     "metadata": {},
     "output_type": "execute_result"
    }
   ],
   "source": [
    "# how many length outliers?\n",
    "\n",
    "sum(df_FD.FL_STD < 100)"
   ]
  },
  {
   "cell_type": "code",
   "execution_count": 17,
   "id": "fea881cc",
   "metadata": {},
   "outputs": [
    {
     "name": "stdout",
     "output_type": "stream",
     "text": [
      "\n",
      "outlier min date: 2019-05-31 00:00:00\n",
      "outlier max date: 2019-06-21 00:00:00\n"
     ]
    },
    {
     "data": {
      "image/png": "[encoded data removed]",
      "text/plain": [
       "<Figure size 1000x200 with 1 Axes>"
      ]
     },
     "metadata": {},
     "output_type": "display_data"
    },
    {
     "data": {
      "image/png": "[encoded data removed]",
      "text/plain": [
       "<Figure size 1000x200 with 1 Axes>"
      ]
     },
     "metadata": {},
     "output_type": "display_data"
    }
   ],
   "source": [
    "# looks like it's off by a multiple\n",
    "print()\n",
    "print('outlier min date:', df_FD[df_FD.FL_STD < 100].DATETIME.min())\n",
    "print('outlier max date:', df_FD[df_FD.FL_STD < 100].DATETIME.max())\n",
    "\n",
    "df_FD[df_FD.FL_STD < 100].FL_STD.hist(figsize=(10,2), bins=20)\n",
    "plt.xlim(18, 30)\n",
    "plt.show()\n",
    "\n",
    "# histogram of same year, excluding outliers\n",
    "df_FD[(df_FD.YEAR == 2019) & (df_FD.FL_STD > 100)].FL_STD.hist(figsize=(10,2), bins=20)\n",
    "plt.xlim(180, 300)\n",
    "plt.show()"
   ]
  },
  {
   "cell_type": "code",
   "execution_count": 18,
   "id": "89bc5c4b",
   "metadata": {},
   "outputs": [
    {
     "data": {
      "text/plain": [
       "264"
      ]
     },
     "execution_count": 18,
     "metadata": {},
     "output_type": "execute_result"
    }
   ],
   "source": [
    "# flag outlier FL_STD\n",
    "df_FD.loc[(df_FD.FL_STD < 100), 'FLAG_FL_STD'] = True\n",
    "\n",
    "# how many flags?\n",
    "df_FD[df_FD.FLAG_FL_STD == True].shape[0]"
   ]
  },
  {
   "cell_type": "markdown",
   "id": "ee1d2ff5",
   "metadata": {},
   "source": [
    "### FL_WET and FL_FROZEN: outliers - FLAGGED"
   ]
  },
  {
   "cell_type": "code",
   "execution_count": 19,
   "id": "c02053e7",
   "metadata": {},
   "outputs": [
    {
     "name": "stdout",
     "output_type": "stream",
     "text": [
      "median FL_WET:  251.0\n",
      "median FL_FROZEN:  247.0\n"
     ]
    },
    {
     "data": {
      "text/html": [
       "<div>\n",
       "<style scoped>\n",
       "    .dataframe tbody tr th:only-of-type {\n",
       "        vertical-align: middle;\n",
       "    }\n",
       "\n",
       "    .dataframe tbody tr th {\n",
       "        vertical-align: top;\n",
       "    }\n",
       "\n",
       "    .dataframe thead th {\n",
       "        text-align: right;\n",
       "    }\n",
       "</style>\n",
       "<table border=\"1\" class=\"dataframe\">\n",
       "  <thead>\n",
       "    <tr style=\"text-align: right;\">\n",
       "      <th></th>\n",
       "      <th>FL_WET</th>\n",
       "      <th>FL_FROZEN</th>\n",
       "    </tr>\n",
       "  </thead>\n",
       "  <tbody>\n",
       "    <tr>\n",
       "      <th>35048</th>\n",
       "      <td>2</td>\n",
       "      <td>3</td>\n",
       "    </tr>\n",
       "    <tr>\n",
       "      <th>35161</th>\n",
       "      <td>28</td>\n",
       "      <td>28</td>\n",
       "    </tr>\n",
       "    <tr>\n",
       "      <th>35241</th>\n",
       "      <td>2</td>\n",
       "      <td>2</td>\n",
       "    </tr>\n",
       "    <tr>\n",
       "      <th>35246</th>\n",
       "      <td>1</td>\n",
       "      <td>1</td>\n",
       "    </tr>\n",
       "    <tr>\n",
       "      <th>35247</th>\n",
       "      <td>2</td>\n",
       "      <td>3</td>\n",
       "    </tr>\n",
       "  </tbody>\n",
       "</table>\n",
       "</div>"
      ],
      "text/plain": [
       "       FL_WET  FL_FROZEN\n",
       "35048       2          3\n",
       "35161      28         28\n",
       "35241       2          2\n",
       "35246       1          1\n",
       "35247       2          3"
      ]
     },
     "metadata": {},
     "output_type": "display_data"
    }
   ],
   "source": [
    "# these also look like they are off by multiples\n",
    "\n",
    "print('median FL_WET: ', df_FD.FL_WET.median())\n",
    "print('median FL_FROZEN: ', df_FD.FL_FROZEN.median())\n",
    "\n",
    "display(df_FD[(df_FD.FL_WET < 100) | (df_FD.FL_FROZEN < 100)][['FL_WET', 'FL_FROZEN']])"
   ]
  },
  {
   "cell_type": "code",
   "execution_count": 20,
   "id": "3535de9b",
   "metadata": {},
   "outputs": [
    {
     "data": {
      "text/plain": [
       "5"
      ]
     },
     "execution_count": 20,
     "metadata": {},
     "output_type": "execute_result"
    }
   ],
   "source": [
    "# flag outlier FL_WET and FL_FROZEN\n",
    "df_FD.loc[((df_FD.FL_WET < 100) | (df_FD.FL_FROZEN < 100)), 'FLAG_FL_WET_FROZEN'] = True\n",
    "\n",
    "# how many flags?\n",
    "df_FD[df_FD.FLAG_FL_WET_FROZEN == True].shape[0]"
   ]
  },
  {
   "cell_type": "markdown",
   "id": "8043e7b2",
   "metadata": {},
   "source": [
    "## STD from Frozen: impute std from wet or frozen (in dm_apps)\n",
    "* update dm_apps to take in fresh or frozen lengths and output standardised lengths\n",
    "* below is a summary of:\n",
    "    * missing data that can be added\n",
    "    * accuracy calculations for this conversion\n",
    "    * notes regarding outliers/exceptions\n",
    "* conclusion: this method will work in dm_apps, with no major discrepancies in non-flagged entries"
   ]
  },
  {
   "cell_type": "code",
   "execution_count": 21,
   "id": "1e90814e",
   "metadata": {},
   "outputs": [
    {
     "name": "stdout",
     "output_type": "stream",
     "text": [
      "1457 entries\n",
      "\n"
     ]
    }
   ],
   "source": [
    "# how many FL_WET or FROZEN but not FL_STD exist?\n",
    "\n",
    "TEMP = df_FD[df_FD.FL_STD.isnull() & (df_FD.FL_WET.notna() | df_FD.FL_FROZEN.notna())][['DATETIME', 'FL_WET', 'FL_FROZEN', 'FL_STD']]\n",
    "print(TEMP.shape[0], 'entries\\n')"
   ]
  },
  {
   "cell_type": "code",
   "execution_count": 22,
   "id": "3774354c",
   "metadata": {},
   "outputs": [
    {
     "data": {
      "text/plain": [
       "count   25331.000\n",
       "mean        1.034\n",
       "std         0.148\n",
       "min         0.896\n",
       "25%         1.031\n",
       "50%         1.032\n",
       "75%         1.034\n",
       "max        20.000\n",
       "dtype: float64"
      ]
     },
     "execution_count": 22,
     "metadata": {},
     "output_type": "execute_result"
    }
   ],
   "source": [
    "# what is the ratio, FROZEN to STD\n",
    "\n",
    "TEMP = df_FD[df_FD.FL_STD.notna() & df_FD.FL_FROZEN.notna()]\n",
    "(TEMP.FL_STD / TEMP.FL_FROZEN).describe()"
   ]
  },
  {
   "cell_type": "code",
   "execution_count": 23,
   "id": "e63467c3",
   "metadata": {},
   "outputs": [
    {
     "data": {
      "text/plain": [
       "(264, 1193, 1457)"
      ]
     },
     "execution_count": 23,
     "metadata": {},
     "output_type": "execute_result"
    }
   ],
   "source": [
    "# how many missing values\n",
    "(\n",
    "    sum(df_FD.FL_STD.isnull() & df_FD.FL_FROZEN.notna()),                             # only frozen FL data\n",
    "    sum(df_FD.FL_STD.isnull() & df_FD.FL_WET.notna()),                                # only wet FL data\n",
    "    sum(df_FD.FL_STD.isnull() & (df_FD.FL_FROZEN.notna() | df_FD.FL_WET.notna()))     # either wet or frozen data, but not std FL data\n",
    ")\n",
    "# frozen, wet, both"
   ]
  },
  {
   "cell_type": "markdown",
   "id": "5737852c",
   "metadata": {},
   "source": [
    "### ANALYSE CONVERSION FACTOR FROZEN TO STD\n",
    "* based on David's question"
   ]
  },
  {
   "cell_type": "code",
   "execution_count": 24,
   "id": "e44af1ab",
   "metadata": {},
   "outputs": [
    {
     "data": {
      "text/html": [
       "<div>\n",
       "<style scoped>\n",
       "    .dataframe tbody tr th:only-of-type {\n",
       "        vertical-align: middle;\n",
       "    }\n",
       "\n",
       "    .dataframe tbody tr th {\n",
       "        vertical-align: top;\n",
       "    }\n",
       "\n",
       "    .dataframe thead th {\n",
       "        text-align: right;\n",
       "    }\n",
       "</style>\n",
       "<table border=\"1\" class=\"dataframe\">\n",
       "  <thead>\n",
       "    <tr style=\"text-align: right;\">\n",
       "      <th></th>\n",
       "      <th>count</th>\n",
       "      <th>mean</th>\n",
       "      <th>std</th>\n",
       "      <th>min</th>\n",
       "      <th>2.5%</th>\n",
       "      <th>50%</th>\n",
       "      <th>97.5%</th>\n",
       "      <th>max</th>\n",
       "    </tr>\n",
       "  </thead>\n",
       "  <tbody>\n",
       "    <tr>\n",
       "      <th>factor</th>\n",
       "      <td>25331.000</td>\n",
       "      <td>1.000</td>\n",
       "      <td>0.012</td>\n",
       "      <td>0.052</td>\n",
       "      <td>0.996</td>\n",
       "      <td>1.001</td>\n",
       "      <td>1.004</td>\n",
       "      <td>1.152</td>\n",
       "    </tr>\n",
       "  </tbody>\n",
       "</table>\n",
       "</div>"
      ],
      "text/plain": [
       "           count  mean   std   min  2.5%   50%  97.5%   max\n",
       "factor 25331.000 1.000 0.012 0.052 0.996 1.001  1.004 1.152"
      ]
     },
     "execution_count": 24,
     "metadata": {},
     "output_type": "execute_result"
    }
   ],
   "source": [
    "temp = df_FD[['FL_FROZEN', 'FL_STD']].dropna()\n",
    "temp = pd.DataFrame(temp.FL_FROZEN * 1.033 / temp.FL_STD, columns=['factor'])\n",
    "temp.describe(percentiles=[0.025, 0.975]).T\n",
    "\n",
    "# 95% CI is very small, some extreme outliers (see below)"
   ]
  },
  {
   "cell_type": "code",
   "execution_count": 25,
   "id": "8730c027",
   "metadata": {},
   "outputs": [
    {
     "data": {
      "text/html": [
       "<div>\n",
       "<style scoped>\n",
       "    .dataframe tbody tr th:only-of-type {\n",
       "        vertical-align: middle;\n",
       "    }\n",
       "\n",
       "    .dataframe tbody tr th {\n",
       "        vertical-align: top;\n",
       "    }\n",
       "\n",
       "    .dataframe thead th {\n",
       "        text-align: right;\n",
       "    }\n",
       "</style>\n",
       "<table border=\"1\" class=\"dataframe\">\n",
       "  <thead>\n",
       "    <tr style=\"text-align: right;\">\n",
       "      <th></th>\n",
       "      <th>YEAR</th>\n",
       "      <th>MM</th>\n",
       "      <th>DD</th>\n",
       "      <th>WEEK</th>\n",
       "      <th>SITE</th>\n",
       "      <th>PERIOD</th>\n",
       "      <th>CONDITION</th>\n",
       "      <th>FISH_NO</th>\n",
       "      <th>FL_WET</th>\n",
       "      <th>FL_FROZEN</th>\n",
       "      <th>FL_STD</th>\n",
       "      <th>WEIGHT</th>\n",
       "      <th>SPECIES</th>\n",
       "      <th>SEX</th>\n",
       "      <th>MATURITY</th>\n",
       "      <th>GONAD_WEIGHT</th>\n",
       "      <th>Ager_1</th>\n",
       "      <th>AGE_1</th>\n",
       "      <th>FSP_1</th>\n",
       "      <th>Comments_1</th>\n",
       "      <th>Ager_2</th>\n",
       "      <th>AGE_2</th>\n",
       "      <th>FSP_2</th>\n",
       "      <th>Comments_2</th>\n",
       "      <th>Ager_3</th>\n",
       "      <th>AGE_3</th>\n",
       "      <th>FSP_3</th>\n",
       "      <th>Comments_3</th>\n",
       "      <th>Envelop.Comments</th>\n",
       "      <th>DATETIME</th>\n",
       "      <th>AGE_notes_1</th>\n",
       "      <th>FSP_notes_1</th>\n",
       "      <th>AGE_notes_2</th>\n",
       "      <th>FSP_notes_2</th>\n",
       "      <th>AGE_notes_3</th>\n",
       "      <th>FSP_notes_3</th>\n",
       "      <th>FLAG_SITE</th>\n",
       "      <th>SITE_notes</th>\n",
       "      <th>SITE1</th>\n",
       "      <th>SITE2</th>\n",
       "      <th>SITE3</th>\n",
       "      <th>FLAG_AM_PM_PERIOD</th>\n",
       "      <th>FLAG_SEX</th>\n",
       "      <th>FLAG_MATURITY</th>\n",
       "      <th>FLAG_FSP_1</th>\n",
       "      <th>FLAG_FL_STD</th>\n",
       "      <th>FLAG_FL_WET_FROZEN</th>\n",
       "    </tr>\n",
       "  </thead>\n",
       "  <tbody>\n",
       "    <tr>\n",
       "      <th>35048</th>\n",
       "      <td>2019</td>\n",
       "      <td>6</td>\n",
       "      <td>14</td>\n",
       "      <td>7</td>\n",
       "      <td>25</td>\n",
       "      <td>PM</td>\n",
       "      <td>Frozen</td>\n",
       "      <td>7</td>\n",
       "      <td>2</td>\n",
       "      <td>3</td>\n",
       "      <td>25.900</td>\n",
       "      <td>221.300</td>\n",
       "      <td>B</td>\n",
       "      <td>M</td>\n",
       "      <td>4</td>\n",
       "      <td>NaN</td>\n",
       "      <td>JM</td>\n",
       "      <td>6</td>\n",
       "      <td>3</td>\n",
       "      <td>Ck Lgth, Possible 5-3</td>\n",
       "      <td>NaN</td>\n",
       "      <td>&lt;NA&gt;</td>\n",
       "      <td>&lt;NA&gt;</td>\n",
       "      <td>NaN</td>\n",
       "      <td>NaN</td>\n",
       "      <td>&lt;NA&gt;</td>\n",
       "      <td>&lt;NA&gt;</td>\n",
       "      <td>NaN</td>\n",
       "      <td>NaN</td>\n",
       "      <td>2019-06-14</td>\n",
       "      <td>6</td>\n",
       "      <td>3</td>\n",
       "      <td>NaN</td>\n",
       "      <td>NaN</td>\n",
       "      <td>NaN</td>\n",
       "      <td>NaN</td>\n",
       "      <td>NaN</td>\n",
       "      <td>25</td>\n",
       "      <td>25</td>\n",
       "      <td>&lt;NA&gt;</td>\n",
       "      <td>&lt;NA&gt;</td>\n",
       "      <td>NaN</td>\n",
       "      <td>NaN</td>\n",
       "      <td>NaN</td>\n",
       "      <td>NaN</td>\n",
       "      <td>True</td>\n",
       "      <td>True</td>\n",
       "    </tr>\n",
       "    <tr>\n",
       "      <th>35161</th>\n",
       "      <td>2019</td>\n",
       "      <td>6</td>\n",
       "      <td>19</td>\n",
       "      <td>8</td>\n",
       "      <td>41</td>\n",
       "      <td>PM</td>\n",
       "      <td>Frozen</td>\n",
       "      <td>28</td>\n",
       "      <td>28</td>\n",
       "      <td>28</td>\n",
       "      <td>25.100</td>\n",
       "      <td>228.600</td>\n",
       "      <td>A</td>\n",
       "      <td>F</td>\n",
       "      <td>4</td>\n",
       "      <td>35.900</td>\n",
       "      <td>JM</td>\n",
       "      <td>5</td>\n",
       "      <td>4</td>\n",
       "      <td>?able4</td>\n",
       "      <td>NaN</td>\n",
       "      <td>&lt;NA&gt;</td>\n",
       "      <td>&lt;NA&gt;</td>\n",
       "      <td>NaN</td>\n",
       "      <td>NaN</td>\n",
       "      <td>&lt;NA&gt;</td>\n",
       "      <td>&lt;NA&gt;</td>\n",
       "      <td>NaN</td>\n",
       "      <td>NaN</td>\n",
       "      <td>2019-06-19</td>\n",
       "      <td>5</td>\n",
       "      <td>4</td>\n",
       "      <td>NaN</td>\n",
       "      <td>NaN</td>\n",
       "      <td>NaN</td>\n",
       "      <td>NaN</td>\n",
       "      <td>NaN</td>\n",
       "      <td>41</td>\n",
       "      <td>41</td>\n",
       "      <td>&lt;NA&gt;</td>\n",
       "      <td>&lt;NA&gt;</td>\n",
       "      <td>NaN</td>\n",
       "      <td>NaN</td>\n",
       "      <td>NaN</td>\n",
       "      <td>NaN</td>\n",
       "      <td>True</td>\n",
       "      <td>True</td>\n",
       "    </tr>\n",
       "    <tr>\n",
       "      <th>35241</th>\n",
       "      <td>2019</td>\n",
       "      <td>6</td>\n",
       "      <td>21</td>\n",
       "      <td>8</td>\n",
       "      <td>41</td>\n",
       "      <td>AM</td>\n",
       "      <td>Frozen</td>\n",
       "      <td>36</td>\n",
       "      <td>2</td>\n",
       "      <td>2</td>\n",
       "      <td>22.800</td>\n",
       "      <td>151.800</td>\n",
       "      <td>B</td>\n",
       "      <td>F</td>\n",
       "      <td>4</td>\n",
       "      <td>16.100</td>\n",
       "      <td>JM</td>\n",
       "      <td>4</td>\n",
       "      <td>4</td>\n",
       "      <td>Root+Apex</td>\n",
       "      <td>NaN</td>\n",
       "      <td>&lt;NA&gt;</td>\n",
       "      <td>&lt;NA&gt;</td>\n",
       "      <td>NaN</td>\n",
       "      <td>NaN</td>\n",
       "      <td>&lt;NA&gt;</td>\n",
       "      <td>&lt;NA&gt;</td>\n",
       "      <td>NaN</td>\n",
       "      <td>NaN</td>\n",
       "      <td>2019-06-21</td>\n",
       "      <td>4</td>\n",
       "      <td>4</td>\n",
       "      <td>NaN</td>\n",
       "      <td>NaN</td>\n",
       "      <td>NaN</td>\n",
       "      <td>NaN</td>\n",
       "      <td>NaN</td>\n",
       "      <td>41</td>\n",
       "      <td>41</td>\n",
       "      <td>&lt;NA&gt;</td>\n",
       "      <td>&lt;NA&gt;</td>\n",
       "      <td>NaN</td>\n",
       "      <td>NaN</td>\n",
       "      <td>NaN</td>\n",
       "      <td>NaN</td>\n",
       "      <td>True</td>\n",
       "      <td>True</td>\n",
       "    </tr>\n",
       "    <tr>\n",
       "      <th>35246</th>\n",
       "      <td>2019</td>\n",
       "      <td>6</td>\n",
       "      <td>21</td>\n",
       "      <td>8</td>\n",
       "      <td>41</td>\n",
       "      <td>AM</td>\n",
       "      <td>Frozen</td>\n",
       "      <td>7</td>\n",
       "      <td>1</td>\n",
       "      <td>1</td>\n",
       "      <td>20.000</td>\n",
       "      <td>97.000</td>\n",
       "      <td>B</td>\n",
       "      <td>M</td>\n",
       "      <td>4</td>\n",
       "      <td>NaN</td>\n",
       "      <td>JM</td>\n",
       "      <td>4</td>\n",
       "      <td>3</td>\n",
       "      <td>Ck Lgth</td>\n",
       "      <td>NaN</td>\n",
       "      <td>&lt;NA&gt;</td>\n",
       "      <td>&lt;NA&gt;</td>\n",
       "      <td>NaN</td>\n",
       "      <td>NaN</td>\n",
       "      <td>&lt;NA&gt;</td>\n",
       "      <td>&lt;NA&gt;</td>\n",
       "      <td>NaN</td>\n",
       "      <td>NaN</td>\n",
       "      <td>2019-06-21</td>\n",
       "      <td>4</td>\n",
       "      <td>3</td>\n",
       "      <td>NaN</td>\n",
       "      <td>NaN</td>\n",
       "      <td>NaN</td>\n",
       "      <td>NaN</td>\n",
       "      <td>NaN</td>\n",
       "      <td>41</td>\n",
       "      <td>41</td>\n",
       "      <td>&lt;NA&gt;</td>\n",
       "      <td>&lt;NA&gt;</td>\n",
       "      <td>NaN</td>\n",
       "      <td>NaN</td>\n",
       "      <td>NaN</td>\n",
       "      <td>NaN</td>\n",
       "      <td>True</td>\n",
       "      <td>True</td>\n",
       "    </tr>\n",
       "    <tr>\n",
       "      <th>35247</th>\n",
       "      <td>2019</td>\n",
       "      <td>6</td>\n",
       "      <td>21</td>\n",
       "      <td>8</td>\n",
       "      <td>41</td>\n",
       "      <td>AM</td>\n",
       "      <td>Frozen</td>\n",
       "      <td>8</td>\n",
       "      <td>2</td>\n",
       "      <td>3</td>\n",
       "      <td>20.400</td>\n",
       "      <td>103.800</td>\n",
       "      <td>B</td>\n",
       "      <td>M</td>\n",
       "      <td>4</td>\n",
       "      <td>NaN</td>\n",
       "      <td>JM</td>\n",
       "      <td>3</td>\n",
       "      <td>3</td>\n",
       "      <td>Dark</td>\n",
       "      <td>NaN</td>\n",
       "      <td>&lt;NA&gt;</td>\n",
       "      <td>&lt;NA&gt;</td>\n",
       "      <td>NaN</td>\n",
       "      <td>NaN</td>\n",
       "      <td>&lt;NA&gt;</td>\n",
       "      <td>&lt;NA&gt;</td>\n",
       "      <td>NaN</td>\n",
       "      <td>NaN</td>\n",
       "      <td>2019-06-21</td>\n",
       "      <td>3</td>\n",
       "      <td>3</td>\n",
       "      <td>NaN</td>\n",
       "      <td>NaN</td>\n",
       "      <td>NaN</td>\n",
       "      <td>NaN</td>\n",
       "      <td>NaN</td>\n",
       "      <td>41</td>\n",
       "      <td>41</td>\n",
       "      <td>&lt;NA&gt;</td>\n",
       "      <td>&lt;NA&gt;</td>\n",
       "      <td>NaN</td>\n",
       "      <td>NaN</td>\n",
       "      <td>NaN</td>\n",
       "      <td>NaN</td>\n",
       "      <td>True</td>\n",
       "      <td>True</td>\n",
       "    </tr>\n",
       "  </tbody>\n",
       "</table>\n",
       "</div>"
      ],
      "text/plain": [
       "       YEAR  MM  DD  WEEK SITE PERIOD CONDITION  FISH_NO  FL_WET  FL_FROZEN  \\\n",
       "35048  2019   6  14     7   25     PM    Frozen        7       2          3   \n",
       "35161  2019   6  19     8   41     PM    Frozen       28      28         28   \n",
       "35241  2019   6  21     8   41     AM    Frozen       36       2          2   \n",
       "35246  2019   6  21     8   41     AM    Frozen        7       1          1   \n",
       "35247  2019   6  21     8   41     AM    Frozen        8       2          3   \n",
       "\n",
       "       FL_STD  WEIGHT SPECIES SEX  MATURITY  GONAD_WEIGHT Ager_1  AGE_1  \\\n",
       "35048  25.900 221.300       B   M         4           NaN     JM      6   \n",
       "35161  25.100 228.600       A   F         4        35.900     JM      5   \n",
       "35241  22.800 151.800       B   F         4        16.100     JM      4   \n",
       "35246  20.000  97.000       B   M         4           NaN     JM      4   \n",
       "35247  20.400 103.800       B   M         4           NaN     JM      3   \n",
       "\n",
       "       FSP_1             Comments_1 Ager_2  AGE_2  FSP_2 Comments_2 Ager_3  \\\n",
       "35048      3  Ck Lgth, Possible 5-3    NaN   <NA>   <NA>        NaN    NaN   \n",
       "35161      4                 ?able4    NaN   <NA>   <NA>        NaN    NaN   \n",
       "35241      4              Root+Apex    NaN   <NA>   <NA>        NaN    NaN   \n",
       "35246      3                Ck Lgth    NaN   <NA>   <NA>        NaN    NaN   \n",
       "35247      3                   Dark    NaN   <NA>   <NA>        NaN    NaN   \n",
       "\n",
       "       AGE_3  FSP_3 Comments_3 Envelop.Comments   DATETIME AGE_notes_1  \\\n",
       "35048   <NA>   <NA>        NaN              NaN 2019-06-14           6   \n",
       "35161   <NA>   <NA>        NaN              NaN 2019-06-19           5   \n",
       "35241   <NA>   <NA>        NaN              NaN 2019-06-21           4   \n",
       "35246   <NA>   <NA>        NaN              NaN 2019-06-21           4   \n",
       "35247   <NA>   <NA>        NaN              NaN 2019-06-21           3   \n",
       "\n",
       "      FSP_notes_1 AGE_notes_2 FSP_notes_2 AGE_notes_3 FSP_notes_3 FLAG_SITE  \\\n",
       "35048           3         NaN         NaN         NaN         NaN       NaN   \n",
       "35161           4         NaN         NaN         NaN         NaN       NaN   \n",
       "35241           4         NaN         NaN         NaN         NaN       NaN   \n",
       "35246           3         NaN         NaN         NaN         NaN       NaN   \n",
       "35247           3         NaN         NaN         NaN         NaN       NaN   \n",
       "\n",
       "      SITE_notes  SITE1 SITE2 SITE3 FLAG_AM_PM_PERIOD FLAG_SEX FLAG_MATURITY  \\\n",
       "35048         25     25  <NA>  <NA>               NaN      NaN           NaN   \n",
       "35161         41     41  <NA>  <NA>               NaN      NaN           NaN   \n",
       "35241         41     41  <NA>  <NA>               NaN      NaN           NaN   \n",
       "35246         41     41  <NA>  <NA>               NaN      NaN           NaN   \n",
       "35247         41     41  <NA>  <NA>               NaN      NaN           NaN   \n",
       "\n",
       "      FLAG_FSP_1 FLAG_FL_STD FLAG_FL_WET_FROZEN  \n",
       "35048        NaN        True               True  \n",
       "35161        NaN        True               True  \n",
       "35241        NaN        True               True  \n",
       "35246        NaN        True               True  \n",
       "35247        NaN        True               True  "
      ]
     },
     "execution_count": 25,
     "metadata": {},
     "output_type": "execute_result"
    }
   ],
   "source": [
    "# check outliers\n",
    "frozen_outliers = temp[(temp.factor < 1-3*0.012) | (temp.factor > 1+3*0.012)]\n",
    "\n",
    "# indices of outliers\n",
    "frozen_outliers_idx = set(frozen_outliers.index)\n",
    "\n",
    "# outliers in full dataframe\n",
    "df_FD.iloc[df_FD.index.isin(frozen_outliers_idx)]\n",
    "\n",
    "# These are already flagged!"
   ]
  },
  {
   "cell_type": "code",
   "execution_count": 26,
   "id": "e43619f2",
   "metadata": {},
   "outputs": [
    {
     "data": {
      "text/html": [
       "<div>\n",
       "<style scoped>\n",
       "    .dataframe tbody tr th:only-of-type {\n",
       "        vertical-align: middle;\n",
       "    }\n",
       "\n",
       "    .dataframe tbody tr th {\n",
       "        vertical-align: top;\n",
       "    }\n",
       "\n",
       "    .dataframe thead th {\n",
       "        text-align: right;\n",
       "    }\n",
       "</style>\n",
       "<table border=\"1\" class=\"dataframe\">\n",
       "  <thead>\n",
       "    <tr style=\"text-align: right;\">\n",
       "      <th></th>\n",
       "      <th>count</th>\n",
       "      <th>mean</th>\n",
       "      <th>std</th>\n",
       "      <th>min</th>\n",
       "      <th>2.5%</th>\n",
       "      <th>50%</th>\n",
       "      <th>97.5%</th>\n",
       "      <th>max</th>\n",
       "    </tr>\n",
       "  </thead>\n",
       "  <tbody>\n",
       "    <tr>\n",
       "      <th>factor</th>\n",
       "      <td>9660.000</td>\n",
       "      <td>1.000</td>\n",
       "      <td>0.019</td>\n",
       "      <td>0.050</td>\n",
       "      <td>1.000</td>\n",
       "      <td>1.000</td>\n",
       "      <td>1.000</td>\n",
       "      <td>1.116</td>\n",
       "    </tr>\n",
       "  </tbody>\n",
       "</table>\n",
       "</div>"
      ],
      "text/plain": [
       "          count  mean   std   min  2.5%   50%  97.5%   max\n",
       "factor 9660.000 1.000 0.019 0.050 1.000 1.000  1.000 1.116"
      ]
     },
     "execution_count": 26,
     "metadata": {},
     "output_type": "execute_result"
    }
   ],
   "source": [
    "# let's make sure wet data is always equals standardised\n",
    "\n",
    "temp = df_FD[['FL_WET', 'FL_STD']].dropna()\n",
    "temp = pd.DataFrame(temp.FL_WET / temp.FL_STD, columns=['factor'])\n",
    "temp.describe(percentiles=[0.025, 0.975]).T"
   ]
  },
  {
   "cell_type": "code",
   "execution_count": 27,
   "id": "900d68d0",
   "metadata": {},
   "outputs": [
    {
     "data": {
      "text/html": [
       "<div>\n",
       "<style scoped>\n",
       "    .dataframe tbody tr th:only-of-type {\n",
       "        vertical-align: middle;\n",
       "    }\n",
       "\n",
       "    .dataframe tbody tr th {\n",
       "        vertical-align: top;\n",
       "    }\n",
       "\n",
       "    .dataframe thead th {\n",
       "        text-align: right;\n",
       "    }\n",
       "</style>\n",
       "<table border=\"1\" class=\"dataframe\">\n",
       "  <thead>\n",
       "    <tr style=\"text-align: right;\">\n",
       "      <th></th>\n",
       "      <th>YEAR</th>\n",
       "      <th>MM</th>\n",
       "      <th>DD</th>\n",
       "      <th>WEEK</th>\n",
       "      <th>SITE</th>\n",
       "      <th>PERIOD</th>\n",
       "      <th>CONDITION</th>\n",
       "      <th>FISH_NO</th>\n",
       "      <th>FL_WET</th>\n",
       "      <th>FL_FROZEN</th>\n",
       "      <th>FL_STD</th>\n",
       "      <th>WEIGHT</th>\n",
       "      <th>SPECIES</th>\n",
       "      <th>SEX</th>\n",
       "      <th>MATURITY</th>\n",
       "      <th>GONAD_WEIGHT</th>\n",
       "      <th>Ager_1</th>\n",
       "      <th>AGE_1</th>\n",
       "      <th>FSP_1</th>\n",
       "      <th>Comments_1</th>\n",
       "      <th>Ager_2</th>\n",
       "      <th>AGE_2</th>\n",
       "      <th>FSP_2</th>\n",
       "      <th>Comments_2</th>\n",
       "      <th>Ager_3</th>\n",
       "      <th>AGE_3</th>\n",
       "      <th>FSP_3</th>\n",
       "      <th>Comments_3</th>\n",
       "      <th>Envelop.Comments</th>\n",
       "      <th>DATETIME</th>\n",
       "      <th>AGE_notes_1</th>\n",
       "      <th>FSP_notes_1</th>\n",
       "      <th>AGE_notes_2</th>\n",
       "      <th>FSP_notes_2</th>\n",
       "      <th>AGE_notes_3</th>\n",
       "      <th>FSP_notes_3</th>\n",
       "      <th>FLAG_SITE</th>\n",
       "      <th>SITE_notes</th>\n",
       "      <th>SITE1</th>\n",
       "      <th>SITE2</th>\n",
       "      <th>SITE3</th>\n",
       "      <th>FLAG_AM_PM_PERIOD</th>\n",
       "      <th>FLAG_SEX</th>\n",
       "      <th>FLAG_MATURITY</th>\n",
       "      <th>FLAG_FSP_1</th>\n",
       "      <th>FLAG_FL_STD</th>\n",
       "      <th>FLAG_FL_WET_FROZEN</th>\n",
       "    </tr>\n",
       "  </thead>\n",
       "  <tbody>\n",
       "    <tr>\n",
       "      <th>35048</th>\n",
       "      <td>2019</td>\n",
       "      <td>6</td>\n",
       "      <td>14</td>\n",
       "      <td>7</td>\n",
       "      <td>25</td>\n",
       "      <td>PM</td>\n",
       "      <td>Frozen</td>\n",
       "      <td>7</td>\n",
       "      <td>2</td>\n",
       "      <td>3</td>\n",
       "      <td>25.900</td>\n",
       "      <td>221.300</td>\n",
       "      <td>B</td>\n",
       "      <td>M</td>\n",
       "      <td>4</td>\n",
       "      <td>NaN</td>\n",
       "      <td>JM</td>\n",
       "      <td>6</td>\n",
       "      <td>3</td>\n",
       "      <td>Ck Lgth, Possible 5-3</td>\n",
       "      <td>NaN</td>\n",
       "      <td>&lt;NA&gt;</td>\n",
       "      <td>&lt;NA&gt;</td>\n",
       "      <td>NaN</td>\n",
       "      <td>NaN</td>\n",
       "      <td>&lt;NA&gt;</td>\n",
       "      <td>&lt;NA&gt;</td>\n",
       "      <td>NaN</td>\n",
       "      <td>NaN</td>\n",
       "      <td>2019-06-14</td>\n",
       "      <td>6</td>\n",
       "      <td>3</td>\n",
       "      <td>NaN</td>\n",
       "      <td>NaN</td>\n",
       "      <td>NaN</td>\n",
       "      <td>NaN</td>\n",
       "      <td>NaN</td>\n",
       "      <td>25</td>\n",
       "      <td>25</td>\n",
       "      <td>&lt;NA&gt;</td>\n",
       "      <td>&lt;NA&gt;</td>\n",
       "      <td>NaN</td>\n",
       "      <td>NaN</td>\n",
       "      <td>NaN</td>\n",
       "      <td>NaN</td>\n",
       "      <td>True</td>\n",
       "      <td>True</td>\n",
       "    </tr>\n",
       "    <tr>\n",
       "      <th>35161</th>\n",
       "      <td>2019</td>\n",
       "      <td>6</td>\n",
       "      <td>19</td>\n",
       "      <td>8</td>\n",
       "      <td>41</td>\n",
       "      <td>PM</td>\n",
       "      <td>Frozen</td>\n",
       "      <td>28</td>\n",
       "      <td>28</td>\n",
       "      <td>28</td>\n",
       "      <td>25.100</td>\n",
       "      <td>228.600</td>\n",
       "      <td>A</td>\n",
       "      <td>F</td>\n",
       "      <td>4</td>\n",
       "      <td>35.900</td>\n",
       "      <td>JM</td>\n",
       "      <td>5</td>\n",
       "      <td>4</td>\n",
       "      <td>?able4</td>\n",
       "      <td>NaN</td>\n",
       "      <td>&lt;NA&gt;</td>\n",
       "      <td>&lt;NA&gt;</td>\n",
       "      <td>NaN</td>\n",
       "      <td>NaN</td>\n",
       "      <td>&lt;NA&gt;</td>\n",
       "      <td>&lt;NA&gt;</td>\n",
       "      <td>NaN</td>\n",
       "      <td>NaN</td>\n",
       "      <td>2019-06-19</td>\n",
       "      <td>5</td>\n",
       "      <td>4</td>\n",
       "      <td>NaN</td>\n",
       "      <td>NaN</td>\n",
       "      <td>NaN</td>\n",
       "      <td>NaN</td>\n",
       "      <td>NaN</td>\n",
       "      <td>41</td>\n",
       "      <td>41</td>\n",
       "      <td>&lt;NA&gt;</td>\n",
       "      <td>&lt;NA&gt;</td>\n",
       "      <td>NaN</td>\n",
       "      <td>NaN</td>\n",
       "      <td>NaN</td>\n",
       "      <td>NaN</td>\n",
       "      <td>True</td>\n",
       "      <td>True</td>\n",
       "    </tr>\n",
       "    <tr>\n",
       "      <th>35241</th>\n",
       "      <td>2019</td>\n",
       "      <td>6</td>\n",
       "      <td>21</td>\n",
       "      <td>8</td>\n",
       "      <td>41</td>\n",
       "      <td>AM</td>\n",
       "      <td>Frozen</td>\n",
       "      <td>36</td>\n",
       "      <td>2</td>\n",
       "      <td>2</td>\n",
       "      <td>22.800</td>\n",
       "      <td>151.800</td>\n",
       "      <td>B</td>\n",
       "      <td>F</td>\n",
       "      <td>4</td>\n",
       "      <td>16.100</td>\n",
       "      <td>JM</td>\n",
       "      <td>4</td>\n",
       "      <td>4</td>\n",
       "      <td>Root+Apex</td>\n",
       "      <td>NaN</td>\n",
       "      <td>&lt;NA&gt;</td>\n",
       "      <td>&lt;NA&gt;</td>\n",
       "      <td>NaN</td>\n",
       "      <td>NaN</td>\n",
       "      <td>&lt;NA&gt;</td>\n",
       "      <td>&lt;NA&gt;</td>\n",
       "      <td>NaN</td>\n",
       "      <td>NaN</td>\n",
       "      <td>2019-06-21</td>\n",
       "      <td>4</td>\n",
       "      <td>4</td>\n",
       "      <td>NaN</td>\n",
       "      <td>NaN</td>\n",
       "      <td>NaN</td>\n",
       "      <td>NaN</td>\n",
       "      <td>NaN</td>\n",
       "      <td>41</td>\n",
       "      <td>41</td>\n",
       "      <td>&lt;NA&gt;</td>\n",
       "      <td>&lt;NA&gt;</td>\n",
       "      <td>NaN</td>\n",
       "      <td>NaN</td>\n",
       "      <td>NaN</td>\n",
       "      <td>NaN</td>\n",
       "      <td>True</td>\n",
       "      <td>True</td>\n",
       "    </tr>\n",
       "    <tr>\n",
       "      <th>35246</th>\n",
       "      <td>2019</td>\n",
       "      <td>6</td>\n",
       "      <td>21</td>\n",
       "      <td>8</td>\n",
       "      <td>41</td>\n",
       "      <td>AM</td>\n",
       "      <td>Frozen</td>\n",
       "      <td>7</td>\n",
       "      <td>1</td>\n",
       "      <td>1</td>\n",
       "      <td>20.000</td>\n",
       "      <td>97.000</td>\n",
       "      <td>B</td>\n",
       "      <td>M</td>\n",
       "      <td>4</td>\n",
       "      <td>NaN</td>\n",
       "      <td>JM</td>\n",
       "      <td>4</td>\n",
       "      <td>3</td>\n",
       "      <td>Ck Lgth</td>\n",
       "      <td>NaN</td>\n",
       "      <td>&lt;NA&gt;</td>\n",
       "      <td>&lt;NA&gt;</td>\n",
       "      <td>NaN</td>\n",
       "      <td>NaN</td>\n",
       "      <td>&lt;NA&gt;</td>\n",
       "      <td>&lt;NA&gt;</td>\n",
       "      <td>NaN</td>\n",
       "      <td>NaN</td>\n",
       "      <td>2019-06-21</td>\n",
       "      <td>4</td>\n",
       "      <td>3</td>\n",
       "      <td>NaN</td>\n",
       "      <td>NaN</td>\n",
       "      <td>NaN</td>\n",
       "      <td>NaN</td>\n",
       "      <td>NaN</td>\n",
       "      <td>41</td>\n",
       "      <td>41</td>\n",
       "      <td>&lt;NA&gt;</td>\n",
       "      <td>&lt;NA&gt;</td>\n",
       "      <td>NaN</td>\n",
       "      <td>NaN</td>\n",
       "      <td>NaN</td>\n",
       "      <td>NaN</td>\n",
       "      <td>True</td>\n",
       "      <td>True</td>\n",
       "    </tr>\n",
       "    <tr>\n",
       "      <th>35247</th>\n",
       "      <td>2019</td>\n",
       "      <td>6</td>\n",
       "      <td>21</td>\n",
       "      <td>8</td>\n",
       "      <td>41</td>\n",
       "      <td>AM</td>\n",
       "      <td>Frozen</td>\n",
       "      <td>8</td>\n",
       "      <td>2</td>\n",
       "      <td>3</td>\n",
       "      <td>20.400</td>\n",
       "      <td>103.800</td>\n",
       "      <td>B</td>\n",
       "      <td>M</td>\n",
       "      <td>4</td>\n",
       "      <td>NaN</td>\n",
       "      <td>JM</td>\n",
       "      <td>3</td>\n",
       "      <td>3</td>\n",
       "      <td>Dark</td>\n",
       "      <td>NaN</td>\n",
       "      <td>&lt;NA&gt;</td>\n",
       "      <td>&lt;NA&gt;</td>\n",
       "      <td>NaN</td>\n",
       "      <td>NaN</td>\n",
       "      <td>&lt;NA&gt;</td>\n",
       "      <td>&lt;NA&gt;</td>\n",
       "      <td>NaN</td>\n",
       "      <td>NaN</td>\n",
       "      <td>2019-06-21</td>\n",
       "      <td>3</td>\n",
       "      <td>3</td>\n",
       "      <td>NaN</td>\n",
       "      <td>NaN</td>\n",
       "      <td>NaN</td>\n",
       "      <td>NaN</td>\n",
       "      <td>NaN</td>\n",
       "      <td>41</td>\n",
       "      <td>41</td>\n",
       "      <td>&lt;NA&gt;</td>\n",
       "      <td>&lt;NA&gt;</td>\n",
       "      <td>NaN</td>\n",
       "      <td>NaN</td>\n",
       "      <td>NaN</td>\n",
       "      <td>NaN</td>\n",
       "      <td>True</td>\n",
       "      <td>True</td>\n",
       "    </tr>\n",
       "  </tbody>\n",
       "</table>\n",
       "</div>"
      ],
      "text/plain": [
       "       YEAR  MM  DD  WEEK SITE PERIOD CONDITION  FISH_NO  FL_WET  FL_FROZEN  \\\n",
       "35048  2019   6  14     7   25     PM    Frozen        7       2          3   \n",
       "35161  2019   6  19     8   41     PM    Frozen       28      28         28   \n",
       "35241  2019   6  21     8   41     AM    Frozen       36       2          2   \n",
       "35246  2019   6  21     8   41     AM    Frozen        7       1          1   \n",
       "35247  2019   6  21     8   41     AM    Frozen        8       2          3   \n",
       "\n",
       "       FL_STD  WEIGHT SPECIES SEX  MATURITY  GONAD_WEIGHT Ager_1  AGE_1  \\\n",
       "35048  25.900 221.300       B   M         4           NaN     JM      6   \n",
       "35161  25.100 228.600       A   F         4        35.900     JM      5   \n",
       "35241  22.800 151.800       B   F         4        16.100     JM      4   \n",
       "35246  20.000  97.000       B   M         4           NaN     JM      4   \n",
       "35247  20.400 103.800       B   M         4           NaN     JM      3   \n",
       "\n",
       "       FSP_1             Comments_1 Ager_2  AGE_2  FSP_2 Comments_2 Ager_3  \\\n",
       "35048      3  Ck Lgth, Possible 5-3    NaN   <NA>   <NA>        NaN    NaN   \n",
       "35161      4                 ?able4    NaN   <NA>   <NA>        NaN    NaN   \n",
       "35241      4              Root+Apex    NaN   <NA>   <NA>        NaN    NaN   \n",
       "35246      3                Ck Lgth    NaN   <NA>   <NA>        NaN    NaN   \n",
       "35247      3                   Dark    NaN   <NA>   <NA>        NaN    NaN   \n",
       "\n",
       "       AGE_3  FSP_3 Comments_3 Envelop.Comments   DATETIME AGE_notes_1  \\\n",
       "35048   <NA>   <NA>        NaN              NaN 2019-06-14           6   \n",
       "35161   <NA>   <NA>        NaN              NaN 2019-06-19           5   \n",
       "35241   <NA>   <NA>        NaN              NaN 2019-06-21           4   \n",
       "35246   <NA>   <NA>        NaN              NaN 2019-06-21           4   \n",
       "35247   <NA>   <NA>        NaN              NaN 2019-06-21           3   \n",
       "\n",
       "      FSP_notes_1 AGE_notes_2 FSP_notes_2 AGE_notes_3 FSP_notes_3 FLAG_SITE  \\\n",
       "35048           3         NaN         NaN         NaN         NaN       NaN   \n",
       "35161           4         NaN         NaN         NaN         NaN       NaN   \n",
       "35241           4         NaN         NaN         NaN         NaN       NaN   \n",
       "35246           3         NaN         NaN         NaN         NaN       NaN   \n",
       "35247           3         NaN         NaN         NaN         NaN       NaN   \n",
       "\n",
       "      SITE_notes  SITE1 SITE2 SITE3 FLAG_AM_PM_PERIOD FLAG_SEX FLAG_MATURITY  \\\n",
       "35048         25     25  <NA>  <NA>               NaN      NaN           NaN   \n",
       "35161         41     41  <NA>  <NA>               NaN      NaN           NaN   \n",
       "35241         41     41  <NA>  <NA>               NaN      NaN           NaN   \n",
       "35246         41     41  <NA>  <NA>               NaN      NaN           NaN   \n",
       "35247         41     41  <NA>  <NA>               NaN      NaN           NaN   \n",
       "\n",
       "      FLAG_FSP_1 FLAG_FL_STD FLAG_FL_WET_FROZEN  \n",
       "35048        NaN        True               True  \n",
       "35161        NaN        True               True  \n",
       "35241        NaN        True               True  \n",
       "35246        NaN        True               True  \n",
       "35247        NaN        True               True  "
      ]
     },
     "execution_count": 27,
     "metadata": {},
     "output_type": "execute_result"
    }
   ],
   "source": [
    "# check outliers\n",
    "wet_outliers = temp[temp.factor != 1]\n",
    "\n",
    "# indices of outliers\n",
    "wet_outliers_idx = set(wet_outliers.index)\n",
    "\n",
    "# outliers in full dataframe\n",
    "df_FD.iloc[df_FD.index.isin(wet_outliers_idx)]\n",
    "\n",
    "# These are already flagged (again)!!"
   ]
  },
  {
   "cell_type": "code",
   "execution_count": 28,
   "id": "5a17bc08",
   "metadata": {
    "scrolled": true
   },
   "outputs": [
    {
     "data": {
      "text/html": [
       "<div>\n",
       "<style scoped>\n",
       "    .dataframe tbody tr th:only-of-type {\n",
       "        vertical-align: middle;\n",
       "    }\n",
       "\n",
       "    .dataframe tbody tr th {\n",
       "        vertical-align: top;\n",
       "    }\n",
       "\n",
       "    .dataframe thead th {\n",
       "        text-align: right;\n",
       "    }\n",
       "</style>\n",
       "<table border=\"1\" class=\"dataframe\">\n",
       "  <thead>\n",
       "    <tr style=\"text-align: right;\">\n",
       "      <th></th>\n",
       "      <th>YEAR</th>\n",
       "      <th>MM</th>\n",
       "      <th>DD</th>\n",
       "      <th>WEEK</th>\n",
       "      <th>SITE</th>\n",
       "      <th>PERIOD</th>\n",
       "      <th>CONDITION</th>\n",
       "      <th>FISH_NO</th>\n",
       "      <th>FL_WET</th>\n",
       "      <th>FL_FROZEN</th>\n",
       "      <th>FL_STD</th>\n",
       "      <th>WEIGHT</th>\n",
       "      <th>SPECIES</th>\n",
       "      <th>SEX</th>\n",
       "      <th>MATURITY</th>\n",
       "      <th>GONAD_WEIGHT</th>\n",
       "      <th>Ager_1</th>\n",
       "      <th>AGE_1</th>\n",
       "      <th>FSP_1</th>\n",
       "      <th>Comments_1</th>\n",
       "      <th>Ager_2</th>\n",
       "      <th>AGE_2</th>\n",
       "      <th>FSP_2</th>\n",
       "      <th>Comments_2</th>\n",
       "      <th>Ager_3</th>\n",
       "      <th>AGE_3</th>\n",
       "      <th>FSP_3</th>\n",
       "      <th>Comments_3</th>\n",
       "      <th>Envelop.Comments</th>\n",
       "      <th>DATETIME</th>\n",
       "      <th>AGE_notes_1</th>\n",
       "      <th>FSP_notes_1</th>\n",
       "      <th>AGE_notes_2</th>\n",
       "      <th>FSP_notes_2</th>\n",
       "      <th>AGE_notes_3</th>\n",
       "      <th>FSP_notes_3</th>\n",
       "      <th>FLAG_SITE</th>\n",
       "      <th>SITE_notes</th>\n",
       "      <th>SITE1</th>\n",
       "      <th>SITE2</th>\n",
       "      <th>SITE3</th>\n",
       "      <th>FLAG_AM_PM_PERIOD</th>\n",
       "      <th>FLAG_SEX</th>\n",
       "      <th>FLAG_MATURITY</th>\n",
       "      <th>FLAG_FSP_1</th>\n",
       "      <th>FLAG_FL_STD</th>\n",
       "      <th>FLAG_FL_WET_FROZEN</th>\n",
       "    </tr>\n",
       "  </thead>\n",
       "  <tbody>\n",
       "  </tbody>\n",
       "</table>\n",
       "</div>"
      ],
      "text/plain": [
       "Empty DataFrame\n",
       "Columns: [YEAR, MM, DD, WEEK, SITE, PERIOD, CONDITION, FISH_NO, FL_WET, FL_FROZEN, FL_STD, WEIGHT, SPECIES, SEX, MATURITY, GONAD_WEIGHT, Ager_1, AGE_1, FSP_1, Comments_1, Ager_2, AGE_2, FSP_2, Comments_2, Ager_3, AGE_3, FSP_3, Comments_3, Envelop.Comments, DATETIME, AGE_notes_1, FSP_notes_1, AGE_notes_2, FSP_notes_2, AGE_notes_3, FSP_notes_3, FLAG_SITE, SITE_notes, SITE1, SITE2, SITE3, FLAG_AM_PM_PERIOD, FLAG_SEX, FLAG_MATURITY, FLAG_FSP_1, FLAG_FL_STD, FLAG_FL_WET_FROZEN]\n",
       "Index: []"
      ]
     },
     "execution_count": 28,
     "metadata": {},
     "output_type": "execute_result"
    }
   ],
   "source": [
    "# check whether frozen lengths are ever equal to standardised lengths\n",
    "df_FD[df_FD.FL_FROZEN == df_FD.FL_STD]\n",
    "# No."
   ]
  },
  {
   "cell_type": "markdown",
   "id": "3e2daa9e",
   "metadata": {},
   "source": [
    "### fish_length from FL_WET/FL_FROZEN/FL_STD\n",
    "* take the measured length, standardise in dm_apps based on frozen or fresh condition\n",
    "\n",
    "        @property\n",
    "        def standardised_length(self):\n",
    "            \"\"\"\n",
    "            STD length = (1.0143 * Fork Length Frozen) + 4.557\n",
    "            Rounded to the nearest mm\n",
    "            \"\"\"\n",
    "            if self.condition == 2:\n",
    "                return round(self.fish_length * 1.0143 + 4.557)\n",
    "            else:\n",
    "                return round(self.fish_length)"
   ]
  },
  {
   "cell_type": "code",
   "execution_count": 29,
   "id": "49a5dbae",
   "metadata": {},
   "outputs": [],
   "source": [
    "# all errors with this should already be flagged, let's check\n",
    "df_FD['fish_length'] = df_FD['FL_WET'].fillna(df_FD['FL_FROZEN'])"
   ]
  },
  {
   "cell_type": "code",
   "execution_count": 30,
   "id": "eeb467d7",
   "metadata": {},
   "outputs": [
    {
     "data": {
      "text/plain": [
       "(10835, 25882)"
      ]
     },
     "execution_count": 30,
     "metadata": {},
     "output_type": "execute_result"
    }
   ],
   "source": [
    "df_FD[df_FD.CONDITION == 'Fresh'].shape[0], df_FD[df_FD.CONDITION == 'Frozen'].shape[0]"
   ]
  },
  {
   "cell_type": "code",
   "execution_count": 31,
   "id": "d2b341a0",
   "metadata": {},
   "outputs": [
    {
     "data": {
      "text/html": [
       "<div>\n",
       "<style scoped>\n",
       "    .dataframe tbody tr th:only-of-type {\n",
       "        vertical-align: middle;\n",
       "    }\n",
       "\n",
       "    .dataframe tbody tr th {\n",
       "        vertical-align: top;\n",
       "    }\n",
       "\n",
       "    .dataframe thead th {\n",
       "        text-align: right;\n",
       "    }\n",
       "</style>\n",
       "<table border=\"1\" class=\"dataframe\">\n",
       "  <thead>\n",
       "    <tr style=\"text-align: right;\">\n",
       "      <th></th>\n",
       "      <th>CONDITION</th>\n",
       "      <th>FL_WET</th>\n",
       "      <th>FL_FROZEN</th>\n",
       "      <th>FL_STD</th>\n",
       "      <th>fish_length</th>\n",
       "    </tr>\n",
       "  </thead>\n",
       "  <tbody>\n",
       "  </tbody>\n",
       "</table>\n",
       "</div>"
      ],
      "text/plain": [
       "Empty DataFrame\n",
       "Columns: [CONDITION, FL_WET, FL_FROZEN, FL_STD, fish_length]\n",
       "Index: []"
      ]
     },
     "execution_count": 31,
     "metadata": {},
     "output_type": "execute_result"
    }
   ],
   "source": [
    "# Check 1 good: all fresh fish have correct FL_WET (or missing FL_STD, so we can't say either way)\n",
    "df_FD[(df_FD.CONDITION == 'Fresh') & (df_FD.fish_length != df_FD.FL_STD) & (df_FD.FL_STD.notnull())][['CONDITION', 'FL_WET', 'FL_FROZEN', 'FL_STD', 'fish_length']]"
   ]
  },
  {
   "cell_type": "code",
   "execution_count": 32,
   "id": "0dced790",
   "metadata": {},
   "outputs": [
    {
     "data": {
      "text/html": [
       "<div>\n",
       "<style scoped>\n",
       "    .dataframe tbody tr th:only-of-type {\n",
       "        vertical-align: middle;\n",
       "    }\n",
       "\n",
       "    .dataframe tbody tr th {\n",
       "        vertical-align: top;\n",
       "    }\n",
       "\n",
       "    .dataframe thead th {\n",
       "        text-align: right;\n",
       "    }\n",
       "</style>\n",
       "<table border=\"1\" class=\"dataframe\">\n",
       "  <thead>\n",
       "    <tr style=\"text-align: right;\">\n",
       "      <th></th>\n",
       "      <th>CONDITION</th>\n",
       "      <th>FL_WET</th>\n",
       "      <th>FL_FROZEN</th>\n",
       "      <th>FL_STD</th>\n",
       "      <th>fish_length</th>\n",
       "      <th>FLAG_FL_WET_FROZEN</th>\n",
       "    </tr>\n",
       "  </thead>\n",
       "  <tbody>\n",
       "    <tr>\n",
       "      <th>35161</th>\n",
       "      <td>Frozen</td>\n",
       "      <td>28</td>\n",
       "      <td>28</td>\n",
       "      <td>25.100</td>\n",
       "      <td>28</td>\n",
       "      <td>True</td>\n",
       "    </tr>\n",
       "  </tbody>\n",
       "</table>\n",
       "</div>"
      ],
      "text/plain": [
       "      CONDITION  FL_WET  FL_FROZEN  FL_STD  fish_length FLAG_FL_WET_FROZEN\n",
       "35161    Frozen      28         28  25.100           28               True"
      ]
     },
     "execution_count": 32,
     "metadata": {},
     "output_type": "execute_result"
    }
   ],
   "source": [
    "# Check 2 good: the only fish_length > standardised length is already flagged\n",
    "df_FD[(df_FD.CONDITION == 'Frozen') & (df_FD.fish_length > df_FD.FL_STD)][['CONDITION', 'FL_WET', 'FL_FROZEN', 'FL_STD', 'fish_length', 'FLAG_FL_WET_FROZEN']]"
   ]
  },
  {
   "cell_type": "code",
   "execution_count": 33,
   "id": "d50b8163",
   "metadata": {},
   "outputs": [
    {
     "data": {
      "text/html": [
       "<div>\n",
       "<style scoped>\n",
       "    .dataframe tbody tr th:only-of-type {\n",
       "        vertical-align: middle;\n",
       "    }\n",
       "\n",
       "    .dataframe tbody tr th {\n",
       "        vertical-align: top;\n",
       "    }\n",
       "\n",
       "    .dataframe thead th {\n",
       "        text-align: right;\n",
       "    }\n",
       "</style>\n",
       "<table border=\"1\" class=\"dataframe\">\n",
       "  <thead>\n",
       "    <tr style=\"text-align: right;\">\n",
       "      <th></th>\n",
       "      <th>CONDITION</th>\n",
       "      <th>FL_WET</th>\n",
       "      <th>FL_FROZEN</th>\n",
       "      <th>FL_STD</th>\n",
       "      <th>fish_length</th>\n",
       "      <th>FLAG_FL_WET_FROZEN</th>\n",
       "    </tr>\n",
       "  </thead>\n",
       "  <tbody>\n",
       "    <tr>\n",
       "      <th>30066</th>\n",
       "      <td>Frozen</td>\n",
       "      <td>&lt;NA&gt;</td>\n",
       "      <td>112</td>\n",
       "      <td>118.000</td>\n",
       "      <td>112</td>\n",
       "      <td>NaN</td>\n",
       "    </tr>\n",
       "    <tr>\n",
       "      <th>35048</th>\n",
       "      <td>Frozen</td>\n",
       "      <td>2</td>\n",
       "      <td>3</td>\n",
       "      <td>25.900</td>\n",
       "      <td>2</td>\n",
       "      <td>True</td>\n",
       "    </tr>\n",
       "    <tr>\n",
       "      <th>35241</th>\n",
       "      <td>Frozen</td>\n",
       "      <td>2</td>\n",
       "      <td>2</td>\n",
       "      <td>22.800</td>\n",
       "      <td>2</td>\n",
       "      <td>True</td>\n",
       "    </tr>\n",
       "    <tr>\n",
       "      <th>35246</th>\n",
       "      <td>Frozen</td>\n",
       "      <td>1</td>\n",
       "      <td>1</td>\n",
       "      <td>20.000</td>\n",
       "      <td>1</td>\n",
       "      <td>True</td>\n",
       "    </tr>\n",
       "    <tr>\n",
       "      <th>35247</th>\n",
       "      <td>Frozen</td>\n",
       "      <td>2</td>\n",
       "      <td>3</td>\n",
       "      <td>20.400</td>\n",
       "      <td>2</td>\n",
       "      <td>True</td>\n",
       "    </tr>\n",
       "  </tbody>\n",
       "</table>\n",
       "</div>"
      ],
      "text/plain": [
       "      CONDITION  FL_WET  FL_FROZEN  FL_STD  fish_length FLAG_FL_WET_FROZEN\n",
       "30066    Frozen    <NA>        112 118.000          112                NaN\n",
       "35048    Frozen       2          3  25.900            2               True\n",
       "35241    Frozen       2          2  22.800            2               True\n",
       "35246    Frozen       1          1  20.000            1               True\n",
       "35247    Frozen       2          3  20.400            2               True"
      ]
     },
     "execution_count": 33,
     "metadata": {},
     "output_type": "execute_result"
    }
   ],
   "source": [
    "# Check 3 good: 1 fish is correctly converted (see below), the rest are already flagged\n",
    "df_FD[(df_FD.CONDITION == 'Frozen') & (df_FD.fish_length < df_FD.FL_STD * 0.95)][['CONDITION', 'FL_WET', 'FL_FROZEN', 'FL_STD', 'fish_length', 'FLAG_FL_WET_FROZEN']]"
   ]
  },
  {
   "cell_type": "code",
   "execution_count": 34,
   "id": "3c2b9617",
   "metadata": {},
   "outputs": [
    {
     "data": {
      "text/plain": [
       "(0.9478785293664618, 118)"
      ]
     },
     "execution_count": 34,
     "metadata": {},
     "output_type": "execute_result"
    }
   ],
   "source": [
    "# that first entry was flagged by my arbitrary 95%, but is just a small fish, the conversion was correct, and the check caught it correctly\n",
    "temp_length = 112\n",
    "temp_length / (4.557 + 1.0143 * temp_length), round(4.557 + 1.0143 * temp_length)\n",
    "\n",
    "# the other issues are already flagged"
   ]
  },
  {
   "cell_type": "code",
   "execution_count": 35,
   "id": "810fcdb5",
   "metadata": {},
   "outputs": [
    {
     "data": {
      "text/html": [
       "<div>\n",
       "<style scoped>\n",
       "    .dataframe tbody tr th:only-of-type {\n",
       "        vertical-align: middle;\n",
       "    }\n",
       "\n",
       "    .dataframe tbody tr th {\n",
       "        vertical-align: top;\n",
       "    }\n",
       "\n",
       "    .dataframe thead th {\n",
       "        text-align: right;\n",
       "    }\n",
       "</style>\n",
       "<table border=\"1\" class=\"dataframe\">\n",
       "  <thead>\n",
       "    <tr style=\"text-align: right;\">\n",
       "      <th></th>\n",
       "      <th>count</th>\n",
       "      <th>unique</th>\n",
       "      <th>top</th>\n",
       "      <th>freq</th>\n",
       "      <th>mean</th>\n",
       "      <th>std</th>\n",
       "      <th>min</th>\n",
       "      <th>25%</th>\n",
       "      <th>50%</th>\n",
       "      <th>75%</th>\n",
       "      <th>max</th>\n",
       "    </tr>\n",
       "  </thead>\n",
       "  <tbody>\n",
       "    <tr>\n",
       "      <th>CONDITION</th>\n",
       "      <td>259</td>\n",
       "      <td>2</td>\n",
       "      <td>Frozen</td>\n",
       "      <td>194</td>\n",
       "      <td>NaN</td>\n",
       "      <td>NaN</td>\n",
       "      <td>NaN</td>\n",
       "      <td>NaN</td>\n",
       "      <td>NaN</td>\n",
       "      <td>NaN</td>\n",
       "      <td>NaN</td>\n",
       "    </tr>\n",
       "    <tr>\n",
       "      <th>FL_WET</th>\n",
       "      <td>0</td>\n",
       "      <td>NaN</td>\n",
       "      <td>NaN</td>\n",
       "      <td>NaN</td>\n",
       "      <td>&lt;NA&gt;</td>\n",
       "      <td>&lt;NA&gt;</td>\n",
       "      <td>&lt;NA&gt;</td>\n",
       "      <td>&lt;NA&gt;</td>\n",
       "      <td>&lt;NA&gt;</td>\n",
       "      <td>&lt;NA&gt;</td>\n",
       "      <td>&lt;NA&gt;</td>\n",
       "    </tr>\n",
       "    <tr>\n",
       "      <th>FL_FROZEN</th>\n",
       "      <td>0</td>\n",
       "      <td>NaN</td>\n",
       "      <td>NaN</td>\n",
       "      <td>NaN</td>\n",
       "      <td>&lt;NA&gt;</td>\n",
       "      <td>&lt;NA&gt;</td>\n",
       "      <td>&lt;NA&gt;</td>\n",
       "      <td>&lt;NA&gt;</td>\n",
       "      <td>&lt;NA&gt;</td>\n",
       "      <td>&lt;NA&gt;</td>\n",
       "      <td>&lt;NA&gt;</td>\n",
       "    </tr>\n",
       "    <tr>\n",
       "      <th>FL_STD</th>\n",
       "      <td>259.000</td>\n",
       "      <td>NaN</td>\n",
       "      <td>NaN</td>\n",
       "      <td>NaN</td>\n",
       "      <td>23.378</td>\n",
       "      <td>1.695</td>\n",
       "      <td>20.200</td>\n",
       "      <td>22.000</td>\n",
       "      <td>23.300</td>\n",
       "      <td>24.700</td>\n",
       "      <td>28.300</td>\n",
       "    </tr>\n",
       "    <tr>\n",
       "      <th>fish_length</th>\n",
       "      <td>0</td>\n",
       "      <td>NaN</td>\n",
       "      <td>NaN</td>\n",
       "      <td>NaN</td>\n",
       "      <td>&lt;NA&gt;</td>\n",
       "      <td>&lt;NA&gt;</td>\n",
       "      <td>&lt;NA&gt;</td>\n",
       "      <td>&lt;NA&gt;</td>\n",
       "      <td>&lt;NA&gt;</td>\n",
       "      <td>&lt;NA&gt;</td>\n",
       "      <td>&lt;NA&gt;</td>\n",
       "    </tr>\n",
       "    <tr>\n",
       "      <th>FLAG_FL_STD</th>\n",
       "      <td>259</td>\n",
       "      <td>1</td>\n",
       "      <td>True</td>\n",
       "      <td>259</td>\n",
       "      <td>NaN</td>\n",
       "      <td>NaN</td>\n",
       "      <td>NaN</td>\n",
       "      <td>NaN</td>\n",
       "      <td>NaN</td>\n",
       "      <td>NaN</td>\n",
       "      <td>NaN</td>\n",
       "    </tr>\n",
       "  </tbody>\n",
       "</table>\n",
       "</div>"
      ],
      "text/plain": [
       "              count unique     top freq   mean   std    min    25%    50%  \\\n",
       "CONDITION       259      2  Frozen  194    NaN   NaN    NaN    NaN    NaN   \n",
       "FL_WET            0    NaN     NaN  NaN   <NA>  <NA>   <NA>   <NA>   <NA>   \n",
       "FL_FROZEN         0    NaN     NaN  NaN   <NA>  <NA>   <NA>   <NA>   <NA>   \n",
       "FL_STD      259.000    NaN     NaN  NaN 23.378 1.695 20.200 22.000 23.300   \n",
       "fish_length       0    NaN     NaN  NaN   <NA>  <NA>   <NA>   <NA>   <NA>   \n",
       "FLAG_FL_STD     259      1    True  259    NaN   NaN    NaN    NaN    NaN   \n",
       "\n",
       "               75%    max  \n",
       "CONDITION      NaN    NaN  \n",
       "FL_WET        <NA>   <NA>  \n",
       "FL_FROZEN     <NA>   <NA>  \n",
       "FL_STD      24.700 28.300  \n",
       "fish_length   <NA>   <NA>  \n",
       "FLAG_FL_STD    NaN    NaN  "
      ]
     },
     "execution_count": 35,
     "metadata": {},
     "output_type": "execute_result"
    }
   ],
   "source": [
    "# check 4: are any std available, but fish_length are missing?\n",
    "# ALREADY FLAGGED: these are all flagged as fish that were recorded in cm, not mm\n",
    "df_FD[(df_FD.fish_length.isna()) & (df_FD.FL_STD.notnull())][['CONDITION', 'FL_WET', 'FL_FROZEN', 'FL_STD', 'fish_length', 'FLAG_FL_STD']].describe(include='all').T"
   ]
  },
  {
   "cell_type": "code",
   "execution_count": 36,
   "id": "c2007852",
   "metadata": {
    "scrolled": true
   },
   "outputs": [
    {
     "data": {
      "text/plain": [
       "Frozen    194\n",
       "Fresh      65\n",
       "Name: CONDITION, dtype: int64"
      ]
     },
     "execution_count": 36,
     "metadata": {},
     "output_type": "execute_result"
    }
   ],
   "source": [
    "# this contains both fresh and frozen fish - when imputing values\n",
    "df_FD[(df_FD.fish_length.isna()) & (df_FD.FL_STD.notnull())]['CONDITION'].value_counts()"
   ]
  },
  {
   "cell_type": "markdown",
   "id": "3bdc308b",
   "metadata": {},
   "source": [
    "# FLAGGED: should the frozen fish with the cm inputting error be assumed to be standardised or not standardised yet?\n",
    "(they are in the FL_STD column, but they were recorded quickly and incorrectly)"
   ]
  },
  {
   "cell_type": "markdown",
   "id": "f22b9389",
   "metadata": {},
   "source": [
    "### WEIGHT: outliers - FLAGGED\n",
    "* they all look real except 1934g fish which could be checked manually"
   ]
  },
  {
   "cell_type": "code",
   "execution_count": 37,
   "id": "ccf981d4",
   "metadata": {},
   "outputs": [
    {
     "data": {
      "text/html": [
       "<div>\n",
       "<style scoped>\n",
       "    .dataframe tbody tr th:only-of-type {\n",
       "        vertical-align: middle;\n",
       "    }\n",
       "\n",
       "    .dataframe tbody tr th {\n",
       "        vertical-align: top;\n",
       "    }\n",
       "\n",
       "    .dataframe thead th {\n",
       "        text-align: right;\n",
       "    }\n",
       "</style>\n",
       "<table border=\"1\" class=\"dataframe\">\n",
       "  <thead>\n",
       "    <tr style=\"text-align: right;\">\n",
       "      <th></th>\n",
       "      <th>YEAR</th>\n",
       "      <th>MM</th>\n",
       "      <th>DD</th>\n",
       "      <th>WEEK</th>\n",
       "      <th>SITE</th>\n",
       "      <th>PERIOD</th>\n",
       "      <th>CONDITION</th>\n",
       "      <th>FISH_NO</th>\n",
       "      <th>FL_WET</th>\n",
       "      <th>FL_FROZEN</th>\n",
       "      <th>FL_STD</th>\n",
       "      <th>WEIGHT</th>\n",
       "      <th>SPECIES</th>\n",
       "      <th>SEX</th>\n",
       "      <th>MATURITY</th>\n",
       "      <th>GONAD_WEIGHT</th>\n",
       "      <th>Ager_1</th>\n",
       "      <th>AGE_1</th>\n",
       "      <th>FSP_1</th>\n",
       "      <th>Comments_1</th>\n",
       "      <th>Ager_2</th>\n",
       "      <th>AGE_2</th>\n",
       "      <th>FSP_2</th>\n",
       "      <th>Comments_2</th>\n",
       "      <th>Ager_3</th>\n",
       "      <th>AGE_3</th>\n",
       "      <th>FSP_3</th>\n",
       "      <th>Comments_3</th>\n",
       "      <th>Envelop.Comments</th>\n",
       "      <th>DATETIME</th>\n",
       "      <th>AGE_notes_1</th>\n",
       "      <th>FSP_notes_1</th>\n",
       "      <th>AGE_notes_2</th>\n",
       "      <th>FSP_notes_2</th>\n",
       "      <th>AGE_notes_3</th>\n",
       "      <th>FSP_notes_3</th>\n",
       "      <th>FLAG_SITE</th>\n",
       "      <th>SITE_notes</th>\n",
       "      <th>SITE1</th>\n",
       "      <th>SITE2</th>\n",
       "      <th>SITE3</th>\n",
       "      <th>FLAG_AM_PM_PERIOD</th>\n",
       "      <th>FLAG_SEX</th>\n",
       "      <th>FLAG_MATURITY</th>\n",
       "      <th>FLAG_FSP_1</th>\n",
       "      <th>FLAG_FL_STD</th>\n",
       "      <th>FLAG_FL_WET_FROZEN</th>\n",
       "      <th>fish_length</th>\n",
       "    </tr>\n",
       "  </thead>\n",
       "  <tbody>\n",
       "    <tr>\n",
       "      <th>718</th>\n",
       "      <td>1984</td>\n",
       "      <td>5</td>\n",
       "      <td>1</td>\n",
       "      <td>&lt;NA&gt;</td>\n",
       "      <td>12</td>\n",
       "      <td>NaN</td>\n",
       "      <td>Frozen</td>\n",
       "      <td>30</td>\n",
       "      <td>&lt;NA&gt;</td>\n",
       "      <td>316</td>\n",
       "      <td>325.000</td>\n",
       "      <td>519.000</td>\n",
       "      <td>A</td>\n",
       "      <td>F</td>\n",
       "      <td>2</td>\n",
       "      <td>NaN</td>\n",
       "      <td>NaN</td>\n",
       "      <td>7</td>\n",
       "      <td>6</td>\n",
       "      <td>NaN</td>\n",
       "      <td>NaN</td>\n",
       "      <td>&lt;NA&gt;</td>\n",
       "      <td>&lt;NA&gt;</td>\n",
       "      <td>NaN</td>\n",
       "      <td>NaN</td>\n",
       "      <td>&lt;NA&gt;</td>\n",
       "      <td>&lt;NA&gt;</td>\n",
       "      <td>NaN</td>\n",
       "      <td>NaN</td>\n",
       "      <td>1984-05-01</td>\n",
       "      <td>7</td>\n",
       "      <td>6</td>\n",
       "      <td>NaN</td>\n",
       "      <td>NaN</td>\n",
       "      <td>NaN</td>\n",
       "      <td>NaN</td>\n",
       "      <td>NaN</td>\n",
       "      <td>12</td>\n",
       "      <td>12</td>\n",
       "      <td>&lt;NA&gt;</td>\n",
       "      <td>&lt;NA&gt;</td>\n",
       "      <td>NaN</td>\n",
       "      <td>NaN</td>\n",
       "      <td>NaN</td>\n",
       "      <td>NaN</td>\n",
       "      <td>NaN</td>\n",
       "      <td>NaN</td>\n",
       "      <td>316</td>\n",
       "    </tr>\n",
       "    <tr>\n",
       "      <th>914</th>\n",
       "      <td>1984</td>\n",
       "      <td>5</td>\n",
       "      <td>2</td>\n",
       "      <td>&lt;NA&gt;</td>\n",
       "      <td>12</td>\n",
       "      <td>NaN</td>\n",
       "      <td>Frozen</td>\n",
       "      <td>1</td>\n",
       "      <td>&lt;NA&gt;</td>\n",
       "      <td>316</td>\n",
       "      <td>325.000</td>\n",
       "      <td>539.000</td>\n",
       "      <td>A</td>\n",
       "      <td>F</td>\n",
       "      <td>2</td>\n",
       "      <td>NaN</td>\n",
       "      <td>NaN</td>\n",
       "      <td>8</td>\n",
       "      <td>4</td>\n",
       "      <td>NaN</td>\n",
       "      <td>NaN</td>\n",
       "      <td>&lt;NA&gt;</td>\n",
       "      <td>&lt;NA&gt;</td>\n",
       "      <td>NaN</td>\n",
       "      <td>NaN</td>\n",
       "      <td>&lt;NA&gt;</td>\n",
       "      <td>&lt;NA&gt;</td>\n",
       "      <td>NaN</td>\n",
       "      <td>NaN</td>\n",
       "      <td>1984-05-02</td>\n",
       "      <td>8</td>\n",
       "      <td>4</td>\n",
       "      <td>NaN</td>\n",
       "      <td>NaN</td>\n",
       "      <td>NaN</td>\n",
       "      <td>NaN</td>\n",
       "      <td>NaN</td>\n",
       "      <td>12</td>\n",
       "      <td>12</td>\n",
       "      <td>&lt;NA&gt;</td>\n",
       "      <td>&lt;NA&gt;</td>\n",
       "      <td>NaN</td>\n",
       "      <td>NaN</td>\n",
       "      <td>NaN</td>\n",
       "      <td>NaN</td>\n",
       "      <td>NaN</td>\n",
       "      <td>NaN</td>\n",
       "      <td>316</td>\n",
       "    </tr>\n",
       "    <tr>\n",
       "      <th>1348</th>\n",
       "      <td>1984</td>\n",
       "      <td>5</td>\n",
       "      <td>8</td>\n",
       "      <td>&lt;NA&gt;</td>\n",
       "      <td>12</td>\n",
       "      <td>NaN</td>\n",
       "      <td>Frozen</td>\n",
       "      <td>27</td>\n",
       "      <td>&lt;NA&gt;</td>\n",
       "      <td>310</td>\n",
       "      <td>319.000</td>\n",
       "      <td>501.000</td>\n",
       "      <td>A</td>\n",
       "      <td>F</td>\n",
       "      <td>2</td>\n",
       "      <td>NaN</td>\n",
       "      <td>NaN</td>\n",
       "      <td>8</td>\n",
       "      <td>3</td>\n",
       "      <td>NaN</td>\n",
       "      <td>NaN</td>\n",
       "      <td>&lt;NA&gt;</td>\n",
       "      <td>&lt;NA&gt;</td>\n",
       "      <td>NaN</td>\n",
       "      <td>NaN</td>\n",
       "      <td>&lt;NA&gt;</td>\n",
       "      <td>&lt;NA&gt;</td>\n",
       "      <td>NaN</td>\n",
       "      <td>NaN</td>\n",
       "      <td>1984-05-08</td>\n",
       "      <td>8</td>\n",
       "      <td>3</td>\n",
       "      <td>NaN</td>\n",
       "      <td>NaN</td>\n",
       "      <td>NaN</td>\n",
       "      <td>NaN</td>\n",
       "      <td>NaN</td>\n",
       "      <td>12</td>\n",
       "      <td>12</td>\n",
       "      <td>&lt;NA&gt;</td>\n",
       "      <td>&lt;NA&gt;</td>\n",
       "      <td>NaN</td>\n",
       "      <td>NaN</td>\n",
       "      <td>NaN</td>\n",
       "      <td>NaN</td>\n",
       "      <td>NaN</td>\n",
       "      <td>NaN</td>\n",
       "      <td>310</td>\n",
       "    </tr>\n",
       "    <tr>\n",
       "      <th>1800</th>\n",
       "      <td>1985</td>\n",
       "      <td>5</td>\n",
       "      <td>16</td>\n",
       "      <td>&lt;NA&gt;</td>\n",
       "      <td>12</td>\n",
       "      <td>NaN</td>\n",
       "      <td>Frozen</td>\n",
       "      <td>5</td>\n",
       "      <td>&lt;NA&gt;</td>\n",
       "      <td>317</td>\n",
       "      <td>326.000</td>\n",
       "      <td>512.000</td>\n",
       "      <td>A</td>\n",
       "      <td>F</td>\n",
       "      <td>2</td>\n",
       "      <td>83.000</td>\n",
       "      <td>NaN</td>\n",
       "      <td>9</td>\n",
       "      <td>3</td>\n",
       "      <td>NaN</td>\n",
       "      <td>NaN</td>\n",
       "      <td>&lt;NA&gt;</td>\n",
       "      <td>&lt;NA&gt;</td>\n",
       "      <td>NaN</td>\n",
       "      <td>NaN</td>\n",
       "      <td>&lt;NA&gt;</td>\n",
       "      <td>&lt;NA&gt;</td>\n",
       "      <td>NaN</td>\n",
       "      <td>NaN</td>\n",
       "      <td>1985-05-16</td>\n",
       "      <td>9</td>\n",
       "      <td>3</td>\n",
       "      <td>NaN</td>\n",
       "      <td>NaN</td>\n",
       "      <td>NaN</td>\n",
       "      <td>NaN</td>\n",
       "      <td>NaN</td>\n",
       "      <td>12</td>\n",
       "      <td>12</td>\n",
       "      <td>&lt;NA&gt;</td>\n",
       "      <td>&lt;NA&gt;</td>\n",
       "      <td>NaN</td>\n",
       "      <td>NaN</td>\n",
       "      <td>NaN</td>\n",
       "      <td>NaN</td>\n",
       "      <td>NaN</td>\n",
       "      <td>NaN</td>\n",
       "      <td>317</td>\n",
       "    </tr>\n",
       "    <tr>\n",
       "      <th>5324</th>\n",
       "      <td>1989</td>\n",
       "      <td>5</td>\n",
       "      <td>13</td>\n",
       "      <td>&lt;NA&gt;</td>\n",
       "      <td>35</td>\n",
       "      <td>PM</td>\n",
       "      <td>Frozen</td>\n",
       "      <td>23</td>\n",
       "      <td>&lt;NA&gt;</td>\n",
       "      <td>305</td>\n",
       "      <td>314.000</td>\n",
       "      <td>503.000</td>\n",
       "      <td>A</td>\n",
       "      <td>F</td>\n",
       "      <td>4</td>\n",
       "      <td>95.000</td>\n",
       "      <td>NaN</td>\n",
       "      <td>4</td>\n",
       "      <td>4</td>\n",
       "      <td>NaN</td>\n",
       "      <td>NaN</td>\n",
       "      <td>&lt;NA&gt;</td>\n",
       "      <td>&lt;NA&gt;</td>\n",
       "      <td>NaN</td>\n",
       "      <td>NaN</td>\n",
       "      <td>&lt;NA&gt;</td>\n",
       "      <td>&lt;NA&gt;</td>\n",
       "      <td>NaN</td>\n",
       "      <td>NaN</td>\n",
       "      <td>1989-05-13</td>\n",
       "      <td>4</td>\n",
       "      <td>4</td>\n",
       "      <td>NaN</td>\n",
       "      <td>NaN</td>\n",
       "      <td>NaN</td>\n",
       "      <td>NaN</td>\n",
       "      <td>NaN</td>\n",
       "      <td>35</td>\n",
       "      <td>35</td>\n",
       "      <td>&lt;NA&gt;</td>\n",
       "      <td>&lt;NA&gt;</td>\n",
       "      <td>NaN</td>\n",
       "      <td>NaN</td>\n",
       "      <td>NaN</td>\n",
       "      <td>NaN</td>\n",
       "      <td>NaN</td>\n",
       "      <td>NaN</td>\n",
       "      <td>305</td>\n",
       "    </tr>\n",
       "    <tr>\n",
       "      <th>34988</th>\n",
       "      <td>2019</td>\n",
       "      <td>6</td>\n",
       "      <td>11</td>\n",
       "      <td>7</td>\n",
       "      <td>41</td>\n",
       "      <td>PM</td>\n",
       "      <td>Frozen</td>\n",
       "      <td>1</td>\n",
       "      <td>&lt;NA&gt;</td>\n",
       "      <td>&lt;NA&gt;</td>\n",
       "      <td>24.900</td>\n",
       "      <td>1934.000</td>\n",
       "      <td>A</td>\n",
       "      <td>M</td>\n",
       "      <td>4</td>\n",
       "      <td>NaN</td>\n",
       "      <td>JM</td>\n",
       "      <td>4</td>\n",
       "      <td>3</td>\n",
       "      <td>NaN</td>\n",
       "      <td>NaN</td>\n",
       "      <td>&lt;NA&gt;</td>\n",
       "      <td>&lt;NA&gt;</td>\n",
       "      <td>NaN</td>\n",
       "      <td>NaN</td>\n",
       "      <td>&lt;NA&gt;</td>\n",
       "      <td>&lt;NA&gt;</td>\n",
       "      <td>NaN</td>\n",
       "      <td>NaN</td>\n",
       "      <td>2019-06-11</td>\n",
       "      <td>4</td>\n",
       "      <td>3</td>\n",
       "      <td>NaN</td>\n",
       "      <td>NaN</td>\n",
       "      <td>NaN</td>\n",
       "      <td>NaN</td>\n",
       "      <td>NaN</td>\n",
       "      <td>41</td>\n",
       "      <td>41</td>\n",
       "      <td>&lt;NA&gt;</td>\n",
       "      <td>&lt;NA&gt;</td>\n",
       "      <td>NaN</td>\n",
       "      <td>NaN</td>\n",
       "      <td>NaN</td>\n",
       "      <td>NaN</td>\n",
       "      <td>True</td>\n",
       "      <td>NaN</td>\n",
       "      <td>&lt;NA&gt;</td>\n",
       "    </tr>\n",
       "  </tbody>\n",
       "</table>\n",
       "</div>"
      ],
      "text/plain": [
       "       YEAR  MM  DD  WEEK SITE PERIOD CONDITION  FISH_NO  FL_WET  FL_FROZEN  \\\n",
       "718    1984   5   1  <NA>   12    NaN    Frozen       30    <NA>        316   \n",
       "914    1984   5   2  <NA>   12    NaN    Frozen        1    <NA>        316   \n",
       "1348   1984   5   8  <NA>   12    NaN    Frozen       27    <NA>        310   \n",
       "1800   1985   5  16  <NA>   12    NaN    Frozen        5    <NA>        317   \n",
       "5324   1989   5  13  <NA>   35     PM    Frozen       23    <NA>        305   \n",
       "34988  2019   6  11     7   41     PM    Frozen        1    <NA>       <NA>   \n",
       "\n",
       "       FL_STD   WEIGHT SPECIES SEX  MATURITY  GONAD_WEIGHT Ager_1  AGE_1  \\\n",
       "718   325.000  519.000       A   F         2           NaN    NaN      7   \n",
       "914   325.000  539.000       A   F         2           NaN    NaN      8   \n",
       "1348  319.000  501.000       A   F         2           NaN    NaN      8   \n",
       "1800  326.000  512.000       A   F         2        83.000    NaN      9   \n",
       "5324  314.000  503.000       A   F         4        95.000    NaN      4   \n",
       "34988  24.900 1934.000       A   M         4           NaN     JM      4   \n",
       "\n",
       "       FSP_1 Comments_1 Ager_2  AGE_2  FSP_2 Comments_2 Ager_3  AGE_3  FSP_3  \\\n",
       "718        6        NaN    NaN   <NA>   <NA>        NaN    NaN   <NA>   <NA>   \n",
       "914        4        NaN    NaN   <NA>   <NA>        NaN    NaN   <NA>   <NA>   \n",
       "1348       3        NaN    NaN   <NA>   <NA>        NaN    NaN   <NA>   <NA>   \n",
       "1800       3        NaN    NaN   <NA>   <NA>        NaN    NaN   <NA>   <NA>   \n",
       "5324       4        NaN    NaN   <NA>   <NA>        NaN    NaN   <NA>   <NA>   \n",
       "34988      3        NaN    NaN   <NA>   <NA>        NaN    NaN   <NA>   <NA>   \n",
       "\n",
       "      Comments_3 Envelop.Comments   DATETIME AGE_notes_1 FSP_notes_1  \\\n",
       "718          NaN              NaN 1984-05-01           7           6   \n",
       "914          NaN              NaN 1984-05-02           8           4   \n",
       "1348         NaN              NaN 1984-05-08           8           3   \n",
       "1800         NaN              NaN 1985-05-16           9           3   \n",
       "5324         NaN              NaN 1989-05-13           4           4   \n",
       "34988        NaN              NaN 2019-06-11           4           3   \n",
       "\n",
       "      AGE_notes_2 FSP_notes_2 AGE_notes_3 FSP_notes_3 FLAG_SITE SITE_notes  \\\n",
       "718           NaN         NaN         NaN         NaN       NaN         12   \n",
       "914           NaN         NaN         NaN         NaN       NaN         12   \n",
       "1348          NaN         NaN         NaN         NaN       NaN         12   \n",
       "1800          NaN         NaN         NaN         NaN       NaN         12   \n",
       "5324          NaN         NaN         NaN         NaN       NaN         35   \n",
       "34988         NaN         NaN         NaN         NaN       NaN         41   \n",
       "\n",
       "       SITE1 SITE2 SITE3 FLAG_AM_PM_PERIOD FLAG_SEX FLAG_MATURITY FLAG_FSP_1  \\\n",
       "718       12  <NA>  <NA>               NaN      NaN           NaN        NaN   \n",
       "914       12  <NA>  <NA>               NaN      NaN           NaN        NaN   \n",
       "1348      12  <NA>  <NA>               NaN      NaN           NaN        NaN   \n",
       "1800      12  <NA>  <NA>               NaN      NaN           NaN        NaN   \n",
       "5324      35  <NA>  <NA>               NaN      NaN           NaN        NaN   \n",
       "34988     41  <NA>  <NA>               NaN      NaN           NaN        NaN   \n",
       "\n",
       "      FLAG_FL_STD FLAG_FL_WET_FROZEN  fish_length  \n",
       "718           NaN                NaN          316  \n",
       "914           NaN                NaN          316  \n",
       "1348          NaN                NaN          310  \n",
       "1800          NaN                NaN          317  \n",
       "5324          NaN                NaN          305  \n",
       "34988        True                NaN         <NA>  "
      ]
     },
     "execution_count": 37,
     "metadata": {},
     "output_type": "execute_result"
    }
   ],
   "source": [
    "max_weight = 500\n",
    "\n",
    "df_FD.loc[df_FD.WEIGHT > max_weight]"
   ]
  },
  {
   "cell_type": "code",
   "execution_count": 38,
   "id": "97e16fdf",
   "metadata": {},
   "outputs": [
    {
     "data": {
      "text/plain": [
       "6"
      ]
     },
     "execution_count": 38,
     "metadata": {},
     "output_type": "execute_result"
    }
   ],
   "source": [
    "# flag weight outliers\n",
    "df_FD.loc[(df_FD.WEIGHT > max_weight), 'FLAG_WEIGHT_OUTLIER'] = True\n",
    "\n",
    "# how many flags?\n",
    "df_FD[df_FD.FLAG_WEIGHT_OUTLIER == True].shape[0]"
   ]
  },
  {
   "attachments": {
    "image-2.png": {
     "image/png": "[encoded data removed]"
    }
   },
   "cell_type": "markdown",
   "id": "44396899",
   "metadata": {},
   "source": [
    "### CONFIRMED: outliers get flagged in dm_apps \n",
    "* based on David's question from the meeting\n",
    "    \n",
    "![image-2.png](attachment:image-2.png)"
   ]
  },
  {
   "cell_type": "markdown",
   "id": "5c65ee7e",
   "metadata": {},
   "source": [
    "### GONAD_WEIGHT: outliers - FLAGGED"
   ]
  },
  {
   "cell_type": "code",
   "execution_count": 39,
   "id": "9f77d610",
   "metadata": {},
   "outputs": [
    {
     "data": {
      "text/html": [
       "<div>\n",
       "<style scoped>\n",
       "    .dataframe tbody tr th:only-of-type {\n",
       "        vertical-align: middle;\n",
       "    }\n",
       "\n",
       "    .dataframe tbody tr th {\n",
       "        vertical-align: top;\n",
       "    }\n",
       "\n",
       "    .dataframe thead th {\n",
       "        text-align: right;\n",
       "    }\n",
       "</style>\n",
       "<table border=\"1\" class=\"dataframe\">\n",
       "  <thead>\n",
       "    <tr style=\"text-align: right;\">\n",
       "      <th></th>\n",
       "      <th>YEAR</th>\n",
       "      <th>MM</th>\n",
       "      <th>DD</th>\n",
       "      <th>WEEK</th>\n",
       "      <th>SITE</th>\n",
       "      <th>PERIOD</th>\n",
       "      <th>CONDITION</th>\n",
       "      <th>FISH_NO</th>\n",
       "      <th>FL_WET</th>\n",
       "      <th>FL_FROZEN</th>\n",
       "      <th>FL_STD</th>\n",
       "      <th>WEIGHT</th>\n",
       "      <th>SPECIES</th>\n",
       "      <th>SEX</th>\n",
       "      <th>MATURITY</th>\n",
       "      <th>GONAD_WEIGHT</th>\n",
       "      <th>Ager_1</th>\n",
       "      <th>AGE_1</th>\n",
       "      <th>FSP_1</th>\n",
       "      <th>Comments_1</th>\n",
       "      <th>Ager_2</th>\n",
       "      <th>AGE_2</th>\n",
       "      <th>FSP_2</th>\n",
       "      <th>Comments_2</th>\n",
       "      <th>Ager_3</th>\n",
       "      <th>AGE_3</th>\n",
       "      <th>FSP_3</th>\n",
       "      <th>Comments_3</th>\n",
       "      <th>Envelop.Comments</th>\n",
       "      <th>DATETIME</th>\n",
       "      <th>AGE_notes_1</th>\n",
       "      <th>FSP_notes_1</th>\n",
       "      <th>AGE_notes_2</th>\n",
       "      <th>FSP_notes_2</th>\n",
       "      <th>AGE_notes_3</th>\n",
       "      <th>FSP_notes_3</th>\n",
       "      <th>FLAG_SITE</th>\n",
       "      <th>SITE_notes</th>\n",
       "      <th>SITE1</th>\n",
       "      <th>SITE2</th>\n",
       "      <th>SITE3</th>\n",
       "      <th>FLAG_AM_PM_PERIOD</th>\n",
       "      <th>FLAG_SEX</th>\n",
       "      <th>FLAG_MATURITY</th>\n",
       "      <th>FLAG_FSP_1</th>\n",
       "      <th>FLAG_FL_STD</th>\n",
       "      <th>FLAG_FL_WET_FROZEN</th>\n",
       "      <th>fish_length</th>\n",
       "      <th>FLAG_WEIGHT_OUTLIER</th>\n",
       "    </tr>\n",
       "  </thead>\n",
       "  <tbody>\n",
       "    <tr>\n",
       "      <th>5590</th>\n",
       "      <td>1989</td>\n",
       "      <td>5</td>\n",
       "      <td>16</td>\n",
       "      <td>&lt;NA&gt;</td>\n",
       "      <td>38</td>\n",
       "      <td>PM</td>\n",
       "      <td>Frozen</td>\n",
       "      <td>41</td>\n",
       "      <td>&lt;NA&gt;</td>\n",
       "      <td>270</td>\n",
       "      <td>278.000</td>\n",
       "      <td>283.000</td>\n",
       "      <td>A</td>\n",
       "      <td>F</td>\n",
       "      <td>4</td>\n",
       "      <td>417.000</td>\n",
       "      <td>NaN</td>\n",
       "      <td>4</td>\n",
       "      <td>4</td>\n",
       "      <td>NaN</td>\n",
       "      <td>NaN</td>\n",
       "      <td>&lt;NA&gt;</td>\n",
       "      <td>&lt;NA&gt;</td>\n",
       "      <td>NaN</td>\n",
       "      <td>NaN</td>\n",
       "      <td>&lt;NA&gt;</td>\n",
       "      <td>&lt;NA&gt;</td>\n",
       "      <td>NaN</td>\n",
       "      <td>NaN</td>\n",
       "      <td>1989-05-16</td>\n",
       "      <td>4</td>\n",
       "      <td>4</td>\n",
       "      <td>NaN</td>\n",
       "      <td>NaN</td>\n",
       "      <td>NaN</td>\n",
       "      <td>NaN</td>\n",
       "      <td>NaN</td>\n",
       "      <td>38</td>\n",
       "      <td>38</td>\n",
       "      <td>&lt;NA&gt;</td>\n",
       "      <td>&lt;NA&gt;</td>\n",
       "      <td>NaN</td>\n",
       "      <td>NaN</td>\n",
       "      <td>NaN</td>\n",
       "      <td>NaN</td>\n",
       "      <td>NaN</td>\n",
       "      <td>NaN</td>\n",
       "      <td>270</td>\n",
       "      <td>NaN</td>\n",
       "    </tr>\n",
       "    <tr>\n",
       "      <th>14050</th>\n",
       "      <td>1995</td>\n",
       "      <td>6</td>\n",
       "      <td>2</td>\n",
       "      <td>5</td>\n",
       "      <td>41,35</td>\n",
       "      <td>AM</td>\n",
       "      <td>Frozen</td>\n",
       "      <td>7</td>\n",
       "      <td>&lt;NA&gt;</td>\n",
       "      <td>276</td>\n",
       "      <td>284.000</td>\n",
       "      <td>337.000</td>\n",
       "      <td>A</td>\n",
       "      <td>F</td>\n",
       "      <td>4</td>\n",
       "      <td>766.000</td>\n",
       "      <td>NaN</td>\n",
       "      <td>&lt;NA&gt;</td>\n",
       "      <td>&lt;NA&gt;</td>\n",
       "      <td>NaN</td>\n",
       "      <td>NaN</td>\n",
       "      <td>&lt;NA&gt;</td>\n",
       "      <td>&lt;NA&gt;</td>\n",
       "      <td>NaN</td>\n",
       "      <td>NaN</td>\n",
       "      <td>&lt;NA&gt;</td>\n",
       "      <td>&lt;NA&gt;</td>\n",
       "      <td>NaN</td>\n",
       "      <td>NaN</td>\n",
       "      <td>1995-06-02</td>\n",
       "      <td>NaN</td>\n",
       "      <td>NaN</td>\n",
       "      <td>NaN</td>\n",
       "      <td>NaN</td>\n",
       "      <td>NaN</td>\n",
       "      <td>NaN</td>\n",
       "      <td>True</td>\n",
       "      <td>41,35</td>\n",
       "      <td>41</td>\n",
       "      <td>35</td>\n",
       "      <td>&lt;NA&gt;</td>\n",
       "      <td>NaN</td>\n",
       "      <td>NaN</td>\n",
       "      <td>NaN</td>\n",
       "      <td>NaN</td>\n",
       "      <td>NaN</td>\n",
       "      <td>NaN</td>\n",
       "      <td>276</td>\n",
       "      <td>NaN</td>\n",
       "    </tr>\n",
       "    <tr>\n",
       "      <th>23051</th>\n",
       "      <td>2008</td>\n",
       "      <td>5</td>\n",
       "      <td>20</td>\n",
       "      <td>4</td>\n",
       "      <td>26</td>\n",
       "      <td>AM</td>\n",
       "      <td>Frozen</td>\n",
       "      <td>14</td>\n",
       "      <td>&lt;NA&gt;</td>\n",
       "      <td>260</td>\n",
       "      <td>268.000</td>\n",
       "      <td>277.300</td>\n",
       "      <td>A</td>\n",
       "      <td>F</td>\n",
       "      <td>4</td>\n",
       "      <td>414.800</td>\n",
       "      <td>NaN</td>\n",
       "      <td>5</td>\n",
       "      <td>4</td>\n",
       "      <td>NaN</td>\n",
       "      <td>NaN</td>\n",
       "      <td>&lt;NA&gt;</td>\n",
       "      <td>&lt;NA&gt;</td>\n",
       "      <td>NaN</td>\n",
       "      <td>NaN</td>\n",
       "      <td>&lt;NA&gt;</td>\n",
       "      <td>&lt;NA&gt;</td>\n",
       "      <td>NaN</td>\n",
       "      <td>NaN</td>\n",
       "      <td>2008-05-20</td>\n",
       "      <td>5</td>\n",
       "      <td>4</td>\n",
       "      <td>NaN</td>\n",
       "      <td>NaN</td>\n",
       "      <td>NaN</td>\n",
       "      <td>NaN</td>\n",
       "      <td>NaN</td>\n",
       "      <td>26</td>\n",
       "      <td>26</td>\n",
       "      <td>&lt;NA&gt;</td>\n",
       "      <td>&lt;NA&gt;</td>\n",
       "      <td>NaN</td>\n",
       "      <td>NaN</td>\n",
       "      <td>NaN</td>\n",
       "      <td>NaN</td>\n",
       "      <td>NaN</td>\n",
       "      <td>NaN</td>\n",
       "      <td>260</td>\n",
       "      <td>NaN</td>\n",
       "    </tr>\n",
       "    <tr>\n",
       "      <th>23498</th>\n",
       "      <td>2008</td>\n",
       "      <td>6</td>\n",
       "      <td>4</td>\n",
       "      <td>6</td>\n",
       "      <td>5</td>\n",
       "      <td>AM</td>\n",
       "      <td>Fresh</td>\n",
       "      <td>24</td>\n",
       "      <td>240</td>\n",
       "      <td>&lt;NA&gt;</td>\n",
       "      <td>240.000</td>\n",
       "      <td>176.400</td>\n",
       "      <td>A</td>\n",
       "      <td>F</td>\n",
       "      <td>4</td>\n",
       "      <td>219.600</td>\n",
       "      <td>NaN</td>\n",
       "      <td>3</td>\n",
       "      <td>3</td>\n",
       "      <td>NaN</td>\n",
       "      <td>NaN</td>\n",
       "      <td>&lt;NA&gt;</td>\n",
       "      <td>&lt;NA&gt;</td>\n",
       "      <td>NaN</td>\n",
       "      <td>NaN</td>\n",
       "      <td>&lt;NA&gt;</td>\n",
       "      <td>&lt;NA&gt;</td>\n",
       "      <td>NaN</td>\n",
       "      <td>NaN</td>\n",
       "      <td>2008-06-04</td>\n",
       "      <td>3</td>\n",
       "      <td>3</td>\n",
       "      <td>NaN</td>\n",
       "      <td>NaN</td>\n",
       "      <td>NaN</td>\n",
       "      <td>NaN</td>\n",
       "      <td>NaN</td>\n",
       "      <td>5</td>\n",
       "      <td>5</td>\n",
       "      <td>&lt;NA&gt;</td>\n",
       "      <td>&lt;NA&gt;</td>\n",
       "      <td>NaN</td>\n",
       "      <td>NaN</td>\n",
       "      <td>NaN</td>\n",
       "      <td>NaN</td>\n",
       "      <td>NaN</td>\n",
       "      <td>NaN</td>\n",
       "      <td>240</td>\n",
       "      <td>NaN</td>\n",
       "    </tr>\n",
       "    <tr>\n",
       "      <th>25251</th>\n",
       "      <td>2010</td>\n",
       "      <td>5</td>\n",
       "      <td>5</td>\n",
       "      <td>2</td>\n",
       "      <td>41</td>\n",
       "      <td>PM</td>\n",
       "      <td>Frozen</td>\n",
       "      <td>30</td>\n",
       "      <td>&lt;NA&gt;</td>\n",
       "      <td>262</td>\n",
       "      <td>270.000</td>\n",
       "      <td>233.700</td>\n",
       "      <td>A</td>\n",
       "      <td>F</td>\n",
       "      <td>4</td>\n",
       "      <td>335.500</td>\n",
       "      <td>NaN</td>\n",
       "      <td>4</td>\n",
       "      <td>3</td>\n",
       "      <td>NaN</td>\n",
       "      <td>NaN</td>\n",
       "      <td>&lt;NA&gt;</td>\n",
       "      <td>&lt;NA&gt;</td>\n",
       "      <td>NaN</td>\n",
       "      <td>NaN</td>\n",
       "      <td>&lt;NA&gt;</td>\n",
       "      <td>&lt;NA&gt;</td>\n",
       "      <td>NaN</td>\n",
       "      <td>NaN</td>\n",
       "      <td>2010-05-05</td>\n",
       "      <td>4</td>\n",
       "      <td>3</td>\n",
       "      <td>NaN</td>\n",
       "      <td>NaN</td>\n",
       "      <td>NaN</td>\n",
       "      <td>NaN</td>\n",
       "      <td>NaN</td>\n",
       "      <td>41</td>\n",
       "      <td>41</td>\n",
       "      <td>&lt;NA&gt;</td>\n",
       "      <td>&lt;NA&gt;</td>\n",
       "      <td>NaN</td>\n",
       "      <td>NaN</td>\n",
       "      <td>NaN</td>\n",
       "      <td>NaN</td>\n",
       "      <td>NaN</td>\n",
       "      <td>NaN</td>\n",
       "      <td>262</td>\n",
       "      <td>NaN</td>\n",
       "    </tr>\n",
       "    <tr>\n",
       "      <th>26652</th>\n",
       "      <td>2011</td>\n",
       "      <td>6</td>\n",
       "      <td>4</td>\n",
       "      <td>5</td>\n",
       "      <td>41</td>\n",
       "      <td>AM</td>\n",
       "      <td>Fresh</td>\n",
       "      <td>32</td>\n",
       "      <td>255</td>\n",
       "      <td>&lt;NA&gt;</td>\n",
       "      <td>255.000</td>\n",
       "      <td>220.300</td>\n",
       "      <td>A</td>\n",
       "      <td>F</td>\n",
       "      <td>4</td>\n",
       "      <td>280.000</td>\n",
       "      <td>NaN</td>\n",
       "      <td>4</td>\n",
       "      <td>4</td>\n",
       "      <td>NaN</td>\n",
       "      <td>NaN</td>\n",
       "      <td>&lt;NA&gt;</td>\n",
       "      <td>&lt;NA&gt;</td>\n",
       "      <td>NaN</td>\n",
       "      <td>NaN</td>\n",
       "      <td>&lt;NA&gt;</td>\n",
       "      <td>&lt;NA&gt;</td>\n",
       "      <td>NaN</td>\n",
       "      <td>NaN</td>\n",
       "      <td>2011-06-04</td>\n",
       "      <td>4</td>\n",
       "      <td>4</td>\n",
       "      <td>NaN</td>\n",
       "      <td>NaN</td>\n",
       "      <td>NaN</td>\n",
       "      <td>NaN</td>\n",
       "      <td>NaN</td>\n",
       "      <td>41</td>\n",
       "      <td>41</td>\n",
       "      <td>&lt;NA&gt;</td>\n",
       "      <td>&lt;NA&gt;</td>\n",
       "      <td>NaN</td>\n",
       "      <td>NaN</td>\n",
       "      <td>NaN</td>\n",
       "      <td>NaN</td>\n",
       "      <td>NaN</td>\n",
       "      <td>NaN</td>\n",
       "      <td>255</td>\n",
       "      <td>NaN</td>\n",
       "    </tr>\n",
       "    <tr>\n",
       "      <th>32829</th>\n",
       "      <td>2017</td>\n",
       "      <td>6</td>\n",
       "      <td>14</td>\n",
       "      <td>7</td>\n",
       "      <td>25</td>\n",
       "      <td>AM</td>\n",
       "      <td>Frozen</td>\n",
       "      <td>14</td>\n",
       "      <td>&lt;NA&gt;</td>\n",
       "      <td>246</td>\n",
       "      <td>254.000</td>\n",
       "      <td>183.400</td>\n",
       "      <td>B</td>\n",
       "      <td>F</td>\n",
       "      <td>4</td>\n",
       "      <td>256.000</td>\n",
       "      <td>JM</td>\n",
       "      <td>5</td>\n",
       "      <td>3</td>\n",
       "      <td>NaN</td>\n",
       "      <td>NaN</td>\n",
       "      <td>&lt;NA&gt;</td>\n",
       "      <td>&lt;NA&gt;</td>\n",
       "      <td>NaN</td>\n",
       "      <td>NaN</td>\n",
       "      <td>&lt;NA&gt;</td>\n",
       "      <td>&lt;NA&gt;</td>\n",
       "      <td>NaN</td>\n",
       "      <td>NaN</td>\n",
       "      <td>2017-06-14</td>\n",
       "      <td>5</td>\n",
       "      <td>3</td>\n",
       "      <td>NaN</td>\n",
       "      <td>NaN</td>\n",
       "      <td>NaN</td>\n",
       "      <td>NaN</td>\n",
       "      <td>NaN</td>\n",
       "      <td>25</td>\n",
       "      <td>25</td>\n",
       "      <td>&lt;NA&gt;</td>\n",
       "      <td>&lt;NA&gt;</td>\n",
       "      <td>NaN</td>\n",
       "      <td>NaN</td>\n",
       "      <td>NaN</td>\n",
       "      <td>NaN</td>\n",
       "      <td>NaN</td>\n",
       "      <td>NaN</td>\n",
       "      <td>246</td>\n",
       "      <td>NaN</td>\n",
       "    </tr>\n",
       "  </tbody>\n",
       "</table>\n",
       "</div>"
      ],
      "text/plain": [
       "       YEAR  MM  DD  WEEK   SITE PERIOD CONDITION  FISH_NO  FL_WET  FL_FROZEN  \\\n",
       "5590   1989   5  16  <NA>     38     PM    Frozen       41    <NA>        270   \n",
       "14050  1995   6   2     5  41,35     AM    Frozen        7    <NA>        276   \n",
       "23051  2008   5  20     4     26     AM    Frozen       14    <NA>        260   \n",
       "23498  2008   6   4     6      5     AM     Fresh       24     240       <NA>   \n",
       "25251  2010   5   5     2     41     PM    Frozen       30    <NA>        262   \n",
       "26652  2011   6   4     5     41     AM     Fresh       32     255       <NA>   \n",
       "32829  2017   6  14     7     25     AM    Frozen       14    <NA>        246   \n",
       "\n",
       "       FL_STD  WEIGHT SPECIES SEX  MATURITY  GONAD_WEIGHT Ager_1  AGE_1  \\\n",
       "5590  278.000 283.000       A   F         4       417.000    NaN      4   \n",
       "14050 284.000 337.000       A   F         4       766.000    NaN   <NA>   \n",
       "23051 268.000 277.300       A   F         4       414.800    NaN      5   \n",
       "23498 240.000 176.400       A   F         4       219.600    NaN      3   \n",
       "25251 270.000 233.700       A   F         4       335.500    NaN      4   \n",
       "26652 255.000 220.300       A   F         4       280.000    NaN      4   \n",
       "32829 254.000 183.400       B   F         4       256.000     JM      5   \n",
       "\n",
       "       FSP_1 Comments_1 Ager_2  AGE_2  FSP_2 Comments_2 Ager_3  AGE_3  FSP_3  \\\n",
       "5590       4        NaN    NaN   <NA>   <NA>        NaN    NaN   <NA>   <NA>   \n",
       "14050   <NA>        NaN    NaN   <NA>   <NA>        NaN    NaN   <NA>   <NA>   \n",
       "23051      4        NaN    NaN   <NA>   <NA>        NaN    NaN   <NA>   <NA>   \n",
       "23498      3        NaN    NaN   <NA>   <NA>        NaN    NaN   <NA>   <NA>   \n",
       "25251      3        NaN    NaN   <NA>   <NA>        NaN    NaN   <NA>   <NA>   \n",
       "26652      4        NaN    NaN   <NA>   <NA>        NaN    NaN   <NA>   <NA>   \n",
       "32829      3        NaN    NaN   <NA>   <NA>        NaN    NaN   <NA>   <NA>   \n",
       "\n",
       "      Comments_3 Envelop.Comments   DATETIME AGE_notes_1 FSP_notes_1  \\\n",
       "5590         NaN              NaN 1989-05-16           4           4   \n",
       "14050        NaN              NaN 1995-06-02         NaN         NaN   \n",
       "23051        NaN              NaN 2008-05-20           5           4   \n",
       "23498        NaN              NaN 2008-06-04           3           3   \n",
       "25251        NaN              NaN 2010-05-05           4           3   \n",
       "26652        NaN              NaN 2011-06-04           4           4   \n",
       "32829        NaN              NaN 2017-06-14           5           3   \n",
       "\n",
       "      AGE_notes_2 FSP_notes_2 AGE_notes_3 FSP_notes_3 FLAG_SITE SITE_notes  \\\n",
       "5590          NaN         NaN         NaN         NaN       NaN         38   \n",
       "14050         NaN         NaN         NaN         NaN      True      41,35   \n",
       "23051         NaN         NaN         NaN         NaN       NaN         26   \n",
       "23498         NaN         NaN         NaN         NaN       NaN          5   \n",
       "25251         NaN         NaN         NaN         NaN       NaN         41   \n",
       "26652         NaN         NaN         NaN         NaN       NaN         41   \n",
       "32829         NaN         NaN         NaN         NaN       NaN         25   \n",
       "\n",
       "       SITE1 SITE2 SITE3 FLAG_AM_PM_PERIOD FLAG_SEX FLAG_MATURITY FLAG_FSP_1  \\\n",
       "5590      38  <NA>  <NA>               NaN      NaN           NaN        NaN   \n",
       "14050     41    35  <NA>               NaN      NaN           NaN        NaN   \n",
       "23051     26  <NA>  <NA>               NaN      NaN           NaN        NaN   \n",
       "23498      5  <NA>  <NA>               NaN      NaN           NaN        NaN   \n",
       "25251     41  <NA>  <NA>               NaN      NaN           NaN        NaN   \n",
       "26652     41  <NA>  <NA>               NaN      NaN           NaN        NaN   \n",
       "32829     25  <NA>  <NA>               NaN      NaN           NaN        NaN   \n",
       "\n",
       "      FLAG_FL_STD FLAG_FL_WET_FROZEN  fish_length FLAG_WEIGHT_OUTLIER  \n",
       "5590          NaN                NaN          270                 NaN  \n",
       "14050         NaN                NaN          276                 NaN  \n",
       "23051         NaN                NaN          260                 NaN  \n",
       "23498         NaN                NaN          240                 NaN  \n",
       "25251         NaN                NaN          262                 NaN  \n",
       "26652         NaN                NaN          255                 NaN  \n",
       "32829         NaN                NaN          246                 NaN  "
      ]
     },
     "execution_count": 39,
     "metadata": {},
     "output_type": "execute_result"
    }
   ],
   "source": [
    "max_gonad_weight = 200\n",
    "\n",
    "df_FD.loc[df_FD.GONAD_WEIGHT > max_gonad_weight]"
   ]
  },
  {
   "cell_type": "code",
   "execution_count": 40,
   "id": "55e180d7",
   "metadata": {},
   "outputs": [
    {
     "data": {
      "text/plain": [
       "7"
      ]
     },
     "execution_count": 40,
     "metadata": {},
     "output_type": "execute_result"
    }
   ],
   "source": [
    "# flag weight outliers\n",
    "df_FD.loc[(df_FD.GONAD_WEIGHT > max_gonad_weight), 'FLAG_GONAD_OUTLIER'] = True\n",
    "\n",
    "# how many flags?\n",
    "df_FD[df_FD.FLAG_GONAD_OUTLIER == True].shape[0]"
   ]
  },
  {
   "cell_type": "markdown",
   "id": "a150f453",
   "metadata": {},
   "source": [
    "### Create a combined 'remarks' column"
   ]
  },
  {
   "cell_type": "code",
   "execution_count": 41,
   "id": "56c80e90",
   "metadata": {
    "scrolled": false
   },
   "outputs": [],
   "source": [
    "FD_comments = [\n",
    "    'SITE_notes', \n",
    "    'Ager_1', 'Ager_2', 'Ager_3', \n",
    "    'Comments_1', 'Comments_2', 'Comments_3', 'Envelop.Comments', \n",
    "    'AGE_notes_1', 'FSP_notes_1', 'AGE_notes_2', 'FSP_notes_2', 'AGE_notes_3', 'FSP_notes_3'\n",
    "]\n",
    "\n",
    "# # this complicated double lambda is a combination of these 3 concepts\n",
    "# # there is likely a cleaner way to do this, so I left my logic here for posterity\n",
    "# df_FD[FD_comments].apply(lambda x: '; '.join(x.dropna().astype(str)), axis=1)\n",
    "# df_FD[FD_comments].apply(lambda x: x.name, axis=0).astype(str)\n",
    "# df_FD[FD_comments].apply(lambda x: (x.dropna().name + ': ' + x.dropna().astype(str)), axis=0)\n",
    "\n",
    "df_FD['remarks'] = df_FD[FD_comments].apply(lambda x: (x.dropna().name + ': ' + x.dropna().astype(str)), axis=0).apply(lambda x: '; '.join(x.dropna().astype(str)), axis=1)"
   ]
  },
  {
   "cell_type": "code",
   "execution_count": 42,
   "id": "f5c95f9e",
   "metadata": {},
   "outputs": [
    {
     "data": {
      "text/html": [
       "<div>\n",
       "<style scoped>\n",
       "    .dataframe tbody tr th:only-of-type {\n",
       "        vertical-align: middle;\n",
       "    }\n",
       "\n",
       "    .dataframe tbody tr th {\n",
       "        vertical-align: top;\n",
       "    }\n",
       "\n",
       "    .dataframe thead th {\n",
       "        text-align: right;\n",
       "    }\n",
       "</style>\n",
       "<table border=\"1\" class=\"dataframe\">\n",
       "  <thead>\n",
       "    <tr style=\"text-align: right;\">\n",
       "      <th></th>\n",
       "      <th>DATETIME</th>\n",
       "      <th>remarks</th>\n",
       "    </tr>\n",
       "  </thead>\n",
       "  <tbody>\n",
       "    <tr>\n",
       "      <th>35846</th>\n",
       "      <td>2021-05-20</td>\n",
       "      <td>SITE_notes: Eric Mac; Ager_2: LF; AGE_notes_2: 5; FSP_notes_2: 3</td>\n",
       "    </tr>\n",
       "    <tr>\n",
       "      <th>20180</th>\n",
       "      <td>2002-05-24</td>\n",
       "      <td>SITE_notes: 41; AGE_notes_1: 4; FSP_notes_1: 4</td>\n",
       "    </tr>\n",
       "    <tr>\n",
       "      <th>101</th>\n",
       "      <td>1983-05-16</td>\n",
       "      <td>SITE_notes: 12; AGE_notes_1: 4; FSP_notes_1: 3</td>\n",
       "    </tr>\n",
       "    <tr>\n",
       "      <th>20680</th>\n",
       "      <td>2003-05-16</td>\n",
       "      <td>SITE_notes: 25,26; AGE_notes_1: 4; FSP_notes_1: 4</td>\n",
       "    </tr>\n",
       "    <tr>\n",
       "      <th>18559</th>\n",
       "      <td>2001-05-16</td>\n",
       "      <td>SITE_notes: 5,26; AGE_notes_1: 5; FSP_notes_1: 4</td>\n",
       "    </tr>\n",
       "    <tr>\n",
       "      <th>35602</th>\n",
       "      <td>2019-06-07</td>\n",
       "      <td>SITE_notes: JA Coady; Ager_1: JM; AGE_notes_1: 3; FSP_notes_1: 3</td>\n",
       "    </tr>\n",
       "    <tr>\n",
       "      <th>10645</th>\n",
       "      <td>1993-05-21</td>\n",
       "      <td>SITE_notes: 41; AGE_notes_1: 4; FSP_notes_1: 4</td>\n",
       "    </tr>\n",
       "    <tr>\n",
       "      <th>5047</th>\n",
       "      <td>1989-05-10</td>\n",
       "      <td>SITE_notes: 9; AGE_notes_1: 5; FSP_notes_1: 4</td>\n",
       "    </tr>\n",
       "    <tr>\n",
       "      <th>15643</th>\n",
       "      <td>1998-05-22</td>\n",
       "      <td>SITE_notes: 5; AGE_notes_1: 3; FSP_notes_1: 3</td>\n",
       "    </tr>\n",
       "    <tr>\n",
       "      <th>23557</th>\n",
       "      <td>2008-06-06</td>\n",
       "      <td>SITE_notes: 5; AGE_notes_1: 3; FSP_notes_1: 3</td>\n",
       "    </tr>\n",
       "  </tbody>\n",
       "</table>\n",
       "</div>"
      ],
      "text/plain": [
       "        DATETIME  \\\n",
       "35846 2021-05-20   \n",
       "20180 2002-05-24   \n",
       "101   1983-05-16   \n",
       "20680 2003-05-16   \n",
       "18559 2001-05-16   \n",
       "35602 2019-06-07   \n",
       "10645 1993-05-21   \n",
       "5047  1989-05-10   \n",
       "15643 1998-05-22   \n",
       "23557 2008-06-06   \n",
       "\n",
       "                                                                remarks  \n",
       "35846  SITE_notes: Eric Mac; Ager_2: LF; AGE_notes_2: 5; FSP_notes_2: 3  \n",
       "20180                    SITE_notes: 41; AGE_notes_1: 4; FSP_notes_1: 4  \n",
       "101                      SITE_notes: 12; AGE_notes_1: 4; FSP_notes_1: 3  \n",
       "20680                 SITE_notes: 25,26; AGE_notes_1: 4; FSP_notes_1: 4  \n",
       "18559                  SITE_notes: 5,26; AGE_notes_1: 5; FSP_notes_1: 4  \n",
       "35602  SITE_notes: JA Coady; Ager_1: JM; AGE_notes_1: 3; FSP_notes_1: 3  \n",
       "10645                    SITE_notes: 41; AGE_notes_1: 4; FSP_notes_1: 4  \n",
       "5047                      SITE_notes: 9; AGE_notes_1: 5; FSP_notes_1: 4  \n",
       "15643                     SITE_notes: 5; AGE_notes_1: 3; FSP_notes_1: 3  \n",
       "23557                     SITE_notes: 5; AGE_notes_1: 3; FSP_notes_1: 3  "
      ]
     },
     "execution_count": 42,
     "metadata": {},
     "output_type": "execute_result"
    }
   ],
   "source": [
    "# check a sample of the remarks\n",
    "df_FD.sample(10)[['DATETIME', 'remarks']]"
   ]
  },
  {
   "cell_type": "markdown",
   "id": "73a8293c",
   "metadata": {},
   "source": [
    "### why did maturity distributions change in the 90s?\n",
    "* should we do anything to clean this?"
   ]
  },
  {
   "cell_type": "code",
   "execution_count": 43,
   "id": "8a5b69ed",
   "metadata": {},
   "outputs": [
    {
     "data": {
      "image/png": "[encoded data removed]",
      "text/plain": [
       "<Figure size 1000x200 with 1 Axes>"
      ]
     },
     "metadata": {},
     "output_type": "display_data"
    },
    {
     "data": {
      "image/png": "[encoded data removed]",
      "text/plain": [
       "<Figure size 1000x200 with 1 Axes>"
      ]
     },
     "metadata": {},
     "output_type": "display_data"
    },
    {
     "data": {
      "image/png": "[encoded data removed]",
      "text/plain": [
       "<Figure size 1000x200 with 1 Axes>"
      ]
     },
     "metadata": {},
     "output_type": "display_data"
    },
    {
     "data": {
      "image/png": "[encoded data removed]",
      "text/plain": [
       "<Figure size 1000x200 with 1 Axes>"
      ]
     },
     "metadata": {},
     "output_type": "display_data"
    },
    {
     "data": {
      "image/png": "[encoded data removed]",
      "text/plain": [
       "<Figure size 1000x200 with 1 Axes>"
      ]
     },
     "metadata": {},
     "output_type": "display_data"
    },
    {
     "data": {
      "image/png": "[encoded data removed]",
      "text/plain": [
       "<Figure size 1000x200 with 1 Axes>"
      ]
     },
     "metadata": {},
     "output_type": "display_data"
    }
   ],
   "source": [
    "# graphs included in summary\n",
    "# look into this, likely to just import as is\n",
    "\n",
    "possible_maturity = [1, 2, 3, 4, 5, 6]\n",
    "\n",
    "for i, maturity in enumerate(possible_maturity):\n",
    "\n",
    "    plt.figure(figsize=(10, 2))\n",
    "    xmin, xmax = 1983, 2019\n",
    "    bins = 2019 - 1983 + 1\n",
    "    bins_plot = [(x/(bins+1))*(xmax-xmin)+xmin for x in range(bins+2)] \n",
    "\n",
    "    df_FD.loc[df_FD.MATURITY == maturity, 'DATETIME'].dt.year.hist(alpha=0.3, bins=bins_plot, label=maturity, edgecolor='black', color=sns.color_palette()[i])\n",
    "    \n",
    "    plt.legend(loc='upper left', bbox_to_anchor=(1, 1))\n",
    "\n",
    "    plt.show()"
   ]
  },
  {
   "cell_type": "markdown",
   "id": "3da60e65",
   "metadata": {},
   "source": [
    "### Fish Details Sample ID (for import)\n",
    "* Generate Unique IDs to Import / match with Samples"
   ]
  },
  {
   "cell_type": "code",
   "execution_count": 44,
   "id": "e1c301f6",
   "metadata": {},
   "outputs": [],
   "source": [
    "df_FD['id'] = (\n",
    "    df_FD.YEAR.astype(int)*1_000_000 \n",
    "    + df_FD.MM.fillna(0).astype(int)*10_000\n",
    "    + df_FD.DD.fillna(0).astype(int)*100\n",
    "    + df_FD.SITE1.fillna(0).astype(int)\n",
    ").astype('Int64')"
   ]
  },
  {
   "cell_type": "markdown",
   "id": "90dd9e11",
   "metadata": {},
   "source": [
    "#### some ambiguous sites can't get separated without more information"
   ]
  },
  {
   "cell_type": "code",
   "execution_count": 45,
   "id": "4ef319ed",
   "metadata": {},
   "outputs": [
    {
     "data": {
      "text/plain": [
       "7"
      ]
     },
     "execution_count": 45,
     "metadata": {},
     "output_type": "execute_result"
    }
   ],
   "source": [
    "# how many ambiguous sets of fish data have unordered or duplicate fish numbers?\n",
    "bad_sort = set()\n",
    "for i, row in df_FD[df_FD.id.isin(df_FD[df_FD.duplicated(['id', 'FISH_NO'], keep=False)].groupby('id').count().index)].iterrows():\n",
    "    if (df_FD.loc[i, 'FISH_NO'] == df_FD.loc[i-1, 'FISH_NO']) and (df_FD.loc[i, 'id'] == df_FD.loc[i-1, 'id']):\n",
    "        bad_sort.add(df_FD.loc[i, 'id'])\n",
    "        \n",
    "len(bad_sort)"
   ]
  },
  {
   "cell_type": "markdown",
   "id": "813d658e",
   "metadata": {},
   "source": [
    "* only one of these looks like a legit extra set of data: 2998050105 / 3998050105\n",
    "* leave it as is unless we can figure out which sample gets fish_no 21 to 31"
   ]
  },
  {
   "cell_type": "markdown",
   "id": "37568f78",
   "metadata": {},
   "source": [
    "### flag ambiguous sample details / id"
   ]
  },
  {
   "cell_type": "code",
   "execution_count": 46,
   "id": "8db0cadd",
   "metadata": {},
   "outputs": [],
   "source": [
    "# Create distinct id for ambiguous groups of fish details\n",
    "# STEP 1: flag and add 1B to all ambiguous samples\n",
    "\n",
    "if df_FD.id.max() < 2_100_000_000:  # only run this once\n",
    "    \n",
    "    # first, flag ambiguous data\n",
    "    \n",
    "    # ambiguous ids \n",
    "    ambiguous_id = df_FD[df_FD.duplicated(['id', 'FISH_NO'], keep=False)].groupby('id').count().index\n",
    "\n",
    "    # flag ambiguous ids / sample matches (same site and date)\n",
    "    df_FD.loc[df_FD.id.isin(ambiguous_id), 'FLAG_MULTIPLE_SAMPLE_POSSIBILITIES'] = True    \n",
    "    \n",
    "    # some ambiguous sites have duplicate fish_no (most look like typos, 1 is probalby 2 separate samples worth of fish details)\n",
    "    bad_sort = set()\n",
    "    for i, row in df_FD[df_FD.FLAG_MULTIPLE_SAMPLE_POSSIBILITIES == True].iterrows():\n",
    "        if (df_FD.loc[i, 'FISH_NO'] == df_FD.loc[i-1, 'FISH_NO']) and (df_FD.loc[i, 'id'] == df_FD.loc[i-1, 'id']):\n",
    "            bad_sort.add(df_FD.loc[i, 'id'])\n",
    "    \n",
    "    # flag misnumbered fish detail grouping (these have already been flagged)\n",
    "    # it isn't possible to disambiguate these without more information - they will be rejected on import\n",
    "    df_FD.loc[df_FD.id.isin(bad_sort), 'FLAG_MISNUMBERED_FISH_DETAILS'] = True\n",
    "    \n",
    "    # start by adding 1B to all ambiguous id\n",
    "    df_FD.loc[df_FD.id.isin(ambiguous_id), 'id'] = df_FD.loc[df_FD.id.isin(ambiguous_id), 'id'] + 1_000_000_000"
   ]
  },
  {
   "cell_type": "code",
   "execution_count": 47,
   "id": "47a0f0e1",
   "metadata": {},
   "outputs": [
    {
     "data": {
      "text/html": [
       "<div>\n",
       "<style scoped>\n",
       "    .dataframe tbody tr th:only-of-type {\n",
       "        vertical-align: middle;\n",
       "    }\n",
       "\n",
       "    .dataframe tbody tr th {\n",
       "        vertical-align: top;\n",
       "    }\n",
       "\n",
       "    .dataframe thead th {\n",
       "        text-align: right;\n",
       "    }\n",
       "</style>\n",
       "<table border=\"1\" class=\"dataframe\">\n",
       "  <thead>\n",
       "    <tr style=\"text-align: right;\">\n",
       "      <th></th>\n",
       "      <th></th>\n",
       "      <th>COUNT</th>\n",
       "    </tr>\n",
       "    <tr>\n",
       "      <th>id</th>\n",
       "      <th>PERIOD</th>\n",
       "      <th></th>\n",
       "    </tr>\n",
       "  </thead>\n",
       "  <tbody>\n",
       "    <tr>\n",
       "      <th rowspan=\"2\" valign=\"top\">2989051335</th>\n",
       "      <th>AM</th>\n",
       "      <td>1</td>\n",
       "    </tr>\n",
       "    <tr>\n",
       "      <th>PM</th>\n",
       "      <td>1</td>\n",
       "    </tr>\n",
       "    <tr>\n",
       "      <th rowspan=\"2\" valign=\"top\">2989051412</th>\n",
       "      <th>AM</th>\n",
       "      <td>1</td>\n",
       "    </tr>\n",
       "    <tr>\n",
       "      <th>PM</th>\n",
       "      <td>1</td>\n",
       "    </tr>\n",
       "    <tr>\n",
       "      <th rowspan=\"2\" valign=\"top\">3000060726</th>\n",
       "      <th>AM</th>\n",
       "      <td>1</td>\n",
       "    </tr>\n",
       "    <tr>\n",
       "      <th>PM</th>\n",
       "      <td>1</td>\n",
       "    </tr>\n",
       "    <tr>\n",
       "      <th rowspan=\"2\" valign=\"top\">3000060926</th>\n",
       "      <th>AM</th>\n",
       "      <td>1</td>\n",
       "    </tr>\n",
       "    <tr>\n",
       "      <th>PM</th>\n",
       "      <td>1</td>\n",
       "    </tr>\n",
       "    <tr>\n",
       "      <th rowspan=\"2\" valign=\"top\">3001051605</th>\n",
       "      <th>AM</th>\n",
       "      <td>1</td>\n",
       "    </tr>\n",
       "    <tr>\n",
       "      <th>PM</th>\n",
       "      <td>1</td>\n",
       "    </tr>\n",
       "    <tr>\n",
       "      <th rowspan=\"2\" valign=\"top\">3009052026</th>\n",
       "      <th>PM</th>\n",
       "      <td>1</td>\n",
       "    </tr>\n",
       "    <tr>\n",
       "      <th>AM</th>\n",
       "      <td>1</td>\n",
       "    </tr>\n",
       "    <tr>\n",
       "      <th rowspan=\"2\" valign=\"top\">3009052226</th>\n",
       "      <th>AM</th>\n",
       "      <td>1</td>\n",
       "    </tr>\n",
       "    <tr>\n",
       "      <th>PM</th>\n",
       "      <td>1</td>\n",
       "    </tr>\n",
       "    <tr>\n",
       "      <th rowspan=\"2\" valign=\"top\">3010051126</th>\n",
       "      <th>AM</th>\n",
       "      <td>1</td>\n",
       "    </tr>\n",
       "    <tr>\n",
       "      <th>PM</th>\n",
       "      <td>1</td>\n",
       "    </tr>\n",
       "    <tr>\n",
       "      <th rowspan=\"2\" valign=\"top\">3010051926</th>\n",
       "      <th>AM</th>\n",
       "      <td>1</td>\n",
       "    </tr>\n",
       "    <tr>\n",
       "      <th>PM</th>\n",
       "      <td>1</td>\n",
       "    </tr>\n",
       "    <tr>\n",
       "      <th rowspan=\"2\" valign=\"top\">3010052726</th>\n",
       "      <th>AM</th>\n",
       "      <td>1</td>\n",
       "    </tr>\n",
       "    <tr>\n",
       "      <th>PM</th>\n",
       "      <td>1</td>\n",
       "    </tr>\n",
       "    <tr>\n",
       "      <th rowspan=\"2\" valign=\"top\">3014053047</th>\n",
       "      <th>AM</th>\n",
       "      <td>1</td>\n",
       "    </tr>\n",
       "    <tr>\n",
       "      <th>PM</th>\n",
       "      <td>1</td>\n",
       "    </tr>\n",
       "  </tbody>\n",
       "</table>\n",
       "</div>"
      ],
      "text/plain": [
       "                   COUNT\n",
       "id         PERIOD       \n",
       "2989051335 AM          1\n",
       "           PM          1\n",
       "2989051412 AM          1\n",
       "           PM          1\n",
       "3000060726 AM          1\n",
       "           PM          1\n",
       "3000060926 AM          1\n",
       "           PM          1\n",
       "3001051605 AM          1\n",
       "           PM          1\n",
       "3009052026 PM          1\n",
       "           AM          1\n",
       "3009052226 AM          1\n",
       "           PM          1\n",
       "3010051126 AM          1\n",
       "           PM          1\n",
       "3010051926 AM          1\n",
       "           PM          1\n",
       "3010052726 AM          1\n",
       "           PM          1\n",
       "3014053047 AM          1\n",
       "           PM          1"
      ]
     },
     "execution_count": 47,
     "metadata": {},
     "output_type": "execute_result"
    }
   ],
   "source": [
    "# conveniently, all ambigous groups (other than misnumbered groups), can be disambiguated using daytime period\n",
    "temp = df_FD[(df_FD.FLAG_MULTIPLE_SAMPLE_POSSIBILITIES == True) & (df_FD.FLAG_MISNUMBERED_FISH_DETAILS != True)].groupby(['id', 'PERIOD', 'FISH_NO']).count()['YEAR'].reset_index().rename({'YEAR':'COUNT'}, axis=1)\n",
    "temp[temp.FISH_NO==1][['id', 'PERIOD', 'COUNT']].groupby(['id', 'PERIOD']).count().sort_values('id')"
   ]
  },
  {
   "cell_type": "code",
   "execution_count": 48,
   "id": "20980e8e",
   "metadata": {},
   "outputs": [],
   "source": [
    "# STEP 2: disambiguate: add 1B to all ambiguous PM entries\n",
    "\n",
    "if df_FD.id.max() < 3_100_000_000:  # only run this once\n",
    "    df_FD.loc[(df_FD.FLAG_MULTIPLE_SAMPLE_POSSIBILITIES == True) & (df_FD.FLAG_MISNUMBERED_FISH_DETAILS != True) & (df_FD.PERIOD == 'PM'), 'id'] += 1_000_000_000"
   ]
  },
  {
   "cell_type": "code",
   "execution_count": 49,
   "id": "30053796",
   "metadata": {},
   "outputs": [
    {
     "data": {
      "text/plain": [
       "(1034, 235)"
      ]
     },
     "execution_count": 49,
     "metadata": {},
     "output_type": "execute_result"
    }
   ],
   "source": [
    "# NOTE: FLAG_MULTIPLE_SAMPLE_POSSIBILITIES is poorly named, should be ambiguous fish detail grouping or similar\n",
    "# left as is, because already being used to examine data\n",
    "\n",
    "# how many flags?\n",
    "df_FD[df_FD.FLAG_MULTIPLE_SAMPLE_POSSIBILITIES == True].shape[0], df_FD[df_FD.FLAG_MISNUMBERED_FISH_DETAILS == True].shape[0]"
   ]
  },
  {
   "cell_type": "code",
   "execution_count": 50,
   "id": "f6263fb6",
   "metadata": {},
   "outputs": [
    {
     "data": {
      "text/plain": [
       "1"
      ]
     },
     "execution_count": 50,
     "metadata": {},
     "output_type": "execute_result"
    }
   ],
   "source": [
    "# there are never duplicates outside of FLAG_MISNUMBERED_FISH_DETAILS\n",
    "\n",
    "current = 1\n",
    "maxdupes = 1\n",
    "\n",
    "for i, row in df_FD[df_FD.FLAG_MISNUMBERED_FISH_DETAILS.isnull()].iterrows():\n",
    "    if i > 0:\n",
    "        if df_FD.loc[i, 'FISH_NO'] == df_FD.loc[i-1, 'FISH_NO']:\n",
    "            if df_FD.loc[i, 'id'] == df_FD.loc[i-1, 'id']:\n",
    "                current += 1\n",
    "        else:\n",
    "            current = 1\n",
    "    maxdupes = max(current, maxdupes)\n",
    "\n",
    "maxdupes"
   ]
  },
  {
   "cell_type": "markdown",
   "id": "30e93f62",
   "metadata": {},
   "source": [
    "### Validate weight to length ratio: outliers - FLAGGED"
   ]
  },
  {
   "cell_type": "markdown",
   "id": "f46fb719",
   "metadata": {},
   "source": [
    "##### need to flag these and manually deal with them individually \n",
    "\n",
    "\n",
    "[4:25 PM] Fishman, David\n",
    "would be based on length in cm and weight in g\n",
    "\n",
    "<img style=\"float: left;\" src=data:image/png;base64,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>"
   ]
  },
  {
   "cell_type": "code",
   "execution_count": 51,
   "id": "ea084bca",
   "metadata": {},
   "outputs": [],
   "source": [
    "# TODO: add a flag or boolean to identify outliers?\n",
    "\n",
    "\n",
    "def lw_prediction_delta(sex, length_mm, weight_g):\n",
    "    \"\"\"\n",
    "    returns actual weight / predicted weight, based on length and sex\n",
    "    \"\"\"\n",
    "    \n",
    "    sex, length_mm, weight_g = str(sex), float(length_mm), float(weight_g)\n",
    "    \n",
    "    if sex.lower()[0] == 'm':\n",
    "        A, B = 0.00654, 3.15\n",
    "    elif sex.lower()[0] == 'f':\n",
    "        A, B = 0.00909, 3.03\n",
    "    else:\n",
    "        A, B = 0.00866, 3.06\n",
    "        \n",
    "    # in grams, length converted mm to cm\n",
    "    predicted_weight_g = A * ((length_mm / 10) ** B)\n",
    "    \n",
    "    return weight_g / predicted_weight_g\n"
   ]
  },
  {
   "cell_type": "code",
   "execution_count": 52,
   "id": "eec11dd5",
   "metadata": {},
   "outputs": [
    {
     "data": {
      "text/plain": [
       "33"
      ]
     },
     "execution_count": 52,
     "metadata": {},
     "output_type": "execute_result"
    }
   ],
   "source": [
    "# check the length width ratio outliers\n",
    "\n",
    "# drop FLAG_LEN_WT_RATIO_OUTLIER before recalculating, ignore if doesn't exist\n",
    "df_FD = df_FD.drop('FLAG_LEN_WT_RATIO_OUTLIER', axis=1, errors='ignore')\n",
    "\n",
    "# initialise column to np.nan\n",
    "df_FD['lw_ratio_check'] = np.nan  \n",
    "\n",
    "# don't include any flagged data in averages\n",
    "flagged_columns = [x for x in list(df_FD.columns) if 'FLAG' in str(x)]\n",
    "\n",
    "for i, row in df_FD.iterrows():\n",
    "    if row[flagged_columns].any():\n",
    "        df_FD.loc[i, 'lw_ratio_check'] = np.nan\n",
    "    else:\n",
    "        try:\n",
    "            df_FD.loc[i, 'lw_ratio_check'] = lw_prediction_delta(row['SEX'], row['FL_STD'], row['WEIGHT'])\n",
    "        except TypeError:\n",
    "            df_FD.loc[i, 'lw_ratio_check'] = np.nan\n",
    "        \n",
    "# number of samples with extraordinary dimensions\n",
    "avg_ratio = df_FD['lw_ratio_check'].describe()['mean']\n",
    "stdev = df_FD['lw_ratio_check'].describe()['std']\n",
    "\n",
    "# how many standard deviations out should we examine?\n",
    "n_stdev = 4\n",
    "# with 3 stdev, there are 101 len wt ratio outliers excluding already flagged values\n",
    "\n",
    "# min and max ratios\n",
    "lw_ratio_min, lw_ratio_max = avg_ratio - n_stdev*stdev, avg_ratio + n_stdev*stdev\n",
    "\n",
    "# flag lw ratio outliers\n",
    "df_FD.loc[(df_FD['lw_ratio_check'] < lw_ratio_min) | (df_FD['lw_ratio_check'] > lw_ratio_max), 'FLAG_LEN_WT_RATIO_OUTLIER'] = True\n",
    "\n",
    "# how many flags?\n",
    "df_FD[df_FD.FLAG_LEN_WT_RATIO_OUTLIER == True].shape[0]"
   ]
  },
  {
   "cell_type": "code",
   "execution_count": 53,
   "id": "dba65a1f",
   "metadata": {},
   "outputs": [
    {
     "data": {
      "text/html": [
       "<div>\n",
       "<style scoped>\n",
       "    .dataframe tbody tr th:only-of-type {\n",
       "        vertical-align: middle;\n",
       "    }\n",
       "\n",
       "    .dataframe tbody tr th {\n",
       "        vertical-align: top;\n",
       "    }\n",
       "\n",
       "    .dataframe thead th {\n",
       "        text-align: right;\n",
       "    }\n",
       "</style>\n",
       "<table border=\"1\" class=\"dataframe\">\n",
       "  <thead>\n",
       "    <tr style=\"text-align: right;\">\n",
       "      <th></th>\n",
       "      <th>CONDITION</th>\n",
       "      <th>FL_WET</th>\n",
       "      <th>FL_FROZEN</th>\n",
       "      <th>FL_STD</th>\n",
       "      <th>WEIGHT</th>\n",
       "      <th>SPECIES</th>\n",
       "      <th>SEX</th>\n",
       "      <th>MATURITY</th>\n",
       "      <th>GONAD_WEIGHT</th>\n",
       "      <th>lw_ratio_check</th>\n",
       "    </tr>\n",
       "  </thead>\n",
       "  <tbody>\n",
       "    <tr>\n",
       "      <th>208</th>\n",
       "      <td>Fresh</td>\n",
       "      <td>257</td>\n",
       "      <td>&lt;NA&gt;</td>\n",
       "      <td>257.000</td>\n",
       "      <td>337.000</td>\n",
       "      <td>A</td>\n",
       "      <td>M</td>\n",
       "      <td>2</td>\n",
       "      <td>NaN</td>\n",
       "      <td>1.865</td>\n",
       "    </tr>\n",
       "    <tr>\n",
       "      <th>984</th>\n",
       "      <td>Frozen</td>\n",
       "      <td>&lt;NA&gt;</td>\n",
       "      <td>248</td>\n",
       "      <td>256.000</td>\n",
       "      <td>335.000</td>\n",
       "      <td>A</td>\n",
       "      <td>M</td>\n",
       "      <td>2</td>\n",
       "      <td>NaN</td>\n",
       "      <td>1.877</td>\n",
       "    </tr>\n",
       "    <tr>\n",
       "      <th>1830</th>\n",
       "      <td>Frozen</td>\n",
       "      <td>&lt;NA&gt;</td>\n",
       "      <td>260</td>\n",
       "      <td>268.000</td>\n",
       "      <td>363.000</td>\n",
       "      <td>A</td>\n",
       "      <td>F</td>\n",
       "      <td>2</td>\n",
       "      <td>48.700</td>\n",
       "      <td>1.880</td>\n",
       "    </tr>\n",
       "    <tr>\n",
       "      <th>2230</th>\n",
       "      <td>Frozen</td>\n",
       "      <td>&lt;NA&gt;</td>\n",
       "      <td>225</td>\n",
       "      <td>233.000</td>\n",
       "      <td>250.000</td>\n",
       "      <td>A</td>\n",
       "      <td>F</td>\n",
       "      <td>3</td>\n",
       "      <td>10.100</td>\n",
       "      <td>1.978</td>\n",
       "    </tr>\n",
       "    <tr>\n",
       "      <th>2925</th>\n",
       "      <td>Frozen</td>\n",
       "      <td>&lt;NA&gt;</td>\n",
       "      <td>254</td>\n",
       "      <td>262.000</td>\n",
       "      <td>347.000</td>\n",
       "      <td>A</td>\n",
       "      <td>F</td>\n",
       "      <td>2</td>\n",
       "      <td>41.200</td>\n",
       "      <td>1.924</td>\n",
       "    </tr>\n",
       "    <tr>\n",
       "      <th>3574</th>\n",
       "      <td>Frozen</td>\n",
       "      <td>&lt;NA&gt;</td>\n",
       "      <td>226</td>\n",
       "      <td>234.000</td>\n",
       "      <td>282.000</td>\n",
       "      <td>A</td>\n",
       "      <td>U</td>\n",
       "      <td>2</td>\n",
       "      <td>NaN</td>\n",
       "      <td>2.103</td>\n",
       "    </tr>\n",
       "    <tr>\n",
       "      <th>4226</th>\n",
       "      <td>Fresh</td>\n",
       "      <td>263</td>\n",
       "      <td>&lt;NA&gt;</td>\n",
       "      <td>263.000</td>\n",
       "      <td>346.000</td>\n",
       "      <td>A</td>\n",
       "      <td>F</td>\n",
       "      <td>4</td>\n",
       "      <td>71.200</td>\n",
       "      <td>1.897</td>\n",
       "    </tr>\n",
       "    <tr>\n",
       "      <th>4541</th>\n",
       "      <td>Fresh</td>\n",
       "      <td>233</td>\n",
       "      <td>&lt;NA&gt;</td>\n",
       "      <td>233.000</td>\n",
       "      <td>238.000</td>\n",
       "      <td>A</td>\n",
       "      <td>F</td>\n",
       "      <td>4</td>\n",
       "      <td>35.500</td>\n",
       "      <td>1.883</td>\n",
       "    </tr>\n",
       "    <tr>\n",
       "      <th>4643</th>\n",
       "      <td>Fresh</td>\n",
       "      <td>258</td>\n",
       "      <td>&lt;NA&gt;</td>\n",
       "      <td>258.000</td>\n",
       "      <td>341.000</td>\n",
       "      <td>A</td>\n",
       "      <td>F</td>\n",
       "      <td>4</td>\n",
       "      <td>42.000</td>\n",
       "      <td>1.981</td>\n",
       "    </tr>\n",
       "    <tr>\n",
       "      <th>4743</th>\n",
       "      <td>Fresh</td>\n",
       "      <td>258</td>\n",
       "      <td>&lt;NA&gt;</td>\n",
       "      <td>258.000</td>\n",
       "      <td>332.000</td>\n",
       "      <td>A</td>\n",
       "      <td>F</td>\n",
       "      <td>4</td>\n",
       "      <td>66.500</td>\n",
       "      <td>1.929</td>\n",
       "    </tr>\n",
       "    <tr>\n",
       "      <th>8020</th>\n",
       "      <td>Fresh</td>\n",
       "      <td>275</td>\n",
       "      <td>&lt;NA&gt;</td>\n",
       "      <td>275.000</td>\n",
       "      <td>391.000</td>\n",
       "      <td>A</td>\n",
       "      <td>F</td>\n",
       "      <td>4</td>\n",
       "      <td>48.400</td>\n",
       "      <td>1.873</td>\n",
       "    </tr>\n",
       "    <tr>\n",
       "      <th>9353</th>\n",
       "      <td>Frozen</td>\n",
       "      <td>&lt;NA&gt;</td>\n",
       "      <td>175</td>\n",
       "      <td>182.000</td>\n",
       "      <td>209.000</td>\n",
       "      <td>A</td>\n",
       "      <td>M</td>\n",
       "      <td>4</td>\n",
       "      <td>NaN</td>\n",
       "      <td>3.430</td>\n",
       "    </tr>\n",
       "    <tr>\n",
       "      <th>9384</th>\n",
       "      <td>Frozen</td>\n",
       "      <td>&lt;NA&gt;</td>\n",
       "      <td>148</td>\n",
       "      <td>155.000</td>\n",
       "      <td>169.000</td>\n",
       "      <td>A</td>\n",
       "      <td>M</td>\n",
       "      <td>4</td>\n",
       "      <td>NaN</td>\n",
       "      <td>4.600</td>\n",
       "    </tr>\n",
       "    <tr>\n",
       "      <th>13406</th>\n",
       "      <td>Fresh</td>\n",
       "      <td>271</td>\n",
       "      <td>&lt;NA&gt;</td>\n",
       "      <td>271.000</td>\n",
       "      <td>394.000</td>\n",
       "      <td>A</td>\n",
       "      <td>F</td>\n",
       "      <td>4</td>\n",
       "      <td>61.900</td>\n",
       "      <td>1.973</td>\n",
       "    </tr>\n",
       "    <tr>\n",
       "      <th>13975</th>\n",
       "      <td>Frozen</td>\n",
       "      <td>&lt;NA&gt;</td>\n",
       "      <td>246</td>\n",
       "      <td>254.000</td>\n",
       "      <td>351.000</td>\n",
       "      <td>A</td>\n",
       "      <td>F</td>\n",
       "      <td>4</td>\n",
       "      <td>37.700</td>\n",
       "      <td>2.138</td>\n",
       "    </tr>\n",
       "    <tr>\n",
       "      <th>14762</th>\n",
       "      <td>Frozen</td>\n",
       "      <td>&lt;NA&gt;</td>\n",
       "      <td>231</td>\n",
       "      <td>239.000</td>\n",
       "      <td>284.000</td>\n",
       "      <td>A</td>\n",
       "      <td>M</td>\n",
       "      <td>4</td>\n",
       "      <td>NaN</td>\n",
       "      <td>1.976</td>\n",
       "    </tr>\n",
       "    <tr>\n",
       "      <th>14801</th>\n",
       "      <td>Frozen</td>\n",
       "      <td>&lt;NA&gt;</td>\n",
       "      <td>118</td>\n",
       "      <td>124.000</td>\n",
       "      <td>159.000</td>\n",
       "      <td>B</td>\n",
       "      <td>M</td>\n",
       "      <td>4</td>\n",
       "      <td>NaN</td>\n",
       "      <td>8.741</td>\n",
       "    </tr>\n",
       "    <tr>\n",
       "      <th>18808</th>\n",
       "      <td>Frozen</td>\n",
       "      <td>&lt;NA&gt;</td>\n",
       "      <td>255</td>\n",
       "      <td>263.000</td>\n",
       "      <td>420.100</td>\n",
       "      <td>A</td>\n",
       "      <td>F</td>\n",
       "      <td>4</td>\n",
       "      <td>36.300</td>\n",
       "      <td>2.303</td>\n",
       "    </tr>\n",
       "    <tr>\n",
       "      <th>19148</th>\n",
       "      <td>Frozen</td>\n",
       "      <td>&lt;NA&gt;</td>\n",
       "      <td>232</td>\n",
       "      <td>240.000</td>\n",
       "      <td>271.800</td>\n",
       "      <td>A</td>\n",
       "      <td>F</td>\n",
       "      <td>4</td>\n",
       "      <td>48.600</td>\n",
       "      <td>1.966</td>\n",
       "    </tr>\n",
       "    <tr>\n",
       "      <th>21595</th>\n",
       "      <td>Frozen</td>\n",
       "      <td>&lt;NA&gt;</td>\n",
       "      <td>205</td>\n",
       "      <td>212.000</td>\n",
       "      <td>15.100</td>\n",
       "      <td>B</td>\n",
       "      <td>M</td>\n",
       "      <td>4</td>\n",
       "      <td>NaN</td>\n",
       "      <td>0.153</td>\n",
       "    </tr>\n",
       "    <tr>\n",
       "      <th>22681</th>\n",
       "      <td>Frozen</td>\n",
       "      <td>&lt;NA&gt;</td>\n",
       "      <td>366</td>\n",
       "      <td>376.000</td>\n",
       "      <td>170.900</td>\n",
       "      <td>A</td>\n",
       "      <td>F</td>\n",
       "      <td>4</td>\n",
       "      <td>23.500</td>\n",
       "      <td>0.317</td>\n",
       "    </tr>\n",
       "    <tr>\n",
       "      <th>23232</th>\n",
       "      <td>Fresh</td>\n",
       "      <td>256</td>\n",
       "      <td>&lt;NA&gt;</td>\n",
       "      <td>256.000</td>\n",
       "      <td>328.700</td>\n",
       "      <td>A</td>\n",
       "      <td>F</td>\n",
       "      <td>4</td>\n",
       "      <td>31.900</td>\n",
       "      <td>1.956</td>\n",
       "    </tr>\n",
       "    <tr>\n",
       "      <th>23397</th>\n",
       "      <td>Fresh</td>\n",
       "      <td>218</td>\n",
       "      <td>&lt;NA&gt;</td>\n",
       "      <td>218.000</td>\n",
       "      <td>294.100</td>\n",
       "      <td>B</td>\n",
       "      <td>F</td>\n",
       "      <td>4</td>\n",
       "      <td>44.000</td>\n",
       "      <td>2.847</td>\n",
       "    </tr>\n",
       "    <tr>\n",
       "      <th>25655</th>\n",
       "      <td>Frozen</td>\n",
       "      <td>&lt;NA&gt;</td>\n",
       "      <td>283</td>\n",
       "      <td>292.000</td>\n",
       "      <td>33.300</td>\n",
       "      <td>A</td>\n",
       "      <td>F</td>\n",
       "      <td>4</td>\n",
       "      <td>61.600</td>\n",
       "      <td>0.133</td>\n",
       "    </tr>\n",
       "    <tr>\n",
       "      <th>25903</th>\n",
       "      <td>Frozen</td>\n",
       "      <td>&lt;NA&gt;</td>\n",
       "      <td>299</td>\n",
       "      <td>308.000</td>\n",
       "      <td>150.900</td>\n",
       "      <td>A</td>\n",
       "      <td>M</td>\n",
       "      <td>4</td>\n",
       "      <td>NaN</td>\n",
       "      <td>0.472</td>\n",
       "    </tr>\n",
       "    <tr>\n",
       "      <th>26230</th>\n",
       "      <td>Fresh</td>\n",
       "      <td>299</td>\n",
       "      <td>&lt;NA&gt;</td>\n",
       "      <td>299.000</td>\n",
       "      <td>146.100</td>\n",
       "      <td>A</td>\n",
       "      <td>M</td>\n",
       "      <td>4</td>\n",
       "      <td>NaN</td>\n",
       "      <td>0.502</td>\n",
       "    </tr>\n",
       "    <tr>\n",
       "      <th>27534</th>\n",
       "      <td>Frozen</td>\n",
       "      <td>&lt;NA&gt;</td>\n",
       "      <td>244</td>\n",
       "      <td>252.000</td>\n",
       "      <td>93.700</td>\n",
       "      <td>B</td>\n",
       "      <td>M</td>\n",
       "      <td>4</td>\n",
       "      <td>NaN</td>\n",
       "      <td>0.552</td>\n",
       "    </tr>\n",
       "    <tr>\n",
       "      <th>29711</th>\n",
       "      <td>Frozen</td>\n",
       "      <td>&lt;NA&gt;</td>\n",
       "      <td>118</td>\n",
       "      <td>124.000</td>\n",
       "      <td>129.100</td>\n",
       "      <td>B</td>\n",
       "      <td>M</td>\n",
       "      <td>3</td>\n",
       "      <td>NaN</td>\n",
       "      <td>7.097</td>\n",
       "    </tr>\n",
       "    <tr>\n",
       "      <th>30066</th>\n",
       "      <td>Frozen</td>\n",
       "      <td>&lt;NA&gt;</td>\n",
       "      <td>112</td>\n",
       "      <td>118.000</td>\n",
       "      <td>107.500</td>\n",
       "      <td>A</td>\n",
       "      <td>M</td>\n",
       "      <td>3</td>\n",
       "      <td>NaN</td>\n",
       "      <td>6.909</td>\n",
       "    </tr>\n",
       "    <tr>\n",
       "      <th>30189</th>\n",
       "      <td>Frozen</td>\n",
       "      <td>&lt;NA&gt;</td>\n",
       "      <td>241</td>\n",
       "      <td>249.000</td>\n",
       "      <td>103.600</td>\n",
       "      <td>B</td>\n",
       "      <td>M</td>\n",
       "      <td>3</td>\n",
       "      <td>NaN</td>\n",
       "      <td>0.634</td>\n",
       "    </tr>\n",
       "    <tr>\n",
       "      <th>30296</th>\n",
       "      <td>Fresh</td>\n",
       "      <td>232</td>\n",
       "      <td>&lt;NA&gt;</td>\n",
       "      <td>232.000</td>\n",
       "      <td>256.200</td>\n",
       "      <td>A</td>\n",
       "      <td>F</td>\n",
       "      <td>4</td>\n",
       "      <td>12.600</td>\n",
       "      <td>2.054</td>\n",
       "    </tr>\n",
       "    <tr>\n",
       "      <th>30364</th>\n",
       "      <td>Fresh</td>\n",
       "      <td>223</td>\n",
       "      <td>&lt;NA&gt;</td>\n",
       "      <td>223.000</td>\n",
       "      <td>240.700</td>\n",
       "      <td>A</td>\n",
       "      <td>M</td>\n",
       "      <td>4</td>\n",
       "      <td>NaN</td>\n",
       "      <td>2.083</td>\n",
       "    </tr>\n",
       "    <tr>\n",
       "      <th>30815</th>\n",
       "      <td>Frozen</td>\n",
       "      <td>&lt;NA&gt;</td>\n",
       "      <td>225</td>\n",
       "      <td>233.000</td>\n",
       "      <td>235.900</td>\n",
       "      <td>A</td>\n",
       "      <td>F</td>\n",
       "      <td>3</td>\n",
       "      <td>30.500</td>\n",
       "      <td>1.867</td>\n",
       "    </tr>\n",
       "  </tbody>\n",
       "</table>\n",
       "</div>"
      ],
      "text/plain": [
       "      CONDITION  FL_WET  FL_FROZEN  FL_STD  WEIGHT SPECIES SEX  MATURITY  \\\n",
       "208       Fresh     257       <NA> 257.000 337.000       A   M         2   \n",
       "984      Frozen    <NA>        248 256.000 335.000       A   M         2   \n",
       "1830     Frozen    <NA>        260 268.000 363.000       A   F         2   \n",
       "2230     Frozen    <NA>        225 233.000 250.000       A   F         3   \n",
       "2925     Frozen    <NA>        254 262.000 347.000       A   F         2   \n",
       "3574     Frozen    <NA>        226 234.000 282.000       A   U         2   \n",
       "4226      Fresh     263       <NA> 263.000 346.000       A   F         4   \n",
       "4541      Fresh     233       <NA> 233.000 238.000       A   F         4   \n",
       "4643      Fresh     258       <NA> 258.000 341.000       A   F         4   \n",
       "4743      Fresh     258       <NA> 258.000 332.000       A   F         4   \n",
       "8020      Fresh     275       <NA> 275.000 391.000       A   F         4   \n",
       "9353     Frozen    <NA>        175 182.000 209.000       A   M         4   \n",
       "9384     Frozen    <NA>        148 155.000 169.000       A   M         4   \n",
       "13406     Fresh     271       <NA> 271.000 394.000       A   F         4   \n",
       "13975    Frozen    <NA>        246 254.000 351.000       A   F         4   \n",
       "14762    Frozen    <NA>        231 239.000 284.000       A   M         4   \n",
       "14801    Frozen    <NA>        118 124.000 159.000       B   M         4   \n",
       "18808    Frozen    <NA>        255 263.000 420.100       A   F         4   \n",
       "19148    Frozen    <NA>        232 240.000 271.800       A   F         4   \n",
       "21595    Frozen    <NA>        205 212.000  15.100       B   M         4   \n",
       "22681    Frozen    <NA>        366 376.000 170.900       A   F         4   \n",
       "23232     Fresh     256       <NA> 256.000 328.700       A   F         4   \n",
       "23397     Fresh     218       <NA> 218.000 294.100       B   F         4   \n",
       "25655    Frozen    <NA>        283 292.000  33.300       A   F         4   \n",
       "25903    Frozen    <NA>        299 308.000 150.900       A   M         4   \n",
       "26230     Fresh     299       <NA> 299.000 146.100       A   M         4   \n",
       "27534    Frozen    <NA>        244 252.000  93.700       B   M         4   \n",
       "29711    Frozen    <NA>        118 124.000 129.100       B   M         3   \n",
       "30066    Frozen    <NA>        112 118.000 107.500       A   M         3   \n",
       "30189    Frozen    <NA>        241 249.000 103.600       B   M         3   \n",
       "30296     Fresh     232       <NA> 232.000 256.200       A   F         4   \n",
       "30364     Fresh     223       <NA> 223.000 240.700       A   M         4   \n",
       "30815    Frozen    <NA>        225 233.000 235.900       A   F         3   \n",
       "\n",
       "       GONAD_WEIGHT  lw_ratio_check  \n",
       "208             NaN           1.865  \n",
       "984             NaN           1.877  \n",
       "1830         48.700           1.880  \n",
       "2230         10.100           1.978  \n",
       "2925         41.200           1.924  \n",
       "3574            NaN           2.103  \n",
       "4226         71.200           1.897  \n",
       "4541         35.500           1.883  \n",
       "4643         42.000           1.981  \n",
       "4743         66.500           1.929  \n",
       "8020         48.400           1.873  \n",
       "9353            NaN           3.430  \n",
       "9384            NaN           4.600  \n",
       "13406        61.900           1.973  \n",
       "13975        37.700           2.138  \n",
       "14762           NaN           1.976  \n",
       "14801           NaN           8.741  \n",
       "18808        36.300           2.303  \n",
       "19148        48.600           1.966  \n",
       "21595           NaN           0.153  \n",
       "22681        23.500           0.317  \n",
       "23232        31.900           1.956  \n",
       "23397        44.000           2.847  \n",
       "25655        61.600           0.133  \n",
       "25903           NaN           0.472  \n",
       "26230           NaN           0.502  \n",
       "27534           NaN           0.552  \n",
       "29711           NaN           7.097  \n",
       "30066           NaN           6.909  \n",
       "30189           NaN           0.634  \n",
       "30296        12.600           2.054  \n",
       "30364           NaN           2.083  \n",
       "30815        30.500           1.867  "
      ]
     },
     "execution_count": 53,
     "metadata": {},
     "output_type": "execute_result"
    }
   ],
   "source": [
    "# here are our outliers\n",
    "columns = ['CONDITION', 'FL_WET', 'FL_FROZEN', 'FL_STD', 'WEIGHT', 'SPECIES', 'SEX', 'MATURITY', 'GONAD_WEIGHT', 'lw_ratio_check']\n",
    "df_FD[df_FD.FLAG_LEN_WT_RATIO_OUTLIER == True][columns]"
   ]
  },
  {
   "cell_type": "markdown",
   "id": "ce16c5a5",
   "metadata": {},
   "source": [
    "##### check whether the coefficients look good\n",
    "* they seem a bit wonkey\n",
    "* the outliers are flagged based on the actual average so it shouldn't affect this sheet, \n",
    "* but dm_apps could potentially use more accurate coefficients for gaspereau"
   ]
  },
  {
   "cell_type": "code",
   "execution_count": 54,
   "id": "5b958a87",
   "metadata": {},
   "outputs": [
    {
     "data": {
      "text/plain": [
       "count   32140.000\n",
       "mean        1.253\n",
       "std         0.152\n",
       "min         0.133\n",
       "1%          0.970\n",
       "5%          1.047\n",
       "50%         1.242\n",
       "95%         1.486\n",
       "99%         1.602\n",
       "max         8.741\n",
       "Name: lw_ratio_check, dtype: float64"
      ]
     },
     "execution_count": 54,
     "metadata": {},
     "output_type": "execute_result"
    }
   ],
   "source": [
    "df_FD.lw_ratio_check.describe(percentiles=[0.01,0.05,0.95,0.99])"
   ]
  },
  {
   "cell_type": "markdown",
   "id": "1c1580d3",
   "metadata": {},
   "source": [
    "##### calculate the coefficients in mm for dm_apps"
   ]
  },
  {
   "cell_type": "code",
   "execution_count": 55,
   "id": "04f43cc8",
   "metadata": {},
   "outputs": [
    {
     "data": {
      "text/plain": [
       "0.9999999999999998"
      ]
     },
     "execution_count": 55,
     "metadata": {},
     "output_type": "execute_result"
    }
   ],
   "source": [
    "A, B = 0.00866, 3.06\n",
    "\n",
    "lenthtemp = 250\n",
    "wt_from_cm = A * ((lenthtemp / 10) ** B)\n",
    "wt_from_mm = A * ((1/10) ** B) * (lenthtemp ** B)\n",
    "\n",
    "# check if the math is good\n",
    "wt_from_cm / wt_from_mm"
   ]
  },
  {
   "cell_type": "code",
   "execution_count": 56,
   "id": "86d8e5ed",
   "metadata": {},
   "outputs": [
    {
     "data": {
      "text/plain": [
       "(7.542544689019659e-06, '0.00000754')"
      ]
     },
     "execution_count": 56,
     "metadata": {},
     "output_type": "execute_result"
    }
   ],
   "source": [
    "A_mm = A * ((1/10) ** B)\n",
    "A_mm, f'{A_mm:.8f}'  # formatting"
   ]
  },
  {
   "cell_type": "markdown",
   "id": "f7384f9d",
   "metadata": {},
   "source": [
    "##### drop the lw_ratio_check before continuing"
   ]
  },
  {
   "cell_type": "code",
   "execution_count": 57,
   "id": "a1edb1e7",
   "metadata": {},
   "outputs": [],
   "source": [
    "df_FD = df_FD.drop('lw_ratio_check', axis=1)"
   ]
  },
  {
   "cell_type": "markdown",
   "id": "4c0a6b8c",
   "metadata": {},
   "source": [
    "# ======================\n",
    "# LENGTH FREQUENCIES Table"
   ]
  },
  {
   "cell_type": "code",
   "execution_count": 58,
   "id": "74ef093f",
   "metadata": {},
   "outputs": [],
   "source": [
    "df_LF = pd.read_csv(r'.\\provided data\\Margaree Gaspereau lgth-freq_Master.csv')"
   ]
  },
  {
   "cell_type": "markdown",
   "id": "bebca137",
   "metadata": {},
   "source": [
    "### Clean Date/Time and create DATETIME column"
   ]
  },
  {
   "cell_type": "code",
   "execution_count": 59,
   "id": "bb804321",
   "metadata": {},
   "outputs": [],
   "source": [
    "# convert all times to same format, set missing times to 0000 (date only), then to datetime format\n",
    "df_LF['CleanTime'] = df_LF['Time']\n",
    "df_LF.loc[df_LF['CleanTime'] < 10, 'CleanTime'] = df_LF.loc[df_LF['CleanTime'] < 10, 'CleanTime'] * 100\n",
    "df_LF['CleanTime'] = pd.to_datetime(df_LF.CleanTime, format='%H%M')\n",
    "\n",
    "# all null times should be 0000 (which pandas reads as no time data)\n",
    "df_LF.loc[df_LF['CleanTime'].isnull(), 'CleanTime'] = pd.to_datetime(0)  \n",
    "\n",
    "df_LF['DATETIME'] = pd.to_datetime(dict(\n",
    "    year=df_LF['yy'], \n",
    "    month=df_LF['mm'], \n",
    "    day=df_LF['dd'], \n",
    "    hour=df_LF['CleanTime'].dt.hour, \n",
    "    minute=df_LF['CleanTime'].dt.minute\n",
    "), errors='coerce')\n",
    "\n",
    "df_LF = df_LF.drop('CleanTime', axis=1)"
   ]
  },
  {
   "cell_type": "markdown",
   "id": "9641b092",
   "metadata": {},
   "source": [
    "### Expand and Clean Site Column\n",
    "* Later analysis shows matching with samples on the first noted site is more effective than combining multiple sites. \n",
    "* Consider adding extra sites to notes column or adding the ability to select multiple sites when inputting a sample."
   ]
  },
  {
   "cell_type": "code",
   "execution_count": 60,
   "id": "7a96bfce",
   "metadata": {},
   "outputs": [
    {
     "data": {
      "text/plain": [
       "(69, 627)"
      ]
     },
     "execution_count": 60,
     "metadata": {},
     "output_type": "execute_result"
    }
   ],
   "source": [
    "df_LF[df_LF.site.isnull()].shape[0], df_LF[~(df_LF.site.str.isnumeric() | df_LF.site.isin(['1A', '1B']))].shape[0]\n",
    "# null, total ambiguous"
   ]
  },
  {
   "cell_type": "code",
   "execution_count": 61,
   "id": "c4b4e6ee",
   "metadata": {},
   "outputs": [
    {
     "data": {
      "text/plain": [
       "627"
      ]
     },
     "execution_count": 61,
     "metadata": {},
     "output_type": "execute_result"
    }
   ],
   "source": [
    "# flag ambiguous sites\n",
    "df_LF.loc[(\n",
    "    df_LF.site.isnull() | ~(df_LF.site.str.isnumeric() | df_LF.site.isin(['1A', '1B']))\n",
    "), 'FLAG_SITE'] = True\n",
    "\n",
    "# how many flags?\n",
    "df_LF[df_LF.FLAG_SITE == True].shape[0]"
   ]
  },
  {
   "cell_type": "code",
   "execution_count": 62,
   "id": "7d4bf03b",
   "metadata": {},
   "outputs": [],
   "source": [
    "df_LF[['SITE1', 'SITE2', 'SITE3']] = df_LF.site.str.replace(' ','').str.split(',', expand=True).fillna(pd.NA)"
   ]
  },
  {
   "cell_type": "markdown",
   "id": "2bf29fcd",
   "metadata": {},
   "source": [
    "### Clean River Column"
   ]
  },
  {
   "cell_type": "code",
   "execution_count": 63,
   "id": "5b1f2c98",
   "metadata": {},
   "outputs": [
    {
     "data": {
      "text/plain": [
       "array([nan, 'MARGAREE', 'SW MARGAREE'], dtype=object)"
      ]
     },
     "execution_count": 63,
     "metadata": {},
     "output_type": "execute_result"
    }
   ],
   "source": [
    "df_LF.loc[df_LF.river == 'SW Margaree', 'river'] = 'SW MARGAREE'\n",
    "df_LF.river.unique()"
   ]
  },
  {
   "cell_type": "markdown",
   "id": "041847a3",
   "metadata": {},
   "source": [
    "### Clean Location"
   ]
  },
  {
   "cell_type": "code",
   "execution_count": 64,
   "id": "eaf86c6b",
   "metadata": {},
   "outputs": [
    {
     "data": {
      "text/plain": [
       "array(['LOWER', 'UPPER', nan], dtype=object)"
      ]
     },
     "execution_count": 64,
     "metadata": {},
     "output_type": "execute_result"
    }
   ],
   "source": [
    "# clean the typos\n",
    "df_LF.loc[df_LF['loc'] == 'LOWER ', 'loc'] = 'LOWER'\n",
    "df_LF.loc[df_LF['loc'] == 'LOWE', 'loc'] = 'LOWER'\n",
    "df_LF['loc'].unique()"
   ]
  },
  {
   "cell_type": "markdown",
   "id": "4506e3a0",
   "metadata": {},
   "source": [
    "### 'river' and 'loc' should be included in Sites\n",
    "* See Sites Section of this workbook below"
   ]
  },
  {
   "cell_type": "markdown",
   "id": "9ef83e40",
   "metadata": {},
   "source": [
    "### Period: AD"
   ]
  },
  {
   "cell_type": "code",
   "execution_count": 65,
   "id": "4b05df08",
   "metadata": {},
   "outputs": [
    {
     "data": {
      "text/plain": [
       "array(['PM', 'AM', 'AD'], dtype=object)"
      ]
     },
     "execution_count": 65,
     "metadata": {},
     "output_type": "execute_result"
    }
   ],
   "source": [
    "df_LF.period.unique()"
   ]
  },
  {
   "cell_type": "code",
   "execution_count": 66,
   "id": "cc7cf6ce",
   "metadata": {},
   "outputs": [
    {
     "data": {
      "text/plain": [
       "(6143, 5250, 47)"
      ]
     },
     "execution_count": 66,
     "metadata": {},
     "output_type": "execute_result"
    }
   ],
   "source": [
    "# counts: AM, PM, and AD\n",
    "sum(df_LF.period == 'AM'), sum(df_LF.period == 'PM'), sum(df_LF.period == 'AD')"
   ]
  },
  {
   "cell_type": "code",
   "execution_count": 67,
   "id": "5b69f4b5",
   "metadata": {},
   "outputs": [
    {
     "data": {
      "text/plain": [
       "47"
      ]
     },
     "execution_count": 67,
     "metadata": {},
     "output_type": "execute_result"
    }
   ],
   "source": [
    "# flag AD periods\n",
    "df_LF.loc[df_LF.period == 'AD', 'FLAG_AM_PM_PERIOD'] = True\n",
    "\n",
    "# how many flags?\n",
    "df_LF[df_LF.FLAG_AM_PM_PERIOD == True].shape[0]"
   ]
  },
  {
   "cell_type": "markdown",
   "id": "0a733d49",
   "metadata": {},
   "source": [
    "### Length Frequency Sample ID (for import)\n",
    "* Generate Unique IDs to Import / match with Samples"
   ]
  },
  {
   "cell_type": "code",
   "execution_count": 68,
   "id": "4f7de8de",
   "metadata": {},
   "outputs": [],
   "source": [
    "# replace non-numeric data with made up site numbers\n",
    "# NOTE: These are converted back in import script\n",
    "id_replacements = {\n",
    "    '1A': 90,\n",
    "    '1B': 91,\n",
    "    'EricMcFarlane': 92,\n",
    "    'JimmyMacFarlane': 93,\n",
    "    'JohnAlbertCoady': 94\n",
    "}\n",
    "df_LF = df_LF.replace({'SITE1': id_replacements})\n",
    "df_LF['SITE1'] = pd.to_numeric(df_LF['SITE1'], errors='coerce').astype('Int32')"
   ]
  },
  {
   "cell_type": "code",
   "execution_count": 69,
   "id": "3bd79999",
   "metadata": {},
   "outputs": [],
   "source": [
    "# 'unique' id column (ambiguities flagged)\n",
    "df_LF['id'] = (\n",
    "    df_LF.DATETIME.dt.year*1_000_000 \n",
    "    + df_LF.DATETIME.dt.month*10_000 \n",
    "    + df_LF.DATETIME.dt.day*100 \n",
    "    + df_LF.SITE1.fillna(0).astype(int)\n",
    ").astype('Int64')\n",
    "\n",
    "# new sample indicator\n",
    "df_LF['new_sample'] = df_LF.lgth.diff() < 0\n",
    "\n",
    "# new id indicator\n",
    "df_LF['new_id'] = df_LF.id.diff() != 0"
   ]
  },
  {
   "cell_type": "markdown",
   "id": "ca4959b4",
   "metadata": {},
   "source": [
    "# CONFIRMED: fix typo at 10851"
   ]
  },
  {
   "cell_type": "code",
   "execution_count": 70,
   "id": "fd4a49c0",
   "metadata": {},
   "outputs": [
    {
     "data": {
      "text/html": [
       "<div>\n",
       "<style scoped>\n",
       "    .dataframe tbody tr th:only-of-type {\n",
       "        vertical-align: middle;\n",
       "    }\n",
       "\n",
       "    .dataframe tbody tr th {\n",
       "        vertical-align: top;\n",
       "    }\n",
       "\n",
       "    .dataframe thead th {\n",
       "        text-align: right;\n",
       "    }\n",
       "</style>\n",
       "<table border=\"1\" class=\"dataframe\">\n",
       "  <thead>\n",
       "    <tr style=\"text-align: right;\">\n",
       "      <th></th>\n",
       "      <th>yy</th>\n",
       "      <th>mm</th>\n",
       "      <th>dd</th>\n",
       "      <th>Time</th>\n",
       "      <th>river</th>\n",
       "      <th>week</th>\n",
       "      <th>site</th>\n",
       "      <th>loc</th>\n",
       "      <th>period</th>\n",
       "      <th>wt_lbs</th>\n",
       "      <th>wt_kg</th>\n",
       "      <th>lgth</th>\n",
       "      <th>freq</th>\n",
       "      <th>Flbin</th>\n",
       "      <th>DATETIME</th>\n",
       "      <th>FLAG_SITE</th>\n",
       "      <th>SITE1</th>\n",
       "      <th>SITE2</th>\n",
       "      <th>SITE3</th>\n",
       "      <th>FLAG_AM_PM_PERIOD</th>\n",
       "      <th>id</th>\n",
       "      <th>new_sample</th>\n",
       "      <th>new_id</th>\n",
       "    </tr>\n",
       "  </thead>\n",
       "  <tbody>\n",
       "    <tr>\n",
       "      <th>10841</th>\n",
       "      <td>2018</td>\n",
       "      <td>6</td>\n",
       "      <td>13</td>\n",
       "      <td>NaN</td>\n",
       "      <td>MARGAREE</td>\n",
       "      <td>7</td>\n",
       "      <td>64</td>\n",
       "      <td>UPPER</td>\n",
       "      <td>PM</td>\n",
       "      <td>92.000</td>\n",
       "      <td>41.700</td>\n",
       "      <td>215</td>\n",
       "      <td>1</td>\n",
       "      <td>215</td>\n",
       "      <td>2018-06-13</td>\n",
       "      <td>NaN</td>\n",
       "      <td>64</td>\n",
       "      <td>&lt;NA&gt;</td>\n",
       "      <td>&lt;NA&gt;</td>\n",
       "      <td>NaN</td>\n",
       "      <td>2018061364</td>\n",
       "      <td>True</td>\n",
       "      <td>True</td>\n",
       "    </tr>\n",
       "    <tr>\n",
       "      <th>10842</th>\n",
       "      <td>2018</td>\n",
       "      <td>6</td>\n",
       "      <td>13</td>\n",
       "      <td>NaN</td>\n",
       "      <td>MARGAREE</td>\n",
       "      <td>7</td>\n",
       "      <td>64</td>\n",
       "      <td>UPPER</td>\n",
       "      <td>PM</td>\n",
       "      <td>92.000</td>\n",
       "      <td>41.700</td>\n",
       "      <td>220</td>\n",
       "      <td>7</td>\n",
       "      <td>220</td>\n",
       "      <td>2018-06-13</td>\n",
       "      <td>NaN</td>\n",
       "      <td>64</td>\n",
       "      <td>&lt;NA&gt;</td>\n",
       "      <td>&lt;NA&gt;</td>\n",
       "      <td>NaN</td>\n",
       "      <td>2018061364</td>\n",
       "      <td>False</td>\n",
       "      <td>False</td>\n",
       "    </tr>\n",
       "    <tr>\n",
       "      <th>10843</th>\n",
       "      <td>2018</td>\n",
       "      <td>6</td>\n",
       "      <td>13</td>\n",
       "      <td>NaN</td>\n",
       "      <td>MARGAREE</td>\n",
       "      <td>7</td>\n",
       "      <td>64</td>\n",
       "      <td>UPPER</td>\n",
       "      <td>PM</td>\n",
       "      <td>92.000</td>\n",
       "      <td>41.700</td>\n",
       "      <td>225</td>\n",
       "      <td>28</td>\n",
       "      <td>225</td>\n",
       "      <td>2018-06-13</td>\n",
       "      <td>NaN</td>\n",
       "      <td>64</td>\n",
       "      <td>&lt;NA&gt;</td>\n",
       "      <td>&lt;NA&gt;</td>\n",
       "      <td>NaN</td>\n",
       "      <td>2018061364</td>\n",
       "      <td>False</td>\n",
       "      <td>False</td>\n",
       "    </tr>\n",
       "    <tr>\n",
       "      <th>10844</th>\n",
       "      <td>2018</td>\n",
       "      <td>6</td>\n",
       "      <td>13</td>\n",
       "      <td>NaN</td>\n",
       "      <td>MARGAREE</td>\n",
       "      <td>7</td>\n",
       "      <td>64</td>\n",
       "      <td>UPPER</td>\n",
       "      <td>PM</td>\n",
       "      <td>92.000</td>\n",
       "      <td>41.700</td>\n",
       "      <td>230</td>\n",
       "      <td>39</td>\n",
       "      <td>230</td>\n",
       "      <td>2018-06-13</td>\n",
       "      <td>NaN</td>\n",
       "      <td>64</td>\n",
       "      <td>&lt;NA&gt;</td>\n",
       "      <td>&lt;NA&gt;</td>\n",
       "      <td>NaN</td>\n",
       "      <td>2018061364</td>\n",
       "      <td>False</td>\n",
       "      <td>False</td>\n",
       "    </tr>\n",
       "    <tr>\n",
       "      <th>10845</th>\n",
       "      <td>2018</td>\n",
       "      <td>6</td>\n",
       "      <td>13</td>\n",
       "      <td>NaN</td>\n",
       "      <td>MARGAREE</td>\n",
       "      <td>7</td>\n",
       "      <td>64</td>\n",
       "      <td>UPPER</td>\n",
       "      <td>PM</td>\n",
       "      <td>92.000</td>\n",
       "      <td>41.700</td>\n",
       "      <td>235</td>\n",
       "      <td>65</td>\n",
       "      <td>235</td>\n",
       "      <td>2018-06-13</td>\n",
       "      <td>NaN</td>\n",
       "      <td>64</td>\n",
       "      <td>&lt;NA&gt;</td>\n",
       "      <td>&lt;NA&gt;</td>\n",
       "      <td>NaN</td>\n",
       "      <td>2018061364</td>\n",
       "      <td>False</td>\n",
       "      <td>False</td>\n",
       "    </tr>\n",
       "    <tr>\n",
       "      <th>10846</th>\n",
       "      <td>2018</td>\n",
       "      <td>6</td>\n",
       "      <td>13</td>\n",
       "      <td>NaN</td>\n",
       "      <td>MARGAREE</td>\n",
       "      <td>7</td>\n",
       "      <td>64</td>\n",
       "      <td>UPPER</td>\n",
       "      <td>PM</td>\n",
       "      <td>92.000</td>\n",
       "      <td>41.700</td>\n",
       "      <td>240</td>\n",
       "      <td>51</td>\n",
       "      <td>240</td>\n",
       "      <td>2018-06-13</td>\n",
       "      <td>NaN</td>\n",
       "      <td>64</td>\n",
       "      <td>&lt;NA&gt;</td>\n",
       "      <td>&lt;NA&gt;</td>\n",
       "      <td>NaN</td>\n",
       "      <td>2018061364</td>\n",
       "      <td>False</td>\n",
       "      <td>False</td>\n",
       "    </tr>\n",
       "    <tr>\n",
       "      <th>10847</th>\n",
       "      <td>2018</td>\n",
       "      <td>6</td>\n",
       "      <td>13</td>\n",
       "      <td>NaN</td>\n",
       "      <td>MARGAREE</td>\n",
       "      <td>7</td>\n",
       "      <td>64</td>\n",
       "      <td>UPPER</td>\n",
       "      <td>PM</td>\n",
       "      <td>92.000</td>\n",
       "      <td>41.700</td>\n",
       "      <td>245</td>\n",
       "      <td>26</td>\n",
       "      <td>245</td>\n",
       "      <td>2018-06-13</td>\n",
       "      <td>NaN</td>\n",
       "      <td>64</td>\n",
       "      <td>&lt;NA&gt;</td>\n",
       "      <td>&lt;NA&gt;</td>\n",
       "      <td>NaN</td>\n",
       "      <td>2018061364</td>\n",
       "      <td>False</td>\n",
       "      <td>False</td>\n",
       "    </tr>\n",
       "    <tr>\n",
       "      <th>10848</th>\n",
       "      <td>2018</td>\n",
       "      <td>6</td>\n",
       "      <td>13</td>\n",
       "      <td>NaN</td>\n",
       "      <td>MARGAREE</td>\n",
       "      <td>7</td>\n",
       "      <td>64</td>\n",
       "      <td>UPPER</td>\n",
       "      <td>PM</td>\n",
       "      <td>92.000</td>\n",
       "      <td>41.700</td>\n",
       "      <td>250</td>\n",
       "      <td>25</td>\n",
       "      <td>250</td>\n",
       "      <td>2018-06-13</td>\n",
       "      <td>NaN</td>\n",
       "      <td>64</td>\n",
       "      <td>&lt;NA&gt;</td>\n",
       "      <td>&lt;NA&gt;</td>\n",
       "      <td>NaN</td>\n",
       "      <td>2018061364</td>\n",
       "      <td>False</td>\n",
       "      <td>False</td>\n",
       "    </tr>\n",
       "    <tr>\n",
       "      <th>10849</th>\n",
       "      <td>2018</td>\n",
       "      <td>6</td>\n",
       "      <td>13</td>\n",
       "      <td>NaN</td>\n",
       "      <td>MARGAREE</td>\n",
       "      <td>7</td>\n",
       "      <td>64</td>\n",
       "      <td>UPPER</td>\n",
       "      <td>PM</td>\n",
       "      <td>92.000</td>\n",
       "      <td>41.700</td>\n",
       "      <td>255</td>\n",
       "      <td>13</td>\n",
       "      <td>255</td>\n",
       "      <td>2018-06-13</td>\n",
       "      <td>NaN</td>\n",
       "      <td>64</td>\n",
       "      <td>&lt;NA&gt;</td>\n",
       "      <td>&lt;NA&gt;</td>\n",
       "      <td>NaN</td>\n",
       "      <td>2018061364</td>\n",
       "      <td>False</td>\n",
       "      <td>False</td>\n",
       "    </tr>\n",
       "    <tr>\n",
       "      <th>10850</th>\n",
       "      <td>2018</td>\n",
       "      <td>6</td>\n",
       "      <td>13</td>\n",
       "      <td>NaN</td>\n",
       "      <td>MARGAREE</td>\n",
       "      <td>7</td>\n",
       "      <td>64</td>\n",
       "      <td>UPPER</td>\n",
       "      <td>PM</td>\n",
       "      <td>92.000</td>\n",
       "      <td>41.700</td>\n",
       "      <td>260</td>\n",
       "      <td>1</td>\n",
       "      <td>260</td>\n",
       "      <td>2018-06-13</td>\n",
       "      <td>NaN</td>\n",
       "      <td>64</td>\n",
       "      <td>&lt;NA&gt;</td>\n",
       "      <td>&lt;NA&gt;</td>\n",
       "      <td>NaN</td>\n",
       "      <td>2018061364</td>\n",
       "      <td>False</td>\n",
       "      <td>False</td>\n",
       "    </tr>\n",
       "    <tr>\n",
       "      <th>10851</th>\n",
       "      <td>2018</td>\n",
       "      <td>6</td>\n",
       "      <td>13</td>\n",
       "      <td>NaN</td>\n",
       "      <td>MARGAREE</td>\n",
       "      <td>7</td>\n",
       "      <td>64</td>\n",
       "      <td>UPPER</td>\n",
       "      <td>PM</td>\n",
       "      <td>92.000</td>\n",
       "      <td>41.700</td>\n",
       "      <td>235</td>\n",
       "      <td>2</td>\n",
       "      <td>235</td>\n",
       "      <td>2018-06-13</td>\n",
       "      <td>NaN</td>\n",
       "      <td>64</td>\n",
       "      <td>&lt;NA&gt;</td>\n",
       "      <td>&lt;NA&gt;</td>\n",
       "      <td>NaN</td>\n",
       "      <td>2018061364</td>\n",
       "      <td>True</td>\n",
       "      <td>False</td>\n",
       "    </tr>\n",
       "    <tr>\n",
       "      <th>10852</th>\n",
       "      <td>2018</td>\n",
       "      <td>6</td>\n",
       "      <td>13</td>\n",
       "      <td>NaN</td>\n",
       "      <td>MARGAREE</td>\n",
       "      <td>7</td>\n",
       "      <td>64</td>\n",
       "      <td>UPPER</td>\n",
       "      <td>PM</td>\n",
       "      <td>92.000</td>\n",
       "      <td>41.700</td>\n",
       "      <td>270</td>\n",
       "      <td>1</td>\n",
       "      <td>270</td>\n",
       "      <td>2018-06-13</td>\n",
       "      <td>NaN</td>\n",
       "      <td>64</td>\n",
       "      <td>&lt;NA&gt;</td>\n",
       "      <td>&lt;NA&gt;</td>\n",
       "      <td>NaN</td>\n",
       "      <td>2018061364</td>\n",
       "      <td>False</td>\n",
       "      <td>False</td>\n",
       "    </tr>\n",
       "  </tbody>\n",
       "</table>\n",
       "</div>"
      ],
      "text/plain": [
       "         yy  mm  dd  Time     river  week site    loc period  wt_lbs  wt_kg  \\\n",
       "10841  2018   6  13   NaN  MARGAREE     7   64  UPPER     PM  92.000 41.700   \n",
       "10842  2018   6  13   NaN  MARGAREE     7   64  UPPER     PM  92.000 41.700   \n",
       "10843  2018   6  13   NaN  MARGAREE     7   64  UPPER     PM  92.000 41.700   \n",
       "10844  2018   6  13   NaN  MARGAREE     7   64  UPPER     PM  92.000 41.700   \n",
       "10845  2018   6  13   NaN  MARGAREE     7   64  UPPER     PM  92.000 41.700   \n",
       "10846  2018   6  13   NaN  MARGAREE     7   64  UPPER     PM  92.000 41.700   \n",
       "10847  2018   6  13   NaN  MARGAREE     7   64  UPPER     PM  92.000 41.700   \n",
       "10848  2018   6  13   NaN  MARGAREE     7   64  UPPER     PM  92.000 41.700   \n",
       "10849  2018   6  13   NaN  MARGAREE     7   64  UPPER     PM  92.000 41.700   \n",
       "10850  2018   6  13   NaN  MARGAREE     7   64  UPPER     PM  92.000 41.700   \n",
       "10851  2018   6  13   NaN  MARGAREE     7   64  UPPER     PM  92.000 41.700   \n",
       "10852  2018   6  13   NaN  MARGAREE     7   64  UPPER     PM  92.000 41.700   \n",
       "\n",
       "       lgth  freq  Flbin   DATETIME FLAG_SITE  SITE1 SITE2 SITE3  \\\n",
       "10841   215     1    215 2018-06-13       NaN     64  <NA>  <NA>   \n",
       "10842   220     7    220 2018-06-13       NaN     64  <NA>  <NA>   \n",
       "10843   225    28    225 2018-06-13       NaN     64  <NA>  <NA>   \n",
       "10844   230    39    230 2018-06-13       NaN     64  <NA>  <NA>   \n",
       "10845   235    65    235 2018-06-13       NaN     64  <NA>  <NA>   \n",
       "10846   240    51    240 2018-06-13       NaN     64  <NA>  <NA>   \n",
       "10847   245    26    245 2018-06-13       NaN     64  <NA>  <NA>   \n",
       "10848   250    25    250 2018-06-13       NaN     64  <NA>  <NA>   \n",
       "10849   255    13    255 2018-06-13       NaN     64  <NA>  <NA>   \n",
       "10850   260     1    260 2018-06-13       NaN     64  <NA>  <NA>   \n",
       "10851   235     2    235 2018-06-13       NaN     64  <NA>  <NA>   \n",
       "10852   270     1    270 2018-06-13       NaN     64  <NA>  <NA>   \n",
       "\n",
       "      FLAG_AM_PM_PERIOD          id  new_sample  new_id  \n",
       "10841               NaN  2018061364        True    True  \n",
       "10842               NaN  2018061364       False   False  \n",
       "10843               NaN  2018061364       False   False  \n",
       "10844               NaN  2018061364       False   False  \n",
       "10845               NaN  2018061364       False   False  \n",
       "10846               NaN  2018061364       False   False  \n",
       "10847               NaN  2018061364       False   False  \n",
       "10848               NaN  2018061364       False   False  \n",
       "10849               NaN  2018061364       False   False  \n",
       "10850               NaN  2018061364       False   False  \n",
       "10851               NaN  2018061364        True   False  \n",
       "10852               NaN  2018061364       False   False  "
      ]
     },
     "execution_count": 70,
     "metadata": {},
     "output_type": "execute_result"
    }
   ],
   "source": [
    "df_LF[(df_LF.DATETIME == '20180613') & (df_LF.site == '64')]\n",
    "# it looks like row 10851 whould be length of 265 not 235"
   ]
  },
  {
   "cell_type": "code",
   "execution_count": 71,
   "id": "e38c7bc1",
   "metadata": {},
   "outputs": [],
   "source": [
    "# CONFIRMED\n",
    "if fix_10851_typo := True:\n",
    "    df_LF.loc[10851, ['lgth', 'Flbin', 'new_sample']] = [265, 265, False]"
   ]
  },
  {
   "cell_type": "code",
   "execution_count": 72,
   "id": "4ad0b0bd",
   "metadata": {},
   "outputs": [
    {
     "data": {
      "text/html": [
       "<div>\n",
       "<style scoped>\n",
       "    .dataframe tbody tr th:only-of-type {\n",
       "        vertical-align: middle;\n",
       "    }\n",
       "\n",
       "    .dataframe tbody tr th {\n",
       "        vertical-align: top;\n",
       "    }\n",
       "\n",
       "    .dataframe thead th {\n",
       "        text-align: right;\n",
       "    }\n",
       "</style>\n",
       "<table border=\"1\" class=\"dataframe\">\n",
       "  <thead>\n",
       "    <tr style=\"text-align: right;\">\n",
       "      <th></th>\n",
       "      <th></th>\n",
       "      <th>COUNT</th>\n",
       "    </tr>\n",
       "    <tr>\n",
       "      <th>id</th>\n",
       "      <th>period</th>\n",
       "      <th></th>\n",
       "    </tr>\n",
       "  </thead>\n",
       "  <tbody>\n",
       "    <tr>\n",
       "      <th rowspan=\"2\" valign=\"top\">1998050105</th>\n",
       "      <th>AM</th>\n",
       "      <td>1</td>\n",
       "    </tr>\n",
       "    <tr>\n",
       "      <th>PM</th>\n",
       "      <td>1</td>\n",
       "    </tr>\n",
       "    <tr>\n",
       "      <th rowspan=\"2\" valign=\"top\">2000060726</th>\n",
       "      <th>AM</th>\n",
       "      <td>1</td>\n",
       "    </tr>\n",
       "    <tr>\n",
       "      <th>PM</th>\n",
       "      <td>1</td>\n",
       "    </tr>\n",
       "    <tr>\n",
       "      <th rowspan=\"2\" valign=\"top\">2000060926</th>\n",
       "      <th>AM</th>\n",
       "      <td>1</td>\n",
       "    </tr>\n",
       "    <tr>\n",
       "      <th>PM</th>\n",
       "      <td>1</td>\n",
       "    </tr>\n",
       "    <tr>\n",
       "      <th rowspan=\"2\" valign=\"top\">2000061538</th>\n",
       "      <th>AM</th>\n",
       "      <td>1</td>\n",
       "    </tr>\n",
       "    <tr>\n",
       "      <th>PM</th>\n",
       "      <td>1</td>\n",
       "    </tr>\n",
       "    <tr>\n",
       "      <th rowspan=\"2\" valign=\"top\">2001051605</th>\n",
       "      <th>AM</th>\n",
       "      <td>1</td>\n",
       "    </tr>\n",
       "    <tr>\n",
       "      <th>PM</th>\n",
       "      <td>1</td>\n",
       "    </tr>\n",
       "    <tr>\n",
       "      <th rowspan=\"2\" valign=\"top\">2003052326</th>\n",
       "      <th>PM</th>\n",
       "      <td>1</td>\n",
       "    </tr>\n",
       "    <tr>\n",
       "      <th>AM</th>\n",
       "      <td>1</td>\n",
       "    </tr>\n",
       "    <tr>\n",
       "      <th rowspan=\"2\" valign=\"top\">2009052026</th>\n",
       "      <th>AM</th>\n",
       "      <td>1</td>\n",
       "    </tr>\n",
       "    <tr>\n",
       "      <th>PM</th>\n",
       "      <td>1</td>\n",
       "    </tr>\n",
       "    <tr>\n",
       "      <th rowspan=\"2\" valign=\"top\">2009052226</th>\n",
       "      <th>AM</th>\n",
       "      <td>1</td>\n",
       "    </tr>\n",
       "    <tr>\n",
       "      <th>PM</th>\n",
       "      <td>1</td>\n",
       "    </tr>\n",
       "    <tr>\n",
       "      <th rowspan=\"2\" valign=\"top\">2010051126</th>\n",
       "      <th>AM</th>\n",
       "      <td>1</td>\n",
       "    </tr>\n",
       "    <tr>\n",
       "      <th>PM</th>\n",
       "      <td>1</td>\n",
       "    </tr>\n",
       "    <tr>\n",
       "      <th rowspan=\"2\" valign=\"top\">2010051926</th>\n",
       "      <th>AM</th>\n",
       "      <td>1</td>\n",
       "    </tr>\n",
       "    <tr>\n",
       "      <th>PM</th>\n",
       "      <td>1</td>\n",
       "    </tr>\n",
       "    <tr>\n",
       "      <th rowspan=\"2\" valign=\"top\">2010052726</th>\n",
       "      <th>AM</th>\n",
       "      <td>1</td>\n",
       "    </tr>\n",
       "    <tr>\n",
       "      <th>PM</th>\n",
       "      <td>1</td>\n",
       "    </tr>\n",
       "  </tbody>\n",
       "</table>\n",
       "</div>"
      ],
      "text/plain": [
       "                   COUNT\n",
       "id         period       \n",
       "1998050105 AM          1\n",
       "           PM          1\n",
       "2000060726 AM          1\n",
       "           PM          1\n",
       "2000060926 AM          1\n",
       "           PM          1\n",
       "2000061538 AM          1\n",
       "           PM          1\n",
       "2001051605 AM          1\n",
       "           PM          1\n",
       "2003052326 PM          1\n",
       "           AM          1\n",
       "2009052026 AM          1\n",
       "           PM          1\n",
       "2009052226 AM          1\n",
       "           PM          1\n",
       "2010051126 AM          1\n",
       "           PM          1\n",
       "2010051926 AM          1\n",
       "           PM          1\n",
       "2010052726 AM          1\n",
       "           PM          1"
      ]
     },
     "execution_count": 72,
     "metadata": {},
     "output_type": "execute_result"
    }
   ],
   "source": [
    "# could these be disambiguated by period like FD? YES\n",
    "temp = df_LF[df_LF.id.isin(list(df_LF[~df_LF.new_id & df_LF.new_sample].id))].groupby(['DATETIME', 'id', 'period', 'wt_lbs']).count()['yy'].reset_index().rename({'yy':'COUNT'}, axis=1)\n",
    "temp[['DATETIME', 'id', 'period', 'COUNT']].groupby(['id', 'period']).agg({'DATETIME':'first', 'COUNT':'count'}).sort_values('DATETIME').drop('DATETIME', axis=1)"
   ]
  },
  {
   "cell_type": "code",
   "execution_count": 73,
   "id": "7160e9f9",
   "metadata": {},
   "outputs": [],
   "source": [
    "# Create distinct id for ambiguous groups of length frequencies\n",
    "\n",
    "if df_LF.id.max() < 2_100_000_000: # only run this once\n",
    "    \n",
    "    # check for ambiguous ids\n",
    "    duplicated_ids_LF = list(df_LF[~df_LF.new_id & df_LF.new_sample].id)\n",
    "    \n",
    "    # add 1B to duplicate ids, plus an extra billion to ambiguous id with PM period\n",
    "    df_LF.loc[(df_LF.id.isin(duplicated_ids_LF)) & (df_LF.period == 'AM'), 'id'] += 1_000_000_000\n",
    "    df_LF.loc[(df_LF.id.isin(duplicated_ids_LF)) & (df_LF.period == 'PM'), 'id'] += 2_000_000_000"
   ]
  },
  {
   "cell_type": "code",
   "execution_count": 74,
   "id": "69399dd8",
   "metadata": {},
   "outputs": [],
   "source": [
    "# check numbers for all sets of data - look good\n",
    "# df_LF[df_LF.id.isin(duplicated_ids_LF + [x+1000000000 for x in duplicated_ids_LF] + [x+2000000000 for x in duplicated_ids_LF])].sort_values(['DATETIME', 'id'])[['id', 'period', 'wt_lbs', 'site', 'Flbin', 'freq']].set_index(['id','period'])"
   ]
  },
  {
   "cell_type": "code",
   "execution_count": 75,
   "id": "3d4e5e61",
   "metadata": {
    "scrolled": true
   },
   "outputs": [
    {
     "data": {
      "image/png": "[encoded data removed]",
      "text/plain": [
       "<Figure size 1600x300 with 1 Axes>"
      ]
     },
     "metadata": {},
     "output_type": "display_data"
    }
   ],
   "source": [
    "# check graph\n",
    "df_LF[df_LF.id.isin(duplicated_ids_LF + [x+1000000000 for x in duplicated_ids_LF] + [x+2000000000 for x in duplicated_ids_LF])].sort_values(['DATETIME', 'id'])[['id', 'period', 'wt_lbs', 'site', 'Flbin', 'freq']].set_index(['id','period']).plot(figsize=(16,3));"
   ]
  },
  {
   "cell_type": "code",
   "execution_count": 76,
   "id": "f2774d95",
   "metadata": {},
   "outputs": [
    {
     "data": {
      "text/html": [
       "<div>\n",
       "<style scoped>\n",
       "    .dataframe tbody tr th:only-of-type {\n",
       "        vertical-align: middle;\n",
       "    }\n",
       "\n",
       "    .dataframe tbody tr th {\n",
       "        vertical-align: top;\n",
       "    }\n",
       "\n",
       "    .dataframe thead th {\n",
       "        text-align: right;\n",
       "    }\n",
       "</style>\n",
       "<table border=\"1\" class=\"dataframe\">\n",
       "  <thead>\n",
       "    <tr style=\"text-align: right;\">\n",
       "      <th></th>\n",
       "      <th>id</th>\n",
       "      <th>DATETIME</th>\n",
       "      <th>PERIOD</th>\n",
       "      <th>SITE</th>\n",
       "      <th>period</th>\n",
       "      <th>site</th>\n",
       "      <th>wt_lbs</th>\n",
       "    </tr>\n",
       "  </thead>\n",
       "  <tbody>\n",
       "    <tr>\n",
       "      <th>0</th>\n",
       "      <td>2998050105</td>\n",
       "      <td>1998-05-01</td>\n",
       "      <td>PM</td>\n",
       "      <td>5</td>\n",
       "      <td>AM</td>\n",
       "      <td>5</td>\n",
       "      <td>132.000</td>\n",
       "    </tr>\n",
       "    <tr>\n",
       "      <th>1</th>\n",
       "      <td>3000060726</td>\n",
       "      <td>2000-06-07</td>\n",
       "      <td>AM</td>\n",
       "      <td>26</td>\n",
       "      <td>AM</td>\n",
       "      <td>26</td>\n",
       "      <td>158.000</td>\n",
       "    </tr>\n",
       "    <tr>\n",
       "      <th>2</th>\n",
       "      <td>3000060926</td>\n",
       "      <td>2000-06-09</td>\n",
       "      <td>AM</td>\n",
       "      <td>26</td>\n",
       "      <td>AM</td>\n",
       "      <td>26</td>\n",
       "      <td>146.000</td>\n",
       "    </tr>\n",
       "    <tr>\n",
       "      <th>3</th>\n",
       "      <td>3001051605</td>\n",
       "      <td>2001-05-16</td>\n",
       "      <td>AM</td>\n",
       "      <td>5,26</td>\n",
       "      <td>AM</td>\n",
       "      <td>5,26</td>\n",
       "      <td>140.000</td>\n",
       "    </tr>\n",
       "    <tr>\n",
       "      <th>4</th>\n",
       "      <td>3009052026</td>\n",
       "      <td>2009-05-20</td>\n",
       "      <td>AM</td>\n",
       "      <td>26</td>\n",
       "      <td>AM</td>\n",
       "      <td>26</td>\n",
       "      <td>139.000</td>\n",
       "    </tr>\n",
       "    <tr>\n",
       "      <th>5</th>\n",
       "      <td>3009052226</td>\n",
       "      <td>2009-05-22</td>\n",
       "      <td>AM</td>\n",
       "      <td>26</td>\n",
       "      <td>AM</td>\n",
       "      <td>26</td>\n",
       "      <td>128.000</td>\n",
       "    </tr>\n",
       "    <tr>\n",
       "      <th>6</th>\n",
       "      <td>3010051126</td>\n",
       "      <td>2010-05-11</td>\n",
       "      <td>AM</td>\n",
       "      <td>26</td>\n",
       "      <td>AM</td>\n",
       "      <td>26</td>\n",
       "      <td>43.000</td>\n",
       "    </tr>\n",
       "    <tr>\n",
       "      <th>7</th>\n",
       "      <td>3010051926</td>\n",
       "      <td>2010-05-19</td>\n",
       "      <td>AM</td>\n",
       "      <td>26</td>\n",
       "      <td>AM</td>\n",
       "      <td>26</td>\n",
       "      <td>129.000</td>\n",
       "    </tr>\n",
       "    <tr>\n",
       "      <th>8</th>\n",
       "      <td>3010052726</td>\n",
       "      <td>2010-05-27</td>\n",
       "      <td>AM</td>\n",
       "      <td>26</td>\n",
       "      <td>AM</td>\n",
       "      <td>26</td>\n",
       "      <td>117.000</td>\n",
       "    </tr>\n",
       "    <tr>\n",
       "      <th>9</th>\n",
       "      <td>4000060726</td>\n",
       "      <td>2000-06-07</td>\n",
       "      <td>PM</td>\n",
       "      <td>26</td>\n",
       "      <td>PM</td>\n",
       "      <td>26</td>\n",
       "      <td>158.000</td>\n",
       "    </tr>\n",
       "    <tr>\n",
       "      <th>10</th>\n",
       "      <td>4000060926</td>\n",
       "      <td>2000-06-09</td>\n",
       "      <td>PM</td>\n",
       "      <td>26</td>\n",
       "      <td>PM</td>\n",
       "      <td>26</td>\n",
       "      <td>141.000</td>\n",
       "    </tr>\n",
       "    <tr>\n",
       "      <th>11</th>\n",
       "      <td>4001051605</td>\n",
       "      <td>2001-05-16</td>\n",
       "      <td>PM</td>\n",
       "      <td>5</td>\n",
       "      <td>PM</td>\n",
       "      <td>5</td>\n",
       "      <td>154.000</td>\n",
       "    </tr>\n",
       "    <tr>\n",
       "      <th>12</th>\n",
       "      <td>4009052026</td>\n",
       "      <td>2009-05-20</td>\n",
       "      <td>PM</td>\n",
       "      <td>26</td>\n",
       "      <td>PM</td>\n",
       "      <td>26</td>\n",
       "      <td>96.000</td>\n",
       "    </tr>\n",
       "    <tr>\n",
       "      <th>13</th>\n",
       "      <td>4009052226</td>\n",
       "      <td>2009-05-22</td>\n",
       "      <td>PM</td>\n",
       "      <td>26</td>\n",
       "      <td>PM</td>\n",
       "      <td>26</td>\n",
       "      <td>130.000</td>\n",
       "    </tr>\n",
       "    <tr>\n",
       "      <th>14</th>\n",
       "      <td>4010051126</td>\n",
       "      <td>2010-05-11</td>\n",
       "      <td>PM</td>\n",
       "      <td>26</td>\n",
       "      <td>PM</td>\n",
       "      <td>26</td>\n",
       "      <td>36.000</td>\n",
       "    </tr>\n",
       "    <tr>\n",
       "      <th>15</th>\n",
       "      <td>4010051926</td>\n",
       "      <td>2010-05-19</td>\n",
       "      <td>PM</td>\n",
       "      <td>26</td>\n",
       "      <td>PM</td>\n",
       "      <td>26</td>\n",
       "      <td>100.000</td>\n",
       "    </tr>\n",
       "    <tr>\n",
       "      <th>16</th>\n",
       "      <td>4010052726</td>\n",
       "      <td>2010-05-27</td>\n",
       "      <td>PM</td>\n",
       "      <td>26</td>\n",
       "      <td>PM</td>\n",
       "      <td>26</td>\n",
       "      <td>121.000</td>\n",
       "    </tr>\n",
       "  </tbody>\n",
       "</table>\n",
       "</div>"
      ],
      "text/plain": [
       "            id   DATETIME PERIOD  SITE period  site  wt_lbs\n",
       "0   2998050105 1998-05-01     PM     5     AM     5 132.000\n",
       "1   3000060726 2000-06-07     AM    26     AM    26 158.000\n",
       "2   3000060926 2000-06-09     AM    26     AM    26 146.000\n",
       "3   3001051605 2001-05-16     AM  5,26     AM  5,26 140.000\n",
       "4   3009052026 2009-05-20     AM    26     AM    26 139.000\n",
       "5   3009052226 2009-05-22     AM    26     AM    26 128.000\n",
       "6   3010051126 2010-05-11     AM    26     AM    26  43.000\n",
       "7   3010051926 2010-05-19     AM    26     AM    26 129.000\n",
       "8   3010052726 2010-05-27     AM    26     AM    26 117.000\n",
       "9   4000060726 2000-06-07     PM    26     PM    26 158.000\n",
       "10  4000060926 2000-06-09     PM    26     PM    26 141.000\n",
       "11  4001051605 2001-05-16     PM     5     PM     5 154.000\n",
       "12  4009052026 2009-05-20     PM    26     PM    26  96.000\n",
       "13  4009052226 2009-05-22     PM    26     PM    26 130.000\n",
       "14  4010051126 2010-05-11     PM    26     PM    26  36.000\n",
       "15  4010051926 2010-05-19     PM    26     PM    26 100.000\n",
       "16  4010052726 2010-05-27     PM    26     PM    26 121.000"
      ]
     },
     "execution_count": 76,
     "metadata": {},
     "output_type": "execute_result"
    }
   ],
   "source": [
    "# check for matches with df_FD\n",
    "should_these_match = [x for x in df_FD[df_FD.id>2100000000].id.unique() if x in df_LF[df_LF.id>2100000000].id.unique()]\n",
    "\n",
    "# remove time from datetime before merging - eliminate false negatives\n",
    "df_LF['DATETIME'] = pd.to_datetime(df_LF['DATETIME'].dt.date)\n",
    "\n",
    "potential_matches = pd.merge(\n",
    "    df_FD[df_FD.id.isin(should_these_match)].groupby('id').first().reset_index()[['id', 'DATETIME', 'PERIOD', 'SITE']], \n",
    "    df_LF[df_LF.id.isin(should_these_match)].groupby('id').first().reset_index()[['id', 'DATETIME', 'period', 'site', 'wt_lbs']],\n",
    "    how='inner'\n",
    ").sort_values('id')\n",
    "\n",
    "potential_matches"
   ]
  },
  {
   "cell_type": "code",
   "execution_count": 77,
   "id": "ded3c68c",
   "metadata": {},
   "outputs": [
    {
     "data": {
      "text/plain": [
       "<IntegerArray>\n",
       "[2998050105, 3000060726, 3000060926, 3001051605, 3009052026, 3009052226,\n",
       " 3010051126, 3010051926, 3010052726, 4000060726, 4000060926, 4001051605,\n",
       " 4009052026, 4009052226, 4010051126, 4010051926, 4010052726]\n",
       "Length: 17, dtype: Int64"
      ]
     },
     "execution_count": 77,
     "metadata": {},
     "output_type": "execute_result"
    }
   ],
   "source": [
    "# these look like legitimate matches \n",
    "# exception: 2998050105 for AM PM discrepancies (relatively common, could be OK)\n",
    "# exclude from later disambiguation so that they can match together prior to creating ghost samples\n",
    "potential_matches.id.unique()"
   ]
  },
  {
   "cell_type": "code",
   "execution_count": 78,
   "id": "f0c4ef35",
   "metadata": {},
   "outputs": [],
   "source": [
    "df_LF = df_LF.drop(['new_id', 'new_sample'], axis=1)"
   ]
  },
  {
   "cell_type": "markdown",
   "id": "ec2f3dac",
   "metadata": {},
   "source": [
    "### Length Bins"
   ]
  },
  {
   "cell_type": "code",
   "execution_count": 79,
   "id": "3765e297",
   "metadata": {},
   "outputs": [],
   "source": [
    "# use the same bins as used in the herring database (cm, grouped by 0.5s)\n",
    "df_LF['length_bin_id'] = (df_LF.lgth - df_LF.lgth % 5) / 10"
   ]
  },
  {
   "cell_type": "markdown",
   "id": "826bda39",
   "metadata": {},
   "source": [
    "# ======================\n",
    "# SAMPLES Table\n",
    "### (logbook)"
   ]
  },
  {
   "cell_type": "code",
   "execution_count": 80,
   "id": "cf7488f9",
   "metadata": {},
   "outputs": [],
   "source": [
    "dtypes = {\n",
    "    'code': 'object',\n",
    "    'no_nets': 'object',\n",
    "    'YEAR': 'Int32',\n",
    "    'MM': 'Int32',\n",
    "    'DD': 'Int32',\n",
    "    'Week': 'Int32',\n",
    "#     'hours_fished': 'Int32'  # some entries say 'maximum '\n",
    "}\n",
    "df_SD = pd.read_csv(r'.\\provided data\\Margaree Gaspereau logbooks_Master.csv', dtype=dtypes)"
   ]
  },
  {
   "cell_type": "markdown",
   "id": "5d3e226f",
   "metadata": {},
   "source": [
    "### DATETIME - leave incomplete dates null - FLAGGED\n",
    "* leave null when missing days/months?"
   ]
  },
  {
   "cell_type": "code",
   "execution_count": 81,
   "id": "d72eea26",
   "metadata": {},
   "outputs": [
    {
     "data": {
      "text/plain": [
       "31"
      ]
     },
     "execution_count": 81,
     "metadata": {},
     "output_type": "execute_result"
    }
   ],
   "source": [
    "df_SD['DATETIME'] = pd.to_datetime(\n",
    "    df_SD['YEAR'].astype(str) + '-' + df_SD['MM'].astype(str) + '-' + df_SD['DD'].astype(str), \n",
    "    errors='coerce'  # coerce missing days and months into errors\n",
    ")\n",
    "\n",
    "sum(df_SD.DATETIME.isnull())"
   ]
  },
  {
   "cell_type": "code",
   "execution_count": 82,
   "id": "29604ed1",
   "metadata": {},
   "outputs": [
    {
     "data": {
      "text/plain": [
       "31"
      ]
     },
     "execution_count": 82,
     "metadata": {},
     "output_type": "execute_result"
    }
   ],
   "source": [
    "# add a flag for sites if there is a null datetime\n",
    "df_SD.loc[df_SD.DATETIME.isnull(), 'FLAG_DATETIME'] = True\n",
    "\n",
    "# how many Site flags are there?\n",
    "df_SD[df_SD.FLAG_DATETIME == True].shape[0]"
   ]
  },
  {
   "cell_type": "markdown",
   "id": "4b56a749",
   "metadata": {},
   "source": [
    "### replace hours_fished = 'maximum' with a number of hours - FLAGGED"
   ]
  },
  {
   "cell_type": "code",
   "execution_count": 83,
   "id": "101ffca9",
   "metadata": {},
   "outputs": [
    {
     "data": {
      "text/plain": [
       "array(['14', '15', '10', '9', '12', '2', '0', '11', '8', '13', '7', '5',\n",
       "       '4', '6', '3', '1', '16', '18', '17', nan, '7.5', '14.5', '15.5',\n",
       "       '6.5', '5.5', '2.5', '9.5', '13.5', '0.5', '10.5', '11.5', '3.5',\n",
       "       '12.5', '1.5', '4.5', '1.8', '16.5', 'maximum ', '8.5'],\n",
       "      dtype=object)"
      ]
     },
     "execution_count": 83,
     "metadata": {},
     "output_type": "execute_result"
    }
   ],
   "source": [
    "df_SD.hours_fished.unique()"
   ]
  },
  {
   "cell_type": "code",
   "execution_count": 84,
   "id": "19bc02cc",
   "metadata": {},
   "outputs": [
    {
     "data": {
      "text/plain": [
       "28"
      ]
     },
     "execution_count": 84,
     "metadata": {},
     "output_type": "execute_result"
    }
   ],
   "source": [
    "sum(df_SD.hours_fished=='maximum ')"
   ]
  },
  {
   "cell_type": "code",
   "execution_count": 85,
   "id": "db70410f",
   "metadata": {},
   "outputs": [
    {
     "data": {
      "text/plain": [
       "28"
      ]
     },
     "execution_count": 85,
     "metadata": {},
     "output_type": "execute_result"
    }
   ],
   "source": [
    "# flag 'maximum '\n",
    "df_SD.loc[df_SD.hours_fished=='maximum ', 'FLAG_HOURS_FISHED'] = True\n",
    "\n",
    "# how many flags?\n",
    "df_SD[df_SD.FLAG_HOURS_FISHED == True].shape[0]"
   ]
  },
  {
   "cell_type": "code",
   "execution_count": 86,
   "id": "4ff3880f",
   "metadata": {},
   "outputs": [
    {
     "data": {
      "image/png": "[encoded data removed]",
      "text/plain": [
       "<Figure size 1600x600 with 1 Axes>"
      ]
     },
     "metadata": {},
     "output_type": "display_data"
    }
   ],
   "source": [
    "(\n",
    "    df_SD.groupby('hours_fished')\n",
    "    .count()\n",
    "    .reset_index()\n",
    "    .replace({'maximum ': 24})[['hours_fished', 'DIST']]\n",
    "    .astype(float)\n",
    "    .sort_values('hours_fished')\n",
    "    .plot(kind='bar', x='hours_fished', y='DIST', width=1, figsize=(16, 6), legend=False)\n",
    ");"
   ]
  },
  {
   "cell_type": "markdown",
   "id": "f2fbbdda",
   "metadata": {},
   "source": [
    "### Samples.SITE_NO"
   ]
  },
  {
   "cell_type": "code",
   "execution_count": 87,
   "id": "aa9985a2",
   "metadata": {},
   "outputs": [
    {
     "data": {
      "text/plain": [
       "['1A', '1B', '1A,8']"
      ]
     },
     "execution_count": 87,
     "metadata": {},
     "output_type": "execute_result"
    }
   ],
   "source": [
    "[x for x in list(df_SD.SITE_NO.unique()) if not str(x).isnumeric()]"
   ]
  },
  {
   "cell_type": "code",
   "execution_count": 88,
   "id": "2d587b6e",
   "metadata": {},
   "outputs": [
    {
     "data": {
      "text/plain": [
       "(23, 62, 92, 177)"
      ]
     },
     "execution_count": 88,
     "metadata": {},
     "output_type": "execute_result"
    }
   ],
   "source": [
    "sum(df_SD.SITE_NO=='1A,8'), sum(df_SD.SITE_NO=='1A'), sum(df_SD.SITE_NO=='1B'), sum(df_SD.SITE_NO=='1A,8') + sum(df_SD.SITE_NO=='1A') + sum(df_SD.SITE_NO=='1B')"
   ]
  },
  {
   "cell_type": "code",
   "execution_count": 89,
   "id": "52502fb2",
   "metadata": {},
   "outputs": [
    {
     "data": {
      "text/plain": [
       "23"
      ]
     },
     "execution_count": 89,
     "metadata": {},
     "output_type": "execute_result"
    }
   ],
   "source": [
    "# add a flag for sites if there is ambiguous data (ie, names, multiple sites, alternate nomenclature)\n",
    "df_SD.loc[(~df_SD.SITE_NO.str.isnumeric()) & (~df_SD.SITE_NO.isin(['1A', '1B'])), 'FLAG_SITE'] = True\n",
    "\n",
    "# how many Site flags are there?\n",
    "df_SD[df_SD.FLAG_SITE == True].shape[0]"
   ]
  },
  {
   "cell_type": "code",
   "execution_count": 90,
   "id": "d82fade3",
   "metadata": {},
   "outputs": [],
   "source": [
    "# create columns for multiple sites\n",
    "df_SD[['SITE1', 'SITE2']] = df_SD.SITE_NO.str.split(',', expand=True).fillna(pd.NA)"
   ]
  },
  {
   "cell_type": "markdown",
   "id": "03484be6",
   "metadata": {},
   "source": [
    "### clean bycatch / pre-generate 'remarks' before import"
   ]
  },
  {
   "cell_type": "code",
   "execution_count": 91,
   "id": "014a6dd3",
   "metadata": {},
   "outputs": [
    {
     "data": {
      "text/plain": [
       "array([nan,  3.,  1.,  2.])"
      ]
     },
     "execution_count": 91,
     "metadata": {},
     "output_type": "execute_result"
    }
   ],
   "source": [
    "df_SD.bycatch_sbass.unique()"
   ]
  },
  {
   "cell_type": "code",
   "execution_count": 92,
   "id": "b9a2b9e6",
   "metadata": {},
   "outputs": [
    {
     "data": {
      "text/plain": [
       "array([nan,  1.])"
      ]
     },
     "execution_count": 92,
     "metadata": {},
     "output_type": "execute_result"
    }
   ],
   "source": [
    "df_SD.bycatch_shad.unique()"
   ]
  },
  {
   "cell_type": "code",
   "execution_count": 93,
   "id": "42e0e9cb",
   "metadata": {},
   "outputs": [
    {
     "data": {
      "text/plain": [
       "array([nan, 'salmon', '1 perch, 1 speckled trou, 1 30 inch salmon',\n",
       "       '1 lamprey eel (?)', '1', '2 trout', '1 trout', '5 lampreys',\n",
       "       '1 baby lamprey', '4 trout, 3 \"lamprey eels\" (?)', '1 perch',\n",
       "       '4 suckers', 'lamprey', '1 sucker'], dtype=object)"
      ]
     },
     "execution_count": 93,
     "metadata": {},
     "output_type": "execute_result"
    }
   ],
   "source": [
    "df_SD.bycatch_other.unique()"
   ]
  },
  {
   "cell_type": "code",
   "execution_count": 94,
   "id": "ae85ed8e",
   "metadata": {},
   "outputs": [
    {
     "data": {
      "text/plain": [
       "array([nan, 'striped bass were 23 inches',\n",
       "       'river still high, fishing inside wing',\n",
       "       'catch a salmon no marking 14 inch long', 'salted 4800 lbs',\n",
       "       'salted 5000 lbs', 'outside wing in, river high',\n",
       "       'salted 8000 lbs', '5 gaspereau', '26 gaspereau', 'did not fish',\n",
       "       'Rainbow trout released', 'salmon', 'trout', 'salt', 'bait',\n",
       "       'did not fish, returned logbook', 'wet snow', '6 fish',\n",
       "       'heavy rain, flood', '3 fish', '10 fish', '1 fish', '8 fish',\n",
       "       'heavy rain', 'did not fish on the 22nd. Water too high.'],\n",
       "      dtype=object)"
      ]
     },
     "execution_count": 94,
     "metadata": {},
     "output_type": "execute_result"
    }
   ],
   "source": [
    "df_SD.comments.unique()"
   ]
  },
  {
   "cell_type": "code",
   "execution_count": 95,
   "id": "77c4dcf4",
   "metadata": {},
   "outputs": [],
   "source": [
    "check_for_comments = ['comments', 'bycatch_sbass', 'bycatch_shad', 'bycatch_other']\n",
    "\n",
    "# update bycatch fields to text fields\n",
    "df_SD.loc[df_SD['bycatch_sbass'].notna(), 'comment_sbass'] = 'bycatch_sbass: ' + df_SD[df_SD['bycatch_sbass'].notna()]['bycatch_sbass'].astype(int).astype(str)\n",
    "df_SD.loc[df_SD['bycatch_shad'].notna(), 'comment_shad'] = 'bycatch_shad: ' + df_SD[df_SD['bycatch_shad'].notna()]['bycatch_shad'].astype(int).astype(str)\n",
    "df_SD.loc[df_SD['bycatch_other'].notna(), 'comment_other'] = 'bycatch_other: ' + df_SD[df_SD['bycatch_other'].notna()]['bycatch_other']\n",
    "\n",
    "# combine with semicolon to make remarks field\n",
    "df_SD['remarks'] = df_SD[['comments', 'comment_sbass', 'comment_shad', 'comment_other']].apply(lambda x: '; '.join(x.dropna()), axis=1)\n",
    "\n",
    "# set empty strings to NaN\n",
    "df_SD.loc[df_SD.remarks == '', 'remarks'] = np.nan  \n",
    "\n",
    "# drop extra bycatch string columns\n",
    "df_SD = df_SD.drop(['comment_sbass', 'comment_shad', 'comment_other'], axis=1)"
   ]
  },
  {
   "cell_type": "code",
   "execution_count": 96,
   "id": "d2300873",
   "metadata": {
    "scrolled": false
   },
   "outputs": [
    {
     "data": {
      "text/html": [
       "<div>\n",
       "<style scoped>\n",
       "    .dataframe tbody tr th:only-of-type {\n",
       "        vertical-align: middle;\n",
       "    }\n",
       "\n",
       "    .dataframe tbody tr th {\n",
       "        vertical-align: top;\n",
       "    }\n",
       "\n",
       "    .dataframe thead th {\n",
       "        text-align: right;\n",
       "    }\n",
       "</style>\n",
       "<table border=\"1\" class=\"dataframe\">\n",
       "  <thead>\n",
       "    <tr style=\"text-align: right;\">\n",
       "      <th></th>\n",
       "      <th>DIST</th>\n",
       "      <th>RIVER</th>\n",
       "      <th>NAME</th>\n",
       "      <th>code</th>\n",
       "      <th>GEAR</th>\n",
       "      <th>SITE_NO</th>\n",
       "      <th>no_nets</th>\n",
       "      <th>YEAR</th>\n",
       "      <th>MM</th>\n",
       "      <th>DD</th>\n",
       "      <th>Week</th>\n",
       "      <th>catch_lbs</th>\n",
       "      <th>catch_kg</th>\n",
       "      <th>hours_fished</th>\n",
       "      <th>zone</th>\n",
       "      <th>last_name</th>\n",
       "      <th>comments</th>\n",
       "      <th>bycatch_sbass</th>\n",
       "      <th>bycatch_shad</th>\n",
       "      <th>bycatch_other</th>\n",
       "      <th>DATETIME</th>\n",
       "      <th>FLAG_DATETIME</th>\n",
       "      <th>FLAG_HOURS_FISHED</th>\n",
       "      <th>FLAG_SITE</th>\n",
       "      <th>SITE1</th>\n",
       "      <th>SITE2</th>\n",
       "      <th>remarks</th>\n",
       "    </tr>\n",
       "  </thead>\n",
       "  <tbody>\n",
       "    <tr>\n",
       "      <th>14908</th>\n",
       "      <td>2</td>\n",
       "      <td>SWMARG</td>\n",
       "      <td>Pierre Chiasson</td>\n",
       "      <td>NaN</td>\n",
       "      <td>81</td>\n",
       "      <td>26</td>\n",
       "      <td>1</td>\n",
       "      <td>2019</td>\n",
       "      <td>6</td>\n",
       "      <td>4</td>\n",
       "      <td>6</td>\n",
       "      <td>5950.000</td>\n",
       "      <td>2698.900</td>\n",
       "      <td>15.5</td>\n",
       "      <td>lower</td>\n",
       "      <td>Chiasson</td>\n",
       "      <td>NaN</td>\n",
       "      <td>1.000</td>\n",
       "      <td>NaN</td>\n",
       "      <td>NaN</td>\n",
       "      <td>2019-06-04</td>\n",
       "      <td>NaN</td>\n",
       "      <td>NaN</td>\n",
       "      <td>NaN</td>\n",
       "      <td>26</td>\n",
       "      <td>&lt;NA&gt;</td>\n",
       "      <td>bycatch_sbass: 1</td>\n",
       "    </tr>\n",
       "    <tr>\n",
       "      <th>14918</th>\n",
       "      <td>2</td>\n",
       "      <td>SWMARG</td>\n",
       "      <td>Gerard MacFarlane</td>\n",
       "      <td>NaN</td>\n",
       "      <td>81</td>\n",
       "      <td>28</td>\n",
       "      <td>1</td>\n",
       "      <td>2019</td>\n",
       "      <td>6</td>\n",
       "      <td>5</td>\n",
       "      <td>6</td>\n",
       "      <td>1400.000</td>\n",
       "      <td>635.000</td>\n",
       "      <td>15</td>\n",
       "      <td>upper</td>\n",
       "      <td>MacFarlane</td>\n",
       "      <td>NaN</td>\n",
       "      <td>NaN</td>\n",
       "      <td>NaN</td>\n",
       "      <td>2 trout</td>\n",
       "      <td>2019-06-05</td>\n",
       "      <td>NaN</td>\n",
       "      <td>NaN</td>\n",
       "      <td>NaN</td>\n",
       "      <td>28</td>\n",
       "      <td>&lt;NA&gt;</td>\n",
       "      <td>bycatch_other: 2 trout</td>\n",
       "    </tr>\n",
       "    <tr>\n",
       "      <th>14379</th>\n",
       "      <td>2</td>\n",
       "      <td>SWMARG</td>\n",
       "      <td>Robert Peters</td>\n",
       "      <td>NaN</td>\n",
       "      <td>81</td>\n",
       "      <td>25</td>\n",
       "      <td>1</td>\n",
       "      <td>2017</td>\n",
       "      <td>6</td>\n",
       "      <td>2</td>\n",
       "      <td>5</td>\n",
       "      <td>1200.000</td>\n",
       "      <td>544.300</td>\n",
       "      <td>7</td>\n",
       "      <td>lower</td>\n",
       "      <td>Peters</td>\n",
       "      <td>NaN</td>\n",
       "      <td>1.000</td>\n",
       "      <td>NaN</td>\n",
       "      <td>NaN</td>\n",
       "      <td>2017-06-02</td>\n",
       "      <td>NaN</td>\n",
       "      <td>NaN</td>\n",
       "      <td>NaN</td>\n",
       "      <td>25</td>\n",
       "      <td>&lt;NA&gt;</td>\n",
       "      <td>bycatch_sbass: 1</td>\n",
       "    </tr>\n",
       "    <tr>\n",
       "      <th>15009</th>\n",
       "      <td>2</td>\n",
       "      <td>SWMARG</td>\n",
       "      <td>Bruce MacLellan</td>\n",
       "      <td>NaN</td>\n",
       "      <td>81</td>\n",
       "      <td>51</td>\n",
       "      <td>1</td>\n",
       "      <td>2019</td>\n",
       "      <td>5</td>\n",
       "      <td>18</td>\n",
       "      <td>3</td>\n",
       "      <td>1.000</td>\n",
       "      <td>0.500</td>\n",
       "      <td>6</td>\n",
       "      <td>upper</td>\n",
       "      <td>MacLellan</td>\n",
       "      <td>3 fish</td>\n",
       "      <td>NaN</td>\n",
       "      <td>NaN</td>\n",
       "      <td>NaN</td>\n",
       "      <td>2019-05-18</td>\n",
       "      <td>NaN</td>\n",
       "      <td>NaN</td>\n",
       "      <td>NaN</td>\n",
       "      <td>51</td>\n",
       "      <td>&lt;NA&gt;</td>\n",
       "      <td>3 fish</td>\n",
       "    </tr>\n",
       "    <tr>\n",
       "      <th>15145</th>\n",
       "      <td>2</td>\n",
       "      <td>SWMARG</td>\n",
       "      <td>Gerard MacFarlane</td>\n",
       "      <td>NaN</td>\n",
       "      <td>81</td>\n",
       "      <td>28</td>\n",
       "      <td>1</td>\n",
       "      <td>2019</td>\n",
       "      <td>5</td>\n",
       "      <td>29</td>\n",
       "      <td>5</td>\n",
       "      <td>300.000</td>\n",
       "      <td>136.100</td>\n",
       "      <td>7.5</td>\n",
       "      <td>upper</td>\n",
       "      <td>MacFarlane</td>\n",
       "      <td>NaN</td>\n",
       "      <td>NaN</td>\n",
       "      <td>NaN</td>\n",
       "      <td>4 suckers</td>\n",
       "      <td>2019-05-29</td>\n",
       "      <td>NaN</td>\n",
       "      <td>NaN</td>\n",
       "      <td>NaN</td>\n",
       "      <td>28</td>\n",
       "      <td>&lt;NA&gt;</td>\n",
       "      <td>bycatch_other: 4 suckers</td>\n",
       "    </tr>\n",
       "  </tbody>\n",
       "</table>\n",
       "</div>"
      ],
      "text/plain": [
       "       DIST   RIVER               NAME code  GEAR SITE_NO no_nets  YEAR  MM  \\\n",
       "14908     2  SWMARG    Pierre Chiasson  NaN    81      26       1  2019   6   \n",
       "14918     2  SWMARG  Gerard MacFarlane  NaN    81      28       1  2019   6   \n",
       "14379     2  SWMARG      Robert Peters  NaN    81      25       1  2017   6   \n",
       "15009     2  SWMARG    Bruce MacLellan  NaN    81      51       1  2019   5   \n",
       "15145     2  SWMARG  Gerard MacFarlane  NaN    81      28       1  2019   5   \n",
       "\n",
       "       DD  Week  catch_lbs  catch_kg hours_fished    zone   last_name  \\\n",
       "14908   4     6   5950.000  2698.900         15.5   lower    Chiasson   \n",
       "14918   5     6   1400.000   635.000           15  upper   MacFarlane   \n",
       "14379   2     5   1200.000   544.300            7   lower      Peters   \n",
       "15009  18     3      1.000     0.500            6   upper   MacLellan   \n",
       "15145  29     5    300.000   136.100          7.5  upper   MacFarlane   \n",
       "\n",
       "      comments  bycatch_sbass  bycatch_shad bycatch_other   DATETIME  \\\n",
       "14908      NaN          1.000           NaN           NaN 2019-06-04   \n",
       "14918      NaN            NaN           NaN       2 trout 2019-06-05   \n",
       "14379      NaN          1.000           NaN           NaN 2017-06-02   \n",
       "15009   3 fish            NaN           NaN           NaN 2019-05-18   \n",
       "15145      NaN            NaN           NaN     4 suckers 2019-05-29   \n",
       "\n",
       "      FLAG_DATETIME FLAG_HOURS_FISHED FLAG_SITE SITE1 SITE2  \\\n",
       "14908           NaN               NaN       NaN    26  <NA>   \n",
       "14918           NaN               NaN       NaN    28  <NA>   \n",
       "14379           NaN               NaN       NaN    25  <NA>   \n",
       "15009           NaN               NaN       NaN    51  <NA>   \n",
       "15145           NaN               NaN       NaN    28  <NA>   \n",
       "\n",
       "                        remarks  \n",
       "14908          bycatch_sbass: 1  \n",
       "14918    bycatch_other: 2 trout  \n",
       "14379          bycatch_sbass: 1  \n",
       "15009                    3 fish  \n",
       "15145  bycatch_other: 4 suckers  "
      ]
     },
     "execution_count": 96,
     "metadata": {},
     "output_type": "execute_result"
    }
   ],
   "source": [
    "# check results\n",
    "df_SD[df_SD.remarks.notna()].sample(5)"
   ]
  },
  {
   "cell_type": "markdown",
   "id": "6c37f81c",
   "metadata": {},
   "source": [
    "### Sample ID (for import)\n",
    "* Generate Unique IDs to Import / match with Samples"
   ]
  },
  {
   "cell_type": "code",
   "execution_count": 97,
   "id": "dbe15d7b",
   "metadata": {},
   "outputs": [],
   "source": [
    "# same site replacements from LF\n",
    "df_SD = df_SD.replace({'SITE1': id_replacements})\n",
    "df_SD['SITE1'] = df_SD['SITE1'].astype(int)\n",
    "\n",
    "# 'unique' id column\n",
    "df_SD['id'] = (\n",
    "    df_SD.YEAR.astype(int)*1_000_000 \n",
    "    + df_SD.MM.fillna(0).astype(int)*10_000\n",
    "    + df_SD.DD.fillna(0).astype(int)*100\n",
    "    + df_SD.SITE1.fillna(0).astype(int)\n",
    ").astype('Int64')\n",
    "\n",
    "# duplicated ids\n",
    "duplicated_ids_SD = set(df_SD[df_SD.duplicated('id', keep=False)].id)"
   ]
  },
  {
   "cell_type": "code",
   "execution_count": 98,
   "id": "ccc385a1",
   "metadata": {},
   "outputs": [],
   "source": [
    "# some of these ids end up with an extra digit\n",
    "if df_SD.id.max() < 2_100_000_000:\n",
    "    \n",
    "    # initialise number of handled repeats as zero for each id\n",
    "    n_repeats = dict(zip(duplicated_ids_SD, [0 for x in duplicated_ids_SD]))\n",
    "    \n",
    "    for i, row in df_SD[df_SD.id.isin(duplicated_ids_SD)].iterrows():\n",
    "        df_SD.loc[i, 'id'] = row['id'] + 1_000_000_000 * int(n_repeats[row['id']] + 1)\n",
    "        n_repeats[row['id']] += 1"
   ]
  },
  {
   "cell_type": "code",
   "execution_count": 99,
   "id": "f3e47210",
   "metadata": {},
   "outputs": [
    {
     "data": {
      "text/html": [
       "<div>\n",
       "<style scoped>\n",
       "    .dataframe tbody tr th:only-of-type {\n",
       "        vertical-align: middle;\n",
       "    }\n",
       "\n",
       "    .dataframe tbody tr th {\n",
       "        vertical-align: top;\n",
       "    }\n",
       "\n",
       "    .dataframe thead th {\n",
       "        text-align: right;\n",
       "    }\n",
       "</style>\n",
       "<table border=\"1\" class=\"dataframe\">\n",
       "  <thead>\n",
       "    <tr style=\"text-align: right;\">\n",
       "      <th></th>\n",
       "      <th>DIST</th>\n",
       "      <th>RIVER</th>\n",
       "      <th>NAME</th>\n",
       "      <th>code</th>\n",
       "      <th>GEAR</th>\n",
       "      <th>SITE_NO</th>\n",
       "      <th>no_nets</th>\n",
       "      <th>YEAR</th>\n",
       "      <th>MM</th>\n",
       "      <th>DD</th>\n",
       "      <th>Week</th>\n",
       "      <th>catch_lbs</th>\n",
       "      <th>catch_kg</th>\n",
       "      <th>hours_fished</th>\n",
       "      <th>zone</th>\n",
       "      <th>last_name</th>\n",
       "      <th>comments</th>\n",
       "      <th>bycatch_sbass</th>\n",
       "      <th>bycatch_shad</th>\n",
       "      <th>bycatch_other</th>\n",
       "      <th>DATETIME</th>\n",
       "      <th>FLAG_DATETIME</th>\n",
       "      <th>FLAG_HOURS_FISHED</th>\n",
       "      <th>FLAG_SITE</th>\n",
       "      <th>SITE1</th>\n",
       "      <th>SITE2</th>\n",
       "      <th>remarks</th>\n",
       "      <th>id</th>\n",
       "    </tr>\n",
       "  </thead>\n",
       "  <tbody>\n",
       "    <tr>\n",
       "      <th>6673</th>\n",
       "      <td>2</td>\n",
       "      <td>SWMARG</td>\n",
       "      <td>Anthony Cameron</td>\n",
       "      <td>NaN</td>\n",
       "      <td>81</td>\n",
       "      <td>5</td>\n",
       "      <td>1</td>\n",
       "      <td>1998</td>\n",
       "      <td>5</td>\n",
       "      <td>1</td>\n",
       "      <td>1</td>\n",
       "      <td>1000.000</td>\n",
       "      <td>453.600</td>\n",
       "      <td>8</td>\n",
       "      <td>lower</td>\n",
       "      <td>Cameron</td>\n",
       "      <td>NaN</td>\n",
       "      <td>NaN</td>\n",
       "      <td>NaN</td>\n",
       "      <td>NaN</td>\n",
       "      <td>1998-05-01</td>\n",
       "      <td>NaN</td>\n",
       "      <td>NaN</td>\n",
       "      <td>NaN</td>\n",
       "      <td>5</td>\n",
       "      <td>&lt;NA&gt;</td>\n",
       "      <td>NaN</td>\n",
       "      <td>1998050105</td>\n",
       "    </tr>\n",
       "    <tr>\n",
       "      <th>7780</th>\n",
       "      <td>2</td>\n",
       "      <td>SWMARG</td>\n",
       "      <td>Pierre Chiasson</td>\n",
       "      <td>NaN</td>\n",
       "      <td>81</td>\n",
       "      <td>26</td>\n",
       "      <td>1</td>\n",
       "      <td>2000</td>\n",
       "      <td>6</td>\n",
       "      <td>7</td>\n",
       "      <td>6</td>\n",
       "      <td>850.000</td>\n",
       "      <td>385.600</td>\n",
       "      <td>14</td>\n",
       "      <td>lower</td>\n",
       "      <td>Chiasson</td>\n",
       "      <td>NaN</td>\n",
       "      <td>NaN</td>\n",
       "      <td>NaN</td>\n",
       "      <td>NaN</td>\n",
       "      <td>2000-06-07</td>\n",
       "      <td>NaN</td>\n",
       "      <td>NaN</td>\n",
       "      <td>NaN</td>\n",
       "      <td>26</td>\n",
       "      <td>&lt;NA&gt;</td>\n",
       "      <td>NaN</td>\n",
       "      <td>2000060726</td>\n",
       "    </tr>\n",
       "    <tr>\n",
       "      <th>7844</th>\n",
       "      <td>2</td>\n",
       "      <td>SWMARG</td>\n",
       "      <td>Pierre Chiasson</td>\n",
       "      <td>NaN</td>\n",
       "      <td>81</td>\n",
       "      <td>26</td>\n",
       "      <td>1</td>\n",
       "      <td>2000</td>\n",
       "      <td>6</td>\n",
       "      <td>9</td>\n",
       "      <td>6</td>\n",
       "      <td>1400.000</td>\n",
       "      <td>635.000</td>\n",
       "      <td>15</td>\n",
       "      <td>lower</td>\n",
       "      <td>Chiasson</td>\n",
       "      <td>NaN</td>\n",
       "      <td>NaN</td>\n",
       "      <td>NaN</td>\n",
       "      <td>NaN</td>\n",
       "      <td>2000-06-09</td>\n",
       "      <td>NaN</td>\n",
       "      <td>NaN</td>\n",
       "      <td>NaN</td>\n",
       "      <td>26</td>\n",
       "      <td>&lt;NA&gt;</td>\n",
       "      <td>NaN</td>\n",
       "      <td>2000060926</td>\n",
       "    </tr>\n",
       "    <tr>\n",
       "      <th>7959</th>\n",
       "      <td>2</td>\n",
       "      <td>SWMARG</td>\n",
       "      <td>Anthony Cameron</td>\n",
       "      <td>NaN</td>\n",
       "      <td>81</td>\n",
       "      <td>5</td>\n",
       "      <td>1</td>\n",
       "      <td>2001</td>\n",
       "      <td>5</td>\n",
       "      <td>16</td>\n",
       "      <td>3</td>\n",
       "      <td>800.000</td>\n",
       "      <td>362.900</td>\n",
       "      <td>15</td>\n",
       "      <td>lower</td>\n",
       "      <td>Cameron</td>\n",
       "      <td>NaN</td>\n",
       "      <td>NaN</td>\n",
       "      <td>NaN</td>\n",
       "      <td>NaN</td>\n",
       "      <td>2001-05-16</td>\n",
       "      <td>NaN</td>\n",
       "      <td>NaN</td>\n",
       "      <td>NaN</td>\n",
       "      <td>5</td>\n",
       "      <td>&lt;NA&gt;</td>\n",
       "      <td>NaN</td>\n",
       "      <td>2001051605</td>\n",
       "    </tr>\n",
       "    <tr>\n",
       "      <th>11184</th>\n",
       "      <td>2</td>\n",
       "      <td>SWMARG</td>\n",
       "      <td>Pierre Chiasson</td>\n",
       "      <td>NaN</td>\n",
       "      <td>81</td>\n",
       "      <td>26</td>\n",
       "      <td>1</td>\n",
       "      <td>2009</td>\n",
       "      <td>5</td>\n",
       "      <td>20</td>\n",
       "      <td>4</td>\n",
       "      <td>900.000</td>\n",
       "      <td>408.200</td>\n",
       "      <td>13</td>\n",
       "      <td>lower</td>\n",
       "      <td>NaN</td>\n",
       "      <td>NaN</td>\n",
       "      <td>NaN</td>\n",
       "      <td>NaN</td>\n",
       "      <td>NaN</td>\n",
       "      <td>2009-05-20</td>\n",
       "      <td>NaN</td>\n",
       "      <td>NaN</td>\n",
       "      <td>NaN</td>\n",
       "      <td>26</td>\n",
       "      <td>&lt;NA&gt;</td>\n",
       "      <td>NaN</td>\n",
       "      <td>2009052026</td>\n",
       "    </tr>\n",
       "    <tr>\n",
       "      <th>11231</th>\n",
       "      <td>2</td>\n",
       "      <td>SWMARG</td>\n",
       "      <td>Pierre Chiasson</td>\n",
       "      <td>NaN</td>\n",
       "      <td>81</td>\n",
       "      <td>26</td>\n",
       "      <td>1</td>\n",
       "      <td>2009</td>\n",
       "      <td>5</td>\n",
       "      <td>22</td>\n",
       "      <td>4</td>\n",
       "      <td>7350.000</td>\n",
       "      <td>3333.900</td>\n",
       "      <td>15</td>\n",
       "      <td>lower</td>\n",
       "      <td>NaN</td>\n",
       "      <td>NaN</td>\n",
       "      <td>NaN</td>\n",
       "      <td>NaN</td>\n",
       "      <td>NaN</td>\n",
       "      <td>2009-05-22</td>\n",
       "      <td>NaN</td>\n",
       "      <td>NaN</td>\n",
       "      <td>NaN</td>\n",
       "      <td>26</td>\n",
       "      <td>&lt;NA&gt;</td>\n",
       "      <td>NaN</td>\n",
       "      <td>2009052226</td>\n",
       "    </tr>\n",
       "    <tr>\n",
       "      <th>11600</th>\n",
       "      <td>2</td>\n",
       "      <td>SWMARG</td>\n",
       "      <td>Pierre Chiasson</td>\n",
       "      <td>NaN</td>\n",
       "      <td>81</td>\n",
       "      <td>26</td>\n",
       "      <td>1</td>\n",
       "      <td>2010</td>\n",
       "      <td>5</td>\n",
       "      <td>11</td>\n",
       "      <td>3</td>\n",
       "      <td>75.000</td>\n",
       "      <td>34.000</td>\n",
       "      <td>10</td>\n",
       "      <td>lower</td>\n",
       "      <td>Chiasson</td>\n",
       "      <td>NaN</td>\n",
       "      <td>NaN</td>\n",
       "      <td>NaN</td>\n",
       "      <td>NaN</td>\n",
       "      <td>2010-05-11</td>\n",
       "      <td>NaN</td>\n",
       "      <td>NaN</td>\n",
       "      <td>NaN</td>\n",
       "      <td>26</td>\n",
       "      <td>&lt;NA&gt;</td>\n",
       "      <td>NaN</td>\n",
       "      <td>2010051126</td>\n",
       "    </tr>\n",
       "    <tr>\n",
       "      <th>11725</th>\n",
       "      <td>2</td>\n",
       "      <td>SWMARG</td>\n",
       "      <td>Pierre Chiasson</td>\n",
       "      <td>NaN</td>\n",
       "      <td>81</td>\n",
       "      <td>26</td>\n",
       "      <td>1</td>\n",
       "      <td>2010</td>\n",
       "      <td>5</td>\n",
       "      <td>19</td>\n",
       "      <td>4</td>\n",
       "      <td>1000.000</td>\n",
       "      <td>453.600</td>\n",
       "      <td>12</td>\n",
       "      <td>lower</td>\n",
       "      <td>Chiasson</td>\n",
       "      <td>NaN</td>\n",
       "      <td>NaN</td>\n",
       "      <td>NaN</td>\n",
       "      <td>NaN</td>\n",
       "      <td>2010-05-19</td>\n",
       "      <td>NaN</td>\n",
       "      <td>NaN</td>\n",
       "      <td>NaN</td>\n",
       "      <td>26</td>\n",
       "      <td>&lt;NA&gt;</td>\n",
       "      <td>NaN</td>\n",
       "      <td>2010051926</td>\n",
       "    </tr>\n",
       "    <tr>\n",
       "      <th>11866</th>\n",
       "      <td>2</td>\n",
       "      <td>SWMARG</td>\n",
       "      <td>Pierre Chiasson</td>\n",
       "      <td>NaN</td>\n",
       "      <td>81</td>\n",
       "      <td>26</td>\n",
       "      <td>1</td>\n",
       "      <td>2010</td>\n",
       "      <td>5</td>\n",
       "      <td>27</td>\n",
       "      <td>5</td>\n",
       "      <td>13400.000</td>\n",
       "      <td>6078.100</td>\n",
       "      <td>15</td>\n",
       "      <td>lower</td>\n",
       "      <td>Chiasson</td>\n",
       "      <td>NaN</td>\n",
       "      <td>NaN</td>\n",
       "      <td>NaN</td>\n",
       "      <td>NaN</td>\n",
       "      <td>2010-05-27</td>\n",
       "      <td>NaN</td>\n",
       "      <td>NaN</td>\n",
       "      <td>NaN</td>\n",
       "      <td>26</td>\n",
       "      <td>&lt;NA&gt;</td>\n",
       "      <td>NaN</td>\n",
       "      <td>2010052726</td>\n",
       "    </tr>\n",
       "  </tbody>\n",
       "</table>\n",
       "</div>"
      ],
      "text/plain": [
       "       DIST   RIVER             NAME code  GEAR SITE_NO no_nets  YEAR  MM  DD  \\\n",
       "6673      2  SWMARG  Anthony Cameron  NaN    81       5       1  1998   5   1   \n",
       "7780      2  SWMARG  Pierre Chiasson  NaN    81      26       1  2000   6   7   \n",
       "7844      2  SWMARG  Pierre Chiasson  NaN    81      26       1  2000   6   9   \n",
       "7959      2  SWMARG  Anthony Cameron  NaN    81       5       1  2001   5  16   \n",
       "11184     2  SWMARG  Pierre Chiasson  NaN    81      26       1  2009   5  20   \n",
       "11231     2  SWMARG  Pierre Chiasson  NaN    81      26       1  2009   5  22   \n",
       "11600     2  SWMARG  Pierre Chiasson  NaN    81      26       1  2010   5  11   \n",
       "11725     2  SWMARG  Pierre Chiasson  NaN    81      26       1  2010   5  19   \n",
       "11866     2  SWMARG  Pierre Chiasson  NaN    81      26       1  2010   5  27   \n",
       "\n",
       "       Week  catch_lbs  catch_kg hours_fished   zone last_name comments  \\\n",
       "6673      1   1000.000   453.600            8  lower   Cameron      NaN   \n",
       "7780      6    850.000   385.600           14  lower  Chiasson      NaN   \n",
       "7844      6   1400.000   635.000           15  lower  Chiasson      NaN   \n",
       "7959      3    800.000   362.900           15  lower   Cameron      NaN   \n",
       "11184     4    900.000   408.200           13  lower       NaN      NaN   \n",
       "11231     4   7350.000  3333.900           15  lower       NaN      NaN   \n",
       "11600     3     75.000    34.000           10  lower  Chiasson      NaN   \n",
       "11725     4   1000.000   453.600           12  lower  Chiasson      NaN   \n",
       "11866     5  13400.000  6078.100           15  lower  Chiasson      NaN   \n",
       "\n",
       "       bycatch_sbass  bycatch_shad bycatch_other   DATETIME FLAG_DATETIME  \\\n",
       "6673             NaN           NaN           NaN 1998-05-01           NaN   \n",
       "7780             NaN           NaN           NaN 2000-06-07           NaN   \n",
       "7844             NaN           NaN           NaN 2000-06-09           NaN   \n",
       "7959             NaN           NaN           NaN 2001-05-16           NaN   \n",
       "11184            NaN           NaN           NaN 2009-05-20           NaN   \n",
       "11231            NaN           NaN           NaN 2009-05-22           NaN   \n",
       "11600            NaN           NaN           NaN 2010-05-11           NaN   \n",
       "11725            NaN           NaN           NaN 2010-05-19           NaN   \n",
       "11866            NaN           NaN           NaN 2010-05-27           NaN   \n",
       "\n",
       "      FLAG_HOURS_FISHED FLAG_SITE  SITE1 SITE2 remarks          id  \n",
       "6673                NaN       NaN      5  <NA>     NaN  1998050105  \n",
       "7780                NaN       NaN     26  <NA>     NaN  2000060726  \n",
       "7844                NaN       NaN     26  <NA>     NaN  2000060926  \n",
       "7959                NaN       NaN      5  <NA>     NaN  2001051605  \n",
       "11184               NaN       NaN     26  <NA>     NaN  2009052026  \n",
       "11231               NaN       NaN     26  <NA>     NaN  2009052226  \n",
       "11600               NaN       NaN     26  <NA>     NaN  2010051126  \n",
       "11725               NaN       NaN     26  <NA>     NaN  2010051926  \n",
       "11866               NaN       NaN     26  <NA>     NaN  2010052726  "
      ]
     },
     "execution_count": 99,
     "metadata": {},
     "output_type": "execute_result"
    }
   ],
   "source": [
    "# check versus df_LF and df_FD matches - none of these will match via ID, and none can be matched unambiguously - therefore leave as is\n",
    "df_SD[df_SD.id.isin(list(potential_matches.id) + [x-1_000_000_000 for x in potential_matches.id] + [x-2_000_000_000 for x in potential_matches.id])]"
   ]
  },
  {
   "cell_type": "markdown",
   "id": "cde7c9b6",
   "metadata": {},
   "source": [
    "### Add Ghost Sample Data for unmatched length frequencies and fish details\n",
    "### * (date, site, all else null)\n",
    "* if these null data are added, all fish detail and length frequencies should get into dm_apps\n",
    "* if null data are not added, unmatched fish detail and length frequencies will be added to rejected files (csv generated on import)"
   ]
  },
  {
   "cell_type": "markdown",
   "id": "da87c026",
   "metadata": {},
   "source": [
    "### percentages of matched data"
   ]
  },
  {
   "cell_type": "code",
   "execution_count": 100,
   "id": "9f8d3dce",
   "metadata": {},
   "outputs": [
    {
     "data": {
      "text/plain": [
       "(732, 916, 0.7991266375545851)"
      ]
     },
     "execution_count": 100,
     "metadata": {},
     "output_type": "execute_result"
    }
   ],
   "source": [
    "# how many length frequency measurements are matched with samples?\n",
    "(\n",
    "    df_LF[df_LF.id.isin(set(df_SD.id))].id.nunique(), \n",
    "    df_LF.id.nunique(), \n",
    "    df_LF[df_LF.id.isin(set(df_SD.id))].id.nunique() / df_LF.id.nunique()\n",
    ")\n",
    "# length frequency\n",
    "# matched, total, proportion"
   ]
  },
  {
   "cell_type": "code",
   "execution_count": 101,
   "id": "607420a2",
   "metadata": {},
   "outputs": [
    {
     "data": {
      "text/plain": [
       "(908, 1156, 0.7854671280276817)"
      ]
     },
     "execution_count": 101,
     "metadata": {},
     "output_type": "execute_result"
    }
   ],
   "source": [
    "# how many fish detail sample ids are matched with samples id column?\n",
    "(\n",
    "    df_FD[df_FD.id.isin(set(df_SD.id))].id.nunique(), \n",
    "    df_FD.id.nunique(), \n",
    "    df_FD[df_FD.id.isin(set(df_SD.id))].id.nunique() / df_FD.id.nunique()\n",
    ")\n",
    "# fish detail\n",
    "# matched, total, proportion"
   ]
  },
  {
   "cell_type": "markdown",
   "id": "161123d8",
   "metadata": {},
   "source": [
    "### count potential issues with ambiguous site data (all flagged above)"
   ]
  },
  {
   "cell_type": "code",
   "execution_count": 102,
   "id": "ceb41609",
   "metadata": {},
   "outputs": [
    {
     "data": {
      "text/plain": [
       "(23, 15036)"
      ]
     },
     "execution_count": 102,
     "metadata": {},
     "output_type": "execute_result"
    }
   ],
   "source": [
    "# how many issues are there?\n",
    "\n",
    "# Sample Data\n",
    "(\n",
    "    df_SD[(~df_SD.SITE_NO.str.isnumeric()) & (~df_SD.SITE_NO.isin(['1A', '1B']))].shape[0],\n",
    "    df_SD[df_SD.SITE_NO.str.isnumeric()].shape[0]\n",
    ")\n",
    "# ambiguous, verified"
   ]
  },
  {
   "cell_type": "code",
   "execution_count": 103,
   "id": "f2cb2ba6",
   "metadata": {},
   "outputs": [
    {
     "data": {
      "text/plain": [
       "(1922, 34954)"
      ]
     },
     "execution_count": 103,
     "metadata": {},
     "output_type": "execute_result"
    }
   ],
   "source": [
    "# Fish Details\n",
    "\n",
    "(\n",
    "    df_FD[(~df_FD.SITE_notes.str.isnumeric()) & (~df_FD.SITE.isin(['1A', '1B']))].shape[0],\n",
    "    df_FD[df_FD.SITE_notes.str.isnumeric()].shape[0]\n",
    ")\n",
    "# ambiguous, verified"
   ]
  },
  {
   "cell_type": "code",
   "execution_count": 104,
   "id": "67bb294c",
   "metadata": {},
   "outputs": [
    {
     "data": {
      "text/plain": [
       "(627, 10784)"
      ]
     },
     "execution_count": 104,
     "metadata": {},
     "output_type": "execute_result"
    }
   ],
   "source": [
    "# Length Frequencies\n",
    "\n",
    "temp = df_LF[df_LF.site.notna()]\n",
    "\n",
    "(\n",
    "    temp[(~temp.site.str.isnumeric()) & (~temp.site.isin(['1A', '1B']))].shape[0] + sum(df_LF.site.isnull()),\n",
    "    temp[temp.site.str.isnumeric()].shape[0]\n",
    ")\n",
    "# ambiguous, verified"
   ]
  },
  {
   "cell_type": "markdown",
   "id": "def5c7bf",
   "metadata": {},
   "source": [
    "## PERIOD (AM / PM)\n",
    "### comparing FishDetail.PERIOD to LengthFrequency.period\n",
    "* comparison prior to merging Period into Samples"
   ]
  },
  {
   "cell_type": "code",
   "execution_count": 105,
   "id": "5c2a8ae6",
   "metadata": {},
   "outputs": [
    {
     "data": {
      "text/html": [
       "<div>\n",
       "<style scoped>\n",
       "    .dataframe tbody tr th:only-of-type {\n",
       "        vertical-align: middle;\n",
       "    }\n",
       "\n",
       "    .dataframe tbody tr th {\n",
       "        vertical-align: top;\n",
       "    }\n",
       "\n",
       "    .dataframe thead th {\n",
       "        text-align: right;\n",
       "    }\n",
       "</style>\n",
       "<table border=\"1\" class=\"dataframe\">\n",
       "  <thead>\n",
       "    <tr style=\"text-align: right;\">\n",
       "      <th></th>\n",
       "      <th>PERIOD</th>\n",
       "      <th>period</th>\n",
       "    </tr>\n",
       "    <tr>\n",
       "      <th>id</th>\n",
       "      <th></th>\n",
       "      <th></th>\n",
       "    </tr>\n",
       "  </thead>\n",
       "  <tbody>\n",
       "    <tr>\n",
       "      <th>1993051333</th>\n",
       "      <td>AM</td>\n",
       "      <td>PM</td>\n",
       "    </tr>\n",
       "    <tr>\n",
       "      <th>2001061526</th>\n",
       "      <td>AM</td>\n",
       "      <td>PM</td>\n",
       "    </tr>\n",
       "    <tr>\n",
       "      <th>2007060226</th>\n",
       "      <td>AM</td>\n",
       "      <td>PM</td>\n",
       "    </tr>\n",
       "    <tr>\n",
       "      <th>2014061047</th>\n",
       "      <td>AM</td>\n",
       "      <td>PM</td>\n",
       "    </tr>\n",
       "    <tr>\n",
       "      <th>2018062341</th>\n",
       "      <td>PM</td>\n",
       "      <td>AM</td>\n",
       "    </tr>\n",
       "    <tr>\n",
       "      <th>2998050105</th>\n",
       "      <td>PM</td>\n",
       "      <td>AM</td>\n",
       "    </tr>\n",
       "  </tbody>\n",
       "</table>\n",
       "</div>"
      ],
      "text/plain": [
       "           PERIOD period\n",
       "id                      \n",
       "1993051333     AM     PM\n",
       "2001061526     AM     PM\n",
       "2007060226     AM     PM\n",
       "2014061047     AM     PM\n",
       "2018062341     PM     AM\n",
       "2998050105     PM     AM"
      ]
     },
     "execution_count": 105,
     "metadata": {},
     "output_type": "execute_result"
    }
   ],
   "source": [
    "# JOIN with Length Frequency to get PERIOD \n",
    "temp = pd.merge(\n",
    "    df_FD, \n",
    "    pd.merge(df_FD, df_LF[['id', 'period']], on='id').groupby('id').first()['period'].reset_index(),\n",
    "    on='id',\n",
    "    how='left'\n",
    ")[['id', 'PERIOD', 'period']]\n",
    "\n",
    "temp = temp[temp.PERIOD.notnull() & temp.period.notnull()] # only both entries\n",
    "\n",
    "temp[temp.PERIOD != temp.period].groupby('id').max()\n",
    "# most of these are already flagged as ambiguous, but a few may be problematic"
   ]
  },
  {
   "cell_type": "code",
   "execution_count": 106,
   "id": "f136a871",
   "metadata": {
    "scrolled": true
   },
   "outputs": [
    {
     "data": {
      "text/plain": [
       "[1993051333, 2001061526, 2007060226, 2014061047, 2018062341]"
      ]
     },
     "execution_count": 106,
     "metadata": {},
     "output_type": "execute_result"
    }
   ],
   "source": [
    "# unambiguous discrepancies that may be problematic\n",
    "period_discrepancies = [x for x in list(temp[temp.PERIOD != temp.period].groupby('id').max().index) if x < 2030_00_00_00]\n",
    "\n",
    "# these are our mismatched periods\n",
    "period_discrepancies"
   ]
  },
  {
   "cell_type": "code",
   "execution_count": 107,
   "id": "5c99f595",
   "metadata": {},
   "outputs": [
    {
     "data": {
      "text/html": [
       "<div>\n",
       "<style scoped>\n",
       "    .dataframe tbody tr th:only-of-type {\n",
       "        vertical-align: middle;\n",
       "    }\n",
       "\n",
       "    .dataframe tbody tr th {\n",
       "        vertical-align: top;\n",
       "    }\n",
       "\n",
       "    .dataframe thead th {\n",
       "        text-align: right;\n",
       "    }\n",
       "</style>\n",
       "<table border=\"1\" class=\"dataframe\">\n",
       "  <thead>\n",
       "    <tr style=\"text-align: right;\">\n",
       "      <th></th>\n",
       "      <th>DIST</th>\n",
       "      <th>RIVER</th>\n",
       "      <th>NAME</th>\n",
       "      <th>code</th>\n",
       "      <th>GEAR</th>\n",
       "      <th>SITE_NO</th>\n",
       "      <th>no_nets</th>\n",
       "      <th>YEAR</th>\n",
       "      <th>MM</th>\n",
       "      <th>DD</th>\n",
       "      <th>Week</th>\n",
       "      <th>catch_lbs</th>\n",
       "      <th>catch_kg</th>\n",
       "      <th>hours_fished</th>\n",
       "      <th>zone</th>\n",
       "      <th>last_name</th>\n",
       "      <th>comments</th>\n",
       "      <th>bycatch_sbass</th>\n",
       "      <th>bycatch_shad</th>\n",
       "      <th>bycatch_other</th>\n",
       "      <th>DATETIME</th>\n",
       "      <th>FLAG_DATETIME</th>\n",
       "      <th>FLAG_HOURS_FISHED</th>\n",
       "      <th>FLAG_SITE</th>\n",
       "      <th>SITE1</th>\n",
       "      <th>SITE2</th>\n",
       "      <th>remarks</th>\n",
       "      <th>id</th>\n",
       "    </tr>\n",
       "  </thead>\n",
       "  <tbody>\n",
       "    <tr>\n",
       "      <th>5130</th>\n",
       "      <td>2</td>\n",
       "      <td>SWMARG</td>\n",
       "      <td>Daniel Stewart</td>\n",
       "      <td>NaN</td>\n",
       "      <td>81</td>\n",
       "      <td>33</td>\n",
       "      <td>NaN</td>\n",
       "      <td>1993</td>\n",
       "      <td>5</td>\n",
       "      <td>13</td>\n",
       "      <td>3</td>\n",
       "      <td>1100.000</td>\n",
       "      <td>499.000</td>\n",
       "      <td>NaN</td>\n",
       "      <td>upper</td>\n",
       "      <td>STEWART</td>\n",
       "      <td>NaN</td>\n",
       "      <td>NaN</td>\n",
       "      <td>NaN</td>\n",
       "      <td>NaN</td>\n",
       "      <td>1993-05-13</td>\n",
       "      <td>NaN</td>\n",
       "      <td>NaN</td>\n",
       "      <td>NaN</td>\n",
       "      <td>33</td>\n",
       "      <td>&lt;NA&gt;</td>\n",
       "      <td>NaN</td>\n",
       "      <td>1993051333</td>\n",
       "    </tr>\n",
       "    <tr>\n",
       "      <th>8200</th>\n",
       "      <td>2</td>\n",
       "      <td>SWMARG</td>\n",
       "      <td>Pierre Chiasson</td>\n",
       "      <td>NaN</td>\n",
       "      <td>81</td>\n",
       "      <td>26</td>\n",
       "      <td>1</td>\n",
       "      <td>2001</td>\n",
       "      <td>6</td>\n",
       "      <td>15</td>\n",
       "      <td>7</td>\n",
       "      <td>500.000</td>\n",
       "      <td>226.800</td>\n",
       "      <td>NaN</td>\n",
       "      <td>lower</td>\n",
       "      <td>Chiasson</td>\n",
       "      <td>NaN</td>\n",
       "      <td>NaN</td>\n",
       "      <td>NaN</td>\n",
       "      <td>NaN</td>\n",
       "      <td>2001-06-15</td>\n",
       "      <td>NaN</td>\n",
       "      <td>NaN</td>\n",
       "      <td>NaN</td>\n",
       "      <td>26</td>\n",
       "      <td>&lt;NA&gt;</td>\n",
       "      <td>NaN</td>\n",
       "      <td>2001061526</td>\n",
       "    </tr>\n",
       "    <tr>\n",
       "      <th>10211</th>\n",
       "      <td>2</td>\n",
       "      <td>SWMARG</td>\n",
       "      <td>Pierre Chiasson</td>\n",
       "      <td>NaN</td>\n",
       "      <td>81</td>\n",
       "      <td>26</td>\n",
       "      <td>1</td>\n",
       "      <td>2007</td>\n",
       "      <td>6</td>\n",
       "      <td>2</td>\n",
       "      <td>5</td>\n",
       "      <td>9600.000</td>\n",
       "      <td>4354.500</td>\n",
       "      <td>8</td>\n",
       "      <td>lower</td>\n",
       "      <td>Chiasson</td>\n",
       "      <td>NaN</td>\n",
       "      <td>NaN</td>\n",
       "      <td>NaN</td>\n",
       "      <td>NaN</td>\n",
       "      <td>2007-06-02</td>\n",
       "      <td>NaN</td>\n",
       "      <td>NaN</td>\n",
       "      <td>NaN</td>\n",
       "      <td>26</td>\n",
       "      <td>&lt;NA&gt;</td>\n",
       "      <td>NaN</td>\n",
       "      <td>2007060226</td>\n",
       "    </tr>\n",
       "    <tr>\n",
       "      <th>13373</th>\n",
       "      <td>2</td>\n",
       "      <td>SWMARG</td>\n",
       "      <td>Donelda M Gillis</td>\n",
       "      <td>NaN</td>\n",
       "      <td>81</td>\n",
       "      <td>47</td>\n",
       "      <td>1</td>\n",
       "      <td>2014</td>\n",
       "      <td>6</td>\n",
       "      <td>10</td>\n",
       "      <td>7</td>\n",
       "      <td>450.000</td>\n",
       "      <td>204.100</td>\n",
       "      <td>7</td>\n",
       "      <td>upper</td>\n",
       "      <td>Gillis</td>\n",
       "      <td>NaN</td>\n",
       "      <td>NaN</td>\n",
       "      <td>NaN</td>\n",
       "      <td>NaN</td>\n",
       "      <td>2014-06-10</td>\n",
       "      <td>NaN</td>\n",
       "      <td>NaN</td>\n",
       "      <td>NaN</td>\n",
       "      <td>47</td>\n",
       "      <td>&lt;NA&gt;</td>\n",
       "      <td>NaN</td>\n",
       "      <td>2014061047</td>\n",
       "    </tr>\n",
       "  </tbody>\n",
       "</table>\n",
       "</div>"
      ],
      "text/plain": [
       "       DIST   RIVER              NAME code  GEAR SITE_NO no_nets  YEAR  MM  \\\n",
       "5130      2  SWMARG    Daniel Stewart  NaN    81      33     NaN  1993   5   \n",
       "8200      2  SWMARG   Pierre Chiasson  NaN    81      26       1  2001   6   \n",
       "10211     2  SWMARG   Pierre Chiasson  NaN    81      26       1  2007   6   \n",
       "13373     2  SWMARG  Donelda M Gillis  NaN    81      47       1  2014   6   \n",
       "\n",
       "       DD  Week  catch_lbs  catch_kg hours_fished   zone last_name comments  \\\n",
       "5130   13     3   1100.000   499.000          NaN  upper   STEWART      NaN   \n",
       "8200   15     7    500.000   226.800          NaN  lower  Chiasson      NaN   \n",
       "10211   2     5   9600.000  4354.500            8  lower  Chiasson      NaN   \n",
       "13373  10     7    450.000   204.100            7  upper    Gillis      NaN   \n",
       "\n",
       "       bycatch_sbass  bycatch_shad bycatch_other   DATETIME FLAG_DATETIME  \\\n",
       "5130             NaN           NaN           NaN 1993-05-13           NaN   \n",
       "8200             NaN           NaN           NaN 2001-06-15           NaN   \n",
       "10211            NaN           NaN           NaN 2007-06-02           NaN   \n",
       "13373            NaN           NaN           NaN 2014-06-10           NaN   \n",
       "\n",
       "      FLAG_HOURS_FISHED FLAG_SITE  SITE1 SITE2 remarks          id  \n",
       "5130                NaN       NaN     33  <NA>     NaN  1993051333  \n",
       "8200                NaN       NaN     26  <NA>     NaN  2001061526  \n",
       "10211               NaN       NaN     26  <NA>     NaN  2007060226  \n",
       "13373               NaN       NaN     47  <NA>     NaN  2014061047  "
      ]
     },
     "execution_count": 107,
     "metadata": {},
     "output_type": "execute_result"
    }
   ],
   "source": [
    "# all but one does match to a sample\n",
    "df_SD[df_SD.id.isin(period_discrepancies)]"
   ]
  },
  {
   "cell_type": "code",
   "execution_count": 108,
   "id": "cee83438",
   "metadata": {},
   "outputs": [
    {
     "data": {
      "text/plain": [
       "[1993051333, 2001061526, 2007060226, 2014061047, 2018062341]"
      ]
     },
     "execution_count": 108,
     "metadata": {},
     "output_type": "execute_result"
    }
   ],
   "source": [
    "period_discrepancies"
   ]
  },
  {
   "cell_type": "code",
   "execution_count": 109,
   "id": "49db80f7",
   "metadata": {},
   "outputs": [
    {
     "data": {
      "text/plain": [
       "(4, 196, 69, 5)"
      ]
     },
     "execution_count": 109,
     "metadata": {},
     "output_type": "execute_result"
    }
   ],
   "source": [
    "# flag discrepancies\n",
    "df_SD.loc[df_SD.id.isin(period_discrepancies), 'FLAG_AM_PM_PERIOD_DISCREPANCIES'] = True\n",
    "df_FD.loc[df_FD.id.isin(period_discrepancies), 'FLAG_AM_PM_PERIOD_DISCREPANCIES'] = True\n",
    "df_LF.loc[df_LF.id.isin(period_discrepancies), 'FLAG_AM_PM_PERIOD_DISCREPANCIES'] = True\n",
    "\n",
    "# how many flagged discrepancies\n",
    "(\n",
    "    df_SD[df_SD.FLAG_AM_PM_PERIOD_DISCREPANCIES == True].shape[0],\n",
    "    df_FD[df_FD.FLAG_AM_PM_PERIOD_DISCREPANCIES == True].shape[0],\n",
    "    df_LF[df_LF.FLAG_AM_PM_PERIOD_DISCREPANCIES == True].shape[0],\n",
    "    len(period_discrepancies)\n",
    ")\n",
    "# samples, fish details, length frequencies, total ids grouped"
   ]
  },
  {
   "cell_type": "markdown",
   "id": "096ae9ce",
   "metadata": {},
   "source": [
    "### Merge data into Sample table as required"
   ]
  },
  {
   "cell_type": "code",
   "execution_count": 110,
   "id": "a53a92c6",
   "metadata": {},
   "outputs": [
    {
     "data": {
      "text/plain": [
       "(15213, 29)"
      ]
     },
     "execution_count": 110,
     "metadata": {},
     "output_type": "execute_result"
    }
   ],
   "source": [
    "df_SD.shape"
   ]
  },
  {
   "cell_type": "code",
   "execution_count": 111,
   "id": "c0b5b446",
   "metadata": {},
   "outputs": [
    {
     "data": {
      "text/plain": [
       "1"
      ]
     },
     "execution_count": 111,
     "metadata": {},
     "output_type": "execute_result"
    }
   ],
   "source": [
    "# for unambiguous samples, there is only 1 period per sample, including na - ie, this merge is valid\n",
    "df_FD.loc[df_FD.id < 2024_00_00_00, ['id', 'PERIOD']].groupby('id').nunique(dropna=False).PERIOD.max()"
   ]
  },
  {
   "cell_type": "code",
   "execution_count": 112,
   "id": "702d8fec",
   "metadata": {},
   "outputs": [],
   "source": [
    "# JOIN with Fish Details table to get total_fish_preserved\n",
    "# NOTE: this is an estimate, assuming all fish details are accounted for. This is the best information available\n",
    "df_SD = pd.merge(\n",
    "    df_SD, \n",
    "    pd.merge(df_SD, df_FD, on='id').groupby('id').count()['FISH_NO'].reset_index(),\n",
    "    on='id',\n",
    "    how='left'\n",
    ").rename({'FISH_NO':'total_fish_preserved'}, axis=1)\n",
    "\n",
    "# JOIN with Length Frequencies table to get total_fish_measured\n",
    "# NOTE: this is an estimate, assuming all length frequencies are accounted for. This is the best information available\n",
    "df_SD = pd.merge(\n",
    "    df_SD, \n",
    "    pd.merge(df_SD, df_LF, on='id').groupby('id').sum()['freq'].reset_index(),\n",
    "    on='id',\n",
    "    how='left'\n",
    ").rename({'freq':'total_fish_measured'}, axis=1)\n",
    "\n",
    "# # JOIN with Fish Details and Length Frequencies to get AM_PM_PERIOD \n",
    "# # NOTE: discrepancies flagged between Length Frequencies and Fish Details\n",
    "df_period = pd.merge(\n",
    "    df_FD[df_FD.PERIOD.notnull()].groupby('id').first().reset_index()[['id', 'PERIOD']],\n",
    "    df_LF[df_LF.period.notnull()].groupby('id').first().reset_index()[['id', 'period']], \n",
    "    on='id',\n",
    "    how='outer'\n",
    ")\n",
    "df_period['AM_PM_PERIOD'] = df_period['PERIOD'].fillna(df_period['period'])\n",
    "\n",
    "df_SD = pd.merge(\n",
    "    df_SD, \n",
    "    df_period[['id', 'AM_PM_PERIOD']],\n",
    "    on='id',\n",
    "    how='left'\n",
    ")\n",
    "\n",
    "# JOIN with Length Frequency table to get sample weight\n",
    "df_SD = pd.merge(\n",
    "    df_SD, \n",
    "    df_LF[['id', 'wt_lbs']],\n",
    "    on='id', \n",
    "    how='left'  # all samples \n",
    ").drop_duplicates().reset_index(drop=True)"
   ]
  },
  {
   "cell_type": "code",
   "execution_count": 113,
   "id": "7f1c7dc1",
   "metadata": {},
   "outputs": [
    {
     "data": {
      "text/plain": [
       "(15213, 33)"
      ]
     },
     "execution_count": 113,
     "metadata": {},
     "output_type": "execute_result"
    }
   ],
   "source": [
    "df_SD.shape"
   ]
  },
  {
   "cell_type": "markdown",
   "id": "a2b67038",
   "metadata": {},
   "source": [
    "# TODO: create ghost entries after revised data"
   ]
  },
  {
   "cell_type": "code",
   "execution_count": 114,
   "id": "7ef6cf53",
   "metadata": {},
   "outputs": [],
   "source": [
    "# TODO next step, prior to import"
   ]
  },
  {
   "cell_type": "markdown",
   "id": "fe61e2aa",
   "metadata": {},
   "source": [
    "### no_nets - not part of herring model, add as new field in Samples model?"
   ]
  },
  {
   "cell_type": "code",
   "execution_count": 115,
   "id": "d64f5c93",
   "metadata": {},
   "outputs": [
    {
     "data": {
      "text/plain": [
       "array([nan, '1', '2'], dtype=object)"
      ]
     },
     "execution_count": 115,
     "metadata": {},
     "output_type": "execute_result"
    }
   ],
   "source": [
    "df_SD.no_nets.unique()"
   ]
  },
  {
   "cell_type": "code",
   "execution_count": 116,
   "id": "26e3f8f0",
   "metadata": {},
   "outputs": [
    {
     "data": {
      "text/plain": [
       "no_nets\n",
       "1    9574\n",
       "2      49\n",
       "Name: NAME, dtype: int64"
      ]
     },
     "execution_count": 116,
     "metadata": {},
     "output_type": "execute_result"
    }
   ],
   "source": [
    "# mostly 1, but there are some 2\n",
    "df_SD.groupby('no_nets').count()['NAME']"
   ]
  },
  {
   "cell_type": "markdown",
   "id": "c01454f8",
   "metadata": {},
   "source": [
    "# ======================\n",
    "# TrapSupervisors Table\n",
    "### Sample.NAME column -> TrapSupervisors\n",
    "Create Samplers Table / Clean Sampler Names"
   ]
  },
  {
   "cell_type": "code",
   "execution_count": 117,
   "id": "a1fd0e3b",
   "metadata": {},
   "outputs": [
    {
     "data": {
      "text/plain": [
       "['Alexander Gillis',\n",
       " 'Alexander MacDonald',\n",
       " 'Allan B Gillis',\n",
       " 'Anthony Cameron',\n",
       " 'Brian Doyle',\n",
       " 'Brian MacFarlane',\n",
       " 'Bruce MacLellan',\n",
       " 'Bruce McLellan',\n",
       " 'Catherine MacFarlane',\n",
       " 'Catherine MacLeod',\n",
       " 'Charles McDaniel',\n",
       " 'Chris MacLean',\n",
       " 'Colin Gillis',\n",
       " 'Daniel Stewart',\n",
       " 'Darlene Cameron',\n",
       " 'David MacKinnon',\n",
       " 'Donald D Gillis',\n",
       " 'Donald J Gillis',\n",
       " 'Donald M Campbell',\n",
       " 'Donald MacEachern',\n",
       " 'Donald MacLeod',\n",
       " 'Donald Macleod',\n",
       " 'Donelda M Gillis',\n",
       " 'Eleanor MacLellan',\n",
       " 'Eleanor McDaniel',\n",
       " 'Elizabeth MacKinnon',\n",
       " 'Elizabeth/Vincent MacKinnon',\n",
       " 'Finley MacDonald',\n",
       " 'Finley Stewart',\n",
       " 'Florence Gillis',\n",
       " 'Fred Ingram',\n",
       " 'Gerard MacFarlane',\n",
       " 'Gerard V Chiasson',\n",
       " 'Harold MacFarlane',\n",
       " 'Hugh J Gillis',\n",
       " 'Hughie MacDonnell',\n",
       " 'Irene MacIsaac',\n",
       " 'Jack MacLellan',\n",
       " 'James A Hirtle',\n",
       " 'James MacFarlane',\n",
       " 'Jim Coady',\n",
       " 'Jim MacFarlane',\n",
       " 'Joan Ingram',\n",
       " 'John A Chisholm',\n",
       " 'John A Coady',\n",
       " 'John Coady',\n",
       " 'John H Gillis',\n",
       " 'John MacLellan',\n",
       " 'John Neil Gillis',\n",
       " 'John R Gillis',\n",
       " 'John V MacKinnon',\n",
       " 'Joseph M MacFarlane',\n",
       " 'Joseph Mackinnon',\n",
       " 'Josephine MacDonald',\n",
       " 'Josh Fraser',\n",
       " 'Joshua Fraser',\n",
       " 'Kevin MacKinnon',\n",
       " 'Kevin MacKinnon ',\n",
       " 'Leo Chiasson',\n",
       " 'Marilyn Gillis',\n",
       " 'Martin E Cameron',\n",
       " 'Mary C Gillis',\n",
       " 'Mary E Gillis',\n",
       " 'Michael D Gillis',\n",
       " 'Michael J Stewart',\n",
       " 'Neil McDaniel',\n",
       " 'Norman MacNeil',\n",
       " 'Pat Chisholm',\n",
       " 'Pierre Chiasson',\n",
       " 'Richard Gillis',\n",
       " 'Robert Gillis',\n",
       " 'Robert MacLeod',\n",
       " 'Robert Peters',\n",
       " 'Ronald J Stewart',\n",
       " 'Stewart Gillis',\n",
       " 'Vincent MacKinnon']"
      ]
     },
     "execution_count": 117,
     "metadata": {},
     "output_type": "execute_result"
    }
   ],
   "source": [
    "# Sampler -> TrapSupervisor text field\n",
    "# linked to Site? like a notes field, concatenated list of all trapsupervisors\n",
    "# filter in sites table 'icontains' \n",
    "# is it important? it's the site that matters\n",
    "\n",
    "# SHOULD ANY OF THESE BE SUBSTITUTED / SPELLING CORRECTED?\n",
    "\n",
    "sorted([str(x) for x in df_SD.NAME.unique()])"
   ]
  },
  {
   "cell_type": "code",
   "execution_count": 118,
   "id": "96e7f23b",
   "metadata": {},
   "outputs": [],
   "source": [
    "# Clean NAME column manually\n",
    "sampler_replacements = {\n",
    "#     'Bruce MacLellan': 'Bruce McLellan',\n",
    "#     'Elizabeth/Vincent MacKinnon': 'Elizabeth MacKinnon',\n",
    "    'Kevin MacKinnon ': 'Kevin MacKinnon',\n",
    "    'Donald Macleod': 'Donald MacLeod'\n",
    "}\n",
    "\n",
    "# clean the name column\n",
    "df_SD = df_SD.replace({'NAME': sampler_replacements})"
   ]
  },
  {
   "cell_type": "code",
   "execution_count": 119,
   "id": "96e31f31",
   "metadata": {
    "scrolled": false
   },
   "outputs": [],
   "source": [
    "# create TrapSupervisors table\n",
    "\n",
    "gaspereau_TrapSupervisors = list()\n",
    "\n",
    "for i in sorted(str(x) for x in df_SD.NAME.unique()):\n",
    "    name = i.rsplit(maxsplit=1)  # put initials into first name\n",
    "    gaspereau_TrapSupervisors.append(name)\n",
    "    \n",
    "df_TrapSupervisors = pd.DataFrame(gaspereau_TrapSupervisors, columns=['first_name', 'last_name'])\n",
    "df_TrapSupervisors['notes'] = pd.NA  # all null comments"
   ]
  },
  {
   "cell_type": "markdown",
   "id": "2c855681",
   "metadata": {},
   "source": [
    "# ======================\n",
    "# SITES Table\n",
    "### UPPER / LOWER cleaning and analysis"
   ]
  },
  {
   "cell_type": "code",
   "execution_count": 120,
   "id": "19be730f",
   "metadata": {},
   "outputs": [
    {
     "data": {
      "text/plain": [
       "array(['lower', 'upper', nan], dtype=object)"
      ]
     },
     "execution_count": 120,
     "metadata": {},
     "output_type": "execute_result"
    }
   ],
   "source": [
    "df_SD.loc[df_SD.zone == 'upper ', 'zone'] = 'upper'\n",
    "df_SD.zone.unique()"
   ]
  },
  {
   "cell_type": "code",
   "execution_count": 121,
   "id": "f5718dee",
   "metadata": {},
   "outputs": [
    {
     "data": {
      "text/plain": [
       "SITE1\n",
       "12    2\n",
       "1     1\n",
       "56    1\n",
       "41    1\n",
       "43    1\n",
       "Name: zone, dtype: int64"
      ]
     },
     "execution_count": 121,
     "metadata": {},
     "output_type": "execute_result"
    }
   ],
   "source": [
    "# how many zones per site?\n",
    "\n",
    "df_SD.groupby(['SITE1', 'zone']).count().reset_index().groupby('SITE1').count()['zone'].sort_values(ascending=False).head()"
   ]
  },
  {
   "cell_type": "code",
   "execution_count": 122,
   "id": "a86bb0ec",
   "metadata": {},
   "outputs": [
    {
     "data": {
      "text/html": [
       "<div>\n",
       "<style scoped>\n",
       "    .dataframe tbody tr th:only-of-type {\n",
       "        vertical-align: middle;\n",
       "    }\n",
       "\n",
       "    .dataframe tbody tr th {\n",
       "        vertical-align: top;\n",
       "    }\n",
       "\n",
       "    .dataframe thead th {\n",
       "        text-align: right;\n",
       "    }\n",
       "</style>\n",
       "<table border=\"1\" class=\"dataframe\">\n",
       "  <thead>\n",
       "    <tr style=\"text-align: right;\">\n",
       "      <th></th>\n",
       "      <th>SITE1</th>\n",
       "      <th>zone</th>\n",
       "      <th>count</th>\n",
       "    </tr>\n",
       "  </thead>\n",
       "  <tbody>\n",
       "  </tbody>\n",
       "</table>\n",
       "</div>"
      ],
      "text/plain": [
       "Empty DataFrame\n",
       "Columns: [SITE1, zone, count]\n",
       "Index: []"
      ]
     },
     "execution_count": 122,
     "metadata": {},
     "output_type": "execute_result"
    }
   ],
   "source": [
    "df_SD.groupby(['SITE1', 'zone']).count().reset_index().query('SITE1 == \"12\"')[['SITE1', 'zone', 'NAME']].rename({'NAME':'count'}, axis=1)"
   ]
  },
  {
   "cell_type": "code",
   "execution_count": 123,
   "id": "93911a59",
   "metadata": {},
   "outputs": [
    {
     "data": {
      "text/plain": [
       "SITE1\n",
       "12    2\n",
       "62    2\n",
       "52    1\n",
       "37    1\n",
       "38    1\n",
       "Name: loc, dtype: int64"
      ]
     },
     "execution_count": 123,
     "metadata": {},
     "output_type": "execute_result"
    }
   ],
   "source": [
    "df_LF.groupby(['SITE1', 'loc']).count().reset_index().groupby('SITE1').count()['loc'].sort_values(ascending=False).head()"
   ]
  },
  {
   "cell_type": "code",
   "execution_count": 124,
   "id": "011dccc8",
   "metadata": {},
   "outputs": [
    {
     "data": {
      "text/html": [
       "<div>\n",
       "<style scoped>\n",
       "    .dataframe tbody tr th:only-of-type {\n",
       "        vertical-align: middle;\n",
       "    }\n",
       "\n",
       "    .dataframe tbody tr th {\n",
       "        vertical-align: top;\n",
       "    }\n",
       "\n",
       "    .dataframe thead th {\n",
       "        text-align: right;\n",
       "    }\n",
       "</style>\n",
       "<table border=\"1\" class=\"dataframe\">\n",
       "  <thead>\n",
       "    <tr style=\"text-align: right;\">\n",
       "      <th></th>\n",
       "      <th>SITE1</th>\n",
       "      <th>loc</th>\n",
       "      <th>count</th>\n",
       "    </tr>\n",
       "  </thead>\n",
       "  <tbody>\n",
       "    <tr>\n",
       "      <th>9</th>\n",
       "      <td>12</td>\n",
       "      <td>LOWER</td>\n",
       "      <td>622</td>\n",
       "    </tr>\n",
       "    <tr>\n",
       "      <th>10</th>\n",
       "      <td>12</td>\n",
       "      <td>UPPER</td>\n",
       "      <td>12</td>\n",
       "    </tr>\n",
       "  </tbody>\n",
       "</table>\n",
       "</div>"
      ],
      "text/plain": [
       "    SITE1    loc  count\n",
       "9      12  LOWER    622\n",
       "10     12  UPPER     12"
      ]
     },
     "execution_count": 124,
     "metadata": {},
     "output_type": "execute_result"
    }
   ],
   "source": [
    "df_LF.groupby(['SITE1', 'loc']).count().reset_index().query('SITE1 == 12', engine='python')[['SITE1', 'loc', 'yy']].rename({'yy':'count'}, axis=1)"
   ]
  },
  {
   "cell_type": "code",
   "execution_count": 125,
   "id": "a5b888ce",
   "metadata": {},
   "outputs": [
    {
     "data": {
      "text/html": [
       "<div>\n",
       "<style scoped>\n",
       "    .dataframe tbody tr th:only-of-type {\n",
       "        vertical-align: middle;\n",
       "    }\n",
       "\n",
       "    .dataframe tbody tr th {\n",
       "        vertical-align: top;\n",
       "    }\n",
       "\n",
       "    .dataframe thead th {\n",
       "        text-align: right;\n",
       "    }\n",
       "</style>\n",
       "<table border=\"1\" class=\"dataframe\">\n",
       "  <thead>\n",
       "    <tr style=\"text-align: right;\">\n",
       "      <th></th>\n",
       "      <th>SITE1</th>\n",
       "      <th>loc</th>\n",
       "      <th>count</th>\n",
       "    </tr>\n",
       "  </thead>\n",
       "  <tbody>\n",
       "    <tr>\n",
       "      <th>33</th>\n",
       "      <td>62</td>\n",
       "      <td>LOWER</td>\n",
       "      <td>12</td>\n",
       "    </tr>\n",
       "    <tr>\n",
       "      <th>34</th>\n",
       "      <td>62</td>\n",
       "      <td>UPPER</td>\n",
       "      <td>278</td>\n",
       "    </tr>\n",
       "  </tbody>\n",
       "</table>\n",
       "</div>"
      ],
      "text/plain": [
       "    SITE1    loc  count\n",
       "33     62  LOWER     12\n",
       "34     62  UPPER    278"
      ]
     },
     "execution_count": 125,
     "metadata": {},
     "output_type": "execute_result"
    }
   ],
   "source": [
    "df_LF.groupby(['SITE1', 'loc']).count().reset_index().query('SITE1 == 62', engine='python')[['SITE1', 'loc', 'yy']].rename({'yy':'count'}, axis=1)"
   ]
  },
  {
   "cell_type": "markdown",
   "id": "6a77b2b9",
   "metadata": {},
   "source": [
    "## Create Site table"
   ]
  },
  {
   "cell_type": "code",
   "execution_count": 126,
   "id": "2d155920",
   "metadata": {},
   "outputs": [],
   "source": [
    "# group, sort by most common, drop duplicates, create table\n",
    "df_Site = (\n",
    "    df_SD\n",
    "        .groupby(['SITE1', 'zone'])\n",
    "        .count()\n",
    "        .reset_index()[['SITE1', 'zone', 'NAME']]\n",
    "        .rename({'NAME':'count'}, axis=1)\n",
    "        .sort_values('count', ascending=False)\n",
    "        .sort_values('SITE1')\n",
    "        .drop_duplicates('SITE1')\n",
    "        .drop('count', axis=1)\n",
    "        .rename({'SITE1': 'site'}, axis=1)\n",
    ").replace({v:k for k,v in id_replacements.items()})\n",
    "\n",
    "# add null lat, lon, etc\n",
    "df_Site[['latitude_n', 'longitude_w', 'license_number', 'name']] = pd.NA\n",
    "\n",
    "# sort alphanumerically\n",
    "sorted_index = [1, '1A', '1B'] + sorted(list(set(df_Site.site.unique()) - {1, '1A', '1B'}))\n",
    "df_Site = df_Site.set_index('site').loc[sorted_index, :].reset_index()"
   ]
  },
  {
   "cell_type": "code",
   "execution_count": 127,
   "id": "6f48d352",
   "metadata": {},
   "outputs": [
    {
     "data": {
      "text/plain": [
       "array([1, '1A', '1B', 2, 4, 5, 6, 7, 8, 9, 11, 12, 15, 17, 18, 19, 20, 21,\n",
       "       23, 24, 25, 26, 27, 28, 29, 30, 31, 32, 33, 34, 35, 37, 38, 39, 40,\n",
       "       41, 43, 44, 45, 46, 47, 48, 49, 50, 51, 52, 54, 55, 56, 57, 58, 59,\n",
       "       60, 61, 62, 63, 64, 65, 66, 67, 68], dtype=object)"
      ]
     },
     "execution_count": 127,
     "metadata": {},
     "output_type": "execute_result"
    }
   ],
   "source": [
    "# note: when this list is generated from sample table without ghost samples, it does not include any unverified sites (names, codes, etc)\n",
    "df_Site.site.unique()"
   ]
  },
  {
   "cell_type": "markdown",
   "id": "15f7c01d",
   "metadata": {},
   "source": [
    "# ======================\n",
    "# LENGTH FREQUENCY GROUPED Table\n",
    "### (grouped, reindexed, and only columns for import)"
   ]
  },
  {
   "cell_type": "code",
   "execution_count": 128,
   "id": "b106258c",
   "metadata": {},
   "outputs": [],
   "source": [
    "# group by length bins, include only imported columns \n",
    "\n",
    "df_LF_grouped = df_LF.groupby(['id', 'length_bin_id']).sum('freq').reset_index()[['freq', 'length_bin_id', 'id']].rename({\n",
    "    'freq': 'count', \n",
    "    'length_bin_id': 'length_bin_id', \n",
    "    'id': 'sample_id'\n",
    "}, axis=1).reset_index(drop=True)[['sample_id', 'length_bin_id', 'count']]"
   ]
  },
  {
   "cell_type": "markdown",
   "id": "09078e76",
   "metadata": {},
   "source": [
    "# ======================\n",
    "# Unmatched pairs of Length Frequency / Sample and Fish Detail / Sample"
   ]
  },
  {
   "cell_type": "code",
   "execution_count": 129,
   "id": "ee2853d7",
   "metadata": {},
   "outputs": [
    {
     "data": {
      "text/plain": [
       "(219, 162)"
      ]
     },
     "execution_count": 129,
     "metadata": {},
     "output_type": "execute_result"
    }
   ],
   "source": [
    "# id > 2024_00_00_00 are already flagged as ambiguous matches\n",
    "sample_ids = [x for x in list(df_SD.id) if x < 2024_00_00_00]\n",
    "unmatched_FD_id = [x for x in list(df_FD[~df_FD.id.isin(sample_ids)].id.unique()) if x < 2024_00_00_00]\n",
    "unmatched_LF_id = [x for x in list(df_LF[~df_LF.id.isin(sample_ids)].id.unique()) if x < 2024_00_00_00]\n",
    "\n",
    "len(unmatched_FD_id), len(unmatched_LF_id)\n",
    "# unmatched with samples\n",
    "# fish details, length frequencies (grouped)"
   ]
  },
  {
   "cell_type": "code",
   "execution_count": 130,
   "id": "44dffc26",
   "metadata": {},
   "outputs": [
    {
     "data": {
      "text/plain": [
       "(6876, 1954)"
      ]
     },
     "execution_count": 130,
     "metadata": {},
     "output_type": "execute_result"
    }
   ],
   "source": [
    "# flag unmatched ids (no matching sample)\n",
    "df_FD.loc[df_FD.id.isin(unmatched_FD_id), 'FLAG_NO_MATCHING_SAMPLE'] = True\n",
    "df_LF.loc[df_LF.id.isin(unmatched_LF_id), 'FLAG_NO_MATCHING_SAMPLE'] = True\n",
    "\n",
    "# how many flags\n",
    "df_FD[df_FD.FLAG_NO_MATCHING_SAMPLE == True].shape[0], df_LF[df_LF.FLAG_NO_MATCHING_SAMPLE == True].shape[0]\n",
    "# fish details, length frequencies (ungrouped, all entries)"
   ]
  },
  {
   "cell_type": "markdown",
   "id": "91449ba8",
   "metadata": {},
   "source": [
    "# ======================\n",
    "# DATA EXPORT"
   ]
  },
  {
   "cell_type": "code",
   "execution_count": 131,
   "id": "259e6731",
   "metadata": {},
   "outputs": [],
   "source": [
    "# reorder columns for clarity - all flags at the end\n",
    "df_SD = df_SD[[x for x in list(df_SD.columns) if 'FLAG' not in str(x)] + [x for x in list(df_SD.columns) if 'FLAG' in str(x)]]\n",
    "df_FD = df_FD[[x for x in list(df_FD.columns) if 'FLAG' not in str(x)] + [x for x in list(df_FD.columns) if 'FLAG' in str(x)]]\n",
    "df_LF = df_LF[[x for x in list(df_LF.columns) if 'FLAG' not in str(x)] + [x for x in list(df_LF.columns) if 'FLAG' in str(x)]]"
   ]
  },
  {
   "cell_type": "code",
   "execution_count": 132,
   "id": "7e94424b",
   "metadata": {},
   "outputs": [],
   "source": [
    "# if sort_row is False, the dataframes will be the same shape as the provided data\n",
    "if sort_rows := True:\n",
    "    # sort in numerical order - DATETIME, id, then fish_number\n",
    "    df_FD = df_FD.sort_values(['DATETIME', 'id','FISH_NO']).reset_index(drop=True)\n",
    "\n",
    "    # sort in numerical order - sample_id (date), then fish_number\n",
    "    df_SD = df_SD.sort_values(['DATETIME', 'id']).reset_index(drop=True)"
   ]
  },
  {
   "cell_type": "code",
   "execution_count": 133,
   "id": "ecb3a22e",
   "metadata": {},
   "outputs": [],
   "source": [
    "# save pickle files of dataframes\n",
    "if save_pickles := True:\n",
    "    df_SD.to_pickle(r'.\\intermediate_data_and_calcs\\df_SD.pickle')\n",
    "    df_FD.to_pickle(r'.\\intermediate_data_and_calcs\\df_FD.pickle')\n",
    "    df_LF.to_pickle(r'.\\intermediate_data_and_calcs\\df_LF.pickle')\n",
    "    df_LF_grouped.to_pickle(r'.\\intermediate_data_and_calcs\\df_LF_grouped.pickle')\n",
    "    df_Site.to_pickle(r'.\\intermediate_data_and_calcs\\df_Site.pickle')\n",
    "    df_TrapSupervisors.to_pickle(r'.\\intermediate_data_and_calcs\\df_TrapSupervisors.pickle')\n",
    "\n",
    "# save files to this workbook drive\n",
    "if save_csv := False:\n",
    "    df_SD.to_csv(r'.\\intermediate_data_and_calcs\\gaspereau_sample_data.csv', index=False)\n",
    "    df_FD.to_csv(r'.\\intermediate_data_and_calcs\\gaspereau_fish_details.csv', index=False)\n",
    "    df_LF.to_csv(r'.\\intermediate_data_and_calcs\\gaspereau_length_frequencies.csv', index=False)\n",
    "    df_Site.to_csv(r'.\\intermediate_data_and_calcs\\gaspereau_sites.csv', index=False)\n",
    "    df_TrapSupervisors.to_csv(r'.\\intermediate_data_and_calcs\\gaspereau_trap_supervisors.csv', index=False)\n",
    "    df_LF_grouped.to_csv(r'.\\intermediate_data_and_calcs\\gaspereau_LF_grouped.csv', index=False)"
   ]
  },
  {
   "cell_type": "markdown",
   "id": "1043813e",
   "metadata": {},
   "source": [
    "# ======================\n",
    "# PS: how many flags there are"
   ]
  },
  {
   "cell_type": "code",
   "execution_count": 134,
   "id": "78586e21",
   "metadata": {},
   "outputs": [
    {
     "data": {
      "text/plain": [
       "(86, 326, 193)"
      ]
     },
     "execution_count": 134,
     "metadata": {},
     "output_type": "execute_result"
    }
   ],
   "source": [
    "# number of sample ids with flags (grouped by sample_id)\n",
    "(\n",
    "    sum(df_SD[[x for x in list(df_SD.columns) if 'FLAG' in str(x)]].any(axis=1)),\n",
    "    sum(df_FD[['id'] + [x for x in list(df_FD.columns) if 'FLAG' in str(x)]].groupby('id').any().any(axis=1)),\n",
    "    sum(df_LF[['id'] + [x for x in list(df_LF.columns) if 'FLAG' in str(x)]].groupby('id').any().any(axis=1))\n",
    ")\n",
    "# samples, fish details, length frequencies"
   ]
  },
  {
   "cell_type": "code",
   "execution_count": 135,
   "id": "7e64a295",
   "metadata": {},
   "outputs": [
    {
     "data": {
      "text/plain": [
       "(86, 9104, 2303)"
      ]
     },
     "execution_count": 135,
     "metadata": {},
     "output_type": "execute_result"
    }
   ],
   "source": [
    "# flagged rows (ungrouped)\n",
    "(\n",
    "    sum(df_SD[[x for x in list(df_SD.columns) if 'FLAG' in str(x)]].any(axis=1)),\n",
    "    sum(df_FD[[x for x in list(df_FD.columns) if 'FLAG' in str(x)]].any(axis=1)),\n",
    "    sum(df_LF[[x for x in list(df_LF.columns) if 'FLAG' in str(x)]].any(axis=1))\n",
    ")\n",
    "# samples, fish details, length frequencies"
   ]
  },
  {
   "cell_type": "code",
   "execution_count": 136,
   "id": "fa20992d",
   "metadata": {},
   "outputs": [
    {
     "data": {
      "text/plain": [
       "FLAG_DATETIME                      31\n",
       "FLAG_HOURS_FISHED                  28\n",
       "FLAG_SITE                          23\n",
       "FLAG_AM_PM_PERIOD_DISCREPANCIES     4\n",
       "dtype: object"
      ]
     },
     "execution_count": 136,
     "metadata": {},
     "output_type": "execute_result"
    }
   ],
   "source": [
    "df_SD[[x for x in list(df_SD.columns) if 'FLAG' in str(x)]].sum()"
   ]
  },
  {
   "cell_type": "code",
   "execution_count": 137,
   "id": "8952fdd1",
   "metadata": {},
   "outputs": [
    {
     "data": {
      "text/plain": [
       "FLAG_SITE                             1922\n",
       "FLAG_AM_PM_PERIOD                      118\n",
       "FLAG_SEX                                 2\n",
       "FLAG_MATURITY                            3\n",
       "FLAG_FSP_1                               1\n",
       "FLAG_FL_STD                            264\n",
       "FLAG_FL_WET_FROZEN                       5\n",
       "FLAG_WEIGHT_OUTLIER                      6\n",
       "FLAG_GONAD_OUTLIER                       7\n",
       "FLAG_MULTIPLE_SAMPLE_POSSIBILITIES    1034\n",
       "FLAG_MISNUMBERED_FISH_DETAILS          235\n",
       "FLAG_LEN_WT_RATIO_OUTLIER               33\n",
       "FLAG_AM_PM_PERIOD_DISCREPANCIES        196\n",
       "FLAG_NO_MATCHING_SAMPLE               6876\n",
       "dtype: object"
      ]
     },
     "execution_count": 137,
     "metadata": {},
     "output_type": "execute_result"
    }
   ],
   "source": [
    "df_FD[[x for x in list(df_FD.columns) if 'FLAG' in str(x)]].sum()"
   ]
  },
  {
   "cell_type": "code",
   "execution_count": 138,
   "id": "f65dc9de",
   "metadata": {},
   "outputs": [
    {
     "data": {
      "text/plain": [
       "FLAG_SITE                           627\n",
       "FLAG_AM_PM_PERIOD                    47\n",
       "FLAG_AM_PM_PERIOD_DISCREPANCIES      69\n",
       "FLAG_NO_MATCHING_SAMPLE            1954\n",
       "dtype: object"
      ]
     },
     "execution_count": 138,
     "metadata": {},
     "output_type": "execute_result"
    }
   ],
   "source": [
    "df_LF[[x for x in list(df_LF.columns) if 'FLAG' in str(x)]].sum()"
   ]
  },
  {
   "cell_type": "code",
   "execution_count": 139,
   "id": "33921c4b",
   "metadata": {},
   "outputs": [
    {
     "data": {
      "text/plain": [
       "(13485, 1493871373)"
      ]
     },
     "execution_count": 139,
     "metadata": {},
     "output_type": "execute_result"
    }
   ],
   "source": [
    "# grand total of all flags\n",
    "all_flags = sum(df_SD[[x for x in list(df_SD.columns) if 'FLAG' in str(x)]].sum()) + \\\n",
    "sum(df_FD[[x for x in list(df_FD.columns) if 'FLAG' in str(x)]].sum()) + \\\n",
    "sum(df_LF[[x for x in list(df_LF.columns) if 'FLAG' in str(x)]].sum())\n",
    "\n",
    "total_datapoints = df_SD.shape[0] * df_SD.shape[1] + df_FD.shape[0] * df_FD.shape[0] + df_LF.shape[0] * df_LF.shape[0]\n",
    "\n",
    "all_flags, total_datapoints"
   ]
  },
  {
   "cell_type": "code",
   "execution_count": 140,
   "id": "8a41c4e2",
   "metadata": {},
   "outputs": [
    {
     "data": {
      "text/plain": [
       "0.9999909731184065"
      ]
     },
     "execution_count": 140,
     "metadata": {},
     "output_type": "execute_result"
    }
   ],
   "source": [
    "# approx accuracy\n",
    "(total_datapoints - all_flags) / total_datapoints"
   ]
  },
  {
   "cell_type": "code",
   "execution_count": null,
   "id": "75080ed0",
   "metadata": {},
   "outputs": [],
   "source": []
  },
  {
   "cell_type": "markdown",
   "id": "30fc9e4b",
   "metadata": {},
   "source": [
    "# ======================\n",
    "# PS: check if imported data matches exported minus changes (for simple comparison)"
   ]
  },
  {
   "cell_type": "code",
   "execution_count": 141,
   "id": "04b702f4",
   "metadata": {},
   "outputs": [
    {
     "ename": "ValueError",
     "evalue": "",
     "output_type": "error",
     "traceback": [
      "\u001b[1;31m---------------------------------------------------------------------------\u001b[0m",
      "\u001b[1;31mValueError\u001b[0m                                Traceback (most recent call last)",
      "\u001b[1;32m~\\AppData\\Local\\Temp\\1\\ipykernel_13284\\4284411378.py\u001b[0m in \u001b[0;36m<module>\u001b[1;34m\u001b[0m\n\u001b[0;32m      1\u001b[0m \u001b[1;31m# You shall not pass\u001b[0m\u001b[1;33m\u001b[0m\u001b[1;33m\u001b[0m\u001b[0m\n\u001b[1;32m----> 2\u001b[1;33m \u001b[1;32mraise\u001b[0m \u001b[0mValueError\u001b[0m\u001b[1;33m\u001b[0m\u001b[1;33m\u001b[0m\u001b[0m\n\u001b[0m",
      "\u001b[1;31mValueError\u001b[0m: "
     ]
    }
   ],
   "source": [
    "# You shall not pass\n",
    "raise ValueError"
   ]
  },
  {
   "cell_type": "markdown",
   "id": "9a0758e5",
   "metadata": {},
   "source": [
    "#### Fish Details\n",
    "* GOOD"
   ]
  },
  {
   "cell_type": "code",
   "execution_count": null,
   "id": "f495b636",
   "metadata": {},
   "outputs": [],
   "source": [
    "dtypes = {\n",
    "    'YEAR': 'Int32', \n",
    "    'MM': 'Int32', \n",
    "    'DD': 'Int32', \n",
    "    'WEEK': 'Int32', \n",
    "    'SITE': 'object', \n",
    "    'PERIOD': 'object', \n",
    "    'CONDITION': 'object', \n",
    "    'FISH_NO': 'Int32', \n",
    "    'FL_WET.x': 'object',  # some 'NA', convert to numeric, coerce error to make 'NA' actually null\n",
    "    'FL_FROZEN.x': 'object',  # some 'NA', convert to numeric, coerce error to make 'NA' actually null\n",
    "    'FL_STD.x': 'float64',\n",
    "    'WEIGHT': 'float64',\n",
    "    'SPECIES': 'object', \n",
    "    'SEX': 'object', \n",
    "    'MATURITY.x': 'object',  # two entries that at 3?, (also 1 that is 44), convert to numeric, coerce errors\n",
    "    'GONAD_WEIGHT': 'object',  # some '.' / 'NA', convert to numeric, coerce error to make 'NA' actually null\n",
    "    'Ager.1': 'object',\n",
    "    'AGE.1': 'object',  # convert to numeric and separate text comments\n",
    "    'FSP.1': 'object',  # convert to numeric and separate text comments\n",
    "    'Comments.1': 'object', \n",
    "    'Ager.2': 'object',  \n",
    "    'AGE.2': 'object',  # convert to numeric and separate text comments\n",
    "    'FSP.2': 'object',  # convert to numeric and separate text comments\n",
    "    'Comments.2': 'object', \n",
    "    'Ager.3': 'object', \n",
    "    'AGE.3': 'object',  # convert to numeric and separate text comments\n",
    "    'FSP.3': 'object',  # convert to numeric and separate text comments\n",
    "    'Comments.3': 'object', \n",
    "    'Envelop Comments': 'object'\n",
    "} \n",
    "\n",
    "df_FD = pd.read_excel('provided data\\\\Gaspereau Ages_Combined.xlsx', dtype=dtypes)\n",
    "\n",
    "# create backup of notes (including all numeric data for simplicity)\n",
    "df_FD['AGE_notes_1'] = df_FD['AGE.1']\n",
    "df_FD['FSP_notes_1'] = df_FD['FSP.1']\n",
    "df_FD['AGE_notes_2'] = df_FD['AGE.2']\n",
    "df_FD['FSP_notes_2'] = df_FD['FSP.2']\n",
    "df_FD['AGE_notes_3'] = df_FD['AGE.3']\n",
    "df_FD['FSP_notes_3'] = df_FD['FSP.3']\n",
    "\n",
    "# convert to numeric and coerce errors\n",
    "# for FL_WET.x, one measurement is a float (258.8), all else are int, need to round to convert to int\n",
    "df_FD['FL_WET.x'] = np.round(pd.to_numeric(df_FD['FL_WET.x'], errors='coerce')).astype('Int32')\n",
    "df_FD['FL_FROZEN.x'] = pd.to_numeric(df_FD['FL_FROZEN.x'], errors='coerce').astype('Int32')\n",
    "df_FD['MATURITY.x'] = pd.to_numeric(df_FD['MATURITY.x'], errors='coerce').astype('Int32')\n",
    "df_FD['GONAD_WEIGHT'] = pd.to_numeric(df_FD['GONAD_WEIGHT'], errors='coerce')  # float\n",
    "df_FD['AGE.1'] = pd.to_numeric(df_FD['AGE.1'], errors='coerce').astype('Int32')\n",
    "df_FD['FSP.1'] = pd.to_numeric(df_FD['FSP.1'], errors='coerce').astype('Int32')\n",
    "df_FD['AGE.2'] = pd.to_numeric(df_FD['AGE.2'], errors='coerce').astype('Int32')\n",
    "df_FD['FSP.2'] = pd.to_numeric(df_FD['FSP.2'], errors='coerce').astype('Int32')\n",
    "df_FD['AGE.3'] = pd.to_numeric(df_FD['AGE.3'], errors='coerce').astype('Int32')\n",
    "df_FD['FSP.3'] = pd.to_numeric(df_FD['FSP.3'], errors='coerce').astype('Int32')\n",
    "\n",
    "# rename keys with '.' for ease of use within pandas\n",
    "rename_FD = {\n",
    "    'FL_WET.x': 'FL_WET', \n",
    "    'FL_FROZEN.x': 'FL_FROZEN',\n",
    "    'FL_STD.x': 'FL_STD', \n",
    "    'MATURITY.x': 'MATURITY',\n",
    "    'Ager.1': 'Ager_1',\n",
    "    'AGE.1': 'AGE_1',\n",
    "    'FSP.1': 'FSP_1',\n",
    "    'Comments.1': 'Comments_1',\n",
    "    'Ager.2': 'Ager_2',\n",
    "    'AGE.2': 'AGE_2',\n",
    "    'FSP.2': 'FSP_2',\n",
    "    'Comments.2': 'Comments_2',\n",
    "    'Ager.3': 'Ager_3',\n",
    "    'AGE.3': 'AGE_3',\n",
    "    'FSP.3': 'FSP_3',\n",
    "    'Comments.3': 'Comments_3'\n",
    "}\n",
    "df_FD = df_FD.drop('Unnamed: 0', axis=1).rename(columns=rename_FD)"
   ]
  },
  {
   "cell_type": "code",
   "execution_count": null,
   "id": "ff68472e",
   "metadata": {},
   "outputs": [],
   "source": [
    "df_FD_final = pd.read_pickle(r'.\\intermediate_data_and_calcs\\df_FD.pickle').loc[:, :'FSP_notes_3'].drop('DATETIME', axis=1)\n",
    "FD_compare = df_FD == df_FD_final\n",
    "FD_compare.all()"
   ]
  },
  {
   "cell_type": "code",
   "execution_count": null,
   "id": "92c97a3b",
   "metadata": {},
   "outputs": [],
   "source": [
    "display(df_FD_final.head(1))\n",
    "display(df_FD.head(1))"
   ]
  },
  {
   "cell_type": "code",
   "execution_count": null,
   "id": "0556900d",
   "metadata": {},
   "outputs": [],
   "source": [
    "def check_mismatches(df1, df2, check_variable):\n",
    "    FD_compare = df1 == df2\n",
    "    temp = pd.concat([df1[~FD_compare[check_variable]], df2[~FD_compare[check_variable]]], axis=1)[[check_variable]]\n",
    "    return temp[~temp.isna().any(axis=1)]  # exclude NA"
   ]
  },
  {
   "cell_type": "code",
   "execution_count": null,
   "id": "9d0786d5",
   "metadata": {},
   "outputs": [],
   "source": [
    "check_mismatches(df_FD, df_FD_final, 'PERIOD')  # all good, 'PM' vs 'PM ' shows as non null, but it is correct!, indices are matched"
   ]
  },
  {
   "cell_type": "markdown",
   "id": "b34eb0bf",
   "metadata": {},
   "source": [
    "#### Length Frequencies\n",
    "* look good"
   ]
  },
  {
   "cell_type": "code",
   "execution_count": null,
   "id": "c323ba59",
   "metadata": {},
   "outputs": [],
   "source": [
    "df_LF = pd.read_csv(r'.\\provided data\\Margaree Gaspereau lgth-freq_Master.csv')\n",
    "df_LF_final = pd.read_pickle(r'.\\intermediate_data_and_calcs\\df_LF.pickle').loc[:, :'Flbin']\n",
    "\n",
    "(df_LF == df_LF_final).all()"
   ]
  },
  {
   "cell_type": "code",
   "execution_count": null,
   "id": "a93f4838",
   "metadata": {},
   "outputs": [],
   "source": [
    "check_mismatches(df_LF, df_LF_final, 'river')  # all good, river/location formatting shows up"
   ]
  },
  {
   "cell_type": "markdown",
   "id": "8b70c09b",
   "metadata": {},
   "source": [
    "#### Samples\n",
    "* good"
   ]
  },
  {
   "cell_type": "code",
   "execution_count": null,
   "id": "025bb06c",
   "metadata": {},
   "outputs": [],
   "source": [
    "dtypes = {\n",
    "    'code': 'object',\n",
    "    'no_nets': 'object',\n",
    "    'YEAR': 'Int32',\n",
    "    'MM': 'Int32',\n",
    "    'DD': 'Int32',\n",
    "    'Week': 'Int32',\n",
    "#     'hours_fished': 'Int32'  # some entries say 'maximum '\n",
    "}\n",
    "df_SD = pd.read_csv(r'.\\provided data\\Margaree Gaspereau logbooks_Master.csv', dtype=dtypes)\n",
    "\n",
    "df_SD_final = pd.read_pickle(r'.\\intermediate_data_and_calcs\\df_SD.pickle').loc[:, :'bycatch_other']\n",
    "\n",
    "(df_SD == df_SD_final).all()"
   ]
  },
  {
   "cell_type": "code",
   "execution_count": null,
   "id": "71bf65ef",
   "metadata": {
    "scrolled": false
   },
   "outputs": [],
   "source": [
    "check_mismatches(df_SD, df_SD_final, 'NAME')  # good"
   ]
  },
  {
   "cell_type": "code",
   "execution_count": null,
   "id": "862ed209",
   "metadata": {},
   "outputs": [],
   "source": []
  }
 ],
 "metadata": {
  "kernelspec": {
   "display_name": "Python 3 (ipykernel)",
   "language": "python",
   "name": "python3"
  },
  "language_info": {
   "codemirror_mode": {
    "name": "ipython",
    "version": 3
   },
   "file_extension": ".py",
   "mimetype": "text/x-python",
   "name": "python",
   "nbconvert_exporter": "python",
   "pygments_lexer": "ipython3",
   "version": "3.9.13"
  }
 },
 "nbformat": 4,
 "nbformat_minor": 5
}
